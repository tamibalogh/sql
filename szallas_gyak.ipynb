{
    "metadata": {
        "kernelspec": {
            "name": "SQL",
            "display_name": "SQL",
            "language": "sql"
        },
        "language_info": {
            "name": "sql",
            "version": ""
        }
    },
    "nbformat_minor": 2,
    "nbformat": 4,
    "cells": [
        {
            "cell_type": "code",
            "source": [
                "SELECT *,\r\n",
                "      IIF(MONTH(METTOL) IN (6, 7, 8), 'Igen', 'Nem') AS 'Nyári-e'\r\n",
                "FROM Foglalas\r\n",
                "WHERE UGYFEL_FK = 'laszlo2' AND GYERMEK_SZAM = 0"
            ],
            "metadata": {
                "azdata_cell_guid": "54f7327f-5547-4662-bf54-931fbcaaf3ab",
                "language": "sql"
            },
            "outputs": [
                {
                    "output_type": "display_data",
                    "data": {
                        "text/html": "(1 row affected)"
                    },
                    "metadata": {}
                },
                {
                    "output_type": "display_data",
                    "data": {
                        "text/html": "Total execution time: 00:00:00.004"
                    },
                    "metadata": {}
                },
                {
                    "output_type": "execute_result",
                    "execution_count": 3,
                    "data": {
                        "application/vnd.dataresource+json": {
                            "schema": {
                                "fields": [
                                    {
                                        "name": "FOGLALAS_PK"
                                    },
                                    {
                                        "name": "UGYFEL_FK"
                                    },
                                    {
                                        "name": "SZOBA_FK"
                                    },
                                    {
                                        "name": "METTOL"
                                    },
                                    {
                                        "name": "MEDDIG"
                                    },
                                    {
                                        "name": "FELNOTT_SZAM"
                                    },
                                    {
                                        "name": "GYERMEK_SZAM"
                                    },
                                    {
                                        "name": "Nyári-e"
                                    }
                                ]
                            },
                            "data": [
                                {
                                    "FOGLALAS_PK": "561",
                                    "UGYFEL_FK": "laszlo2",
                                    "SZOBA_FK": "42",
                                    "METTOL": "2016-04-06",
                                    "MEDDIG": "2016-04-10",
                                    "FELNOTT_SZAM": "2",
                                    "GYERMEK_SZAM": "0",
                                    "Nyári-e": "Nem"
                                }
                            ]
                        },
                        "text/html": "<table><tr><th>FOGLALAS_PK</th><th>UGYFEL_FK</th><th>SZOBA_FK</th><th>METTOL</th><th>MEDDIG</th><th>FELNOTT_SZAM</th><th>GYERMEK_SZAM</th><th>Nyári-e</th></tr><tr><td>561</td><td>laszlo2</td><td>42</td><td>2016-04-06</td><td>2016-04-10</td><td>2</td><td>0</td><td>Nem</td></tr></table>"
                    },
                    "metadata": {}
                }
            ],
            "execution_count": 3
        },
        {
            "cell_type": "code",
            "source": [
                "SELECT szh.TIPUS,\r\n",
                "       YEAR(f.METTOL) AS 'Év',\r\n",
                "       MONTH(f.MEDDIG) AS 'Hónap'\r\n",
                "FROM Foglalas f JOIN Szoba sz ON f.SZOBA_FK = sz.SZOBA_ID\r\n",
                "                JOIN Szallashely szh ON szh.SZALLAS_ID = sz.SZOBA_ID\r\n",
                "WHERE DATEDIFF(day, f.METTOL, f.MEDDIG) >= 5\r\n",
                "GROUP BY szh.TIPUS, YEAR(f.METTOL), MONTH(f.MEDDIG)"
            ],
            "metadata": {
                "azdata_cell_guid": "f86198f0-441b-4956-a845-ac6510906439",
                "language": "sql"
            },
            "outputs": [
                {
                    "output_type": "display_data",
                    "data": {
                        "text/html": "(32 rows affected)"
                    },
                    "metadata": {}
                },
                {
                    "output_type": "display_data",
                    "data": {
                        "text/html": "Total execution time: 00:00:00.009"
                    },
                    "metadata": {}
                },
                {
                    "output_type": "execute_result",
                    "metadata": {},
                    "execution_count": 2,
                    "data": {
                        "application/vnd.dataresource+json": {
                            "schema": {
                                "fields": [
                                    {
                                        "name": "TIPUS"
                                    },
                                    {
                                        "name": "Év"
                                    },
                                    {
                                        "name": "Hónap"
                                    }
                                ]
                            },
                            "data": [
                                {
                                    "TIPUS": "Apartman",
                                    "Év": "2016",
                                    "Hónap": "7"
                                },
                                {
                                    "TIPUS": "Apartman",
                                    "Év": "2016",
                                    "Hónap": "8"
                                },
                                {
                                    "TIPUS": "Apartman",
                                    "Év": "2016",
                                    "Hónap": "9"
                                },
                                {
                                    "TIPUS": "Apartman",
                                    "Év": "2016",
                                    "Hónap": "10"
                                },
                                {
                                    "TIPUS": "Apartman",
                                    "Év": "2017",
                                    "Hónap": "1"
                                },
                                {
                                    "TIPUS": "Apartman",
                                    "Év": "2017",
                                    "Hónap": "2"
                                },
                                {
                                    "TIPUS": "Diákszálló",
                                    "Év": "2016",
                                    "Hónap": "8"
                                },
                                {
                                    "TIPUS": "Diákszálló",
                                    "Év": "2016",
                                    "Hónap": "10"
                                },
                                {
                                    "TIPUS": "Hotel",
                                    "Év": "2016",
                                    "Hónap": "4"
                                },
                                {
                                    "TIPUS": "Hotel",
                                    "Év": "2016",
                                    "Hónap": "5"
                                },
                                {
                                    "TIPUS": "Hotel",
                                    "Év": "2016",
                                    "Hónap": "6"
                                },
                                {
                                    "TIPUS": "Hotel",
                                    "Év": "2016",
                                    "Hónap": "7"
                                },
                                {
                                    "TIPUS": "Hotel",
                                    "Év": "2016",
                                    "Hónap": "8"
                                },
                                {
                                    "TIPUS": "Hotel",
                                    "Év": "2016",
                                    "Hónap": "10"
                                },
                                {
                                    "TIPUS": "Hotel",
                                    "Év": "2016",
                                    "Hónap": "11"
                                },
                                {
                                    "TIPUS": "Hotel",
                                    "Év": "2016",
                                    "Hónap": "12"
                                },
                                {
                                    "TIPUS": "Hotel",
                                    "Év": "2017",
                                    "Hónap": "2"
                                },
                                {
                                    "TIPUS": "panzió",
                                    "Év": "2016",
                                    "Hónap": "5"
                                },
                                {
                                    "TIPUS": "panzió",
                                    "Év": "2016",
                                    "Hónap": "6"
                                },
                                {
                                    "TIPUS": "panzió",
                                    "Év": "2016",
                                    "Hónap": "7"
                                },
                                {
                                    "TIPUS": "panzió",
                                    "Év": "2016",
                                    "Hónap": "8"
                                },
                                {
                                    "TIPUS": "panzió",
                                    "Év": "2016",
                                    "Hónap": "9"
                                },
                                {
                                    "TIPUS": "panzió",
                                    "Év": "2016",
                                    "Hónap": "10"
                                },
                                {
                                    "TIPUS": "panzió",
                                    "Év": "2016",
                                    "Hónap": "11"
                                },
                                {
                                    "TIPUS": "panzió",
                                    "Év": "2017",
                                    "Hónap": "2"
                                },
                                {
                                    "TIPUS": "vendégház",
                                    "Év": "2016",
                                    "Hónap": "4"
                                },
                                {
                                    "TIPUS": "vendégház",
                                    "Év": "2016",
                                    "Hónap": "5"
                                },
                                {
                                    "TIPUS": "vendégház",
                                    "Év": "2016",
                                    "Hónap": "6"
                                },
                                {
                                    "TIPUS": "vendégház",
                                    "Év": "2016",
                                    "Hónap": "8"
                                },
                                {
                                    "TIPUS": "vendégház",
                                    "Év": "2016",
                                    "Hónap": "9"
                                },
                                {
                                    "TIPUS": "vendégház",
                                    "Év": "2016",
                                    "Hónap": "10"
                                },
                                {
                                    "TIPUS": "vendégház",
                                    "Év": "2016",
                                    "Hónap": "11"
                                }
                            ]
                        },
                        "text/html": [
                            "<table>",
                            "<tr><th>TIPUS</th><th>Év</th><th>Hónap</th></tr>",
                            "<tr><td>Apartman</td><td>2016</td><td>7</td></tr>",
                            "<tr><td>Apartman</td><td>2016</td><td>8</td></tr>",
                            "<tr><td>Apartman</td><td>2016</td><td>9</td></tr>",
                            "<tr><td>Apartman</td><td>2016</td><td>10</td></tr>",
                            "<tr><td>Apartman</td><td>2017</td><td>1</td></tr>",
                            "<tr><td>Apartman</td><td>2017</td><td>2</td></tr>",
                            "<tr><td>Diákszálló</td><td>2016</td><td>8</td></tr>",
                            "<tr><td>Diákszálló</td><td>2016</td><td>10</td></tr>",
                            "<tr><td>Hotel</td><td>2016</td><td>4</td></tr>",
                            "<tr><td>Hotel</td><td>2016</td><td>5</td></tr>",
                            "<tr><td>Hotel</td><td>2016</td><td>6</td></tr>",
                            "<tr><td>Hotel</td><td>2016</td><td>7</td></tr>",
                            "<tr><td>Hotel</td><td>2016</td><td>8</td></tr>",
                            "<tr><td>Hotel</td><td>2016</td><td>10</td></tr>",
                            "<tr><td>Hotel</td><td>2016</td><td>11</td></tr>",
                            "<tr><td>Hotel</td><td>2016</td><td>12</td></tr>",
                            "<tr><td>Hotel</td><td>2017</td><td>2</td></tr>",
                            "<tr><td>panzió</td><td>2016</td><td>5</td></tr>",
                            "<tr><td>panzió</td><td>2016</td><td>6</td></tr>",
                            "<tr><td>panzió</td><td>2016</td><td>7</td></tr>",
                            "<tr><td>panzió</td><td>2016</td><td>8</td></tr>",
                            "<tr><td>panzió</td><td>2016</td><td>9</td></tr>",
                            "<tr><td>panzió</td><td>2016</td><td>10</td></tr>",
                            "<tr><td>panzió</td><td>2016</td><td>11</td></tr>",
                            "<tr><td>panzió</td><td>2017</td><td>2</td></tr>",
                            "<tr><td>vendégház</td><td>2016</td><td>4</td></tr>",
                            "<tr><td>vendégház</td><td>2016</td><td>5</td></tr>",
                            "<tr><td>vendégház</td><td>2016</td><td>6</td></tr>",
                            "<tr><td>vendégház</td><td>2016</td><td>8</td></tr>",
                            "<tr><td>vendégház</td><td>2016</td><td>9</td></tr>",
                            "<tr><td>vendégház</td><td>2016</td><td>10</td></tr>",
                            "<tr><td>vendégház</td><td>2016</td><td>11</td></tr>",
                            "</table>"
                        ]
                    }
                }
            ],
            "execution_count": 2
        }
    ]
}