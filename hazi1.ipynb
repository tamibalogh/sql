{
    "metadata": {
        "kernelspec": {
            "name": "SQL",
            "display_name": "SQL",
            "language": "sql"
        },
        "language_info": {
            "name": "sql",
            "version": ""
        }
    },
    "nbformat_minor": 2,
    "nbformat": 4,
    "cells": [
        {
            "cell_type": "code",
            "source": [
                "SELECT MIN(list_price) AS 'Legkisebb (minimum) ár'\r\n",
                "FROM order_items"
            ],
            "metadata": {
                "azdata_cell_guid": "08ed81d8-533b-4389-836d-d6ebd2158339",
                "language": "sql",
                "tags": []
            },
            "outputs": [
                {
                    "output_type": "display_data",
                    "data": {
                        "text/html": "Warning: Null value is eliminated by an aggregate or other SET operation."
                    },
                    "metadata": {}
                },
                {
                    "output_type": "display_data",
                    "data": {
                        "text/html": "(1 row affected)"
                    },
                    "metadata": {}
                },
                {
                    "output_type": "display_data",
                    "data": {
                        "text/html": "Total execution time: 00:00:00.016"
                    },
                    "metadata": {}
                },
                {
                    "output_type": "execute_result",
                    "execution_count": 29,
                    "data": {
                        "application/vnd.dataresource+json": {
                            "schema": {
                                "fields": [
                                    {
                                        "name": "Legkisebb (minimum) ár"
                                    }
                                ]
                            },
                            "data": [
                                {
                                    "Legkisebb (minimum) ár": "269.99"
                                }
                            ]
                        },
                        "text/html": "<table><tr><th>Legkisebb (minimum) ár</th></tr><tr><td>269.99</td></tr></table>"
                    },
                    "metadata": {}
                }
            ],
            "execution_count": 29
        },
        {
            "cell_type": "code",
            "source": [
                "SELECT MAX(list_price) AS 'Legnagyobb (maximum) ár'\r\n",
                "FROM order_items"
            ],
            "metadata": {
                "azdata_cell_guid": "3246c060-f837-4d7e-ad88-28001b2a7ac5",
                "language": "sql"
            },
            "outputs": [
                {
                    "output_type": "display_data",
                    "data": {
                        "text/html": "Warning: Null value is eliminated by an aggregate or other SET operation."
                    },
                    "metadata": {}
                },
                {
                    "output_type": "display_data",
                    "data": {
                        "text/html": "(1 row affected)"
                    },
                    "metadata": {}
                },
                {
                    "output_type": "display_data",
                    "data": {
                        "text/html": "Total execution time: 00:00:00.008"
                    },
                    "metadata": {}
                },
                {
                    "output_type": "execute_result",
                    "execution_count": 31,
                    "data": {
                        "application/vnd.dataresource+json": {
                            "schema": {
                                "fields": [
                                    {
                                        "name": "Legnagyobb (maximum) ár"
                                    }
                                ]
                            },
                            "data": [
                                {
                                    "Legnagyobb (maximum) ár": "321898.89"
                                }
                            ]
                        },
                        "text/html": "<table><tr><th>Legnagyobb (maximum) ár</th></tr><tr><td>321898.89</td></tr></table>"
                    },
                    "metadata": {}
                }
            ],
            "execution_count": 31
        },
        {
            "cell_type": "code",
            "source": [
                "SELECT STDEV(list_price) AS 'Az árak szórása'\r\n",
                "FROM order_items"
            ],
            "metadata": {
                "azdata_cell_guid": "bf7633fa-37b4-40ac-b087-5f9d51b8442d",
                "language": "sql"
            },
            "outputs": [
                {
                    "output_type": "display_data",
                    "data": {
                        "text/html": "Warning: Null value is eliminated by an aggregate or other SET operation."
                    },
                    "metadata": {}
                },
                {
                    "output_type": "display_data",
                    "data": {
                        "text/html": "(1 row affected)"
                    },
                    "metadata": {}
                },
                {
                    "output_type": "display_data",
                    "data": {
                        "text/html": "Total execution time: 00:00:00.008"
                    },
                    "metadata": {}
                },
                {
                    "output_type": "execute_result",
                    "execution_count": 32,
                    "data": {
                        "application/vnd.dataresource+json": {
                            "schema": {
                                "fields": [
                                    {
                                        "name": "Az árak szórása"
                                    }
                                ]
                            },
                            "data": [
                                {
                                    "Az árak szórása": "9968,525270827464"
                                }
                            ]
                        },
                        "text/html": "<table><tr><th>Az árak szórása</th></tr><tr><td>9968,525270827464</td></tr></table>"
                    },
                    "metadata": {}
                }
            ],
            "execution_count": 32
        },
        {
            "cell_type": "code",
            "source": [
                "SELECT COUNT(*) AS 'Termékek száma melyeken nincs kedvezmény'\r\n",
                "FROM order_items\r\n",
                "WHERE discount IS NULL"
            ],
            "metadata": {
                "azdata_cell_guid": "ba36e349-8fd1-4c8c-a077-e793e1938746",
                "language": "sql"
            },
            "outputs": [
                {
                    "output_type": "display_data",
                    "data": {
                        "text/html": "(1 row affected)"
                    },
                    "metadata": {}
                },
                {
                    "output_type": "display_data",
                    "data": {
                        "text/html": "Total execution time: 00:00:00.014"
                    },
                    "metadata": {}
                },
                {
                    "output_type": "execute_result",
                    "execution_count": 28,
                    "data": {
                        "application/vnd.dataresource+json": {
                            "schema": {
                                "fields": [
                                    {
                                        "name": "Termékek száma melyeken nincs kedvezmény"
                                    }
                                ]
                            },
                            "data": [
                                {
                                    "Termékek száma melyeken nincs kedvezmény": "145"
                                }
                            ]
                        },
                        "text/html": "<table><tr><th>Termékek száma melyeken nincs kedvezmény</th></tr><tr><td>145</td></tr></table>"
                    },
                    "metadata": {}
                }
            ],
            "execution_count": 28
        },
        {
            "cell_type": "code",
            "source": [
                "SELECT AVG(discount) AS 'Átlag kedvezmény (tizedesen)'\r\n",
                "FROM order_items"
            ],
            "metadata": {
                "azdata_cell_guid": "fa9c29fe-6e0a-4e5b-aaa0-4404c5af98d0",
                "language": "sql"
            },
            "outputs": [
                {
                    "output_type": "display_data",
                    "data": {
                        "text/html": "Warning: Null value is eliminated by an aggregate or other SET operation."
                    },
                    "metadata": {}
                },
                {
                    "output_type": "display_data",
                    "data": {
                        "text/html": "(1 row affected)"
                    },
                    "metadata": {}
                },
                {
                    "output_type": "display_data",
                    "data": {
                        "text/html": "Total execution time: 00:00:00.009"
                    },
                    "metadata": {}
                },
                {
                    "output_type": "execute_result",
                    "execution_count": 20,
                    "data": {
                        "application/vnd.dataresource+json": {
                            "schema": {
                                "fields": [
                                    {
                                        "name": "Átlag kedvezmény (tizedesen)"
                                    }
                                ]
                            },
                            "data": [
                                {
                                    "Átlag kedvezmény (tizedesen)": "0.104929"
                                }
                            ]
                        },
                        "text/html": "<table><tr><th>Átlag kedvezmény (tizedesen)</th></tr><tr><td>0.104929</td></tr></table>"
                    },
                    "metadata": {}
                }
            ],
            "execution_count": 20
        },
        {
            "cell_type": "code",
            "source": [
                "SELECT VAR(discount) AS 'Kedvezmények eloszlása (tizedesen)'\r\n",
                "FROM order_items"
            ],
            "metadata": {
                "azdata_cell_guid": "fef6373f-fbd1-4d7c-8cf4-f08ad1973cbe",
                "language": "sql"
            },
            "outputs": [
                {
                    "output_type": "display_data",
                    "data": {
                        "text/html": "Warning: Null value is eliminated by an aggregate or other SET operation."
                    },
                    "metadata": {}
                },
                {
                    "output_type": "display_data",
                    "data": {
                        "text/html": "(1 row affected)"
                    },
                    "metadata": {}
                },
                {
                    "output_type": "display_data",
                    "data": {
                        "text/html": "Total execution time: 00:00:00.010"
                    },
                    "metadata": {}
                },
                {
                    "output_type": "execute_result",
                    "execution_count": 22,
                    "data": {
                        "application/vnd.dataresource+json": {
                            "schema": {
                                "fields": [
                                    {
                                        "name": "Kedvezmények eloszlása"
                                    }
                                ]
                            },
                            "data": [
                                {
                                    "Kedvezmények eloszlása": "0,0033542664123831683"
                                }
                            ]
                        },
                        "text/html": "<table><tr><th>Kedvezmények eloszlása</th></tr><tr><td>0,0033542664123831683</td></tr></table>"
                    },
                    "metadata": {}
                }
            ],
            "execution_count": 22
        }
    ]
}