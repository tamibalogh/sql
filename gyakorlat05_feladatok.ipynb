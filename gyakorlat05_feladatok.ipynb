{
    "metadata": {
        "kernelspec": {
            "name": "SQL",
            "display_name": "SQL",
            "language": "sql"
        },
        "language_info": {
            "name": "sql",
            "version": ""
        }
    },
    "nbformat_minor": 2,
    "nbformat": 4,
    "cells": [
        {
            "cell_type": "markdown",
            "source": [
                "1. <span style=\"color: rgb(36, 41, 47); font-family: -apple-system, BlinkMacSystemFont, &quot;Segoe UI&quot;, Helvetica, Arial, sans-serif, &quot;Apple Color Emoji&quot;, &quot;Segoe UI Emoji&quot;; font-size: 16px;\">Készítsünk listát éves bontásban norbert2 azonosítójú ügyfél rendeléseinek értékéről!</span>\n",
                "\n",
                "1. A lista megfelelően jelölve tartalmazza a végösszeget is!"
            ],
            "metadata": {
                "azdata_cell_guid": "363cd270-6577-449b-9c89-d4b7c7972d52"
            },
            "attachments": {}
        },
        {
            "cell_type": "code",
            "source": [
                "SELECT IIF(YEAR(Rendeles.REND_DATUM) IS NULL,\r\n",
                "            'Összesen', \r\n",
                "            CAST(YEAR(Rendeles.REND_DATUM) AS nvarchar(4))),\r\n",
                "       sum(Rendeles_tetel.EGYSEGAR * Rendeles_tetel.SORSZAM) AS 'Rendelések értéke'\r\n",
                "FROM Rendeles JOIN Rendeles_tetel ON Rendeles.SORSZAM = Rendeles_tetel.SORSZAM\r\n",
                "WHERE Rendeles.[LOGIN] = 'norbert2'\r\n",
                "GROUP BY ROLLUP(YEAR(Rendeles.REND_DATUM))"
            ],
            "metadata": {
                "azdata_cell_guid": "6ab9f633-a3b5-48c9-a1dc-4fb8235ae85b",
                "language": "sql"
            },
            "outputs": [
                {
                    "output_type": "display_data",
                    "data": {
                        "text/html": "(3 rows affected)"
                    },
                    "metadata": {}
                },
                {
                    "output_type": "display_data",
                    "data": {
                        "text/html": "Total execution time: 00:00:00.019"
                    },
                    "metadata": {}
                },
                {
                    "output_type": "execute_result",
                    "metadata": {},
                    "execution_count": 13,
                    "data": {
                        "application/vnd.dataresource+json": {
                            "schema": {
                                "fields": [
                                    {
                                        "name": "(No column name)"
                                    },
                                    {
                                        "name": "Rendelések értéke"
                                    }
                                ]
                            },
                            "data": [
                                {
                                    "(No column name)": "2015",
                                    "Rendelések értéke": "37669927"
                                },
                                {
                                    "(No column name)": "2017",
                                    "Rendelések értéke": "546451484"
                                },
                                {
                                    "(No column name)": "Összesen",
                                    "Rendelések értéke": "584121411"
                                }
                            ]
                        },
                        "text/html": [
                            "<table>",
                            "<tr><th>(No column name)</th><th>Rendelések értéke</th></tr>",
                            "<tr><td>2015</td><td>37669927</td></tr>",
                            "<tr><td>2017</td><td>546451484</td></tr>",
                            "<tr><td>Összesen</td><td>584121411</td></tr>",
                            "</table>"
                        ]
                    }
                }
            ],
            "execution_count": 13
        },
        {
            "cell_type": "markdown",
            "source": [
                "2. <span style=\"color: rgb(36, 41, 47); font-family: -apple-system, BlinkMacSystemFont, &quot;Segoe UI&quot;, Helvetica, Arial, sans-serif, &quot;Apple Color Emoji&quot;, &quot;Segoe UI Emoji&quot;; font-size: 16px;\">Készítsünk listát szállítási dátumonként, azon belül szállítási módonként az egyes rendelések összmennyiségéről!</span>\n",
                "\n",
                "1. Csak azokat a termékeket vegyük figyelembe, amelyek mennyiségi egysége db!\n",
                "2. A listát szűrjük úgy, hogy az csak a részösszeg sorokat és a végösszeget tartalmazza!"
            ],
            "metadata": {
                "azdata_cell_guid": "ea75c103-911f-41a3-a32c-3d40fb3e4e4a"
            },
            "attachments": {}
        },
        {
            "cell_type": "code",
            "source": [
                "SELECT r.REND_DATUM,\r\n",
                "       r.SZALL_MOD,\r\n",
                "       SUM(rt.MENNYISEG)\r\n",
                "FROM Rendeles r JOIN Rendeles_tetel rt ON r.SORSZAM = rt.SORSZAM\r\n",
                "                JOIN Termek t ON rt.TERMEKKOD = t.TERMEKKOD\r\n",
                "WHERE t.MEGYS = 'db'\r\n",
                "GROUP BY ROLLUP(r.REND_DATUM, r.SZALL_MOD)\r\n",
                "HAVING r.SZALL_MOD IS NULL OR r.REND_DATUM IS NULL"
            ],
            "metadata": {
                "azdata_cell_guid": "222b9618-a8e8-42b4-a8e8-d002257122b7",
                "language": "sql"
            },
            "outputs": [
                {
                    "output_type": "display_data",
                    "data": {
                        "text/html": "(703 rows affected)"
                    },
                    "metadata": {}
                },
                {
                    "output_type": "display_data",
                    "data": {
                        "text/html": "Total execution time: 00:00:00.279"
                    },
                    "metadata": {}
                },
                {
                    "output_type": "execute_result",
                    "metadata": {},
                    "execution_count": 25,
                    "data": {
                        "application/vnd.dataresource+json": {
                            "schema": {
                                "fields": [
                                    {
                                        "name": "REND_DATUM"
                                    },
                                    {
                                        "name": "SZALL_MOD"
                                    },
                                    {
                                        "name": "(No column name)"
                                    }
                                ]
                            },
                            "data": [
                                {
                                    "REND_DATUM": "2015-05-01",
                                    "SZALL_MOD": "NULL",
                                    "(No column name)": "4625"
                                },
                                {
                                    "REND_DATUM": "2015-05-02",
                                    "SZALL_MOD": "NULL",
                                    "(No column name)": "8930"
                                },
                                {
                                    "REND_DATUM": "2015-05-03",
                                    "SZALL_MOD": "NULL",
                                    "(No column name)": "9116"
                                },
                                {
                                    "REND_DATUM": "2015-05-04",
                                    "SZALL_MOD": "NULL",
                                    "(No column name)": "8219"
                                },
                                {
                                    "REND_DATUM": "2015-05-05",
                                    "SZALL_MOD": "NULL",
                                    "(No column name)": "8152"
                                },
                                {
                                    "REND_DATUM": "2015-05-06",
                                    "SZALL_MOD": "NULL",
                                    "(No column name)": "7141"
                                },
                                {
                                    "REND_DATUM": "2015-05-07",
                                    "SZALL_MOD": "NULL",
                                    "(No column name)": "7312"
                                },
                                {
                                    "REND_DATUM": "2015-05-08",
                                    "SZALL_MOD": "NULL",
                                    "(No column name)": "6575"
                                },
                                {
                                    "REND_DATUM": "2015-05-09",
                                    "SZALL_MOD": "NULL",
                                    "(No column name)": "6981"
                                },
                                {
                                    "REND_DATUM": "2015-05-10",
                                    "SZALL_MOD": "NULL",
                                    "(No column name)": "7063"
                                },
                                {
                                    "REND_DATUM": "2015-05-11",
                                    "SZALL_MOD": "NULL",
                                    "(No column name)": "7624"
                                },
                                {
                                    "REND_DATUM": "2015-05-12",
                                    "SZALL_MOD": "NULL",
                                    "(No column name)": "6929"
                                },
                                {
                                    "REND_DATUM": "2015-05-13",
                                    "SZALL_MOD": "NULL",
                                    "(No column name)": "9484"
                                },
                                {
                                    "REND_DATUM": "2015-05-14",
                                    "SZALL_MOD": "NULL",
                                    "(No column name)": "8985"
                                },
                                {
                                    "REND_DATUM": "2015-05-15",
                                    "SZALL_MOD": "NULL",
                                    "(No column name)": "8911"
                                },
                                {
                                    "REND_DATUM": "2015-05-16",
                                    "SZALL_MOD": "NULL",
                                    "(No column name)": "7120"
                                },
                                {
                                    "REND_DATUM": "2015-05-17",
                                    "SZALL_MOD": "NULL",
                                    "(No column name)": "7438"
                                },
                                {
                                    "REND_DATUM": "2015-05-18",
                                    "SZALL_MOD": "NULL",
                                    "(No column name)": "7056"
                                },
                                {
                                    "REND_DATUM": "2015-05-19",
                                    "SZALL_MOD": "NULL",
                                    "(No column name)": "6304"
                                },
                                {
                                    "REND_DATUM": "2015-05-20",
                                    "SZALL_MOD": "NULL",
                                    "(No column name)": "7932"
                                },
                                {
                                    "REND_DATUM": "2015-05-21",
                                    "SZALL_MOD": "NULL",
                                    "(No column name)": "4958"
                                },
                                {
                                    "REND_DATUM": "2015-05-22",
                                    "SZALL_MOD": "NULL",
                                    "(No column name)": "7918"
                                },
                                {
                                    "REND_DATUM": "2015-05-23",
                                    "SZALL_MOD": "NULL",
                                    "(No column name)": "7808"
                                },
                                {
                                    "REND_DATUM": "2015-05-24",
                                    "SZALL_MOD": "NULL",
                                    "(No column name)": "7749"
                                },
                                {
                                    "REND_DATUM": "2015-05-25",
                                    "SZALL_MOD": "NULL",
                                    "(No column name)": "7931"
                                },
                                {
                                    "REND_DATUM": "2015-05-26",
                                    "SZALL_MOD": "NULL",
                                    "(No column name)": "9075"
                                },
                                {
                                    "REND_DATUM": "2015-05-27",
                                    "SZALL_MOD": "NULL",
                                    "(No column name)": "9333"
                                },
                                {
                                    "REND_DATUM": "2015-05-28",
                                    "SZALL_MOD": "NULL",
                                    "(No column name)": "5483"
                                },
                                {
                                    "REND_DATUM": "2015-05-29",
                                    "SZALL_MOD": "NULL",
                                    "(No column name)": "7941"
                                },
                                {
                                    "REND_DATUM": "2015-05-30",
                                    "SZALL_MOD": "NULL",
                                    "(No column name)": "8508"
                                },
                                {
                                    "REND_DATUM": "2015-05-31",
                                    "SZALL_MOD": "NULL",
                                    "(No column name)": "8926"
                                },
                                {
                                    "REND_DATUM": "2015-06-01",
                                    "SZALL_MOD": "NULL",
                                    "(No column name)": "7243"
                                },
                                {
                                    "REND_DATUM": "2015-06-02",
                                    "SZALL_MOD": "NULL",
                                    "(No column name)": "7365"
                                },
                                {
                                    "REND_DATUM": "2015-06-03",
                                    "SZALL_MOD": "NULL",
                                    "(No column name)": "7630"
                                },
                                {
                                    "REND_DATUM": "2015-06-04",
                                    "SZALL_MOD": "NULL",
                                    "(No column name)": "6720"
                                },
                                {
                                    "REND_DATUM": "2015-06-05",
                                    "SZALL_MOD": "NULL",
                                    "(No column name)": "5942"
                                },
                                {
                                    "REND_DATUM": "2015-06-06",
                                    "SZALL_MOD": "NULL",
                                    "(No column name)": "7598"
                                },
                                {
                                    "REND_DATUM": "2015-06-07",
                                    "SZALL_MOD": "NULL",
                                    "(No column name)": "7226"
                                },
                                {
                                    "REND_DATUM": "2015-06-08",
                                    "SZALL_MOD": "NULL",
                                    "(No column name)": "7245"
                                },
                                {
                                    "REND_DATUM": "2015-06-09",
                                    "SZALL_MOD": "NULL",
                                    "(No column name)": "7588"
                                },
                                {
                                    "REND_DATUM": "2015-06-10",
                                    "SZALL_MOD": "NULL",
                                    "(No column name)": "8344"
                                },
                                {
                                    "REND_DATUM": "2015-06-11",
                                    "SZALL_MOD": "NULL",
                                    "(No column name)": "8690"
                                },
                                {
                                    "REND_DATUM": "2015-06-12",
                                    "SZALL_MOD": "NULL",
                                    "(No column name)": "6827"
                                },
                                {
                                    "REND_DATUM": "2015-06-13",
                                    "SZALL_MOD": "NULL",
                                    "(No column name)": "6845"
                                },
                                {
                                    "REND_DATUM": "2015-06-14",
                                    "SZALL_MOD": "NULL",
                                    "(No column name)": "6280"
                                },
                                {
                                    "REND_DATUM": "2015-06-15",
                                    "SZALL_MOD": "NULL",
                                    "(No column name)": "7480"
                                },
                                {
                                    "REND_DATUM": "2015-06-16",
                                    "SZALL_MOD": "NULL",
                                    "(No column name)": "6922"
                                },
                                {
                                    "REND_DATUM": "2015-06-17",
                                    "SZALL_MOD": "NULL",
                                    "(No column name)": "6836"
                                },
                                {
                                    "REND_DATUM": "2015-06-18",
                                    "SZALL_MOD": "NULL",
                                    "(No column name)": "6781"
                                },
                                {
                                    "REND_DATUM": "2015-06-19",
                                    "SZALL_MOD": "NULL",
                                    "(No column name)": "8812"
                                },
                                {
                                    "REND_DATUM": "2015-06-20",
                                    "SZALL_MOD": "NULL",
                                    "(No column name)": "8582"
                                },
                                {
                                    "REND_DATUM": "2015-06-21",
                                    "SZALL_MOD": "NULL",
                                    "(No column name)": "7180"
                                },
                                {
                                    "REND_DATUM": "2015-06-22",
                                    "SZALL_MOD": "NULL",
                                    "(No column name)": "6839"
                                },
                                {
                                    "REND_DATUM": "2015-06-23",
                                    "SZALL_MOD": "NULL",
                                    "(No column name)": "8112"
                                },
                                {
                                    "REND_DATUM": "2015-06-24",
                                    "SZALL_MOD": "NULL",
                                    "(No column name)": "7284"
                                },
                                {
                                    "REND_DATUM": "2015-06-25",
                                    "SZALL_MOD": "NULL",
                                    "(No column name)": "9359"
                                },
                                {
                                    "REND_DATUM": "2015-06-26",
                                    "SZALL_MOD": "NULL",
                                    "(No column name)": "7101"
                                },
                                {
                                    "REND_DATUM": "2015-06-27",
                                    "SZALL_MOD": "NULL",
                                    "(No column name)": "5787"
                                },
                                {
                                    "REND_DATUM": "2015-06-28",
                                    "SZALL_MOD": "NULL",
                                    "(No column name)": "8761"
                                },
                                {
                                    "REND_DATUM": "2015-06-29",
                                    "SZALL_MOD": "NULL",
                                    "(No column name)": "6649"
                                },
                                {
                                    "REND_DATUM": "2015-06-30",
                                    "SZALL_MOD": "NULL",
                                    "(No column name)": "7718"
                                },
                                {
                                    "REND_DATUM": "2015-07-01",
                                    "SZALL_MOD": "NULL",
                                    "(No column name)": "8315"
                                },
                                {
                                    "REND_DATUM": "2015-07-02",
                                    "SZALL_MOD": "NULL",
                                    "(No column name)": "6731"
                                },
                                {
                                    "REND_DATUM": "2015-07-03",
                                    "SZALL_MOD": "NULL",
                                    "(No column name)": "6406"
                                },
                                {
                                    "REND_DATUM": "2015-07-04",
                                    "SZALL_MOD": "NULL",
                                    "(No column name)": "8830"
                                },
                                {
                                    "REND_DATUM": "2015-07-05",
                                    "SZALL_MOD": "NULL",
                                    "(No column name)": "7443"
                                },
                                {
                                    "REND_DATUM": "2015-07-06",
                                    "SZALL_MOD": "NULL",
                                    "(No column name)": "10444"
                                },
                                {
                                    "REND_DATUM": "2015-07-07",
                                    "SZALL_MOD": "NULL",
                                    "(No column name)": "8140"
                                },
                                {
                                    "REND_DATUM": "2015-07-08",
                                    "SZALL_MOD": "NULL",
                                    "(No column name)": "7050"
                                },
                                {
                                    "REND_DATUM": "2015-07-09",
                                    "SZALL_MOD": "NULL",
                                    "(No column name)": "6264"
                                },
                                {
                                    "REND_DATUM": "2015-07-10",
                                    "SZALL_MOD": "NULL",
                                    "(No column name)": "7085"
                                },
                                {
                                    "REND_DATUM": "2015-07-11",
                                    "SZALL_MOD": "NULL",
                                    "(No column name)": "7923"
                                },
                                {
                                    "REND_DATUM": "2015-07-12",
                                    "SZALL_MOD": "NULL",
                                    "(No column name)": "8661"
                                },
                                {
                                    "REND_DATUM": "2015-07-13",
                                    "SZALL_MOD": "NULL",
                                    "(No column name)": "7544"
                                },
                                {
                                    "REND_DATUM": "2015-07-14",
                                    "SZALL_MOD": "NULL",
                                    "(No column name)": "9942"
                                },
                                {
                                    "REND_DATUM": "2015-07-15",
                                    "SZALL_MOD": "NULL",
                                    "(No column name)": "5938"
                                },
                                {
                                    "REND_DATUM": "2015-07-16",
                                    "SZALL_MOD": "NULL",
                                    "(No column name)": "8487"
                                },
                                {
                                    "REND_DATUM": "2015-07-17",
                                    "SZALL_MOD": "NULL",
                                    "(No column name)": "6336"
                                },
                                {
                                    "REND_DATUM": "2015-07-18",
                                    "SZALL_MOD": "NULL",
                                    "(No column name)": "9479"
                                },
                                {
                                    "REND_DATUM": "2015-07-19",
                                    "SZALL_MOD": "NULL",
                                    "(No column name)": "8138"
                                },
                                {
                                    "REND_DATUM": "2015-07-20",
                                    "SZALL_MOD": "NULL",
                                    "(No column name)": "7275"
                                },
                                {
                                    "REND_DATUM": "2015-07-21",
                                    "SZALL_MOD": "NULL",
                                    "(No column name)": "7656"
                                },
                                {
                                    "REND_DATUM": "2015-07-22",
                                    "SZALL_MOD": "NULL",
                                    "(No column name)": "8970"
                                },
                                {
                                    "REND_DATUM": "2015-07-23",
                                    "SZALL_MOD": "NULL",
                                    "(No column name)": "10765"
                                },
                                {
                                    "REND_DATUM": "2015-07-24",
                                    "SZALL_MOD": "NULL",
                                    "(No column name)": "7617"
                                },
                                {
                                    "REND_DATUM": "2015-07-25",
                                    "SZALL_MOD": "NULL",
                                    "(No column name)": "7108"
                                },
                                {
                                    "REND_DATUM": "2015-07-26",
                                    "SZALL_MOD": "NULL",
                                    "(No column name)": "9182"
                                },
                                {
                                    "REND_DATUM": "2015-07-27",
                                    "SZALL_MOD": "NULL",
                                    "(No column name)": "6620"
                                },
                                {
                                    "REND_DATUM": "2015-07-28",
                                    "SZALL_MOD": "NULL",
                                    "(No column name)": "11030"
                                },
                                {
                                    "REND_DATUM": "2015-07-29",
                                    "SZALL_MOD": "NULL",
                                    "(No column name)": "7892"
                                },
                                {
                                    "REND_DATUM": "2015-07-30",
                                    "SZALL_MOD": "NULL",
                                    "(No column name)": "5664"
                                },
                                {
                                    "REND_DATUM": "2015-07-31",
                                    "SZALL_MOD": "NULL",
                                    "(No column name)": "8040"
                                },
                                {
                                    "REND_DATUM": "2015-08-01",
                                    "SZALL_MOD": "NULL",
                                    "(No column name)": "9570"
                                },
                                {
                                    "REND_DATUM": "2015-08-02",
                                    "SZALL_MOD": "NULL",
                                    "(No column name)": "8656"
                                },
                                {
                                    "REND_DATUM": "2015-08-03",
                                    "SZALL_MOD": "NULL",
                                    "(No column name)": "7799"
                                },
                                {
                                    "REND_DATUM": "2015-08-04",
                                    "SZALL_MOD": "NULL",
                                    "(No column name)": "6982"
                                },
                                {
                                    "REND_DATUM": "2015-08-05",
                                    "SZALL_MOD": "NULL",
                                    "(No column name)": "9916"
                                },
                                {
                                    "REND_DATUM": "2015-08-06",
                                    "SZALL_MOD": "NULL",
                                    "(No column name)": "6903"
                                },
                                {
                                    "REND_DATUM": "2015-08-07",
                                    "SZALL_MOD": "NULL",
                                    "(No column name)": "7708"
                                },
                                {
                                    "REND_DATUM": "2015-08-08",
                                    "SZALL_MOD": "NULL",
                                    "(No column name)": "9230"
                                },
                                {
                                    "REND_DATUM": "2015-08-09",
                                    "SZALL_MOD": "NULL",
                                    "(No column name)": "6706"
                                },
                                {
                                    "REND_DATUM": "2015-08-10",
                                    "SZALL_MOD": "NULL",
                                    "(No column name)": "7990"
                                },
                                {
                                    "REND_DATUM": "2015-08-11",
                                    "SZALL_MOD": "NULL",
                                    "(No column name)": "8065"
                                },
                                {
                                    "REND_DATUM": "2015-08-12",
                                    "SZALL_MOD": "NULL",
                                    "(No column name)": "7023"
                                },
                                {
                                    "REND_DATUM": "2015-08-13",
                                    "SZALL_MOD": "NULL",
                                    "(No column name)": "8512"
                                },
                                {
                                    "REND_DATUM": "2015-08-14",
                                    "SZALL_MOD": "NULL",
                                    "(No column name)": "8126"
                                },
                                {
                                    "REND_DATUM": "2015-08-15",
                                    "SZALL_MOD": "NULL",
                                    "(No column name)": "6753"
                                },
                                {
                                    "REND_DATUM": "2015-08-16",
                                    "SZALL_MOD": "NULL",
                                    "(No column name)": "8508"
                                },
                                {
                                    "REND_DATUM": "2015-08-17",
                                    "SZALL_MOD": "NULL",
                                    "(No column name)": "8071"
                                },
                                {
                                    "REND_DATUM": "2015-08-18",
                                    "SZALL_MOD": "NULL",
                                    "(No column name)": "8278"
                                },
                                {
                                    "REND_DATUM": "2015-08-19",
                                    "SZALL_MOD": "NULL",
                                    "(No column name)": "8227"
                                },
                                {
                                    "REND_DATUM": "2015-08-20",
                                    "SZALL_MOD": "NULL",
                                    "(No column name)": "10198"
                                },
                                {
                                    "REND_DATUM": "2015-08-21",
                                    "SZALL_MOD": "NULL",
                                    "(No column name)": "8269"
                                },
                                {
                                    "REND_DATUM": "2015-08-22",
                                    "SZALL_MOD": "NULL",
                                    "(No column name)": "8660"
                                },
                                {
                                    "REND_DATUM": "2015-08-23",
                                    "SZALL_MOD": "NULL",
                                    "(No column name)": "8087"
                                },
                                {
                                    "REND_DATUM": "2015-08-24",
                                    "SZALL_MOD": "NULL",
                                    "(No column name)": "9289"
                                },
                                {
                                    "REND_DATUM": "2015-08-25",
                                    "SZALL_MOD": "NULL",
                                    "(No column name)": "7735"
                                },
                                {
                                    "REND_DATUM": "2015-08-26",
                                    "SZALL_MOD": "NULL",
                                    "(No column name)": "7487"
                                },
                                {
                                    "REND_DATUM": "2015-08-27",
                                    "SZALL_MOD": "NULL",
                                    "(No column name)": "8756"
                                },
                                {
                                    "REND_DATUM": "2015-08-28",
                                    "SZALL_MOD": "NULL",
                                    "(No column name)": "9614"
                                },
                                {
                                    "REND_DATUM": "2015-08-29",
                                    "SZALL_MOD": "NULL",
                                    "(No column name)": "8147"
                                },
                                {
                                    "REND_DATUM": "2015-08-30",
                                    "SZALL_MOD": "NULL",
                                    "(No column name)": "9120"
                                },
                                {
                                    "REND_DATUM": "2015-08-31",
                                    "SZALL_MOD": "NULL",
                                    "(No column name)": "7542"
                                },
                                {
                                    "REND_DATUM": "2015-09-01",
                                    "SZALL_MOD": "NULL",
                                    "(No column name)": "8904"
                                },
                                {
                                    "REND_DATUM": "2015-09-02",
                                    "SZALL_MOD": "NULL",
                                    "(No column name)": "8601"
                                },
                                {
                                    "REND_DATUM": "2015-09-03",
                                    "SZALL_MOD": "NULL",
                                    "(No column name)": "6962"
                                },
                                {
                                    "REND_DATUM": "2015-09-04",
                                    "SZALL_MOD": "NULL",
                                    "(No column name)": "6211"
                                },
                                {
                                    "REND_DATUM": "2015-09-05",
                                    "SZALL_MOD": "NULL",
                                    "(No column name)": "7196"
                                },
                                {
                                    "REND_DATUM": "2015-09-06",
                                    "SZALL_MOD": "NULL",
                                    "(No column name)": "7073"
                                },
                                {
                                    "REND_DATUM": "2015-09-07",
                                    "SZALL_MOD": "NULL",
                                    "(No column name)": "9565"
                                },
                                {
                                    "REND_DATUM": "2015-09-08",
                                    "SZALL_MOD": "NULL",
                                    "(No column name)": "8008"
                                },
                                {
                                    "REND_DATUM": "2015-09-09",
                                    "SZALL_MOD": "NULL",
                                    "(No column name)": "8899"
                                },
                                {
                                    "REND_DATUM": "2015-09-10",
                                    "SZALL_MOD": "NULL",
                                    "(No column name)": "6951"
                                },
                                {
                                    "REND_DATUM": "2015-09-11",
                                    "SZALL_MOD": "NULL",
                                    "(No column name)": "10632"
                                },
                                {
                                    "REND_DATUM": "2015-09-12",
                                    "SZALL_MOD": "NULL",
                                    "(No column name)": "8538"
                                },
                                {
                                    "REND_DATUM": "2015-09-13",
                                    "SZALL_MOD": "NULL",
                                    "(No column name)": "6885"
                                },
                                {
                                    "REND_DATUM": "2015-09-14",
                                    "SZALL_MOD": "NULL",
                                    "(No column name)": "7409"
                                },
                                {
                                    "REND_DATUM": "2015-09-15",
                                    "SZALL_MOD": "NULL",
                                    "(No column name)": "7797"
                                },
                                {
                                    "REND_DATUM": "2015-09-16",
                                    "SZALL_MOD": "NULL",
                                    "(No column name)": "8980"
                                },
                                {
                                    "REND_DATUM": "2015-09-17",
                                    "SZALL_MOD": "NULL",
                                    "(No column name)": "9374"
                                },
                                {
                                    "REND_DATUM": "2015-09-18",
                                    "SZALL_MOD": "NULL",
                                    "(No column name)": "8994"
                                },
                                {
                                    "REND_DATUM": "2015-09-19",
                                    "SZALL_MOD": "NULL",
                                    "(No column name)": "8696"
                                },
                                {
                                    "REND_DATUM": "2015-09-20",
                                    "SZALL_MOD": "NULL",
                                    "(No column name)": "7148"
                                },
                                {
                                    "REND_DATUM": "2015-09-21",
                                    "SZALL_MOD": "NULL",
                                    "(No column name)": "10729"
                                },
                                {
                                    "REND_DATUM": "2015-09-22",
                                    "SZALL_MOD": "NULL",
                                    "(No column name)": "6652"
                                },
                                {
                                    "REND_DATUM": "2015-09-23",
                                    "SZALL_MOD": "NULL",
                                    "(No column name)": "7156"
                                },
                                {
                                    "REND_DATUM": "2015-09-24",
                                    "SZALL_MOD": "NULL",
                                    "(No column name)": "8118"
                                },
                                {
                                    "REND_DATUM": "2015-09-25",
                                    "SZALL_MOD": "NULL",
                                    "(No column name)": "8080"
                                },
                                {
                                    "REND_DATUM": "2015-09-26",
                                    "SZALL_MOD": "NULL",
                                    "(No column name)": "7481"
                                },
                                {
                                    "REND_DATUM": "2015-09-27",
                                    "SZALL_MOD": "NULL",
                                    "(No column name)": "9398"
                                },
                                {
                                    "REND_DATUM": "2015-09-28",
                                    "SZALL_MOD": "NULL",
                                    "(No column name)": "9056"
                                },
                                {
                                    "REND_DATUM": "2015-09-29",
                                    "SZALL_MOD": "NULL",
                                    "(No column name)": "9056"
                                },
                                {
                                    "REND_DATUM": "2015-09-30",
                                    "SZALL_MOD": "NULL",
                                    "(No column name)": "6967"
                                },
                                {
                                    "REND_DATUM": "2015-10-01",
                                    "SZALL_MOD": "NULL",
                                    "(No column name)": "7822"
                                },
                                {
                                    "REND_DATUM": "2015-10-02",
                                    "SZALL_MOD": "NULL",
                                    "(No column name)": "7938"
                                },
                                {
                                    "REND_DATUM": "2015-10-03",
                                    "SZALL_MOD": "NULL",
                                    "(No column name)": "8486"
                                },
                                {
                                    "REND_DATUM": "2015-10-04",
                                    "SZALL_MOD": "NULL",
                                    "(No column name)": "6426"
                                },
                                {
                                    "REND_DATUM": "2015-10-05",
                                    "SZALL_MOD": "NULL",
                                    "(No column name)": "7528"
                                },
                                {
                                    "REND_DATUM": "2015-10-06",
                                    "SZALL_MOD": "NULL",
                                    "(No column name)": "7152"
                                },
                                {
                                    "REND_DATUM": "2015-10-07",
                                    "SZALL_MOD": "NULL",
                                    "(No column name)": "8665"
                                },
                                {
                                    "REND_DATUM": "2015-10-08",
                                    "SZALL_MOD": "NULL",
                                    "(No column name)": "7234"
                                },
                                {
                                    "REND_DATUM": "2015-10-09",
                                    "SZALL_MOD": "NULL",
                                    "(No column name)": "8028"
                                },
                                {
                                    "REND_DATUM": "2015-10-10",
                                    "SZALL_MOD": "NULL",
                                    "(No column name)": "10233"
                                },
                                {
                                    "REND_DATUM": "2015-10-11",
                                    "SZALL_MOD": "NULL",
                                    "(No column name)": "5670"
                                },
                                {
                                    "REND_DATUM": "2015-10-12",
                                    "SZALL_MOD": "NULL",
                                    "(No column name)": "6098"
                                },
                                {
                                    "REND_DATUM": "2015-10-13",
                                    "SZALL_MOD": "NULL",
                                    "(No column name)": "9247"
                                },
                                {
                                    "REND_DATUM": "2015-10-14",
                                    "SZALL_MOD": "NULL",
                                    "(No column name)": "10259"
                                },
                                {
                                    "REND_DATUM": "2015-10-15",
                                    "SZALL_MOD": "NULL",
                                    "(No column name)": "6596"
                                },
                                {
                                    "REND_DATUM": "2015-10-16",
                                    "SZALL_MOD": "NULL",
                                    "(No column name)": "9874"
                                },
                                {
                                    "REND_DATUM": "2015-10-17",
                                    "SZALL_MOD": "NULL",
                                    "(No column name)": "8255"
                                },
                                {
                                    "REND_DATUM": "2015-10-18",
                                    "SZALL_MOD": "NULL",
                                    "(No column name)": "7407"
                                },
                                {
                                    "REND_DATUM": "2015-10-19",
                                    "SZALL_MOD": "NULL",
                                    "(No column name)": "6607"
                                },
                                {
                                    "REND_DATUM": "2015-10-20",
                                    "SZALL_MOD": "NULL",
                                    "(No column name)": "7339"
                                },
                                {
                                    "REND_DATUM": "2015-10-21",
                                    "SZALL_MOD": "NULL",
                                    "(No column name)": "8308"
                                },
                                {
                                    "REND_DATUM": "2015-10-22",
                                    "SZALL_MOD": "NULL",
                                    "(No column name)": "8804"
                                },
                                {
                                    "REND_DATUM": "2015-10-23",
                                    "SZALL_MOD": "NULL",
                                    "(No column name)": "7609"
                                },
                                {
                                    "REND_DATUM": "2015-10-24",
                                    "SZALL_MOD": "NULL",
                                    "(No column name)": "6955"
                                },
                                {
                                    "REND_DATUM": "2015-10-25",
                                    "SZALL_MOD": "NULL",
                                    "(No column name)": "8301"
                                },
                                {
                                    "REND_DATUM": "2015-10-26",
                                    "SZALL_MOD": "NULL",
                                    "(No column name)": "8507"
                                },
                                {
                                    "REND_DATUM": "2015-10-27",
                                    "SZALL_MOD": "NULL",
                                    "(No column name)": "9284"
                                },
                                {
                                    "REND_DATUM": "2015-10-28",
                                    "SZALL_MOD": "NULL",
                                    "(No column name)": "7627"
                                },
                                {
                                    "REND_DATUM": "2015-10-29",
                                    "SZALL_MOD": "NULL",
                                    "(No column name)": "6862"
                                },
                                {
                                    "REND_DATUM": "2015-10-30",
                                    "SZALL_MOD": "NULL",
                                    "(No column name)": "7234"
                                },
                                {
                                    "REND_DATUM": "2015-10-31",
                                    "SZALL_MOD": "NULL",
                                    "(No column name)": "8455"
                                },
                                {
                                    "REND_DATUM": "2015-11-01",
                                    "SZALL_MOD": "NULL",
                                    "(No column name)": "8190"
                                },
                                {
                                    "REND_DATUM": "2015-11-02",
                                    "SZALL_MOD": "NULL",
                                    "(No column name)": "7110"
                                },
                                {
                                    "REND_DATUM": "2015-11-03",
                                    "SZALL_MOD": "NULL",
                                    "(No column name)": "7542"
                                },
                                {
                                    "REND_DATUM": "2015-11-04",
                                    "SZALL_MOD": "NULL",
                                    "(No column name)": "7940"
                                },
                                {
                                    "REND_DATUM": "2015-11-05",
                                    "SZALL_MOD": "NULL",
                                    "(No column name)": "6798"
                                },
                                {
                                    "REND_DATUM": "2015-11-06",
                                    "SZALL_MOD": "NULL",
                                    "(No column name)": "6866"
                                },
                                {
                                    "REND_DATUM": "2015-11-07",
                                    "SZALL_MOD": "NULL",
                                    "(No column name)": "6762"
                                },
                                {
                                    "REND_DATUM": "2015-11-08",
                                    "SZALL_MOD": "NULL",
                                    "(No column name)": "9901"
                                },
                                {
                                    "REND_DATUM": "2015-11-09",
                                    "SZALL_MOD": "NULL",
                                    "(No column name)": "8860"
                                },
                                {
                                    "REND_DATUM": "2015-11-10",
                                    "SZALL_MOD": "NULL",
                                    "(No column name)": "6647"
                                },
                                {
                                    "REND_DATUM": "2015-11-11",
                                    "SZALL_MOD": "NULL",
                                    "(No column name)": "5199"
                                },
                                {
                                    "REND_DATUM": "2015-11-12",
                                    "SZALL_MOD": "NULL",
                                    "(No column name)": "8629"
                                },
                                {
                                    "REND_DATUM": "2015-11-13",
                                    "SZALL_MOD": "NULL",
                                    "(No column name)": "7529"
                                },
                                {
                                    "REND_DATUM": "2015-11-14",
                                    "SZALL_MOD": "NULL",
                                    "(No column name)": "6478"
                                },
                                {
                                    "REND_DATUM": "2015-11-15",
                                    "SZALL_MOD": "NULL",
                                    "(No column name)": "7461"
                                },
                                {
                                    "REND_DATUM": "2015-11-16",
                                    "SZALL_MOD": "NULL",
                                    "(No column name)": "6898"
                                },
                                {
                                    "REND_DATUM": "2015-11-17",
                                    "SZALL_MOD": "NULL",
                                    "(No column name)": "9261"
                                },
                                {
                                    "REND_DATUM": "2015-11-18",
                                    "SZALL_MOD": "NULL",
                                    "(No column name)": "7584"
                                },
                                {
                                    "REND_DATUM": "2015-11-19",
                                    "SZALL_MOD": "NULL",
                                    "(No column name)": "6515"
                                },
                                {
                                    "REND_DATUM": "2015-11-20",
                                    "SZALL_MOD": "NULL",
                                    "(No column name)": "8617"
                                },
                                {
                                    "REND_DATUM": "2015-11-21",
                                    "SZALL_MOD": "NULL",
                                    "(No column name)": "8096"
                                },
                                {
                                    "REND_DATUM": "2015-11-22",
                                    "SZALL_MOD": "NULL",
                                    "(No column name)": "7883"
                                },
                                {
                                    "REND_DATUM": "2015-11-23",
                                    "SZALL_MOD": "NULL",
                                    "(No column name)": "8243"
                                },
                                {
                                    "REND_DATUM": "2015-11-24",
                                    "SZALL_MOD": "NULL",
                                    "(No column name)": "8181"
                                },
                                {
                                    "REND_DATUM": "2015-11-25",
                                    "SZALL_MOD": "NULL",
                                    "(No column name)": "7897"
                                },
                                {
                                    "REND_DATUM": "2015-11-26",
                                    "SZALL_MOD": "NULL",
                                    "(No column name)": "6715"
                                },
                                {
                                    "REND_DATUM": "2015-11-27",
                                    "SZALL_MOD": "NULL",
                                    "(No column name)": "10114"
                                },
                                {
                                    "REND_DATUM": "2015-11-28",
                                    "SZALL_MOD": "NULL",
                                    "(No column name)": "7290"
                                },
                                {
                                    "REND_DATUM": "2015-11-29",
                                    "SZALL_MOD": "NULL",
                                    "(No column name)": "7951"
                                },
                                {
                                    "REND_DATUM": "2015-11-30",
                                    "SZALL_MOD": "NULL",
                                    "(No column name)": "9658"
                                },
                                {
                                    "REND_DATUM": "2015-12-01",
                                    "SZALL_MOD": "NULL",
                                    "(No column name)": "8230"
                                },
                                {
                                    "REND_DATUM": "2015-12-02",
                                    "SZALL_MOD": "NULL",
                                    "(No column name)": "9854"
                                },
                                {
                                    "REND_DATUM": "2015-12-03",
                                    "SZALL_MOD": "NULL",
                                    "(No column name)": "7817"
                                },
                                {
                                    "REND_DATUM": "2015-12-04",
                                    "SZALL_MOD": "NULL",
                                    "(No column name)": "5504"
                                },
                                {
                                    "REND_DATUM": "2015-12-05",
                                    "SZALL_MOD": "NULL",
                                    "(No column name)": "9911"
                                },
                                {
                                    "REND_DATUM": "2015-12-06",
                                    "SZALL_MOD": "NULL",
                                    "(No column name)": "9194"
                                },
                                {
                                    "REND_DATUM": "2015-12-07",
                                    "SZALL_MOD": "NULL",
                                    "(No column name)": "7689"
                                },
                                {
                                    "REND_DATUM": "2015-12-08",
                                    "SZALL_MOD": "NULL",
                                    "(No column name)": "9571"
                                },
                                {
                                    "REND_DATUM": "2015-12-09",
                                    "SZALL_MOD": "NULL",
                                    "(No column name)": "8047"
                                },
                                {
                                    "REND_DATUM": "2015-12-10",
                                    "SZALL_MOD": "NULL",
                                    "(No column name)": "7323"
                                },
                                {
                                    "REND_DATUM": "2015-12-11",
                                    "SZALL_MOD": "NULL",
                                    "(No column name)": "7179"
                                },
                                {
                                    "REND_DATUM": "2015-12-12",
                                    "SZALL_MOD": "NULL",
                                    "(No column name)": "8621"
                                },
                                {
                                    "REND_DATUM": "2015-12-13",
                                    "SZALL_MOD": "NULL",
                                    "(No column name)": "9437"
                                },
                                {
                                    "REND_DATUM": "2015-12-14",
                                    "SZALL_MOD": "NULL",
                                    "(No column name)": "6932"
                                },
                                {
                                    "REND_DATUM": "2015-12-15",
                                    "SZALL_MOD": "NULL",
                                    "(No column name)": "8240"
                                },
                                {
                                    "REND_DATUM": "2015-12-16",
                                    "SZALL_MOD": "NULL",
                                    "(No column name)": "7767"
                                },
                                {
                                    "REND_DATUM": "2015-12-17",
                                    "SZALL_MOD": "NULL",
                                    "(No column name)": "6370"
                                },
                                {
                                    "REND_DATUM": "2015-12-18",
                                    "SZALL_MOD": "NULL",
                                    "(No column name)": "7625"
                                },
                                {
                                    "REND_DATUM": "2015-12-19",
                                    "SZALL_MOD": "NULL",
                                    "(No column name)": "8309"
                                },
                                {
                                    "REND_DATUM": "2015-12-20",
                                    "SZALL_MOD": "NULL",
                                    "(No column name)": "6636"
                                },
                                {
                                    "REND_DATUM": "2015-12-21",
                                    "SZALL_MOD": "NULL",
                                    "(No column name)": "8562"
                                },
                                {
                                    "REND_DATUM": "2015-12-22",
                                    "SZALL_MOD": "NULL",
                                    "(No column name)": "7886"
                                },
                                {
                                    "REND_DATUM": "2015-12-23",
                                    "SZALL_MOD": "NULL",
                                    "(No column name)": "6732"
                                },
                                {
                                    "REND_DATUM": "2015-12-24",
                                    "SZALL_MOD": "NULL",
                                    "(No column name)": "7792"
                                },
                                {
                                    "REND_DATUM": "2015-12-25",
                                    "SZALL_MOD": "NULL",
                                    "(No column name)": "7882"
                                },
                                {
                                    "REND_DATUM": "2015-12-26",
                                    "SZALL_MOD": "NULL",
                                    "(No column name)": "7052"
                                },
                                {
                                    "REND_DATUM": "2015-12-27",
                                    "SZALL_MOD": "NULL",
                                    "(No column name)": "6040"
                                },
                                {
                                    "REND_DATUM": "2015-12-28",
                                    "SZALL_MOD": "NULL",
                                    "(No column name)": "7072"
                                },
                                {
                                    "REND_DATUM": "2015-12-29",
                                    "SZALL_MOD": "NULL",
                                    "(No column name)": "7314"
                                },
                                {
                                    "REND_DATUM": "2015-12-30",
                                    "SZALL_MOD": "NULL",
                                    "(No column name)": "8888"
                                },
                                {
                                    "REND_DATUM": "2015-12-31",
                                    "SZALL_MOD": "NULL",
                                    "(No column name)": "8839"
                                },
                                {
                                    "REND_DATUM": "2016-01-01",
                                    "SZALL_MOD": "NULL",
                                    "(No column name)": "7872"
                                },
                                {
                                    "REND_DATUM": "2016-01-02",
                                    "SZALL_MOD": "NULL",
                                    "(No column name)": "6839"
                                },
                                {
                                    "REND_DATUM": "2016-01-03",
                                    "SZALL_MOD": "NULL",
                                    "(No column name)": "7278"
                                },
                                {
                                    "REND_DATUM": "2016-01-04",
                                    "SZALL_MOD": "NULL",
                                    "(No column name)": "7437"
                                },
                                {
                                    "REND_DATUM": "2016-01-05",
                                    "SZALL_MOD": "NULL",
                                    "(No column name)": "7113"
                                },
                                {
                                    "REND_DATUM": "2016-01-06",
                                    "SZALL_MOD": "NULL",
                                    "(No column name)": "7993"
                                },
                                {
                                    "REND_DATUM": "2016-01-07",
                                    "SZALL_MOD": "NULL",
                                    "(No column name)": "7960"
                                },
                                {
                                    "REND_DATUM": "2016-01-08",
                                    "SZALL_MOD": "NULL",
                                    "(No column name)": "7796"
                                },
                                {
                                    "REND_DATUM": "2016-01-09",
                                    "SZALL_MOD": "NULL",
                                    "(No column name)": "7117"
                                },
                                {
                                    "REND_DATUM": "2016-01-10",
                                    "SZALL_MOD": "NULL",
                                    "(No column name)": "6807"
                                },
                                {
                                    "REND_DATUM": "2016-01-11",
                                    "SZALL_MOD": "NULL",
                                    "(No column name)": "10174"
                                },
                                {
                                    "REND_DATUM": "2016-01-12",
                                    "SZALL_MOD": "NULL",
                                    "(No column name)": "9251"
                                },
                                {
                                    "REND_DATUM": "2016-01-13",
                                    "SZALL_MOD": "NULL",
                                    "(No column name)": "7565"
                                },
                                {
                                    "REND_DATUM": "2016-01-14",
                                    "SZALL_MOD": "NULL",
                                    "(No column name)": "7088"
                                },
                                {
                                    "REND_DATUM": "2016-01-15",
                                    "SZALL_MOD": "NULL",
                                    "(No column name)": "8296"
                                },
                                {
                                    "REND_DATUM": "2016-01-16",
                                    "SZALL_MOD": "NULL",
                                    "(No column name)": "7880"
                                },
                                {
                                    "REND_DATUM": "2016-01-17",
                                    "SZALL_MOD": "NULL",
                                    "(No column name)": "7094"
                                },
                                {
                                    "REND_DATUM": "2016-01-18",
                                    "SZALL_MOD": "NULL",
                                    "(No column name)": "8829"
                                },
                                {
                                    "REND_DATUM": "2016-01-19",
                                    "SZALL_MOD": "NULL",
                                    "(No column name)": "8395"
                                },
                                {
                                    "REND_DATUM": "2016-01-20",
                                    "SZALL_MOD": "NULL",
                                    "(No column name)": "6004"
                                },
                                {
                                    "REND_DATUM": "2016-01-21",
                                    "SZALL_MOD": "NULL",
                                    "(No column name)": "6742"
                                },
                                {
                                    "REND_DATUM": "2016-01-22",
                                    "SZALL_MOD": "NULL",
                                    "(No column name)": "5712"
                                },
                                {
                                    "REND_DATUM": "2016-01-23",
                                    "SZALL_MOD": "NULL",
                                    "(No column name)": "6983"
                                },
                                {
                                    "REND_DATUM": "2016-01-24",
                                    "SZALL_MOD": "NULL",
                                    "(No column name)": "8124"
                                },
                                {
                                    "REND_DATUM": "2016-01-25",
                                    "SZALL_MOD": "NULL",
                                    "(No column name)": "8889"
                                },
                                {
                                    "REND_DATUM": "2016-01-26",
                                    "SZALL_MOD": "NULL",
                                    "(No column name)": "8271"
                                },
                                {
                                    "REND_DATUM": "2016-01-27",
                                    "SZALL_MOD": "NULL",
                                    "(No column name)": "8122"
                                },
                                {
                                    "REND_DATUM": "2016-01-28",
                                    "SZALL_MOD": "NULL",
                                    "(No column name)": "8275"
                                },
                                {
                                    "REND_DATUM": "2016-01-29",
                                    "SZALL_MOD": "NULL",
                                    "(No column name)": "8366"
                                },
                                {
                                    "REND_DATUM": "2016-01-30",
                                    "SZALL_MOD": "NULL",
                                    "(No column name)": "7898"
                                },
                                {
                                    "REND_DATUM": "2016-01-31",
                                    "SZALL_MOD": "NULL",
                                    "(No column name)": "8598"
                                },
                                {
                                    "REND_DATUM": "2016-02-01",
                                    "SZALL_MOD": "NULL",
                                    "(No column name)": "7880"
                                },
                                {
                                    "REND_DATUM": "2016-02-02",
                                    "SZALL_MOD": "NULL",
                                    "(No column name)": "8286"
                                },
                                {
                                    "REND_DATUM": "2016-02-03",
                                    "SZALL_MOD": "NULL",
                                    "(No column name)": "7916"
                                },
                                {
                                    "REND_DATUM": "2016-02-04",
                                    "SZALL_MOD": "NULL",
                                    "(No column name)": "11494"
                                },
                                {
                                    "REND_DATUM": "2016-02-05",
                                    "SZALL_MOD": "NULL",
                                    "(No column name)": "9729"
                                },
                                {
                                    "REND_DATUM": "2016-02-06",
                                    "SZALL_MOD": "NULL",
                                    "(No column name)": "7379"
                                },
                                {
                                    "REND_DATUM": "2016-02-07",
                                    "SZALL_MOD": "NULL",
                                    "(No column name)": "8235"
                                },
                                {
                                    "REND_DATUM": "2016-02-08",
                                    "SZALL_MOD": "NULL",
                                    "(No column name)": "8827"
                                },
                                {
                                    "REND_DATUM": "2016-02-09",
                                    "SZALL_MOD": "NULL",
                                    "(No column name)": "6196"
                                },
                                {
                                    "REND_DATUM": "2016-02-10",
                                    "SZALL_MOD": "NULL",
                                    "(No column name)": "9519"
                                },
                                {
                                    "REND_DATUM": "2016-02-11",
                                    "SZALL_MOD": "NULL",
                                    "(No column name)": "6694"
                                },
                                {
                                    "REND_DATUM": "2016-02-12",
                                    "SZALL_MOD": "NULL",
                                    "(No column name)": "7816"
                                },
                                {
                                    "REND_DATUM": "2016-02-13",
                                    "SZALL_MOD": "NULL",
                                    "(No column name)": "9034"
                                },
                                {
                                    "REND_DATUM": "2016-02-14",
                                    "SZALL_MOD": "NULL",
                                    "(No column name)": "8598"
                                },
                                {
                                    "REND_DATUM": "2016-02-15",
                                    "SZALL_MOD": "NULL",
                                    "(No column name)": "7971"
                                },
                                {
                                    "REND_DATUM": "2016-02-16",
                                    "SZALL_MOD": "NULL",
                                    "(No column name)": "5896"
                                },
                                {
                                    "REND_DATUM": "2016-02-17",
                                    "SZALL_MOD": "NULL",
                                    "(No column name)": "9264"
                                },
                                {
                                    "REND_DATUM": "2016-02-18",
                                    "SZALL_MOD": "NULL",
                                    "(No column name)": "6034"
                                },
                                {
                                    "REND_DATUM": "2016-02-19",
                                    "SZALL_MOD": "NULL",
                                    "(No column name)": "8009"
                                },
                                {
                                    "REND_DATUM": "2016-02-20",
                                    "SZALL_MOD": "NULL",
                                    "(No column name)": "6725"
                                },
                                {
                                    "REND_DATUM": "2016-02-21",
                                    "SZALL_MOD": "NULL",
                                    "(No column name)": "9503"
                                },
                                {
                                    "REND_DATUM": "2016-02-22",
                                    "SZALL_MOD": "NULL",
                                    "(No column name)": "7945"
                                },
                                {
                                    "REND_DATUM": "2016-02-23",
                                    "SZALL_MOD": "NULL",
                                    "(No column name)": "8947"
                                },
                                {
                                    "REND_DATUM": "2016-02-24",
                                    "SZALL_MOD": "NULL",
                                    "(No column name)": "7553"
                                },
                                {
                                    "REND_DATUM": "2016-02-25",
                                    "SZALL_MOD": "NULL",
                                    "(No column name)": "9071"
                                },
                                {
                                    "REND_DATUM": "2016-02-26",
                                    "SZALL_MOD": "NULL",
                                    "(No column name)": "6557"
                                },
                                {
                                    "REND_DATUM": "2016-02-27",
                                    "SZALL_MOD": "NULL",
                                    "(No column name)": "8642"
                                },
                                {
                                    "REND_DATUM": "2016-02-28",
                                    "SZALL_MOD": "NULL",
                                    "(No column name)": "9839"
                                },
                                {
                                    "REND_DATUM": "2016-02-29",
                                    "SZALL_MOD": "NULL",
                                    "(No column name)": "6172"
                                },
                                {
                                    "REND_DATUM": "2016-03-01",
                                    "SZALL_MOD": "NULL",
                                    "(No column name)": "7830"
                                },
                                {
                                    "REND_DATUM": "2016-03-02",
                                    "SZALL_MOD": "NULL",
                                    "(No column name)": "8754"
                                },
                                {
                                    "REND_DATUM": "2016-03-03",
                                    "SZALL_MOD": "NULL",
                                    "(No column name)": "8768"
                                },
                                {
                                    "REND_DATUM": "2016-03-04",
                                    "SZALL_MOD": "NULL",
                                    "(No column name)": "8698"
                                },
                                {
                                    "REND_DATUM": "2016-03-05",
                                    "SZALL_MOD": "NULL",
                                    "(No column name)": "7642"
                                },
                                {
                                    "REND_DATUM": "2016-03-06",
                                    "SZALL_MOD": "NULL",
                                    "(No column name)": "7725"
                                },
                                {
                                    "REND_DATUM": "2016-03-07",
                                    "SZALL_MOD": "NULL",
                                    "(No column name)": "7855"
                                },
                                {
                                    "REND_DATUM": "2016-03-08",
                                    "SZALL_MOD": "NULL",
                                    "(No column name)": "7640"
                                },
                                {
                                    "REND_DATUM": "2016-03-09",
                                    "SZALL_MOD": "NULL",
                                    "(No column name)": "8760"
                                },
                                {
                                    "REND_DATUM": "2016-03-10",
                                    "SZALL_MOD": "NULL",
                                    "(No column name)": "8624"
                                },
                                {
                                    "REND_DATUM": "2016-03-11",
                                    "SZALL_MOD": "NULL",
                                    "(No column name)": "9322"
                                },
                                {
                                    "REND_DATUM": "2016-03-12",
                                    "SZALL_MOD": "NULL",
                                    "(No column name)": "9218"
                                },
                                {
                                    "REND_DATUM": "2016-03-13",
                                    "SZALL_MOD": "NULL",
                                    "(No column name)": "7533"
                                },
                                {
                                    "REND_DATUM": "2016-03-14",
                                    "SZALL_MOD": "NULL",
                                    "(No column name)": "8230"
                                },
                                {
                                    "REND_DATUM": "2016-03-15",
                                    "SZALL_MOD": "NULL",
                                    "(No column name)": "8275"
                                },
                                {
                                    "REND_DATUM": "2016-03-16",
                                    "SZALL_MOD": "NULL",
                                    "(No column name)": "7636"
                                },
                                {
                                    "REND_DATUM": "2016-03-17",
                                    "SZALL_MOD": "NULL",
                                    "(No column name)": "7243"
                                },
                                {
                                    "REND_DATUM": "2016-03-18",
                                    "SZALL_MOD": "NULL",
                                    "(No column name)": "6535"
                                },
                                {
                                    "REND_DATUM": "2016-03-19",
                                    "SZALL_MOD": "NULL",
                                    "(No column name)": "8196"
                                },
                                {
                                    "REND_DATUM": "2016-03-20",
                                    "SZALL_MOD": "NULL",
                                    "(No column name)": "7846"
                                },
                                {
                                    "REND_DATUM": "2016-03-21",
                                    "SZALL_MOD": "NULL",
                                    "(No column name)": "8495"
                                },
                                {
                                    "REND_DATUM": "2016-03-22",
                                    "SZALL_MOD": "NULL",
                                    "(No column name)": "9491"
                                },
                                {
                                    "REND_DATUM": "2016-03-23",
                                    "SZALL_MOD": "NULL",
                                    "(No column name)": "9364"
                                },
                                {
                                    "REND_DATUM": "2016-03-24",
                                    "SZALL_MOD": "NULL",
                                    "(No column name)": "6299"
                                },
                                {
                                    "REND_DATUM": "2016-03-25",
                                    "SZALL_MOD": "NULL",
                                    "(No column name)": "8254"
                                },
                                {
                                    "REND_DATUM": "2016-03-26",
                                    "SZALL_MOD": "NULL",
                                    "(No column name)": "8854"
                                },
                                {
                                    "REND_DATUM": "2016-03-27",
                                    "SZALL_MOD": "NULL",
                                    "(No column name)": "7206"
                                },
                                {
                                    "REND_DATUM": "2016-03-28",
                                    "SZALL_MOD": "NULL",
                                    "(No column name)": "8769"
                                },
                                {
                                    "REND_DATUM": "2016-03-29",
                                    "SZALL_MOD": "NULL",
                                    "(No column name)": "7919"
                                },
                                {
                                    "REND_DATUM": "2016-03-30",
                                    "SZALL_MOD": "NULL",
                                    "(No column name)": "8171"
                                },
                                {
                                    "REND_DATUM": "2016-03-31",
                                    "SZALL_MOD": "NULL",
                                    "(No column name)": "7505"
                                },
                                {
                                    "REND_DATUM": "2016-04-01",
                                    "SZALL_MOD": "NULL",
                                    "(No column name)": "10156"
                                },
                                {
                                    "REND_DATUM": "2016-04-02",
                                    "SZALL_MOD": "NULL",
                                    "(No column name)": "10802"
                                },
                                {
                                    "REND_DATUM": "2016-04-03",
                                    "SZALL_MOD": "NULL",
                                    "(No column name)": "8387"
                                },
                                {
                                    "REND_DATUM": "2016-04-04",
                                    "SZALL_MOD": "NULL",
                                    "(No column name)": "6439"
                                },
                                {
                                    "REND_DATUM": "2016-04-05",
                                    "SZALL_MOD": "NULL",
                                    "(No column name)": "9269"
                                },
                                {
                                    "REND_DATUM": "2016-04-06",
                                    "SZALL_MOD": "NULL",
                                    "(No column name)": "8639"
                                },
                                {
                                    "REND_DATUM": "2016-04-07",
                                    "SZALL_MOD": "NULL",
                                    "(No column name)": "10007"
                                },
                                {
                                    "REND_DATUM": "2016-04-08",
                                    "SZALL_MOD": "NULL",
                                    "(No column name)": "8218"
                                },
                                {
                                    "REND_DATUM": "2016-04-09",
                                    "SZALL_MOD": "NULL",
                                    "(No column name)": "9421"
                                },
                                {
                                    "REND_DATUM": "2016-04-10",
                                    "SZALL_MOD": "NULL",
                                    "(No column name)": "7116"
                                },
                                {
                                    "REND_DATUM": "2016-04-11",
                                    "SZALL_MOD": "NULL",
                                    "(No column name)": "7622"
                                },
                                {
                                    "REND_DATUM": "2016-04-12",
                                    "SZALL_MOD": "NULL",
                                    "(No column name)": "7125"
                                },
                                {
                                    "REND_DATUM": "2016-04-13",
                                    "SZALL_MOD": "NULL",
                                    "(No column name)": "8958"
                                },
                                {
                                    "REND_DATUM": "2016-04-14",
                                    "SZALL_MOD": "NULL",
                                    "(No column name)": "8764"
                                },
                                {
                                    "REND_DATUM": "2016-04-15",
                                    "SZALL_MOD": "NULL",
                                    "(No column name)": "8485"
                                },
                                {
                                    "REND_DATUM": "2016-04-16",
                                    "SZALL_MOD": "NULL",
                                    "(No column name)": "8173"
                                },
                                {
                                    "REND_DATUM": "2016-04-17",
                                    "SZALL_MOD": "NULL",
                                    "(No column name)": "8363"
                                },
                                {
                                    "REND_DATUM": "2016-04-18",
                                    "SZALL_MOD": "NULL",
                                    "(No column name)": "7206"
                                },
                                {
                                    "REND_DATUM": "2016-04-19",
                                    "SZALL_MOD": "NULL",
                                    "(No column name)": "8610"
                                },
                                {
                                    "REND_DATUM": "2016-04-20",
                                    "SZALL_MOD": "NULL",
                                    "(No column name)": "7430"
                                },
                                {
                                    "REND_DATUM": "2016-04-21",
                                    "SZALL_MOD": "NULL",
                                    "(No column name)": "7180"
                                },
                                {
                                    "REND_DATUM": "2016-04-22",
                                    "SZALL_MOD": "NULL",
                                    "(No column name)": "9839"
                                },
                                {
                                    "REND_DATUM": "2016-04-23",
                                    "SZALL_MOD": "NULL",
                                    "(No column name)": "7742"
                                },
                                {
                                    "REND_DATUM": "2016-04-24",
                                    "SZALL_MOD": "NULL",
                                    "(No column name)": "10659"
                                },
                                {
                                    "REND_DATUM": "2016-04-25",
                                    "SZALL_MOD": "NULL",
                                    "(No column name)": "7045"
                                },
                                {
                                    "REND_DATUM": "2016-04-26",
                                    "SZALL_MOD": "NULL",
                                    "(No column name)": "7427"
                                },
                                {
                                    "REND_DATUM": "2016-04-27",
                                    "SZALL_MOD": "NULL",
                                    "(No column name)": "7036"
                                },
                                {
                                    "REND_DATUM": "2016-04-28",
                                    "SZALL_MOD": "NULL",
                                    "(No column name)": "6234"
                                },
                                {
                                    "REND_DATUM": "2016-04-29",
                                    "SZALL_MOD": "NULL",
                                    "(No column name)": "7720"
                                },
                                {
                                    "REND_DATUM": "2016-04-30",
                                    "SZALL_MOD": "NULL",
                                    "(No column name)": "7225"
                                },
                                {
                                    "REND_DATUM": "2016-05-01",
                                    "SZALL_MOD": "NULL",
                                    "(No column name)": "7082"
                                },
                                {
                                    "REND_DATUM": "2016-05-02",
                                    "SZALL_MOD": "NULL",
                                    "(No column name)": "7021"
                                },
                                {
                                    "REND_DATUM": "2016-05-03",
                                    "SZALL_MOD": "NULL",
                                    "(No column name)": "7829"
                                },
                                {
                                    "REND_DATUM": "2016-05-04",
                                    "SZALL_MOD": "NULL",
                                    "(No column name)": "9262"
                                },
                                {
                                    "REND_DATUM": "2016-05-05",
                                    "SZALL_MOD": "NULL",
                                    "(No column name)": "7784"
                                },
                                {
                                    "REND_DATUM": "2016-05-06",
                                    "SZALL_MOD": "NULL",
                                    "(No column name)": "10054"
                                },
                                {
                                    "REND_DATUM": "2016-05-07",
                                    "SZALL_MOD": "NULL",
                                    "(No column name)": "9750"
                                },
                                {
                                    "REND_DATUM": "2016-05-08",
                                    "SZALL_MOD": "NULL",
                                    "(No column name)": "8206"
                                },
                                {
                                    "REND_DATUM": "2016-05-09",
                                    "SZALL_MOD": "NULL",
                                    "(No column name)": "8045"
                                },
                                {
                                    "REND_DATUM": "2016-05-10",
                                    "SZALL_MOD": "NULL",
                                    "(No column name)": "8098"
                                },
                                {
                                    "REND_DATUM": "2016-05-11",
                                    "SZALL_MOD": "NULL",
                                    "(No column name)": "6570"
                                },
                                {
                                    "REND_DATUM": "2016-05-12",
                                    "SZALL_MOD": "NULL",
                                    "(No column name)": "6694"
                                },
                                {
                                    "REND_DATUM": "2016-05-13",
                                    "SZALL_MOD": "NULL",
                                    "(No column name)": "6897"
                                },
                                {
                                    "REND_DATUM": "2016-05-14",
                                    "SZALL_MOD": "NULL",
                                    "(No column name)": "6509"
                                },
                                {
                                    "REND_DATUM": "2016-05-15",
                                    "SZALL_MOD": "NULL",
                                    "(No column name)": "8586"
                                },
                                {
                                    "REND_DATUM": "2016-05-16",
                                    "SZALL_MOD": "NULL",
                                    "(No column name)": "8626"
                                },
                                {
                                    "REND_DATUM": "2016-05-17",
                                    "SZALL_MOD": "NULL",
                                    "(No column name)": "7661"
                                },
                                {
                                    "REND_DATUM": "2016-05-18",
                                    "SZALL_MOD": "NULL",
                                    "(No column name)": "9481"
                                },
                                {
                                    "REND_DATUM": "2016-05-19",
                                    "SZALL_MOD": "NULL",
                                    "(No column name)": "8609"
                                },
                                {
                                    "REND_DATUM": "2016-05-20",
                                    "SZALL_MOD": "NULL",
                                    "(No column name)": "7960"
                                },
                                {
                                    "REND_DATUM": "2016-05-21",
                                    "SZALL_MOD": "NULL",
                                    "(No column name)": "7492"
                                },
                                {
                                    "REND_DATUM": "2016-05-22",
                                    "SZALL_MOD": "NULL",
                                    "(No column name)": "8199"
                                },
                                {
                                    "REND_DATUM": "2016-05-23",
                                    "SZALL_MOD": "NULL",
                                    "(No column name)": "6974"
                                },
                                {
                                    "REND_DATUM": "2016-05-24",
                                    "SZALL_MOD": "NULL",
                                    "(No column name)": "7579"
                                },
                                {
                                    "REND_DATUM": "2016-05-25",
                                    "SZALL_MOD": "NULL",
                                    "(No column name)": "8950"
                                },
                                {
                                    "REND_DATUM": "2016-05-26",
                                    "SZALL_MOD": "NULL",
                                    "(No column name)": "7645"
                                },
                                {
                                    "REND_DATUM": "2016-05-27",
                                    "SZALL_MOD": "NULL",
                                    "(No column name)": "8105"
                                },
                                {
                                    "REND_DATUM": "2016-05-28",
                                    "SZALL_MOD": "NULL",
                                    "(No column name)": "8416"
                                },
                                {
                                    "REND_DATUM": "2016-05-29",
                                    "SZALL_MOD": "NULL",
                                    "(No column name)": "7634"
                                },
                                {
                                    "REND_DATUM": "2016-05-30",
                                    "SZALL_MOD": "NULL",
                                    "(No column name)": "6726"
                                },
                                {
                                    "REND_DATUM": "2016-05-31",
                                    "SZALL_MOD": "NULL",
                                    "(No column name)": "6754"
                                },
                                {
                                    "REND_DATUM": "2016-06-01",
                                    "SZALL_MOD": "NULL",
                                    "(No column name)": "8583"
                                },
                                {
                                    "REND_DATUM": "2016-06-02",
                                    "SZALL_MOD": "NULL",
                                    "(No column name)": "9563"
                                },
                                {
                                    "REND_DATUM": "2016-06-03",
                                    "SZALL_MOD": "NULL",
                                    "(No column name)": "8675"
                                },
                                {
                                    "REND_DATUM": "2016-06-04",
                                    "SZALL_MOD": "NULL",
                                    "(No column name)": "8860"
                                },
                                {
                                    "REND_DATUM": "2016-06-05",
                                    "SZALL_MOD": "NULL",
                                    "(No column name)": "7427"
                                },
                                {
                                    "REND_DATUM": "2016-06-06",
                                    "SZALL_MOD": "NULL",
                                    "(No column name)": "8686"
                                },
                                {
                                    "REND_DATUM": "2016-06-07",
                                    "SZALL_MOD": "NULL",
                                    "(No column name)": "6375"
                                },
                                {
                                    "REND_DATUM": "2016-06-08",
                                    "SZALL_MOD": "NULL",
                                    "(No column name)": "7805"
                                },
                                {
                                    "REND_DATUM": "2016-06-09",
                                    "SZALL_MOD": "NULL",
                                    "(No column name)": "9134"
                                },
                                {
                                    "REND_DATUM": "2016-06-10",
                                    "SZALL_MOD": "NULL",
                                    "(No column name)": "7287"
                                },
                                {
                                    "REND_DATUM": "2016-06-11",
                                    "SZALL_MOD": "NULL",
                                    "(No column name)": "7281"
                                },
                                {
                                    "REND_DATUM": "2016-06-12",
                                    "SZALL_MOD": "NULL",
                                    "(No column name)": "9990"
                                },
                                {
                                    "REND_DATUM": "2016-06-13",
                                    "SZALL_MOD": "NULL",
                                    "(No column name)": "6343"
                                },
                                {
                                    "REND_DATUM": "2016-06-14",
                                    "SZALL_MOD": "NULL",
                                    "(No column name)": "7466"
                                },
                                {
                                    "REND_DATUM": "2016-06-15",
                                    "SZALL_MOD": "NULL",
                                    "(No column name)": "8032"
                                },
                                {
                                    "REND_DATUM": "2016-06-16",
                                    "SZALL_MOD": "NULL",
                                    "(No column name)": "8740"
                                },
                                {
                                    "REND_DATUM": "2016-06-17",
                                    "SZALL_MOD": "NULL",
                                    "(No column name)": "7877"
                                },
                                {
                                    "REND_DATUM": "2016-06-18",
                                    "SZALL_MOD": "NULL",
                                    "(No column name)": "6117"
                                },
                                {
                                    "REND_DATUM": "2016-06-19",
                                    "SZALL_MOD": "NULL",
                                    "(No column name)": "8252"
                                },
                                {
                                    "REND_DATUM": "2016-06-20",
                                    "SZALL_MOD": "NULL",
                                    "(No column name)": "6758"
                                },
                                {
                                    "REND_DATUM": "2016-06-21",
                                    "SZALL_MOD": "NULL",
                                    "(No column name)": "9122"
                                },
                                {
                                    "REND_DATUM": "2016-06-22",
                                    "SZALL_MOD": "NULL",
                                    "(No column name)": "7661"
                                },
                                {
                                    "REND_DATUM": "2016-06-23",
                                    "SZALL_MOD": "NULL",
                                    "(No column name)": "7942"
                                },
                                {
                                    "REND_DATUM": "2016-06-24",
                                    "SZALL_MOD": "NULL",
                                    "(No column name)": "9225"
                                },
                                {
                                    "REND_DATUM": "2016-06-25",
                                    "SZALL_MOD": "NULL",
                                    "(No column name)": "10030"
                                },
                                {
                                    "REND_DATUM": "2016-06-26",
                                    "SZALL_MOD": "NULL",
                                    "(No column name)": "9413"
                                },
                                {
                                    "REND_DATUM": "2016-06-27",
                                    "SZALL_MOD": "NULL",
                                    "(No column name)": "6501"
                                },
                                {
                                    "REND_DATUM": "2016-06-28",
                                    "SZALL_MOD": "NULL",
                                    "(No column name)": "6926"
                                },
                                {
                                    "REND_DATUM": "2016-06-29",
                                    "SZALL_MOD": "NULL",
                                    "(No column name)": "9153"
                                },
                                {
                                    "REND_DATUM": "2016-06-30",
                                    "SZALL_MOD": "NULL",
                                    "(No column name)": "8663"
                                },
                                {
                                    "REND_DATUM": "2016-07-01",
                                    "SZALL_MOD": "NULL",
                                    "(No column name)": "8404"
                                },
                                {
                                    "REND_DATUM": "2016-07-02",
                                    "SZALL_MOD": "NULL",
                                    "(No column name)": "8599"
                                },
                                {
                                    "REND_DATUM": "2016-07-03",
                                    "SZALL_MOD": "NULL",
                                    "(No column name)": "9976"
                                },
                                {
                                    "REND_DATUM": "2016-07-04",
                                    "SZALL_MOD": "NULL",
                                    "(No column name)": "6626"
                                },
                                {
                                    "REND_DATUM": "2016-07-05",
                                    "SZALL_MOD": "NULL",
                                    "(No column name)": "7282"
                                },
                                {
                                    "REND_DATUM": "2016-07-06",
                                    "SZALL_MOD": "NULL",
                                    "(No column name)": "7626"
                                },
                                {
                                    "REND_DATUM": "2016-07-07",
                                    "SZALL_MOD": "NULL",
                                    "(No column name)": "8358"
                                },
                                {
                                    "REND_DATUM": "2016-07-08",
                                    "SZALL_MOD": "NULL",
                                    "(No column name)": "6651"
                                },
                                {
                                    "REND_DATUM": "2016-07-09",
                                    "SZALL_MOD": "NULL",
                                    "(No column name)": "8469"
                                },
                                {
                                    "REND_DATUM": "2016-07-10",
                                    "SZALL_MOD": "NULL",
                                    "(No column name)": "7743"
                                },
                                {
                                    "REND_DATUM": "2016-07-11",
                                    "SZALL_MOD": "NULL",
                                    "(No column name)": "8072"
                                },
                                {
                                    "REND_DATUM": "2016-07-12",
                                    "SZALL_MOD": "NULL",
                                    "(No column name)": "7583"
                                },
                                {
                                    "REND_DATUM": "2016-07-13",
                                    "SZALL_MOD": "NULL",
                                    "(No column name)": "6675"
                                },
                                {
                                    "REND_DATUM": "2016-07-14",
                                    "SZALL_MOD": "NULL",
                                    "(No column name)": "7087"
                                },
                                {
                                    "REND_DATUM": "2016-07-15",
                                    "SZALL_MOD": "NULL",
                                    "(No column name)": "8893"
                                },
                                {
                                    "REND_DATUM": "2016-07-16",
                                    "SZALL_MOD": "NULL",
                                    "(No column name)": "7596"
                                },
                                {
                                    "REND_DATUM": "2016-07-17",
                                    "SZALL_MOD": "NULL",
                                    "(No column name)": "9101"
                                },
                                {
                                    "REND_DATUM": "2016-07-18",
                                    "SZALL_MOD": "NULL",
                                    "(No column name)": "7080"
                                },
                                {
                                    "REND_DATUM": "2016-07-19",
                                    "SZALL_MOD": "NULL",
                                    "(No column name)": "8042"
                                },
                                {
                                    "REND_DATUM": "2016-07-20",
                                    "SZALL_MOD": "NULL",
                                    "(No column name)": "6197"
                                },
                                {
                                    "REND_DATUM": "2016-07-21",
                                    "SZALL_MOD": "NULL",
                                    "(No column name)": "7124"
                                },
                                {
                                    "REND_DATUM": "2016-07-22",
                                    "SZALL_MOD": "NULL",
                                    "(No column name)": "7865"
                                },
                                {
                                    "REND_DATUM": "2016-07-23",
                                    "SZALL_MOD": "NULL",
                                    "(No column name)": "7737"
                                },
                                {
                                    "REND_DATUM": "2016-07-24",
                                    "SZALL_MOD": "NULL",
                                    "(No column name)": "9137"
                                },
                                {
                                    "REND_DATUM": "2016-07-25",
                                    "SZALL_MOD": "NULL",
                                    "(No column name)": "8069"
                                },
                                {
                                    "REND_DATUM": "2016-07-26",
                                    "SZALL_MOD": "NULL",
                                    "(No column name)": "9834"
                                },
                                {
                                    "REND_DATUM": "2016-07-27",
                                    "SZALL_MOD": "NULL",
                                    "(No column name)": "7501"
                                },
                                {
                                    "REND_DATUM": "2016-07-28",
                                    "SZALL_MOD": "NULL",
                                    "(No column name)": "6065"
                                },
                                {
                                    "REND_DATUM": "2016-07-29",
                                    "SZALL_MOD": "NULL",
                                    "(No column name)": "7782"
                                },
                                {
                                    "REND_DATUM": "2016-07-30",
                                    "SZALL_MOD": "NULL",
                                    "(No column name)": "6468"
                                },
                                {
                                    "REND_DATUM": "2016-07-31",
                                    "SZALL_MOD": "NULL",
                                    "(No column name)": "6131"
                                },
                                {
                                    "REND_DATUM": "2016-08-01",
                                    "SZALL_MOD": "NULL",
                                    "(No column name)": "7552"
                                },
                                {
                                    "REND_DATUM": "2016-08-02",
                                    "SZALL_MOD": "NULL",
                                    "(No column name)": "7261"
                                },
                                {
                                    "REND_DATUM": "2016-08-03",
                                    "SZALL_MOD": "NULL",
                                    "(No column name)": "8360"
                                },
                                {
                                    "REND_DATUM": "2016-08-04",
                                    "SZALL_MOD": "NULL",
                                    "(No column name)": "8584"
                                },
                                {
                                    "REND_DATUM": "2016-08-05",
                                    "SZALL_MOD": "NULL",
                                    "(No column name)": "8052"
                                },
                                {
                                    "REND_DATUM": "2016-08-06",
                                    "SZALL_MOD": "NULL",
                                    "(No column name)": "9912"
                                },
                                {
                                    "REND_DATUM": "2016-08-07",
                                    "SZALL_MOD": "NULL",
                                    "(No column name)": "8412"
                                },
                                {
                                    "REND_DATUM": "2016-08-08",
                                    "SZALL_MOD": "NULL",
                                    "(No column name)": "7167"
                                },
                                {
                                    "REND_DATUM": "2016-08-09",
                                    "SZALL_MOD": "NULL",
                                    "(No column name)": "7626"
                                },
                                {
                                    "REND_DATUM": "2016-08-10",
                                    "SZALL_MOD": "NULL",
                                    "(No column name)": "9935"
                                },
                                {
                                    "REND_DATUM": "2016-08-11",
                                    "SZALL_MOD": "NULL",
                                    "(No column name)": "6026"
                                },
                                {
                                    "REND_DATUM": "2016-08-12",
                                    "SZALL_MOD": "NULL",
                                    "(No column name)": "8376"
                                },
                                {
                                    "REND_DATUM": "2016-08-13",
                                    "SZALL_MOD": "NULL",
                                    "(No column name)": "9530"
                                },
                                {
                                    "REND_DATUM": "2016-08-14",
                                    "SZALL_MOD": "NULL",
                                    "(No column name)": "7370"
                                },
                                {
                                    "REND_DATUM": "2016-08-15",
                                    "SZALL_MOD": "NULL",
                                    "(No column name)": "8174"
                                },
                                {
                                    "REND_DATUM": "2016-08-16",
                                    "SZALL_MOD": "NULL",
                                    "(No column name)": "9542"
                                },
                                {
                                    "REND_DATUM": "2016-08-17",
                                    "SZALL_MOD": "NULL",
                                    "(No column name)": "7360"
                                },
                                {
                                    "REND_DATUM": "2016-08-18",
                                    "SZALL_MOD": "NULL",
                                    "(No column name)": "7407"
                                },
                                {
                                    "REND_DATUM": "2016-08-19",
                                    "SZALL_MOD": "NULL",
                                    "(No column name)": "7285"
                                },
                                {
                                    "REND_DATUM": "2016-08-20",
                                    "SZALL_MOD": "NULL",
                                    "(No column name)": "8351"
                                },
                                {
                                    "REND_DATUM": "2016-08-21",
                                    "SZALL_MOD": "NULL",
                                    "(No column name)": "8486"
                                },
                                {
                                    "REND_DATUM": "2016-08-22",
                                    "SZALL_MOD": "NULL",
                                    "(No column name)": "5850"
                                },
                                {
                                    "REND_DATUM": "2016-08-23",
                                    "SZALL_MOD": "NULL",
                                    "(No column name)": "9007"
                                },
                                {
                                    "REND_DATUM": "2016-08-24",
                                    "SZALL_MOD": "NULL",
                                    "(No column name)": "8797"
                                },
                                {
                                    "REND_DATUM": "2016-08-25",
                                    "SZALL_MOD": "NULL",
                                    "(No column name)": "9622"
                                },
                                {
                                    "REND_DATUM": "2016-08-26",
                                    "SZALL_MOD": "NULL",
                                    "(No column name)": "8493"
                                },
                                {
                                    "REND_DATUM": "2016-08-27",
                                    "SZALL_MOD": "NULL",
                                    "(No column name)": "7804"
                                },
                                {
                                    "REND_DATUM": "2016-08-28",
                                    "SZALL_MOD": "NULL",
                                    "(No column name)": "7352"
                                },
                                {
                                    "REND_DATUM": "2016-08-29",
                                    "SZALL_MOD": "NULL",
                                    "(No column name)": "6990"
                                },
                                {
                                    "REND_DATUM": "2016-08-30",
                                    "SZALL_MOD": "NULL",
                                    "(No column name)": "6823"
                                },
                                {
                                    "REND_DATUM": "2016-08-31",
                                    "SZALL_MOD": "NULL",
                                    "(No column name)": "9122"
                                },
                                {
                                    "REND_DATUM": "2016-09-01",
                                    "SZALL_MOD": "NULL",
                                    "(No column name)": "9418"
                                },
                                {
                                    "REND_DATUM": "2016-09-02",
                                    "SZALL_MOD": "NULL",
                                    "(No column name)": "9789"
                                },
                                {
                                    "REND_DATUM": "2016-09-03",
                                    "SZALL_MOD": "NULL",
                                    "(No column name)": "8281"
                                },
                                {
                                    "REND_DATUM": "2016-09-04",
                                    "SZALL_MOD": "NULL",
                                    "(No column name)": "6894"
                                },
                                {
                                    "REND_DATUM": "2016-09-05",
                                    "SZALL_MOD": "NULL",
                                    "(No column name)": "8104"
                                },
                                {
                                    "REND_DATUM": "2016-09-06",
                                    "SZALL_MOD": "NULL",
                                    "(No column name)": "7343"
                                },
                                {
                                    "REND_DATUM": "2016-09-07",
                                    "SZALL_MOD": "NULL",
                                    "(No column name)": "9634"
                                },
                                {
                                    "REND_DATUM": "2016-09-08",
                                    "SZALL_MOD": "NULL",
                                    "(No column name)": "9490"
                                },
                                {
                                    "REND_DATUM": "2016-09-09",
                                    "SZALL_MOD": "NULL",
                                    "(No column name)": "7390"
                                },
                                {
                                    "REND_DATUM": "2016-09-10",
                                    "SZALL_MOD": "NULL",
                                    "(No column name)": "8274"
                                },
                                {
                                    "REND_DATUM": "2016-09-11",
                                    "SZALL_MOD": "NULL",
                                    "(No column name)": "7461"
                                },
                                {
                                    "REND_DATUM": "2016-09-12",
                                    "SZALL_MOD": "NULL",
                                    "(No column name)": "8104"
                                },
                                {
                                    "REND_DATUM": "2016-09-13",
                                    "SZALL_MOD": "NULL",
                                    "(No column name)": "7283"
                                },
                                {
                                    "REND_DATUM": "2016-09-14",
                                    "SZALL_MOD": "NULL",
                                    "(No column name)": "6631"
                                },
                                {
                                    "REND_DATUM": "2016-09-15",
                                    "SZALL_MOD": "NULL",
                                    "(No column name)": "8121"
                                },
                                {
                                    "REND_DATUM": "2016-09-16",
                                    "SZALL_MOD": "NULL",
                                    "(No column name)": "7799"
                                },
                                {
                                    "REND_DATUM": "2016-09-17",
                                    "SZALL_MOD": "NULL",
                                    "(No column name)": "6316"
                                },
                                {
                                    "REND_DATUM": "2016-09-18",
                                    "SZALL_MOD": "NULL",
                                    "(No column name)": "6844"
                                },
                                {
                                    "REND_DATUM": "2016-09-19",
                                    "SZALL_MOD": "NULL",
                                    "(No column name)": "7678"
                                },
                                {
                                    "REND_DATUM": "2016-09-20",
                                    "SZALL_MOD": "NULL",
                                    "(No column name)": "8818"
                                },
                                {
                                    "REND_DATUM": "2016-09-21",
                                    "SZALL_MOD": "NULL",
                                    "(No column name)": "7450"
                                },
                                {
                                    "REND_DATUM": "2016-09-22",
                                    "SZALL_MOD": "NULL",
                                    "(No column name)": "7237"
                                },
                                {
                                    "REND_DATUM": "2016-09-23",
                                    "SZALL_MOD": "NULL",
                                    "(No column name)": "9007"
                                },
                                {
                                    "REND_DATUM": "2016-09-24",
                                    "SZALL_MOD": "NULL",
                                    "(No column name)": "5200"
                                },
                                {
                                    "REND_DATUM": "2016-09-25",
                                    "SZALL_MOD": "NULL",
                                    "(No column name)": "7405"
                                },
                                {
                                    "REND_DATUM": "2016-09-26",
                                    "SZALL_MOD": "NULL",
                                    "(No column name)": "7699"
                                },
                                {
                                    "REND_DATUM": "2016-09-27",
                                    "SZALL_MOD": "NULL",
                                    "(No column name)": "6772"
                                },
                                {
                                    "REND_DATUM": "2016-09-28",
                                    "SZALL_MOD": "NULL",
                                    "(No column name)": "7265"
                                },
                                {
                                    "REND_DATUM": "2016-09-29",
                                    "SZALL_MOD": "NULL",
                                    "(No column name)": "8256"
                                },
                                {
                                    "REND_DATUM": "2016-09-30",
                                    "SZALL_MOD": "NULL",
                                    "(No column name)": "9404"
                                },
                                {
                                    "REND_DATUM": "2016-10-01",
                                    "SZALL_MOD": "NULL",
                                    "(No column name)": "6911"
                                },
                                {
                                    "REND_DATUM": "2016-10-02",
                                    "SZALL_MOD": "NULL",
                                    "(No column name)": "7405"
                                },
                                {
                                    "REND_DATUM": "2016-10-03",
                                    "SZALL_MOD": "NULL",
                                    "(No column name)": "9037"
                                },
                                {
                                    "REND_DATUM": "2016-10-04",
                                    "SZALL_MOD": "NULL",
                                    "(No column name)": "7447"
                                },
                                {
                                    "REND_DATUM": "2016-10-05",
                                    "SZALL_MOD": "NULL",
                                    "(No column name)": "8144"
                                },
                                {
                                    "REND_DATUM": "2016-10-06",
                                    "SZALL_MOD": "NULL",
                                    "(No column name)": "8740"
                                },
                                {
                                    "REND_DATUM": "2016-10-07",
                                    "SZALL_MOD": "NULL",
                                    "(No column name)": "7528"
                                },
                                {
                                    "REND_DATUM": "2016-10-08",
                                    "SZALL_MOD": "NULL",
                                    "(No column name)": "9200"
                                },
                                {
                                    "REND_DATUM": "2016-10-09",
                                    "SZALL_MOD": "NULL",
                                    "(No column name)": "9661"
                                },
                                {
                                    "REND_DATUM": "2016-10-10",
                                    "SZALL_MOD": "NULL",
                                    "(No column name)": "8408"
                                },
                                {
                                    "REND_DATUM": "2016-10-11",
                                    "SZALL_MOD": "NULL",
                                    "(No column name)": "10707"
                                },
                                {
                                    "REND_DATUM": "2016-10-12",
                                    "SZALL_MOD": "NULL",
                                    "(No column name)": "8974"
                                },
                                {
                                    "REND_DATUM": "2016-10-13",
                                    "SZALL_MOD": "NULL",
                                    "(No column name)": "8307"
                                },
                                {
                                    "REND_DATUM": "2016-10-14",
                                    "SZALL_MOD": "NULL",
                                    "(No column name)": "8673"
                                },
                                {
                                    "REND_DATUM": "2016-10-15",
                                    "SZALL_MOD": "NULL",
                                    "(No column name)": "8094"
                                },
                                {
                                    "REND_DATUM": "2016-10-16",
                                    "SZALL_MOD": "NULL",
                                    "(No column name)": "9071"
                                },
                                {
                                    "REND_DATUM": "2016-10-17",
                                    "SZALL_MOD": "NULL",
                                    "(No column name)": "6886"
                                },
                                {
                                    "REND_DATUM": "2016-10-18",
                                    "SZALL_MOD": "NULL",
                                    "(No column name)": "8426"
                                },
                                {
                                    "REND_DATUM": "2016-10-19",
                                    "SZALL_MOD": "NULL",
                                    "(No column name)": "8583"
                                },
                                {
                                    "REND_DATUM": "2016-10-20",
                                    "SZALL_MOD": "NULL",
                                    "(No column name)": "6795"
                                },
                                {
                                    "REND_DATUM": "2016-10-21",
                                    "SZALL_MOD": "NULL",
                                    "(No column name)": "9146"
                                },
                                {
                                    "REND_DATUM": "2016-10-22",
                                    "SZALL_MOD": "NULL",
                                    "(No column name)": "8452"
                                },
                                {
                                    "REND_DATUM": "2016-10-23",
                                    "SZALL_MOD": "NULL",
                                    "(No column name)": "6809"
                                },
                                {
                                    "REND_DATUM": "2016-10-24",
                                    "SZALL_MOD": "NULL",
                                    "(No column name)": "7615"
                                },
                                {
                                    "REND_DATUM": "2016-10-25",
                                    "SZALL_MOD": "NULL",
                                    "(No column name)": "9065"
                                },
                                {
                                    "REND_DATUM": "2016-10-26",
                                    "SZALL_MOD": "NULL",
                                    "(No column name)": "6910"
                                },
                                {
                                    "REND_DATUM": "2016-10-27",
                                    "SZALL_MOD": "NULL",
                                    "(No column name)": "7252"
                                },
                                {
                                    "REND_DATUM": "2016-10-28",
                                    "SZALL_MOD": "NULL",
                                    "(No column name)": "8065"
                                },
                                {
                                    "REND_DATUM": "2016-10-29",
                                    "SZALL_MOD": "NULL",
                                    "(No column name)": "8200"
                                },
                                {
                                    "REND_DATUM": "2016-10-30",
                                    "SZALL_MOD": "NULL",
                                    "(No column name)": "7213"
                                },
                                {
                                    "REND_DATUM": "2016-10-31",
                                    "SZALL_MOD": "NULL",
                                    "(No column name)": "7984"
                                },
                                {
                                    "REND_DATUM": "2016-11-01",
                                    "SZALL_MOD": "NULL",
                                    "(No column name)": "8707"
                                },
                                {
                                    "REND_DATUM": "2016-11-02",
                                    "SZALL_MOD": "NULL",
                                    "(No column name)": "8188"
                                },
                                {
                                    "REND_DATUM": "2016-11-03",
                                    "SZALL_MOD": "NULL",
                                    "(No column name)": "8547"
                                },
                                {
                                    "REND_DATUM": "2016-11-04",
                                    "SZALL_MOD": "NULL",
                                    "(No column name)": "10060"
                                },
                                {
                                    "REND_DATUM": "2016-11-05",
                                    "SZALL_MOD": "NULL",
                                    "(No column name)": "7456"
                                },
                                {
                                    "REND_DATUM": "2016-11-06",
                                    "SZALL_MOD": "NULL",
                                    "(No column name)": "9627"
                                },
                                {
                                    "REND_DATUM": "2016-11-07",
                                    "SZALL_MOD": "NULL",
                                    "(No column name)": "8093"
                                },
                                {
                                    "REND_DATUM": "2016-11-08",
                                    "SZALL_MOD": "NULL",
                                    "(No column name)": "8859"
                                },
                                {
                                    "REND_DATUM": "2016-11-09",
                                    "SZALL_MOD": "NULL",
                                    "(No column name)": "7344"
                                },
                                {
                                    "REND_DATUM": "2016-11-10",
                                    "SZALL_MOD": "NULL",
                                    "(No column name)": "7604"
                                },
                                {
                                    "REND_DATUM": "2016-11-11",
                                    "SZALL_MOD": "NULL",
                                    "(No column name)": "7943"
                                },
                                {
                                    "REND_DATUM": "2016-11-12",
                                    "SZALL_MOD": "NULL",
                                    "(No column name)": "9046"
                                },
                                {
                                    "REND_DATUM": "2016-11-13",
                                    "SZALL_MOD": "NULL",
                                    "(No column name)": "8253"
                                },
                                {
                                    "REND_DATUM": "2016-11-14",
                                    "SZALL_MOD": "NULL",
                                    "(No column name)": "7132"
                                },
                                {
                                    "REND_DATUM": "2016-11-15",
                                    "SZALL_MOD": "NULL",
                                    "(No column name)": "8133"
                                },
                                {
                                    "REND_DATUM": "2016-11-16",
                                    "SZALL_MOD": "NULL",
                                    "(No column name)": "6960"
                                },
                                {
                                    "REND_DATUM": "2016-11-17",
                                    "SZALL_MOD": "NULL",
                                    "(No column name)": "5928"
                                },
                                {
                                    "REND_DATUM": "2016-11-18",
                                    "SZALL_MOD": "NULL",
                                    "(No column name)": "8407"
                                },
                                {
                                    "REND_DATUM": "2016-11-19",
                                    "SZALL_MOD": "NULL",
                                    "(No column name)": "9253"
                                },
                                {
                                    "REND_DATUM": "2016-11-20",
                                    "SZALL_MOD": "NULL",
                                    "(No column name)": "8313"
                                },
                                {
                                    "REND_DATUM": "2016-11-21",
                                    "SZALL_MOD": "NULL",
                                    "(No column name)": "7221"
                                },
                                {
                                    "REND_DATUM": "2016-11-22",
                                    "SZALL_MOD": "NULL",
                                    "(No column name)": "8009"
                                },
                                {
                                    "REND_DATUM": "2016-11-23",
                                    "SZALL_MOD": "NULL",
                                    "(No column name)": "6459"
                                },
                                {
                                    "REND_DATUM": "2016-11-24",
                                    "SZALL_MOD": "NULL",
                                    "(No column name)": "6405"
                                },
                                {
                                    "REND_DATUM": "2016-11-25",
                                    "SZALL_MOD": "NULL",
                                    "(No column name)": "9866"
                                },
                                {
                                    "REND_DATUM": "2016-11-26",
                                    "SZALL_MOD": "NULL",
                                    "(No column name)": "6659"
                                },
                                {
                                    "REND_DATUM": "2016-11-27",
                                    "SZALL_MOD": "NULL",
                                    "(No column name)": "9592"
                                },
                                {
                                    "REND_DATUM": "2016-11-28",
                                    "SZALL_MOD": "NULL",
                                    "(No column name)": "8280"
                                },
                                {
                                    "REND_DATUM": "2016-11-29",
                                    "SZALL_MOD": "NULL",
                                    "(No column name)": "8118"
                                },
                                {
                                    "REND_DATUM": "2016-11-30",
                                    "SZALL_MOD": "NULL",
                                    "(No column name)": "6890"
                                },
                                {
                                    "REND_DATUM": "2016-12-01",
                                    "SZALL_MOD": "NULL",
                                    "(No column name)": "8080"
                                },
                                {
                                    "REND_DATUM": "2016-12-02",
                                    "SZALL_MOD": "NULL",
                                    "(No column name)": "6514"
                                },
                                {
                                    "REND_DATUM": "2016-12-03",
                                    "SZALL_MOD": "NULL",
                                    "(No column name)": "7565"
                                },
                                {
                                    "REND_DATUM": "2016-12-04",
                                    "SZALL_MOD": "NULL",
                                    "(No column name)": "6715"
                                },
                                {
                                    "REND_DATUM": "2016-12-05",
                                    "SZALL_MOD": "NULL",
                                    "(No column name)": "6582"
                                },
                                {
                                    "REND_DATUM": "2016-12-06",
                                    "SZALL_MOD": "NULL",
                                    "(No column name)": "7240"
                                },
                                {
                                    "REND_DATUM": "2016-12-07",
                                    "SZALL_MOD": "NULL",
                                    "(No column name)": "6700"
                                },
                                {
                                    "REND_DATUM": "2016-12-08",
                                    "SZALL_MOD": "NULL",
                                    "(No column name)": "7303"
                                },
                                {
                                    "REND_DATUM": "2016-12-09",
                                    "SZALL_MOD": "NULL",
                                    "(No column name)": "8693"
                                },
                                {
                                    "REND_DATUM": "2016-12-10",
                                    "SZALL_MOD": "NULL",
                                    "(No column name)": "9593"
                                },
                                {
                                    "REND_DATUM": "2016-12-11",
                                    "SZALL_MOD": "NULL",
                                    "(No column name)": "6280"
                                },
                                {
                                    "REND_DATUM": "2016-12-12",
                                    "SZALL_MOD": "NULL",
                                    "(No column name)": "8588"
                                },
                                {
                                    "REND_DATUM": "2016-12-13",
                                    "SZALL_MOD": "NULL",
                                    "(No column name)": "7089"
                                },
                                {
                                    "REND_DATUM": "2016-12-14",
                                    "SZALL_MOD": "NULL",
                                    "(No column name)": "8136"
                                },
                                {
                                    "REND_DATUM": "2016-12-15",
                                    "SZALL_MOD": "NULL",
                                    "(No column name)": "6714"
                                },
                                {
                                    "REND_DATUM": "2016-12-16",
                                    "SZALL_MOD": "NULL",
                                    "(No column name)": "7849"
                                },
                                {
                                    "REND_DATUM": "2016-12-17",
                                    "SZALL_MOD": "NULL",
                                    "(No column name)": "7502"
                                },
                                {
                                    "REND_DATUM": "2016-12-18",
                                    "SZALL_MOD": "NULL",
                                    "(No column name)": "7040"
                                },
                                {
                                    "REND_DATUM": "2016-12-19",
                                    "SZALL_MOD": "NULL",
                                    "(No column name)": "8300"
                                },
                                {
                                    "REND_DATUM": "2016-12-20",
                                    "SZALL_MOD": "NULL",
                                    "(No column name)": "7739"
                                },
                                {
                                    "REND_DATUM": "2016-12-21",
                                    "SZALL_MOD": "NULL",
                                    "(No column name)": "7536"
                                },
                                {
                                    "REND_DATUM": "2016-12-22",
                                    "SZALL_MOD": "NULL",
                                    "(No column name)": "8369"
                                },
                                {
                                    "REND_DATUM": "2016-12-23",
                                    "SZALL_MOD": "NULL",
                                    "(No column name)": "7424"
                                },
                                {
                                    "REND_DATUM": "2016-12-24",
                                    "SZALL_MOD": "NULL",
                                    "(No column name)": "7305"
                                },
                                {
                                    "REND_DATUM": "2016-12-25",
                                    "SZALL_MOD": "NULL",
                                    "(No column name)": "7911"
                                },
                                {
                                    "REND_DATUM": "2016-12-26",
                                    "SZALL_MOD": "NULL",
                                    "(No column name)": "6891"
                                },
                                {
                                    "REND_DATUM": "2016-12-27",
                                    "SZALL_MOD": "NULL",
                                    "(No column name)": "5272"
                                },
                                {
                                    "REND_DATUM": "2016-12-28",
                                    "SZALL_MOD": "NULL",
                                    "(No column name)": "9470"
                                },
                                {
                                    "REND_DATUM": "2016-12-29",
                                    "SZALL_MOD": "NULL",
                                    "(No column name)": "9337"
                                },
                                {
                                    "REND_DATUM": "2016-12-30",
                                    "SZALL_MOD": "NULL",
                                    "(No column name)": "9107"
                                },
                                {
                                    "REND_DATUM": "2016-12-31",
                                    "SZALL_MOD": "NULL",
                                    "(No column name)": "7864"
                                },
                                {
                                    "REND_DATUM": "2017-01-01",
                                    "SZALL_MOD": "NULL",
                                    "(No column name)": "7782"
                                },
                                {
                                    "REND_DATUM": "2017-01-02",
                                    "SZALL_MOD": "NULL",
                                    "(No column name)": "8908"
                                },
                                {
                                    "REND_DATUM": "2017-01-03",
                                    "SZALL_MOD": "NULL",
                                    "(No column name)": "6733"
                                },
                                {
                                    "REND_DATUM": "2017-01-04",
                                    "SZALL_MOD": "NULL",
                                    "(No column name)": "9803"
                                },
                                {
                                    "REND_DATUM": "2017-01-05",
                                    "SZALL_MOD": "NULL",
                                    "(No column name)": "7038"
                                },
                                {
                                    "REND_DATUM": "2017-01-06",
                                    "SZALL_MOD": "NULL",
                                    "(No column name)": "10521"
                                },
                                {
                                    "REND_DATUM": "2017-01-07",
                                    "SZALL_MOD": "NULL",
                                    "(No column name)": "7636"
                                },
                                {
                                    "REND_DATUM": "2017-01-08",
                                    "SZALL_MOD": "NULL",
                                    "(No column name)": "8367"
                                },
                                {
                                    "REND_DATUM": "2017-01-09",
                                    "SZALL_MOD": "NULL",
                                    "(No column name)": "8397"
                                },
                                {
                                    "REND_DATUM": "2017-01-10",
                                    "SZALL_MOD": "NULL",
                                    "(No column name)": "8992"
                                },
                                {
                                    "REND_DATUM": "2017-01-11",
                                    "SZALL_MOD": "NULL",
                                    "(No column name)": "7197"
                                },
                                {
                                    "REND_DATUM": "2017-01-12",
                                    "SZALL_MOD": "NULL",
                                    "(No column name)": "7024"
                                },
                                {
                                    "REND_DATUM": "2017-01-13",
                                    "SZALL_MOD": "NULL",
                                    "(No column name)": "7053"
                                },
                                {
                                    "REND_DATUM": "2017-01-14",
                                    "SZALL_MOD": "NULL",
                                    "(No column name)": "6863"
                                },
                                {
                                    "REND_DATUM": "2017-01-15",
                                    "SZALL_MOD": "NULL",
                                    "(No column name)": "7510"
                                },
                                {
                                    "REND_DATUM": "2017-01-16",
                                    "SZALL_MOD": "NULL",
                                    "(No column name)": "7000"
                                },
                                {
                                    "REND_DATUM": "2017-01-17",
                                    "SZALL_MOD": "NULL",
                                    "(No column name)": "8969"
                                },
                                {
                                    "REND_DATUM": "2017-01-18",
                                    "SZALL_MOD": "NULL",
                                    "(No column name)": "8358"
                                },
                                {
                                    "REND_DATUM": "2017-01-19",
                                    "SZALL_MOD": "NULL",
                                    "(No column name)": "6719"
                                },
                                {
                                    "REND_DATUM": "2017-01-20",
                                    "SZALL_MOD": "NULL",
                                    "(No column name)": "6416"
                                },
                                {
                                    "REND_DATUM": "2017-01-21",
                                    "SZALL_MOD": "NULL",
                                    "(No column name)": "8263"
                                },
                                {
                                    "REND_DATUM": "2017-01-22",
                                    "SZALL_MOD": "NULL",
                                    "(No column name)": "7580"
                                },
                                {
                                    "REND_DATUM": "2017-01-23",
                                    "SZALL_MOD": "NULL",
                                    "(No column name)": "8039"
                                },
                                {
                                    "REND_DATUM": "2017-01-24",
                                    "SZALL_MOD": "NULL",
                                    "(No column name)": "9032"
                                },
                                {
                                    "REND_DATUM": "2017-01-25",
                                    "SZALL_MOD": "NULL",
                                    "(No column name)": "6831"
                                },
                                {
                                    "REND_DATUM": "2017-01-26",
                                    "SZALL_MOD": "NULL",
                                    "(No column name)": "7608"
                                },
                                {
                                    "REND_DATUM": "2017-01-27",
                                    "SZALL_MOD": "NULL",
                                    "(No column name)": "6456"
                                },
                                {
                                    "REND_DATUM": "2017-01-28",
                                    "SZALL_MOD": "NULL",
                                    "(No column name)": "7355"
                                },
                                {
                                    "REND_DATUM": "2017-01-29",
                                    "SZALL_MOD": "NULL",
                                    "(No column name)": "6769"
                                },
                                {
                                    "REND_DATUM": "2017-01-30",
                                    "SZALL_MOD": "NULL",
                                    "(No column name)": "6523"
                                },
                                {
                                    "REND_DATUM": "2017-01-31",
                                    "SZALL_MOD": "NULL",
                                    "(No column name)": "7978"
                                },
                                {
                                    "REND_DATUM": "2017-02-01",
                                    "SZALL_MOD": "NULL",
                                    "(No column name)": "8595"
                                },
                                {
                                    "REND_DATUM": "2017-02-02",
                                    "SZALL_MOD": "NULL",
                                    "(No column name)": "7718"
                                },
                                {
                                    "REND_DATUM": "2017-02-03",
                                    "SZALL_MOD": "NULL",
                                    "(No column name)": "7470"
                                },
                                {
                                    "REND_DATUM": "2017-02-04",
                                    "SZALL_MOD": "NULL",
                                    "(No column name)": "9389"
                                },
                                {
                                    "REND_DATUM": "2017-02-05",
                                    "SZALL_MOD": "NULL",
                                    "(No column name)": "8623"
                                },
                                {
                                    "REND_DATUM": "2017-02-06",
                                    "SZALL_MOD": "NULL",
                                    "(No column name)": "7225"
                                },
                                {
                                    "REND_DATUM": "2017-02-07",
                                    "SZALL_MOD": "NULL",
                                    "(No column name)": "8270"
                                },
                                {
                                    "REND_DATUM": "2017-02-08",
                                    "SZALL_MOD": "NULL",
                                    "(No column name)": "8944"
                                },
                                {
                                    "REND_DATUM": "2017-02-09",
                                    "SZALL_MOD": "NULL",
                                    "(No column name)": "9270"
                                },
                                {
                                    "REND_DATUM": "2017-02-10",
                                    "SZALL_MOD": "NULL",
                                    "(No column name)": "7790"
                                },
                                {
                                    "REND_DATUM": "2017-02-11",
                                    "SZALL_MOD": "NULL",
                                    "(No column name)": "8774"
                                },
                                {
                                    "REND_DATUM": "2017-02-12",
                                    "SZALL_MOD": "NULL",
                                    "(No column name)": "8856"
                                },
                                {
                                    "REND_DATUM": "2017-02-13",
                                    "SZALL_MOD": "NULL",
                                    "(No column name)": "10065"
                                },
                                {
                                    "REND_DATUM": "2017-02-14",
                                    "SZALL_MOD": "NULL",
                                    "(No column name)": "7555"
                                },
                                {
                                    "REND_DATUM": "2017-02-15",
                                    "SZALL_MOD": "NULL",
                                    "(No column name)": "8043"
                                },
                                {
                                    "REND_DATUM": "2017-02-16",
                                    "SZALL_MOD": "NULL",
                                    "(No column name)": "8476"
                                },
                                {
                                    "REND_DATUM": "2017-02-17",
                                    "SZALL_MOD": "NULL",
                                    "(No column name)": "8156"
                                },
                                {
                                    "REND_DATUM": "2017-02-18",
                                    "SZALL_MOD": "NULL",
                                    "(No column name)": "8227"
                                },
                                {
                                    "REND_DATUM": "2017-02-19",
                                    "SZALL_MOD": "NULL",
                                    "(No column name)": "6700"
                                },
                                {
                                    "REND_DATUM": "2017-02-20",
                                    "SZALL_MOD": "NULL",
                                    "(No column name)": "8481"
                                },
                                {
                                    "REND_DATUM": "2017-02-21",
                                    "SZALL_MOD": "NULL",
                                    "(No column name)": "6463"
                                },
                                {
                                    "REND_DATUM": "2017-02-22",
                                    "SZALL_MOD": "NULL",
                                    "(No column name)": "6147"
                                },
                                {
                                    "REND_DATUM": "2017-02-23",
                                    "SZALL_MOD": "NULL",
                                    "(No column name)": "7792"
                                },
                                {
                                    "REND_DATUM": "2017-02-24",
                                    "SZALL_MOD": "NULL",
                                    "(No column name)": "7718"
                                },
                                {
                                    "REND_DATUM": "2017-02-25",
                                    "SZALL_MOD": "NULL",
                                    "(No column name)": "8482"
                                },
                                {
                                    "REND_DATUM": "2017-02-26",
                                    "SZALL_MOD": "NULL",
                                    "(No column name)": "9843"
                                },
                                {
                                    "REND_DATUM": "2017-02-27",
                                    "SZALL_MOD": "NULL",
                                    "(No column name)": "7161"
                                },
                                {
                                    "REND_DATUM": "2017-02-28",
                                    "SZALL_MOD": "NULL",
                                    "(No column name)": "7373"
                                },
                                {
                                    "REND_DATUM": "2017-03-01",
                                    "SZALL_MOD": "NULL",
                                    "(No column name)": "7325"
                                },
                                {
                                    "REND_DATUM": "2017-03-02",
                                    "SZALL_MOD": "NULL",
                                    "(No column name)": "8203"
                                },
                                {
                                    "REND_DATUM": "2017-03-03",
                                    "SZALL_MOD": "NULL",
                                    "(No column name)": "7754"
                                },
                                {
                                    "REND_DATUM": "2017-03-04",
                                    "SZALL_MOD": "NULL",
                                    "(No column name)": "7684"
                                },
                                {
                                    "REND_DATUM": "2017-03-05",
                                    "SZALL_MOD": "NULL",
                                    "(No column name)": "7213"
                                },
                                {
                                    "REND_DATUM": "2017-03-06",
                                    "SZALL_MOD": "NULL",
                                    "(No column name)": "9517"
                                },
                                {
                                    "REND_DATUM": "2017-03-07",
                                    "SZALL_MOD": "NULL",
                                    "(No column name)": "7417"
                                },
                                {
                                    "REND_DATUM": "2017-03-08",
                                    "SZALL_MOD": "NULL",
                                    "(No column name)": "7114"
                                },
                                {
                                    "REND_DATUM": "2017-03-09",
                                    "SZALL_MOD": "NULL",
                                    "(No column name)": "7147"
                                },
                                {
                                    "REND_DATUM": "2017-03-10",
                                    "SZALL_MOD": "NULL",
                                    "(No column name)": "9208"
                                },
                                {
                                    "REND_DATUM": "2017-03-11",
                                    "SZALL_MOD": "NULL",
                                    "(No column name)": "7921"
                                },
                                {
                                    "REND_DATUM": "2017-03-12",
                                    "SZALL_MOD": "NULL",
                                    "(No column name)": "9264"
                                },
                                {
                                    "REND_DATUM": "2017-03-13",
                                    "SZALL_MOD": "NULL",
                                    "(No column name)": "9752"
                                },
                                {
                                    "REND_DATUM": "2017-03-14",
                                    "SZALL_MOD": "NULL",
                                    "(No column name)": "7482"
                                },
                                {
                                    "REND_DATUM": "2017-03-15",
                                    "SZALL_MOD": "NULL",
                                    "(No column name)": "6522"
                                },
                                {
                                    "REND_DATUM": "2017-03-16",
                                    "SZALL_MOD": "NULL",
                                    "(No column name)": "7320"
                                },
                                {
                                    "REND_DATUM": "2017-03-17",
                                    "SZALL_MOD": "NULL",
                                    "(No column name)": "8928"
                                },
                                {
                                    "REND_DATUM": "2017-03-18",
                                    "SZALL_MOD": "NULL",
                                    "(No column name)": "7231"
                                },
                                {
                                    "REND_DATUM": "2017-03-19",
                                    "SZALL_MOD": "NULL",
                                    "(No column name)": "7804"
                                },
                                {
                                    "REND_DATUM": "2017-03-20",
                                    "SZALL_MOD": "NULL",
                                    "(No column name)": "8488"
                                },
                                {
                                    "REND_DATUM": "2017-03-21",
                                    "SZALL_MOD": "NULL",
                                    "(No column name)": "8976"
                                },
                                {
                                    "REND_DATUM": "2017-03-22",
                                    "SZALL_MOD": "NULL",
                                    "(No column name)": "7254"
                                },
                                {
                                    "REND_DATUM": "2017-03-23",
                                    "SZALL_MOD": "NULL",
                                    "(No column name)": "8224"
                                },
                                {
                                    "REND_DATUM": "2017-03-24",
                                    "SZALL_MOD": "NULL",
                                    "(No column name)": "7993"
                                },
                                {
                                    "REND_DATUM": "2017-03-25",
                                    "SZALL_MOD": "NULL",
                                    "(No column name)": "9293"
                                },
                                {
                                    "REND_DATUM": "2017-03-26",
                                    "SZALL_MOD": "NULL",
                                    "(No column name)": "8360"
                                },
                                {
                                    "REND_DATUM": "2017-03-27",
                                    "SZALL_MOD": "NULL",
                                    "(No column name)": "8487"
                                },
                                {
                                    "REND_DATUM": "2017-03-28",
                                    "SZALL_MOD": "NULL",
                                    "(No column name)": "7498"
                                },
                                {
                                    "REND_DATUM": "2017-03-29",
                                    "SZALL_MOD": "NULL",
                                    "(No column name)": "7369"
                                },
                                {
                                    "REND_DATUM": "2017-03-30",
                                    "SZALL_MOD": "NULL",
                                    "(No column name)": "8129"
                                },
                                {
                                    "REND_DATUM": "2017-03-31",
                                    "SZALL_MOD": "NULL",
                                    "(No column name)": "8364"
                                },
                                {
                                    "REND_DATUM": "2017-04-01",
                                    "SZALL_MOD": "NULL",
                                    "(No column name)": "9044"
                                },
                                {
                                    "REND_DATUM": "NULL",
                                    "SZALL_MOD": "NULL",
                                    "(No column name)": "5578316"
                                }
                            ]
                        },
                        "text/html": [
                            "<table>",
                            "<tr><th>REND_DATUM</th><th>SZALL_MOD</th><th>(No column name)</th></tr>",
                            "<tr><td>2015-05-01</td><td>NULL</td><td>4625</td></tr>",
                            "<tr><td>2015-05-02</td><td>NULL</td><td>8930</td></tr>",
                            "<tr><td>2015-05-03</td><td>NULL</td><td>9116</td></tr>",
                            "<tr><td>2015-05-04</td><td>NULL</td><td>8219</td></tr>",
                            "<tr><td>2015-05-05</td><td>NULL</td><td>8152</td></tr>",
                            "<tr><td>2015-05-06</td><td>NULL</td><td>7141</td></tr>",
                            "<tr><td>2015-05-07</td><td>NULL</td><td>7312</td></tr>",
                            "<tr><td>2015-05-08</td><td>NULL</td><td>6575</td></tr>",
                            "<tr><td>2015-05-09</td><td>NULL</td><td>6981</td></tr>",
                            "<tr><td>2015-05-10</td><td>NULL</td><td>7063</td></tr>",
                            "<tr><td>2015-05-11</td><td>NULL</td><td>7624</td></tr>",
                            "<tr><td>2015-05-12</td><td>NULL</td><td>6929</td></tr>",
                            "<tr><td>2015-05-13</td><td>NULL</td><td>9484</td></tr>",
                            "<tr><td>2015-05-14</td><td>NULL</td><td>8985</td></tr>",
                            "<tr><td>2015-05-15</td><td>NULL</td><td>8911</td></tr>",
                            "<tr><td>2015-05-16</td><td>NULL</td><td>7120</td></tr>",
                            "<tr><td>2015-05-17</td><td>NULL</td><td>7438</td></tr>",
                            "<tr><td>2015-05-18</td><td>NULL</td><td>7056</td></tr>",
                            "<tr><td>2015-05-19</td><td>NULL</td><td>6304</td></tr>",
                            "<tr><td>2015-05-20</td><td>NULL</td><td>7932</td></tr>",
                            "<tr><td>2015-05-21</td><td>NULL</td><td>4958</td></tr>",
                            "<tr><td>2015-05-22</td><td>NULL</td><td>7918</td></tr>",
                            "<tr><td>2015-05-23</td><td>NULL</td><td>7808</td></tr>",
                            "<tr><td>2015-05-24</td><td>NULL</td><td>7749</td></tr>",
                            "<tr><td>2015-05-25</td><td>NULL</td><td>7931</td></tr>",
                            "<tr><td>2015-05-26</td><td>NULL</td><td>9075</td></tr>",
                            "<tr><td>2015-05-27</td><td>NULL</td><td>9333</td></tr>",
                            "<tr><td>2015-05-28</td><td>NULL</td><td>5483</td></tr>",
                            "<tr><td>2015-05-29</td><td>NULL</td><td>7941</td></tr>",
                            "<tr><td>2015-05-30</td><td>NULL</td><td>8508</td></tr>",
                            "<tr><td>2015-05-31</td><td>NULL</td><td>8926</td></tr>",
                            "<tr><td>2015-06-01</td><td>NULL</td><td>7243</td></tr>",
                            "<tr><td>2015-06-02</td><td>NULL</td><td>7365</td></tr>",
                            "<tr><td>2015-06-03</td><td>NULL</td><td>7630</td></tr>",
                            "<tr><td>2015-06-04</td><td>NULL</td><td>6720</td></tr>",
                            "<tr><td>2015-06-05</td><td>NULL</td><td>5942</td></tr>",
                            "<tr><td>2015-06-06</td><td>NULL</td><td>7598</td></tr>",
                            "<tr><td>2015-06-07</td><td>NULL</td><td>7226</td></tr>",
                            "<tr><td>2015-06-08</td><td>NULL</td><td>7245</td></tr>",
                            "<tr><td>2015-06-09</td><td>NULL</td><td>7588</td></tr>",
                            "<tr><td>2015-06-10</td><td>NULL</td><td>8344</td></tr>",
                            "<tr><td>2015-06-11</td><td>NULL</td><td>8690</td></tr>",
                            "<tr><td>2015-06-12</td><td>NULL</td><td>6827</td></tr>",
                            "<tr><td>2015-06-13</td><td>NULL</td><td>6845</td></tr>",
                            "<tr><td>2015-06-14</td><td>NULL</td><td>6280</td></tr>",
                            "<tr><td>2015-06-15</td><td>NULL</td><td>7480</td></tr>",
                            "<tr><td>2015-06-16</td><td>NULL</td><td>6922</td></tr>",
                            "<tr><td>2015-06-17</td><td>NULL</td><td>6836</td></tr>",
                            "<tr><td>2015-06-18</td><td>NULL</td><td>6781</td></tr>",
                            "<tr><td>2015-06-19</td><td>NULL</td><td>8812</td></tr>",
                            "<tr><td>2015-06-20</td><td>NULL</td><td>8582</td></tr>",
                            "<tr><td>2015-06-21</td><td>NULL</td><td>7180</td></tr>",
                            "<tr><td>2015-06-22</td><td>NULL</td><td>6839</td></tr>",
                            "<tr><td>2015-06-23</td><td>NULL</td><td>8112</td></tr>",
                            "<tr><td>2015-06-24</td><td>NULL</td><td>7284</td></tr>",
                            "<tr><td>2015-06-25</td><td>NULL</td><td>9359</td></tr>",
                            "<tr><td>2015-06-26</td><td>NULL</td><td>7101</td></tr>",
                            "<tr><td>2015-06-27</td><td>NULL</td><td>5787</td></tr>",
                            "<tr><td>2015-06-28</td><td>NULL</td><td>8761</td></tr>",
                            "<tr><td>2015-06-29</td><td>NULL</td><td>6649</td></tr>",
                            "<tr><td>2015-06-30</td><td>NULL</td><td>7718</td></tr>",
                            "<tr><td>2015-07-01</td><td>NULL</td><td>8315</td></tr>",
                            "<tr><td>2015-07-02</td><td>NULL</td><td>6731</td></tr>",
                            "<tr><td>2015-07-03</td><td>NULL</td><td>6406</td></tr>",
                            "<tr><td>2015-07-04</td><td>NULL</td><td>8830</td></tr>",
                            "<tr><td>2015-07-05</td><td>NULL</td><td>7443</td></tr>",
                            "<tr><td>2015-07-06</td><td>NULL</td><td>10444</td></tr>",
                            "<tr><td>2015-07-07</td><td>NULL</td><td>8140</td></tr>",
                            "<tr><td>2015-07-08</td><td>NULL</td><td>7050</td></tr>",
                            "<tr><td>2015-07-09</td><td>NULL</td><td>6264</td></tr>",
                            "<tr><td>2015-07-10</td><td>NULL</td><td>7085</td></tr>",
                            "<tr><td>2015-07-11</td><td>NULL</td><td>7923</td></tr>",
                            "<tr><td>2015-07-12</td><td>NULL</td><td>8661</td></tr>",
                            "<tr><td>2015-07-13</td><td>NULL</td><td>7544</td></tr>",
                            "<tr><td>2015-07-14</td><td>NULL</td><td>9942</td></tr>",
                            "<tr><td>2015-07-15</td><td>NULL</td><td>5938</td></tr>",
                            "<tr><td>2015-07-16</td><td>NULL</td><td>8487</td></tr>",
                            "<tr><td>2015-07-17</td><td>NULL</td><td>6336</td></tr>",
                            "<tr><td>2015-07-18</td><td>NULL</td><td>9479</td></tr>",
                            "<tr><td>2015-07-19</td><td>NULL</td><td>8138</td></tr>",
                            "<tr><td>2015-07-20</td><td>NULL</td><td>7275</td></tr>",
                            "<tr><td>2015-07-21</td><td>NULL</td><td>7656</td></tr>",
                            "<tr><td>2015-07-22</td><td>NULL</td><td>8970</td></tr>",
                            "<tr><td>2015-07-23</td><td>NULL</td><td>10765</td></tr>",
                            "<tr><td>2015-07-24</td><td>NULL</td><td>7617</td></tr>",
                            "<tr><td>2015-07-25</td><td>NULL</td><td>7108</td></tr>",
                            "<tr><td>2015-07-26</td><td>NULL</td><td>9182</td></tr>",
                            "<tr><td>2015-07-27</td><td>NULL</td><td>6620</td></tr>",
                            "<tr><td>2015-07-28</td><td>NULL</td><td>11030</td></tr>",
                            "<tr><td>2015-07-29</td><td>NULL</td><td>7892</td></tr>",
                            "<tr><td>2015-07-30</td><td>NULL</td><td>5664</td></tr>",
                            "<tr><td>2015-07-31</td><td>NULL</td><td>8040</td></tr>",
                            "<tr><td>2015-08-01</td><td>NULL</td><td>9570</td></tr>",
                            "<tr><td>2015-08-02</td><td>NULL</td><td>8656</td></tr>",
                            "<tr><td>2015-08-03</td><td>NULL</td><td>7799</td></tr>",
                            "<tr><td>2015-08-04</td><td>NULL</td><td>6982</td></tr>",
                            "<tr><td>2015-08-05</td><td>NULL</td><td>9916</td></tr>",
                            "<tr><td>2015-08-06</td><td>NULL</td><td>6903</td></tr>",
                            "<tr><td>2015-08-07</td><td>NULL</td><td>7708</td></tr>",
                            "<tr><td>2015-08-08</td><td>NULL</td><td>9230</td></tr>",
                            "<tr><td>2015-08-09</td><td>NULL</td><td>6706</td></tr>",
                            "<tr><td>2015-08-10</td><td>NULL</td><td>7990</td></tr>",
                            "<tr><td>2015-08-11</td><td>NULL</td><td>8065</td></tr>",
                            "<tr><td>2015-08-12</td><td>NULL</td><td>7023</td></tr>",
                            "<tr><td>2015-08-13</td><td>NULL</td><td>8512</td></tr>",
                            "<tr><td>2015-08-14</td><td>NULL</td><td>8126</td></tr>",
                            "<tr><td>2015-08-15</td><td>NULL</td><td>6753</td></tr>",
                            "<tr><td>2015-08-16</td><td>NULL</td><td>8508</td></tr>",
                            "<tr><td>2015-08-17</td><td>NULL</td><td>8071</td></tr>",
                            "<tr><td>2015-08-18</td><td>NULL</td><td>8278</td></tr>",
                            "<tr><td>2015-08-19</td><td>NULL</td><td>8227</td></tr>",
                            "<tr><td>2015-08-20</td><td>NULL</td><td>10198</td></tr>",
                            "<tr><td>2015-08-21</td><td>NULL</td><td>8269</td></tr>",
                            "<tr><td>2015-08-22</td><td>NULL</td><td>8660</td></tr>",
                            "<tr><td>2015-08-23</td><td>NULL</td><td>8087</td></tr>",
                            "<tr><td>2015-08-24</td><td>NULL</td><td>9289</td></tr>",
                            "<tr><td>2015-08-25</td><td>NULL</td><td>7735</td></tr>",
                            "<tr><td>2015-08-26</td><td>NULL</td><td>7487</td></tr>",
                            "<tr><td>2015-08-27</td><td>NULL</td><td>8756</td></tr>",
                            "<tr><td>2015-08-28</td><td>NULL</td><td>9614</td></tr>",
                            "<tr><td>2015-08-29</td><td>NULL</td><td>8147</td></tr>",
                            "<tr><td>2015-08-30</td><td>NULL</td><td>9120</td></tr>",
                            "<tr><td>2015-08-31</td><td>NULL</td><td>7542</td></tr>",
                            "<tr><td>2015-09-01</td><td>NULL</td><td>8904</td></tr>",
                            "<tr><td>2015-09-02</td><td>NULL</td><td>8601</td></tr>",
                            "<tr><td>2015-09-03</td><td>NULL</td><td>6962</td></tr>",
                            "<tr><td>2015-09-04</td><td>NULL</td><td>6211</td></tr>",
                            "<tr><td>2015-09-05</td><td>NULL</td><td>7196</td></tr>",
                            "<tr><td>2015-09-06</td><td>NULL</td><td>7073</td></tr>",
                            "<tr><td>2015-09-07</td><td>NULL</td><td>9565</td></tr>",
                            "<tr><td>2015-09-08</td><td>NULL</td><td>8008</td></tr>",
                            "<tr><td>2015-09-09</td><td>NULL</td><td>8899</td></tr>",
                            "<tr><td>2015-09-10</td><td>NULL</td><td>6951</td></tr>",
                            "<tr><td>2015-09-11</td><td>NULL</td><td>10632</td></tr>",
                            "<tr><td>2015-09-12</td><td>NULL</td><td>8538</td></tr>",
                            "<tr><td>2015-09-13</td><td>NULL</td><td>6885</td></tr>",
                            "<tr><td>2015-09-14</td><td>NULL</td><td>7409</td></tr>",
                            "<tr><td>2015-09-15</td><td>NULL</td><td>7797</td></tr>",
                            "<tr><td>2015-09-16</td><td>NULL</td><td>8980</td></tr>",
                            "<tr><td>2015-09-17</td><td>NULL</td><td>9374</td></tr>",
                            "<tr><td>2015-09-18</td><td>NULL</td><td>8994</td></tr>",
                            "<tr><td>2015-09-19</td><td>NULL</td><td>8696</td></tr>",
                            "<tr><td>2015-09-20</td><td>NULL</td><td>7148</td></tr>",
                            "<tr><td>2015-09-21</td><td>NULL</td><td>10729</td></tr>",
                            "<tr><td>2015-09-22</td><td>NULL</td><td>6652</td></tr>",
                            "<tr><td>2015-09-23</td><td>NULL</td><td>7156</td></tr>",
                            "<tr><td>2015-09-24</td><td>NULL</td><td>8118</td></tr>",
                            "<tr><td>2015-09-25</td><td>NULL</td><td>8080</td></tr>",
                            "<tr><td>2015-09-26</td><td>NULL</td><td>7481</td></tr>",
                            "<tr><td>2015-09-27</td><td>NULL</td><td>9398</td></tr>",
                            "<tr><td>2015-09-28</td><td>NULL</td><td>9056</td></tr>",
                            "<tr><td>2015-09-29</td><td>NULL</td><td>9056</td></tr>",
                            "<tr><td>2015-09-30</td><td>NULL</td><td>6967</td></tr>",
                            "<tr><td>2015-10-01</td><td>NULL</td><td>7822</td></tr>",
                            "<tr><td>2015-10-02</td><td>NULL</td><td>7938</td></tr>",
                            "<tr><td>2015-10-03</td><td>NULL</td><td>8486</td></tr>",
                            "<tr><td>2015-10-04</td><td>NULL</td><td>6426</td></tr>",
                            "<tr><td>2015-10-05</td><td>NULL</td><td>7528</td></tr>",
                            "<tr><td>2015-10-06</td><td>NULL</td><td>7152</td></tr>",
                            "<tr><td>2015-10-07</td><td>NULL</td><td>8665</td></tr>",
                            "<tr><td>2015-10-08</td><td>NULL</td><td>7234</td></tr>",
                            "<tr><td>2015-10-09</td><td>NULL</td><td>8028</td></tr>",
                            "<tr><td>2015-10-10</td><td>NULL</td><td>10233</td></tr>",
                            "<tr><td>2015-10-11</td><td>NULL</td><td>5670</td></tr>",
                            "<tr><td>2015-10-12</td><td>NULL</td><td>6098</td></tr>",
                            "<tr><td>2015-10-13</td><td>NULL</td><td>9247</td></tr>",
                            "<tr><td>2015-10-14</td><td>NULL</td><td>10259</td></tr>",
                            "<tr><td>2015-10-15</td><td>NULL</td><td>6596</td></tr>",
                            "<tr><td>2015-10-16</td><td>NULL</td><td>9874</td></tr>",
                            "<tr><td>2015-10-17</td><td>NULL</td><td>8255</td></tr>",
                            "<tr><td>2015-10-18</td><td>NULL</td><td>7407</td></tr>",
                            "<tr><td>2015-10-19</td><td>NULL</td><td>6607</td></tr>",
                            "<tr><td>2015-10-20</td><td>NULL</td><td>7339</td></tr>",
                            "<tr><td>2015-10-21</td><td>NULL</td><td>8308</td></tr>",
                            "<tr><td>2015-10-22</td><td>NULL</td><td>8804</td></tr>",
                            "<tr><td>2015-10-23</td><td>NULL</td><td>7609</td></tr>",
                            "<tr><td>2015-10-24</td><td>NULL</td><td>6955</td></tr>",
                            "<tr><td>2015-10-25</td><td>NULL</td><td>8301</td></tr>",
                            "<tr><td>2015-10-26</td><td>NULL</td><td>8507</td></tr>",
                            "<tr><td>2015-10-27</td><td>NULL</td><td>9284</td></tr>",
                            "<tr><td>2015-10-28</td><td>NULL</td><td>7627</td></tr>",
                            "<tr><td>2015-10-29</td><td>NULL</td><td>6862</td></tr>",
                            "<tr><td>2015-10-30</td><td>NULL</td><td>7234</td></tr>",
                            "<tr><td>2015-10-31</td><td>NULL</td><td>8455</td></tr>",
                            "<tr><td>2015-11-01</td><td>NULL</td><td>8190</td></tr>",
                            "<tr><td>2015-11-02</td><td>NULL</td><td>7110</td></tr>",
                            "<tr><td>2015-11-03</td><td>NULL</td><td>7542</td></tr>",
                            "<tr><td>2015-11-04</td><td>NULL</td><td>7940</td></tr>",
                            "<tr><td>2015-11-05</td><td>NULL</td><td>6798</td></tr>",
                            "<tr><td>2015-11-06</td><td>NULL</td><td>6866</td></tr>",
                            "<tr><td>2015-11-07</td><td>NULL</td><td>6762</td></tr>",
                            "<tr><td>2015-11-08</td><td>NULL</td><td>9901</td></tr>",
                            "<tr><td>2015-11-09</td><td>NULL</td><td>8860</td></tr>",
                            "<tr><td>2015-11-10</td><td>NULL</td><td>6647</td></tr>",
                            "<tr><td>2015-11-11</td><td>NULL</td><td>5199</td></tr>",
                            "<tr><td>2015-11-12</td><td>NULL</td><td>8629</td></tr>",
                            "<tr><td>2015-11-13</td><td>NULL</td><td>7529</td></tr>",
                            "<tr><td>2015-11-14</td><td>NULL</td><td>6478</td></tr>",
                            "<tr><td>2015-11-15</td><td>NULL</td><td>7461</td></tr>",
                            "<tr><td>2015-11-16</td><td>NULL</td><td>6898</td></tr>",
                            "<tr><td>2015-11-17</td><td>NULL</td><td>9261</td></tr>",
                            "<tr><td>2015-11-18</td><td>NULL</td><td>7584</td></tr>",
                            "<tr><td>2015-11-19</td><td>NULL</td><td>6515</td></tr>",
                            "<tr><td>2015-11-20</td><td>NULL</td><td>8617</td></tr>",
                            "<tr><td>2015-11-21</td><td>NULL</td><td>8096</td></tr>",
                            "<tr><td>2015-11-22</td><td>NULL</td><td>7883</td></tr>",
                            "<tr><td>2015-11-23</td><td>NULL</td><td>8243</td></tr>",
                            "<tr><td>2015-11-24</td><td>NULL</td><td>8181</td></tr>",
                            "<tr><td>2015-11-25</td><td>NULL</td><td>7897</td></tr>",
                            "<tr><td>2015-11-26</td><td>NULL</td><td>6715</td></tr>",
                            "<tr><td>2015-11-27</td><td>NULL</td><td>10114</td></tr>",
                            "<tr><td>2015-11-28</td><td>NULL</td><td>7290</td></tr>",
                            "<tr><td>2015-11-29</td><td>NULL</td><td>7951</td></tr>",
                            "<tr><td>2015-11-30</td><td>NULL</td><td>9658</td></tr>",
                            "<tr><td>2015-12-01</td><td>NULL</td><td>8230</td></tr>",
                            "<tr><td>2015-12-02</td><td>NULL</td><td>9854</td></tr>",
                            "<tr><td>2015-12-03</td><td>NULL</td><td>7817</td></tr>",
                            "<tr><td>2015-12-04</td><td>NULL</td><td>5504</td></tr>",
                            "<tr><td>2015-12-05</td><td>NULL</td><td>9911</td></tr>",
                            "<tr><td>2015-12-06</td><td>NULL</td><td>9194</td></tr>",
                            "<tr><td>2015-12-07</td><td>NULL</td><td>7689</td></tr>",
                            "<tr><td>2015-12-08</td><td>NULL</td><td>9571</td></tr>",
                            "<tr><td>2015-12-09</td><td>NULL</td><td>8047</td></tr>",
                            "<tr><td>2015-12-10</td><td>NULL</td><td>7323</td></tr>",
                            "<tr><td>2015-12-11</td><td>NULL</td><td>7179</td></tr>",
                            "<tr><td>2015-12-12</td><td>NULL</td><td>8621</td></tr>",
                            "<tr><td>2015-12-13</td><td>NULL</td><td>9437</td></tr>",
                            "<tr><td>2015-12-14</td><td>NULL</td><td>6932</td></tr>",
                            "<tr><td>2015-12-15</td><td>NULL</td><td>8240</td></tr>",
                            "<tr><td>2015-12-16</td><td>NULL</td><td>7767</td></tr>",
                            "<tr><td>2015-12-17</td><td>NULL</td><td>6370</td></tr>",
                            "<tr><td>2015-12-18</td><td>NULL</td><td>7625</td></tr>",
                            "<tr><td>2015-12-19</td><td>NULL</td><td>8309</td></tr>",
                            "<tr><td>2015-12-20</td><td>NULL</td><td>6636</td></tr>",
                            "<tr><td>2015-12-21</td><td>NULL</td><td>8562</td></tr>",
                            "<tr><td>2015-12-22</td><td>NULL</td><td>7886</td></tr>",
                            "<tr><td>2015-12-23</td><td>NULL</td><td>6732</td></tr>",
                            "<tr><td>2015-12-24</td><td>NULL</td><td>7792</td></tr>",
                            "<tr><td>2015-12-25</td><td>NULL</td><td>7882</td></tr>",
                            "<tr><td>2015-12-26</td><td>NULL</td><td>7052</td></tr>",
                            "<tr><td>2015-12-27</td><td>NULL</td><td>6040</td></tr>",
                            "<tr><td>2015-12-28</td><td>NULL</td><td>7072</td></tr>",
                            "<tr><td>2015-12-29</td><td>NULL</td><td>7314</td></tr>",
                            "<tr><td>2015-12-30</td><td>NULL</td><td>8888</td></tr>",
                            "<tr><td>2015-12-31</td><td>NULL</td><td>8839</td></tr>",
                            "<tr><td>2016-01-01</td><td>NULL</td><td>7872</td></tr>",
                            "<tr><td>2016-01-02</td><td>NULL</td><td>6839</td></tr>",
                            "<tr><td>2016-01-03</td><td>NULL</td><td>7278</td></tr>",
                            "<tr><td>2016-01-04</td><td>NULL</td><td>7437</td></tr>",
                            "<tr><td>2016-01-05</td><td>NULL</td><td>7113</td></tr>",
                            "<tr><td>2016-01-06</td><td>NULL</td><td>7993</td></tr>",
                            "<tr><td>2016-01-07</td><td>NULL</td><td>7960</td></tr>",
                            "<tr><td>2016-01-08</td><td>NULL</td><td>7796</td></tr>",
                            "<tr><td>2016-01-09</td><td>NULL</td><td>7117</td></tr>",
                            "<tr><td>2016-01-10</td><td>NULL</td><td>6807</td></tr>",
                            "<tr><td>2016-01-11</td><td>NULL</td><td>10174</td></tr>",
                            "<tr><td>2016-01-12</td><td>NULL</td><td>9251</td></tr>",
                            "<tr><td>2016-01-13</td><td>NULL</td><td>7565</td></tr>",
                            "<tr><td>2016-01-14</td><td>NULL</td><td>7088</td></tr>",
                            "<tr><td>2016-01-15</td><td>NULL</td><td>8296</td></tr>",
                            "<tr><td>2016-01-16</td><td>NULL</td><td>7880</td></tr>",
                            "<tr><td>2016-01-17</td><td>NULL</td><td>7094</td></tr>",
                            "<tr><td>2016-01-18</td><td>NULL</td><td>8829</td></tr>",
                            "<tr><td>2016-01-19</td><td>NULL</td><td>8395</td></tr>",
                            "<tr><td>2016-01-20</td><td>NULL</td><td>6004</td></tr>",
                            "<tr><td>2016-01-21</td><td>NULL</td><td>6742</td></tr>",
                            "<tr><td>2016-01-22</td><td>NULL</td><td>5712</td></tr>",
                            "<tr><td>2016-01-23</td><td>NULL</td><td>6983</td></tr>",
                            "<tr><td>2016-01-24</td><td>NULL</td><td>8124</td></tr>",
                            "<tr><td>2016-01-25</td><td>NULL</td><td>8889</td></tr>",
                            "<tr><td>2016-01-26</td><td>NULL</td><td>8271</td></tr>",
                            "<tr><td>2016-01-27</td><td>NULL</td><td>8122</td></tr>",
                            "<tr><td>2016-01-28</td><td>NULL</td><td>8275</td></tr>",
                            "<tr><td>2016-01-29</td><td>NULL</td><td>8366</td></tr>",
                            "<tr><td>2016-01-30</td><td>NULL</td><td>7898</td></tr>",
                            "<tr><td>2016-01-31</td><td>NULL</td><td>8598</td></tr>",
                            "<tr><td>2016-02-01</td><td>NULL</td><td>7880</td></tr>",
                            "<tr><td>2016-02-02</td><td>NULL</td><td>8286</td></tr>",
                            "<tr><td>2016-02-03</td><td>NULL</td><td>7916</td></tr>",
                            "<tr><td>2016-02-04</td><td>NULL</td><td>11494</td></tr>",
                            "<tr><td>2016-02-05</td><td>NULL</td><td>9729</td></tr>",
                            "<tr><td>2016-02-06</td><td>NULL</td><td>7379</td></tr>",
                            "<tr><td>2016-02-07</td><td>NULL</td><td>8235</td></tr>",
                            "<tr><td>2016-02-08</td><td>NULL</td><td>8827</td></tr>",
                            "<tr><td>2016-02-09</td><td>NULL</td><td>6196</td></tr>",
                            "<tr><td>2016-02-10</td><td>NULL</td><td>9519</td></tr>",
                            "<tr><td>2016-02-11</td><td>NULL</td><td>6694</td></tr>",
                            "<tr><td>2016-02-12</td><td>NULL</td><td>7816</td></tr>",
                            "<tr><td>2016-02-13</td><td>NULL</td><td>9034</td></tr>",
                            "<tr><td>2016-02-14</td><td>NULL</td><td>8598</td></tr>",
                            "<tr><td>2016-02-15</td><td>NULL</td><td>7971</td></tr>",
                            "<tr><td>2016-02-16</td><td>NULL</td><td>5896</td></tr>",
                            "<tr><td>2016-02-17</td><td>NULL</td><td>9264</td></tr>",
                            "<tr><td>2016-02-18</td><td>NULL</td><td>6034</td></tr>",
                            "<tr><td>2016-02-19</td><td>NULL</td><td>8009</td></tr>",
                            "<tr><td>2016-02-20</td><td>NULL</td><td>6725</td></tr>",
                            "<tr><td>2016-02-21</td><td>NULL</td><td>9503</td></tr>",
                            "<tr><td>2016-02-22</td><td>NULL</td><td>7945</td></tr>",
                            "<tr><td>2016-02-23</td><td>NULL</td><td>8947</td></tr>",
                            "<tr><td>2016-02-24</td><td>NULL</td><td>7553</td></tr>",
                            "<tr><td>2016-02-25</td><td>NULL</td><td>9071</td></tr>",
                            "<tr><td>2016-02-26</td><td>NULL</td><td>6557</td></tr>",
                            "<tr><td>2016-02-27</td><td>NULL</td><td>8642</td></tr>",
                            "<tr><td>2016-02-28</td><td>NULL</td><td>9839</td></tr>",
                            "<tr><td>2016-02-29</td><td>NULL</td><td>6172</td></tr>",
                            "<tr><td>2016-03-01</td><td>NULL</td><td>7830</td></tr>",
                            "<tr><td>2016-03-02</td><td>NULL</td><td>8754</td></tr>",
                            "<tr><td>2016-03-03</td><td>NULL</td><td>8768</td></tr>",
                            "<tr><td>2016-03-04</td><td>NULL</td><td>8698</td></tr>",
                            "<tr><td>2016-03-05</td><td>NULL</td><td>7642</td></tr>",
                            "<tr><td>2016-03-06</td><td>NULL</td><td>7725</td></tr>",
                            "<tr><td>2016-03-07</td><td>NULL</td><td>7855</td></tr>",
                            "<tr><td>2016-03-08</td><td>NULL</td><td>7640</td></tr>",
                            "<tr><td>2016-03-09</td><td>NULL</td><td>8760</td></tr>",
                            "<tr><td>2016-03-10</td><td>NULL</td><td>8624</td></tr>",
                            "<tr><td>2016-03-11</td><td>NULL</td><td>9322</td></tr>",
                            "<tr><td>2016-03-12</td><td>NULL</td><td>9218</td></tr>",
                            "<tr><td>2016-03-13</td><td>NULL</td><td>7533</td></tr>",
                            "<tr><td>2016-03-14</td><td>NULL</td><td>8230</td></tr>",
                            "<tr><td>2016-03-15</td><td>NULL</td><td>8275</td></tr>",
                            "<tr><td>2016-03-16</td><td>NULL</td><td>7636</td></tr>",
                            "<tr><td>2016-03-17</td><td>NULL</td><td>7243</td></tr>",
                            "<tr><td>2016-03-18</td><td>NULL</td><td>6535</td></tr>",
                            "<tr><td>2016-03-19</td><td>NULL</td><td>8196</td></tr>",
                            "<tr><td>2016-03-20</td><td>NULL</td><td>7846</td></tr>",
                            "<tr><td>2016-03-21</td><td>NULL</td><td>8495</td></tr>",
                            "<tr><td>2016-03-22</td><td>NULL</td><td>9491</td></tr>",
                            "<tr><td>2016-03-23</td><td>NULL</td><td>9364</td></tr>",
                            "<tr><td>2016-03-24</td><td>NULL</td><td>6299</td></tr>",
                            "<tr><td>2016-03-25</td><td>NULL</td><td>8254</td></tr>",
                            "<tr><td>2016-03-26</td><td>NULL</td><td>8854</td></tr>",
                            "<tr><td>2016-03-27</td><td>NULL</td><td>7206</td></tr>",
                            "<tr><td>2016-03-28</td><td>NULL</td><td>8769</td></tr>",
                            "<tr><td>2016-03-29</td><td>NULL</td><td>7919</td></tr>",
                            "<tr><td>2016-03-30</td><td>NULL</td><td>8171</td></tr>",
                            "<tr><td>2016-03-31</td><td>NULL</td><td>7505</td></tr>",
                            "<tr><td>2016-04-01</td><td>NULL</td><td>10156</td></tr>",
                            "<tr><td>2016-04-02</td><td>NULL</td><td>10802</td></tr>",
                            "<tr><td>2016-04-03</td><td>NULL</td><td>8387</td></tr>",
                            "<tr><td>2016-04-04</td><td>NULL</td><td>6439</td></tr>",
                            "<tr><td>2016-04-05</td><td>NULL</td><td>9269</td></tr>",
                            "<tr><td>2016-04-06</td><td>NULL</td><td>8639</td></tr>",
                            "<tr><td>2016-04-07</td><td>NULL</td><td>10007</td></tr>",
                            "<tr><td>2016-04-08</td><td>NULL</td><td>8218</td></tr>",
                            "<tr><td>2016-04-09</td><td>NULL</td><td>9421</td></tr>",
                            "<tr><td>2016-04-10</td><td>NULL</td><td>7116</td></tr>",
                            "<tr><td>2016-04-11</td><td>NULL</td><td>7622</td></tr>",
                            "<tr><td>2016-04-12</td><td>NULL</td><td>7125</td></tr>",
                            "<tr><td>2016-04-13</td><td>NULL</td><td>8958</td></tr>",
                            "<tr><td>2016-04-14</td><td>NULL</td><td>8764</td></tr>",
                            "<tr><td>2016-04-15</td><td>NULL</td><td>8485</td></tr>",
                            "<tr><td>2016-04-16</td><td>NULL</td><td>8173</td></tr>",
                            "<tr><td>2016-04-17</td><td>NULL</td><td>8363</td></tr>",
                            "<tr><td>2016-04-18</td><td>NULL</td><td>7206</td></tr>",
                            "<tr><td>2016-04-19</td><td>NULL</td><td>8610</td></tr>",
                            "<tr><td>2016-04-20</td><td>NULL</td><td>7430</td></tr>",
                            "<tr><td>2016-04-21</td><td>NULL</td><td>7180</td></tr>",
                            "<tr><td>2016-04-22</td><td>NULL</td><td>9839</td></tr>",
                            "<tr><td>2016-04-23</td><td>NULL</td><td>7742</td></tr>",
                            "<tr><td>2016-04-24</td><td>NULL</td><td>10659</td></tr>",
                            "<tr><td>2016-04-25</td><td>NULL</td><td>7045</td></tr>",
                            "<tr><td>2016-04-26</td><td>NULL</td><td>7427</td></tr>",
                            "<tr><td>2016-04-27</td><td>NULL</td><td>7036</td></tr>",
                            "<tr><td>2016-04-28</td><td>NULL</td><td>6234</td></tr>",
                            "<tr><td>2016-04-29</td><td>NULL</td><td>7720</td></tr>",
                            "<tr><td>2016-04-30</td><td>NULL</td><td>7225</td></tr>",
                            "<tr><td>2016-05-01</td><td>NULL</td><td>7082</td></tr>",
                            "<tr><td>2016-05-02</td><td>NULL</td><td>7021</td></tr>",
                            "<tr><td>2016-05-03</td><td>NULL</td><td>7829</td></tr>",
                            "<tr><td>2016-05-04</td><td>NULL</td><td>9262</td></tr>",
                            "<tr><td>2016-05-05</td><td>NULL</td><td>7784</td></tr>",
                            "<tr><td>2016-05-06</td><td>NULL</td><td>10054</td></tr>",
                            "<tr><td>2016-05-07</td><td>NULL</td><td>9750</td></tr>",
                            "<tr><td>2016-05-08</td><td>NULL</td><td>8206</td></tr>",
                            "<tr><td>2016-05-09</td><td>NULL</td><td>8045</td></tr>",
                            "<tr><td>2016-05-10</td><td>NULL</td><td>8098</td></tr>",
                            "<tr><td>2016-05-11</td><td>NULL</td><td>6570</td></tr>",
                            "<tr><td>2016-05-12</td><td>NULL</td><td>6694</td></tr>",
                            "<tr><td>2016-05-13</td><td>NULL</td><td>6897</td></tr>",
                            "<tr><td>2016-05-14</td><td>NULL</td><td>6509</td></tr>",
                            "<tr><td>2016-05-15</td><td>NULL</td><td>8586</td></tr>",
                            "<tr><td>2016-05-16</td><td>NULL</td><td>8626</td></tr>",
                            "<tr><td>2016-05-17</td><td>NULL</td><td>7661</td></tr>",
                            "<tr><td>2016-05-18</td><td>NULL</td><td>9481</td></tr>",
                            "<tr><td>2016-05-19</td><td>NULL</td><td>8609</td></tr>",
                            "<tr><td>2016-05-20</td><td>NULL</td><td>7960</td></tr>",
                            "<tr><td>2016-05-21</td><td>NULL</td><td>7492</td></tr>",
                            "<tr><td>2016-05-22</td><td>NULL</td><td>8199</td></tr>",
                            "<tr><td>2016-05-23</td><td>NULL</td><td>6974</td></tr>",
                            "<tr><td>2016-05-24</td><td>NULL</td><td>7579</td></tr>",
                            "<tr><td>2016-05-25</td><td>NULL</td><td>8950</td></tr>",
                            "<tr><td>2016-05-26</td><td>NULL</td><td>7645</td></tr>",
                            "<tr><td>2016-05-27</td><td>NULL</td><td>8105</td></tr>",
                            "<tr><td>2016-05-28</td><td>NULL</td><td>8416</td></tr>",
                            "<tr><td>2016-05-29</td><td>NULL</td><td>7634</td></tr>",
                            "<tr><td>2016-05-30</td><td>NULL</td><td>6726</td></tr>",
                            "<tr><td>2016-05-31</td><td>NULL</td><td>6754</td></tr>",
                            "<tr><td>2016-06-01</td><td>NULL</td><td>8583</td></tr>",
                            "<tr><td>2016-06-02</td><td>NULL</td><td>9563</td></tr>",
                            "<tr><td>2016-06-03</td><td>NULL</td><td>8675</td></tr>",
                            "<tr><td>2016-06-04</td><td>NULL</td><td>8860</td></tr>",
                            "<tr><td>2016-06-05</td><td>NULL</td><td>7427</td></tr>",
                            "<tr><td>2016-06-06</td><td>NULL</td><td>8686</td></tr>",
                            "<tr><td>2016-06-07</td><td>NULL</td><td>6375</td></tr>",
                            "<tr><td>2016-06-08</td><td>NULL</td><td>7805</td></tr>",
                            "<tr><td>2016-06-09</td><td>NULL</td><td>9134</td></tr>",
                            "<tr><td>2016-06-10</td><td>NULL</td><td>7287</td></tr>",
                            "<tr><td>2016-06-11</td><td>NULL</td><td>7281</td></tr>",
                            "<tr><td>2016-06-12</td><td>NULL</td><td>9990</td></tr>",
                            "<tr><td>2016-06-13</td><td>NULL</td><td>6343</td></tr>",
                            "<tr><td>2016-06-14</td><td>NULL</td><td>7466</td></tr>",
                            "<tr><td>2016-06-15</td><td>NULL</td><td>8032</td></tr>",
                            "<tr><td>2016-06-16</td><td>NULL</td><td>8740</td></tr>",
                            "<tr><td>2016-06-17</td><td>NULL</td><td>7877</td></tr>",
                            "<tr><td>2016-06-18</td><td>NULL</td><td>6117</td></tr>",
                            "<tr><td>2016-06-19</td><td>NULL</td><td>8252</td></tr>",
                            "<tr><td>2016-06-20</td><td>NULL</td><td>6758</td></tr>",
                            "<tr><td>2016-06-21</td><td>NULL</td><td>9122</td></tr>",
                            "<tr><td>2016-06-22</td><td>NULL</td><td>7661</td></tr>",
                            "<tr><td>2016-06-23</td><td>NULL</td><td>7942</td></tr>",
                            "<tr><td>2016-06-24</td><td>NULL</td><td>9225</td></tr>",
                            "<tr><td>2016-06-25</td><td>NULL</td><td>10030</td></tr>",
                            "<tr><td>2016-06-26</td><td>NULL</td><td>9413</td></tr>",
                            "<tr><td>2016-06-27</td><td>NULL</td><td>6501</td></tr>",
                            "<tr><td>2016-06-28</td><td>NULL</td><td>6926</td></tr>",
                            "<tr><td>2016-06-29</td><td>NULL</td><td>9153</td></tr>",
                            "<tr><td>2016-06-30</td><td>NULL</td><td>8663</td></tr>",
                            "<tr><td>2016-07-01</td><td>NULL</td><td>8404</td></tr>",
                            "<tr><td>2016-07-02</td><td>NULL</td><td>8599</td></tr>",
                            "<tr><td>2016-07-03</td><td>NULL</td><td>9976</td></tr>",
                            "<tr><td>2016-07-04</td><td>NULL</td><td>6626</td></tr>",
                            "<tr><td>2016-07-05</td><td>NULL</td><td>7282</td></tr>",
                            "<tr><td>2016-07-06</td><td>NULL</td><td>7626</td></tr>",
                            "<tr><td>2016-07-07</td><td>NULL</td><td>8358</td></tr>",
                            "<tr><td>2016-07-08</td><td>NULL</td><td>6651</td></tr>",
                            "<tr><td>2016-07-09</td><td>NULL</td><td>8469</td></tr>",
                            "<tr><td>2016-07-10</td><td>NULL</td><td>7743</td></tr>",
                            "<tr><td>2016-07-11</td><td>NULL</td><td>8072</td></tr>",
                            "<tr><td>2016-07-12</td><td>NULL</td><td>7583</td></tr>",
                            "<tr><td>2016-07-13</td><td>NULL</td><td>6675</td></tr>",
                            "<tr><td>2016-07-14</td><td>NULL</td><td>7087</td></tr>",
                            "<tr><td>2016-07-15</td><td>NULL</td><td>8893</td></tr>",
                            "<tr><td>2016-07-16</td><td>NULL</td><td>7596</td></tr>",
                            "<tr><td>2016-07-17</td><td>NULL</td><td>9101</td></tr>",
                            "<tr><td>2016-07-18</td><td>NULL</td><td>7080</td></tr>",
                            "<tr><td>2016-07-19</td><td>NULL</td><td>8042</td></tr>",
                            "<tr><td>2016-07-20</td><td>NULL</td><td>6197</td></tr>",
                            "<tr><td>2016-07-21</td><td>NULL</td><td>7124</td></tr>",
                            "<tr><td>2016-07-22</td><td>NULL</td><td>7865</td></tr>",
                            "<tr><td>2016-07-23</td><td>NULL</td><td>7737</td></tr>",
                            "<tr><td>2016-07-24</td><td>NULL</td><td>9137</td></tr>",
                            "<tr><td>2016-07-25</td><td>NULL</td><td>8069</td></tr>",
                            "<tr><td>2016-07-26</td><td>NULL</td><td>9834</td></tr>",
                            "<tr><td>2016-07-27</td><td>NULL</td><td>7501</td></tr>",
                            "<tr><td>2016-07-28</td><td>NULL</td><td>6065</td></tr>",
                            "<tr><td>2016-07-29</td><td>NULL</td><td>7782</td></tr>",
                            "<tr><td>2016-07-30</td><td>NULL</td><td>6468</td></tr>",
                            "<tr><td>2016-07-31</td><td>NULL</td><td>6131</td></tr>",
                            "<tr><td>2016-08-01</td><td>NULL</td><td>7552</td></tr>",
                            "<tr><td>2016-08-02</td><td>NULL</td><td>7261</td></tr>",
                            "<tr><td>2016-08-03</td><td>NULL</td><td>8360</td></tr>",
                            "<tr><td>2016-08-04</td><td>NULL</td><td>8584</td></tr>",
                            "<tr><td>2016-08-05</td><td>NULL</td><td>8052</td></tr>",
                            "<tr><td>2016-08-06</td><td>NULL</td><td>9912</td></tr>",
                            "<tr><td>2016-08-07</td><td>NULL</td><td>8412</td></tr>",
                            "<tr><td>2016-08-08</td><td>NULL</td><td>7167</td></tr>",
                            "<tr><td>2016-08-09</td><td>NULL</td><td>7626</td></tr>",
                            "<tr><td>2016-08-10</td><td>NULL</td><td>9935</td></tr>",
                            "<tr><td>2016-08-11</td><td>NULL</td><td>6026</td></tr>",
                            "<tr><td>2016-08-12</td><td>NULL</td><td>8376</td></tr>",
                            "<tr><td>2016-08-13</td><td>NULL</td><td>9530</td></tr>",
                            "<tr><td>2016-08-14</td><td>NULL</td><td>7370</td></tr>",
                            "<tr><td>2016-08-15</td><td>NULL</td><td>8174</td></tr>",
                            "<tr><td>2016-08-16</td><td>NULL</td><td>9542</td></tr>",
                            "<tr><td>2016-08-17</td><td>NULL</td><td>7360</td></tr>",
                            "<tr><td>2016-08-18</td><td>NULL</td><td>7407</td></tr>",
                            "<tr><td>2016-08-19</td><td>NULL</td><td>7285</td></tr>",
                            "<tr><td>2016-08-20</td><td>NULL</td><td>8351</td></tr>",
                            "<tr><td>2016-08-21</td><td>NULL</td><td>8486</td></tr>",
                            "<tr><td>2016-08-22</td><td>NULL</td><td>5850</td></tr>",
                            "<tr><td>2016-08-23</td><td>NULL</td><td>9007</td></tr>",
                            "<tr><td>2016-08-24</td><td>NULL</td><td>8797</td></tr>",
                            "<tr><td>2016-08-25</td><td>NULL</td><td>9622</td></tr>",
                            "<tr><td>2016-08-26</td><td>NULL</td><td>8493</td></tr>",
                            "<tr><td>2016-08-27</td><td>NULL</td><td>7804</td></tr>",
                            "<tr><td>2016-08-28</td><td>NULL</td><td>7352</td></tr>",
                            "<tr><td>2016-08-29</td><td>NULL</td><td>6990</td></tr>",
                            "<tr><td>2016-08-30</td><td>NULL</td><td>6823</td></tr>",
                            "<tr><td>2016-08-31</td><td>NULL</td><td>9122</td></tr>",
                            "<tr><td>2016-09-01</td><td>NULL</td><td>9418</td></tr>",
                            "<tr><td>2016-09-02</td><td>NULL</td><td>9789</td></tr>",
                            "<tr><td>2016-09-03</td><td>NULL</td><td>8281</td></tr>",
                            "<tr><td>2016-09-04</td><td>NULL</td><td>6894</td></tr>",
                            "<tr><td>2016-09-05</td><td>NULL</td><td>8104</td></tr>",
                            "<tr><td>2016-09-06</td><td>NULL</td><td>7343</td></tr>",
                            "<tr><td>2016-09-07</td><td>NULL</td><td>9634</td></tr>",
                            "<tr><td>2016-09-08</td><td>NULL</td><td>9490</td></tr>",
                            "<tr><td>2016-09-09</td><td>NULL</td><td>7390</td></tr>",
                            "<tr><td>2016-09-10</td><td>NULL</td><td>8274</td></tr>",
                            "<tr><td>2016-09-11</td><td>NULL</td><td>7461</td></tr>",
                            "<tr><td>2016-09-12</td><td>NULL</td><td>8104</td></tr>",
                            "<tr><td>2016-09-13</td><td>NULL</td><td>7283</td></tr>",
                            "<tr><td>2016-09-14</td><td>NULL</td><td>6631</td></tr>",
                            "<tr><td>2016-09-15</td><td>NULL</td><td>8121</td></tr>",
                            "<tr><td>2016-09-16</td><td>NULL</td><td>7799</td></tr>",
                            "<tr><td>2016-09-17</td><td>NULL</td><td>6316</td></tr>",
                            "<tr><td>2016-09-18</td><td>NULL</td><td>6844</td></tr>",
                            "<tr><td>2016-09-19</td><td>NULL</td><td>7678</td></tr>",
                            "<tr><td>2016-09-20</td><td>NULL</td><td>8818</td></tr>",
                            "<tr><td>2016-09-21</td><td>NULL</td><td>7450</td></tr>",
                            "<tr><td>2016-09-22</td><td>NULL</td><td>7237</td></tr>",
                            "<tr><td>2016-09-23</td><td>NULL</td><td>9007</td></tr>",
                            "<tr><td>2016-09-24</td><td>NULL</td><td>5200</td></tr>",
                            "<tr><td>2016-09-25</td><td>NULL</td><td>7405</td></tr>",
                            "<tr><td>2016-09-26</td><td>NULL</td><td>7699</td></tr>",
                            "<tr><td>2016-09-27</td><td>NULL</td><td>6772</td></tr>",
                            "<tr><td>2016-09-28</td><td>NULL</td><td>7265</td></tr>",
                            "<tr><td>2016-09-29</td><td>NULL</td><td>8256</td></tr>",
                            "<tr><td>2016-09-30</td><td>NULL</td><td>9404</td></tr>",
                            "<tr><td>2016-10-01</td><td>NULL</td><td>6911</td></tr>",
                            "<tr><td>2016-10-02</td><td>NULL</td><td>7405</td></tr>",
                            "<tr><td>2016-10-03</td><td>NULL</td><td>9037</td></tr>",
                            "<tr><td>2016-10-04</td><td>NULL</td><td>7447</td></tr>",
                            "<tr><td>2016-10-05</td><td>NULL</td><td>8144</td></tr>",
                            "<tr><td>2016-10-06</td><td>NULL</td><td>8740</td></tr>",
                            "<tr><td>2016-10-07</td><td>NULL</td><td>7528</td></tr>",
                            "<tr><td>2016-10-08</td><td>NULL</td><td>9200</td></tr>",
                            "<tr><td>2016-10-09</td><td>NULL</td><td>9661</td></tr>",
                            "<tr><td>2016-10-10</td><td>NULL</td><td>8408</td></tr>",
                            "<tr><td>2016-10-11</td><td>NULL</td><td>10707</td></tr>",
                            "<tr><td>2016-10-12</td><td>NULL</td><td>8974</td></tr>",
                            "<tr><td>2016-10-13</td><td>NULL</td><td>8307</td></tr>",
                            "<tr><td>2016-10-14</td><td>NULL</td><td>8673</td></tr>",
                            "<tr><td>2016-10-15</td><td>NULL</td><td>8094</td></tr>",
                            "<tr><td>2016-10-16</td><td>NULL</td><td>9071</td></tr>",
                            "<tr><td>2016-10-17</td><td>NULL</td><td>6886</td></tr>",
                            "<tr><td>2016-10-18</td><td>NULL</td><td>8426</td></tr>",
                            "<tr><td>2016-10-19</td><td>NULL</td><td>8583</td></tr>",
                            "<tr><td>2016-10-20</td><td>NULL</td><td>6795</td></tr>",
                            "<tr><td>2016-10-21</td><td>NULL</td><td>9146</td></tr>",
                            "<tr><td>2016-10-22</td><td>NULL</td><td>8452</td></tr>",
                            "<tr><td>2016-10-23</td><td>NULL</td><td>6809</td></tr>",
                            "<tr><td>2016-10-24</td><td>NULL</td><td>7615</td></tr>",
                            "<tr><td>2016-10-25</td><td>NULL</td><td>9065</td></tr>",
                            "<tr><td>2016-10-26</td><td>NULL</td><td>6910</td></tr>",
                            "<tr><td>2016-10-27</td><td>NULL</td><td>7252</td></tr>",
                            "<tr><td>2016-10-28</td><td>NULL</td><td>8065</td></tr>",
                            "<tr><td>2016-10-29</td><td>NULL</td><td>8200</td></tr>",
                            "<tr><td>2016-10-30</td><td>NULL</td><td>7213</td></tr>",
                            "<tr><td>2016-10-31</td><td>NULL</td><td>7984</td></tr>",
                            "<tr><td>2016-11-01</td><td>NULL</td><td>8707</td></tr>",
                            "<tr><td>2016-11-02</td><td>NULL</td><td>8188</td></tr>",
                            "<tr><td>2016-11-03</td><td>NULL</td><td>8547</td></tr>",
                            "<tr><td>2016-11-04</td><td>NULL</td><td>10060</td></tr>",
                            "<tr><td>2016-11-05</td><td>NULL</td><td>7456</td></tr>",
                            "<tr><td>2016-11-06</td><td>NULL</td><td>9627</td></tr>",
                            "<tr><td>2016-11-07</td><td>NULL</td><td>8093</td></tr>",
                            "<tr><td>2016-11-08</td><td>NULL</td><td>8859</td></tr>",
                            "<tr><td>2016-11-09</td><td>NULL</td><td>7344</td></tr>",
                            "<tr><td>2016-11-10</td><td>NULL</td><td>7604</td></tr>",
                            "<tr><td>2016-11-11</td><td>NULL</td><td>7943</td></tr>",
                            "<tr><td>2016-11-12</td><td>NULL</td><td>9046</td></tr>",
                            "<tr><td>2016-11-13</td><td>NULL</td><td>8253</td></tr>",
                            "<tr><td>2016-11-14</td><td>NULL</td><td>7132</td></tr>",
                            "<tr><td>2016-11-15</td><td>NULL</td><td>8133</td></tr>",
                            "<tr><td>2016-11-16</td><td>NULL</td><td>6960</td></tr>",
                            "<tr><td>2016-11-17</td><td>NULL</td><td>5928</td></tr>",
                            "<tr><td>2016-11-18</td><td>NULL</td><td>8407</td></tr>",
                            "<tr><td>2016-11-19</td><td>NULL</td><td>9253</td></tr>",
                            "<tr><td>2016-11-20</td><td>NULL</td><td>8313</td></tr>",
                            "<tr><td>2016-11-21</td><td>NULL</td><td>7221</td></tr>",
                            "<tr><td>2016-11-22</td><td>NULL</td><td>8009</td></tr>",
                            "<tr><td>2016-11-23</td><td>NULL</td><td>6459</td></tr>",
                            "<tr><td>2016-11-24</td><td>NULL</td><td>6405</td></tr>",
                            "<tr><td>2016-11-25</td><td>NULL</td><td>9866</td></tr>",
                            "<tr><td>2016-11-26</td><td>NULL</td><td>6659</td></tr>",
                            "<tr><td>2016-11-27</td><td>NULL</td><td>9592</td></tr>",
                            "<tr><td>2016-11-28</td><td>NULL</td><td>8280</td></tr>",
                            "<tr><td>2016-11-29</td><td>NULL</td><td>8118</td></tr>",
                            "<tr><td>2016-11-30</td><td>NULL</td><td>6890</td></tr>",
                            "<tr><td>2016-12-01</td><td>NULL</td><td>8080</td></tr>",
                            "<tr><td>2016-12-02</td><td>NULL</td><td>6514</td></tr>",
                            "<tr><td>2016-12-03</td><td>NULL</td><td>7565</td></tr>",
                            "<tr><td>2016-12-04</td><td>NULL</td><td>6715</td></tr>",
                            "<tr><td>2016-12-05</td><td>NULL</td><td>6582</td></tr>",
                            "<tr><td>2016-12-06</td><td>NULL</td><td>7240</td></tr>",
                            "<tr><td>2016-12-07</td><td>NULL</td><td>6700</td></tr>",
                            "<tr><td>2016-12-08</td><td>NULL</td><td>7303</td></tr>",
                            "<tr><td>2016-12-09</td><td>NULL</td><td>8693</td></tr>",
                            "<tr><td>2016-12-10</td><td>NULL</td><td>9593</td></tr>",
                            "<tr><td>2016-12-11</td><td>NULL</td><td>6280</td></tr>",
                            "<tr><td>2016-12-12</td><td>NULL</td><td>8588</td></tr>",
                            "<tr><td>2016-12-13</td><td>NULL</td><td>7089</td></tr>",
                            "<tr><td>2016-12-14</td><td>NULL</td><td>8136</td></tr>",
                            "<tr><td>2016-12-15</td><td>NULL</td><td>6714</td></tr>",
                            "<tr><td>2016-12-16</td><td>NULL</td><td>7849</td></tr>",
                            "<tr><td>2016-12-17</td><td>NULL</td><td>7502</td></tr>",
                            "<tr><td>2016-12-18</td><td>NULL</td><td>7040</td></tr>",
                            "<tr><td>2016-12-19</td><td>NULL</td><td>8300</td></tr>",
                            "<tr><td>2016-12-20</td><td>NULL</td><td>7739</td></tr>",
                            "<tr><td>2016-12-21</td><td>NULL</td><td>7536</td></tr>",
                            "<tr><td>2016-12-22</td><td>NULL</td><td>8369</td></tr>",
                            "<tr><td>2016-12-23</td><td>NULL</td><td>7424</td></tr>",
                            "<tr><td>2016-12-24</td><td>NULL</td><td>7305</td></tr>",
                            "<tr><td>2016-12-25</td><td>NULL</td><td>7911</td></tr>",
                            "<tr><td>2016-12-26</td><td>NULL</td><td>6891</td></tr>",
                            "<tr><td>2016-12-27</td><td>NULL</td><td>5272</td></tr>",
                            "<tr><td>2016-12-28</td><td>NULL</td><td>9470</td></tr>",
                            "<tr><td>2016-12-29</td><td>NULL</td><td>9337</td></tr>",
                            "<tr><td>2016-12-30</td><td>NULL</td><td>9107</td></tr>",
                            "<tr><td>2016-12-31</td><td>NULL</td><td>7864</td></tr>",
                            "<tr><td>2017-01-01</td><td>NULL</td><td>7782</td></tr>",
                            "<tr><td>2017-01-02</td><td>NULL</td><td>8908</td></tr>",
                            "<tr><td>2017-01-03</td><td>NULL</td><td>6733</td></tr>",
                            "<tr><td>2017-01-04</td><td>NULL</td><td>9803</td></tr>",
                            "<tr><td>2017-01-05</td><td>NULL</td><td>7038</td></tr>",
                            "<tr><td>2017-01-06</td><td>NULL</td><td>10521</td></tr>",
                            "<tr><td>2017-01-07</td><td>NULL</td><td>7636</td></tr>",
                            "<tr><td>2017-01-08</td><td>NULL</td><td>8367</td></tr>",
                            "<tr><td>2017-01-09</td><td>NULL</td><td>8397</td></tr>",
                            "<tr><td>2017-01-10</td><td>NULL</td><td>8992</td></tr>",
                            "<tr><td>2017-01-11</td><td>NULL</td><td>7197</td></tr>",
                            "<tr><td>2017-01-12</td><td>NULL</td><td>7024</td></tr>",
                            "<tr><td>2017-01-13</td><td>NULL</td><td>7053</td></tr>",
                            "<tr><td>2017-01-14</td><td>NULL</td><td>6863</td></tr>",
                            "<tr><td>2017-01-15</td><td>NULL</td><td>7510</td></tr>",
                            "<tr><td>2017-01-16</td><td>NULL</td><td>7000</td></tr>",
                            "<tr><td>2017-01-17</td><td>NULL</td><td>8969</td></tr>",
                            "<tr><td>2017-01-18</td><td>NULL</td><td>8358</td></tr>",
                            "<tr><td>2017-01-19</td><td>NULL</td><td>6719</td></tr>",
                            "<tr><td>2017-01-20</td><td>NULL</td><td>6416</td></tr>",
                            "<tr><td>2017-01-21</td><td>NULL</td><td>8263</td></tr>",
                            "<tr><td>2017-01-22</td><td>NULL</td><td>7580</td></tr>",
                            "<tr><td>2017-01-23</td><td>NULL</td><td>8039</td></tr>",
                            "<tr><td>2017-01-24</td><td>NULL</td><td>9032</td></tr>",
                            "<tr><td>2017-01-25</td><td>NULL</td><td>6831</td></tr>",
                            "<tr><td>2017-01-26</td><td>NULL</td><td>7608</td></tr>",
                            "<tr><td>2017-01-27</td><td>NULL</td><td>6456</td></tr>",
                            "<tr><td>2017-01-28</td><td>NULL</td><td>7355</td></tr>",
                            "<tr><td>2017-01-29</td><td>NULL</td><td>6769</td></tr>",
                            "<tr><td>2017-01-30</td><td>NULL</td><td>6523</td></tr>",
                            "<tr><td>2017-01-31</td><td>NULL</td><td>7978</td></tr>",
                            "<tr><td>2017-02-01</td><td>NULL</td><td>8595</td></tr>",
                            "<tr><td>2017-02-02</td><td>NULL</td><td>7718</td></tr>",
                            "<tr><td>2017-02-03</td><td>NULL</td><td>7470</td></tr>",
                            "<tr><td>2017-02-04</td><td>NULL</td><td>9389</td></tr>",
                            "<tr><td>2017-02-05</td><td>NULL</td><td>8623</td></tr>",
                            "<tr><td>2017-02-06</td><td>NULL</td><td>7225</td></tr>",
                            "<tr><td>2017-02-07</td><td>NULL</td><td>8270</td></tr>",
                            "<tr><td>2017-02-08</td><td>NULL</td><td>8944</td></tr>",
                            "<tr><td>2017-02-09</td><td>NULL</td><td>9270</td></tr>",
                            "<tr><td>2017-02-10</td><td>NULL</td><td>7790</td></tr>",
                            "<tr><td>2017-02-11</td><td>NULL</td><td>8774</td></tr>",
                            "<tr><td>2017-02-12</td><td>NULL</td><td>8856</td></tr>",
                            "<tr><td>2017-02-13</td><td>NULL</td><td>10065</td></tr>",
                            "<tr><td>2017-02-14</td><td>NULL</td><td>7555</td></tr>",
                            "<tr><td>2017-02-15</td><td>NULL</td><td>8043</td></tr>",
                            "<tr><td>2017-02-16</td><td>NULL</td><td>8476</td></tr>",
                            "<tr><td>2017-02-17</td><td>NULL</td><td>8156</td></tr>",
                            "<tr><td>2017-02-18</td><td>NULL</td><td>8227</td></tr>",
                            "<tr><td>2017-02-19</td><td>NULL</td><td>6700</td></tr>",
                            "<tr><td>2017-02-20</td><td>NULL</td><td>8481</td></tr>",
                            "<tr><td>2017-02-21</td><td>NULL</td><td>6463</td></tr>",
                            "<tr><td>2017-02-22</td><td>NULL</td><td>6147</td></tr>",
                            "<tr><td>2017-02-23</td><td>NULL</td><td>7792</td></tr>",
                            "<tr><td>2017-02-24</td><td>NULL</td><td>7718</td></tr>",
                            "<tr><td>2017-02-25</td><td>NULL</td><td>8482</td></tr>",
                            "<tr><td>2017-02-26</td><td>NULL</td><td>9843</td></tr>",
                            "<tr><td>2017-02-27</td><td>NULL</td><td>7161</td></tr>",
                            "<tr><td>2017-02-28</td><td>NULL</td><td>7373</td></tr>",
                            "<tr><td>2017-03-01</td><td>NULL</td><td>7325</td></tr>",
                            "<tr><td>2017-03-02</td><td>NULL</td><td>8203</td></tr>",
                            "<tr><td>2017-03-03</td><td>NULL</td><td>7754</td></tr>",
                            "<tr><td>2017-03-04</td><td>NULL</td><td>7684</td></tr>",
                            "<tr><td>2017-03-05</td><td>NULL</td><td>7213</td></tr>",
                            "<tr><td>2017-03-06</td><td>NULL</td><td>9517</td></tr>",
                            "<tr><td>2017-03-07</td><td>NULL</td><td>7417</td></tr>",
                            "<tr><td>2017-03-08</td><td>NULL</td><td>7114</td></tr>",
                            "<tr><td>2017-03-09</td><td>NULL</td><td>7147</td></tr>",
                            "<tr><td>2017-03-10</td><td>NULL</td><td>9208</td></tr>",
                            "<tr><td>2017-03-11</td><td>NULL</td><td>7921</td></tr>",
                            "<tr><td>2017-03-12</td><td>NULL</td><td>9264</td></tr>",
                            "<tr><td>2017-03-13</td><td>NULL</td><td>9752</td></tr>",
                            "<tr><td>2017-03-14</td><td>NULL</td><td>7482</td></tr>",
                            "<tr><td>2017-03-15</td><td>NULL</td><td>6522</td></tr>",
                            "<tr><td>2017-03-16</td><td>NULL</td><td>7320</td></tr>",
                            "<tr><td>2017-03-17</td><td>NULL</td><td>8928</td></tr>",
                            "<tr><td>2017-03-18</td><td>NULL</td><td>7231</td></tr>",
                            "<tr><td>2017-03-19</td><td>NULL</td><td>7804</td></tr>",
                            "<tr><td>2017-03-20</td><td>NULL</td><td>8488</td></tr>",
                            "<tr><td>2017-03-21</td><td>NULL</td><td>8976</td></tr>",
                            "<tr><td>2017-03-22</td><td>NULL</td><td>7254</td></tr>",
                            "<tr><td>2017-03-23</td><td>NULL</td><td>8224</td></tr>",
                            "<tr><td>2017-03-24</td><td>NULL</td><td>7993</td></tr>",
                            "<tr><td>2017-03-25</td><td>NULL</td><td>9293</td></tr>",
                            "<tr><td>2017-03-26</td><td>NULL</td><td>8360</td></tr>",
                            "<tr><td>2017-03-27</td><td>NULL</td><td>8487</td></tr>",
                            "<tr><td>2017-03-28</td><td>NULL</td><td>7498</td></tr>",
                            "<tr><td>2017-03-29</td><td>NULL</td><td>7369</td></tr>",
                            "<tr><td>2017-03-30</td><td>NULL</td><td>8129</td></tr>",
                            "<tr><td>2017-03-31</td><td>NULL</td><td>8364</td></tr>",
                            "<tr><td>2017-04-01</td><td>NULL</td><td>9044</td></tr>",
                            "<tr><td>NULL</td><td>NULL</td><td>5578316</td></tr>",
                            "</table>"
                        ]
                    }
                }
            ],
            "execution_count": 25
        },
        {
            "cell_type": "markdown",
            "source": [
                "```\n",
                "3. Hány olyan ügyfél van, aki még nem rendelt semmit?\n",
                "```\n",
                "\n",
                "1. Csoportosítsuk őket nem szerint, azon belül életkor szerint!\n",
                "2. A lista tartalmazza a részösszegeket és a végösszeget is!\n",
                "\n",
                "![](https://moodle.uni-corvinus.hu/theme/image.php/adaptable/atto_h5p/1709548862/icon)"
            ],
            "metadata": {
                "azdata_cell_guid": "d7876bb9-76d0-4d07-baed-3cb17b2f96c3"
            },
            "attachments": {}
        },
        {
            "cell_type": "code",
            "source": [
                ""
            ],
            "metadata": {
                "azdata_cell_guid": "56ec19ce-e249-4551-b2a8-f17569765acc",
                "language": "sql"
            },
            "outputs": [],
            "execution_count": null
        },
        {
            "cell_type": "markdown",
            "source": [
                "4. <span style=\"color: rgb(36, 41, 47); font-family: -apple-system, BlinkMacSystemFont, &quot;Segoe UI&quot;, Helvetica, Arial, sans-serif, &quot;Apple Color Emoji&quot;, &quot;Segoe UI Emoji&quot;; font-size: 16px;\">Készítsünk listát a megrendelt termékek legkisebb és legnagyobb egységáráról szállítási dátum, azon belül szállítási mód szerinti bontásban!</span>\n",
                "\n",
                "1. A lista csak a 2015 májusi szállításokat tartalmazza!\n",
                "2. Jelenítsük meg a részösszegeket és a végösszeget is!"
            ],
            "metadata": {
                "azdata_cell_guid": "8e7fef82-8022-49a0-8255-fc2846c2134b"
            },
            "attachments": {}
        },
        {
            "cell_type": "code",
            "source": [
                ""
            ],
            "metadata": {
                "azdata_cell_guid": "36f7b396-4a1f-45e5-8720-2302537c91bc",
                "language": "sql"
            },
            "outputs": [],
            "execution_count": null
        },
        {
            "cell_type": "markdown",
            "source": [
                "5. <span style=\"color: rgb(36, 41, 47); font-family: -apple-system, BlinkMacSystemFont, &quot;Segoe UI&quot;, Helvetica, Arial, sans-serif, &quot;Apple Color Emoji&quot;, &quot;Segoe UI Emoji&quot;; font-size: 16px;\">Készítsünk csoportot a termékek listaára alapján a következők szerint:&nbsp;<br></span> <span style=\"color: rgb(36, 41, 47); font-family: -apple-system, BlinkMacSystemFont, &quot;Segoe UI&quot;, Helvetica, Arial, sans-serif, &quot;Apple Color Emoji&quot;, &quot;Segoe UI Emoji&quot;; font-size: 16px;\">Az \"olcsó\" termékek legyenek azok, amelyek listaára 3000 alatt van.<br>&nbsp;A \"drága\" termékek legyenek az 5000 felettiek, a többi legyen \"közepes\".</span>\n",
                "\n",
                "1. Listázzuk az egyes csoportokat, és a csoportokba tartozó termékek darabszámát!\n",
                "2. A lista jelenítse meg a végösszeget is!"
            ],
            "metadata": {
                "azdata_cell_guid": "84239ca2-6b5e-49f5-9860-d44c11d6de32"
            },
            "attachments": {}
        },
        {
            "cell_type": "code",
            "source": [
                ""
            ],
            "metadata": {
                "azdata_cell_guid": "06d9a62b-9430-424b-a135-d80e675f0eb3",
                "language": "sql"
            },
            "outputs": [],
            "execution_count": null
        },
        {
            "cell_type": "markdown",
            "source": [
                "6. <span style=\"font-weight: 600; color: rgb(36, 41, 47); font-family: -apple-system, BlinkMacSystemFont, &quot;Segoe UI&quot;, Helvetica, Arial, sans-serif, &quot;Apple Color Emoji&quot;, &quot;Segoe UI Emoji&quot;; font-size: 16px;\">Készítsünk listát az ügyfelek adatairól név szerinti sorrendben.</span>\n",
                "\n",
                "1. Minden sorban jelenjen meg a sorrend szerint előző, illetve következő ügyfél neve is.\n",
                "2. Ha nincs előző vagy következő ügyfél, akkor a 'Nincs' jelenjen meg!"
            ],
            "metadata": {
                "azdata_cell_guid": "b0d15045-3c43-4f3a-b8d4-76b4f24e5546"
            },
            "attachments": {}
        },
        {
            "cell_type": "code",
            "source": [
                ""
            ],
            "metadata": {
                "azdata_cell_guid": "f2b7400d-1255-40ac-9250-4d57f9da5357",
                "language": "sql"
            },
            "outputs": [],
            "execution_count": null
        },
        {
            "cell_type": "markdown",
            "source": [
                "7. <span style=\"font-weight: 600; color: rgb(36, 41, 47); font-family: -apple-system, BlinkMacSystemFont, &quot;Segoe UI&quot;, Helvetica, Arial, sans-serif, &quot;Apple Color Emoji&quot;, &quot;Segoe UI Emoji&quot;; font-size: 16px;\">Készítsünk lekérdezést, amely megmutatja, hogy melyik termékkategóriába hány termék tartozik. A lista a kategória nevét és a darabszámot jelenítse meg.</span>\n",
                "\n",
                "1. A lista ne tartalmazzon duplikált sorokat.\n",
                "2. A feladatot partíciók segítségével oldjuk meg!"
            ],
            "metadata": {
                "azdata_cell_guid": "7ebf7ddd-1bd2-4246-815a-be8ae37e3b5b"
            },
            "attachments": {}
        },
        {
            "cell_type": "code",
            "source": [
                ""
            ],
            "metadata": {
                "azdata_cell_guid": "84b7e896-f36e-4985-88f5-e0f706494fef",
                "language": "sql"
            },
            "outputs": [],
            "execution_count": null
        },
        {
            "cell_type": "markdown",
            "source": [
                "8. <span style=\"font-weight: 600; color: rgb(36, 41, 47); font-family: -apple-system, BlinkMacSystemFont, &quot;Segoe UI&quot;, Helvetica, Arial, sans-serif, &quot;Apple Color Emoji&quot;, &quot;Segoe UI Emoji&quot;; font-size: 16px;\">Készítsünk listát a rendelési tételekről. Az egyes rendelési tételeket termékenként soroljuk be 4 osztályba a rendelés mennyisége alapján. Jelenítsük meg ezt az információt is egy új oszlopban, az oszlop neve legyen 'Mennyiségi kategória'.</span>\n",
                "\n",
                "1. A lista csak a 100 Ft feletti egységárú rendelési tételeket vegye figyelembe!"
            ],
            "metadata": {
                "azdata_cell_guid": "27a3d3dc-eafb-4a5e-b103-9f465b9eda8f"
            },
            "attachments": {}
        },
        {
            "cell_type": "code",
            "source": [
                ""
            ],
            "metadata": {
                "azdata_cell_guid": "f09edb3f-649b-4a96-958e-9e12774ae8b7",
                "language": "sql"
            },
            "outputs": [],
            "execution_count": null
        },
        {
            "cell_type": "markdown",
            "source": [
                "9. <span style=\"font-weight: 600; color: rgb(36, 41, 47); font-family: -apple-system, BlinkMacSystemFont, &quot;Segoe UI&quot;, Helvetica, Arial, sans-serif, &quot;Apple Color Emoji&quot;, &quot;Segoe UI Emoji&quot;; font-size: 16px;\">Listázzuk a termékek kódját, megnevezését, kategóriájának nevét, és listaárát.</span>\n",
                "\n",
                "1. A listát egészítsük ki két új oszloppal, amelyek a kategória legolcsóbb, illetve legdrágább termékének árát tartalmazzák.\n",
                "2. A két új oszlop létrehozásánál partíciókkal dolgozzunk!"
            ],
            "metadata": {
                "azdata_cell_guid": "f12a331a-0e26-4d3d-9c68-812316286577"
            },
            "attachments": {}
        },
        {
            "cell_type": "code",
            "source": [
                ""
            ],
            "metadata": {
                "azdata_cell_guid": "10a77fc9-e61a-46fc-a401-59720d82bc50",
                "language": "sql"
            },
            "outputs": [],
            "execution_count": null
        },
        {
            "cell_type": "markdown",
            "source": [
                "10. <span style=\"font-weight: 600; color: rgb(36, 41, 47); font-family: -apple-system, BlinkMacSystemFont, &quot;Segoe UI&quot;, Helvetica, Arial, sans-serif, &quot;Apple Color Emoji&quot;, &quot;Segoe UI Emoji&quot;; font-size: 16px;\">Készítsünk listát a rendelésekről. A lista legyen rendezve ügyfelenként (LOGIN), azon belül a rendelés dátuma szerint. A listához készítsünk sorszámozást is. A sorszám a következő formában jelenjen meg: sorszám_év_login. Pl: 1_2015_adam1</span>\n",
                "\n",
                "1. A számozás login-onként, azon belül rendelési évenként kezdődjön újra.\n",
                "2. A sorszám oszlop neve legyen Azonosító"
            ],
            "metadata": {
                "azdata_cell_guid": "9229e2b6-e200-4499-b95b-2d0222149831"
            },
            "attachments": {}
        },
        {
            "cell_type": "code",
            "source": [
                ""
            ],
            "metadata": {
                "azdata_cell_guid": "8b49ed67-28c6-4880-82a8-cd369e5bba99",
                "language": "sql"
            },
            "outputs": [],
            "execution_count": null
        },
        {
            "cell_type": "markdown",
            "source": [
                "11. <span style=\"color: rgb(36, 41, 47); font-family: -apple-system, BlinkMacSystemFont, &quot;Segoe UI&quot;, Helvetica, Arial, sans-serif, &quot;Apple Color Emoji&quot;, &quot;Segoe UI Emoji&quot;; font-size: 16px;\">Készítsünk listát a termékek adatairól listaár szerint növekvő sorrendben! A lista jelenítse meg két új oszlopban a sorrend szerint előző, illetve következő termék listaárát is a termék saját kategóriájában és raktárában!</span>\n",
                "\n",
                "1. Ahol nincs előző vagy következő érték, ott 0 jelenjen meg!\n",
                "2. Az oszlopokat nevezzük el értelemszerűen!"
            ],
            "metadata": {
                "azdata_cell_guid": "7f5fc7a7-3b6a-4d89-b292-490830afb0c6"
            },
            "attachments": {}
        },
        {
            "cell_type": "code",
            "source": [
                ""
            ],
            "metadata": {
                "azdata_cell_guid": "4a9ece40-f782-4c0d-92cd-9c21969067ed",
                "language": "sql"
            },
            "outputs": [],
            "execution_count": null
        },
        {
            "cell_type": "markdown",
            "source": [
                "12. <span style=\"color: rgb(36, 41, 47); font-family: -apple-system, BlinkMacSystemFont, &quot;Segoe UI&quot;, Helvetica, Arial, sans-serif, &quot;Apple Color Emoji&quot;, &quot;Segoe UI Emoji&quot;; font-size: 16px;\">Listázzuk a termékek kódját, nevét és listaárát listaár szerinti sorrendben!</span>\n",
                "\n",
                "1. Vegyünk fel egy új oszlopot Mozgóátlag néven, amely minden esetben az aktuális termék, az előző, és a következő termék átlagárát tartalmazza!\n",
                "2. A mozgóátlagot kerekítsük két tizedesre!"
            ],
            "metadata": {
                "azdata_cell_guid": "5a483c52-bb98-44bb-bd03-1146d4b0abfa"
            },
            "attachments": {}
        },
        {
            "cell_type": "code",
            "source": [
                ""
            ],
            "metadata": {
                "azdata_cell_guid": "dd6e89bd-08f9-4b18-8460-03c45b503df0",
                "language": "sql"
            },
            "outputs": [],
            "execution_count": null
        },
        {
            "cell_type": "markdown",
            "source": [
                "13. <span style=\"color: rgb(36, 41, 47); font-family: -apple-system, BlinkMacSystemFont, &quot;Segoe UI&quot;, Helvetica, Arial, sans-serif, &quot;Apple Color Emoji&quot;, &quot;Segoe UI Emoji&quot;; font-size: 16px;\">Készítsünk listát, amely a rendelések sorszámát és a rendelés értékét tartalmazza. A listát egészítsük ki egy új oszloppal, amely minden rendelés esetén addigi rendelések összegét tartalmazza (az aktuálisat is beleértve)!</span>\n",
                "\n",
                "1. A listát rendezzük sorszám szerint növekvő sorrendbe.\n",
                "2. A lista ne tartalmazzon duplikált sorokat!"
            ],
            "metadata": {
                "azdata_cell_guid": "85d5cb66-96c6-42de-99cf-85ab22d08548"
            },
            "attachments": {}
        },
        {
            "cell_type": "code",
            "source": [
                ""
            ],
            "metadata": {
                "azdata_cell_guid": "cb07d64b-0eaa-498b-b4d2-0b46971e95ce",
                "language": "sql"
            },
            "outputs": [],
            "execution_count": null
        },
        {
            "cell_type": "markdown",
            "source": [
                "14. <span style=\"color: rgb(36, 41, 47); font-family: -apple-system, BlinkMacSystemFont, &quot;Segoe UI&quot;, Helvetica, Arial, sans-serif, &quot;Apple Color Emoji&quot;, &quot;Segoe UI Emoji&quot;; font-size: 16px;\">Készítsünk listát a termékek kódjáról, nevéről, kategória azonosítójáról, raktár azonosítójáról és listaáráról, valamint a termék adott szempontok szerinti rangsorokban elfoglalt helyezéseiről. (Szempontonként külön oszlopban, a helyezéseknél növekvő sorrendet feltételezve). A szempontok a következők legyenek: listaár, kategória szerinti listaár, és raktárkód szerinti listaár.</span>\n",
                "\n",
                "1. Az oszlopokat nevezzük el értelemszerűen.\n",
                "2. A helyezések egyenlőség esetén \"sűrűn\" kövessék egymást.\n",
                "3. A lista legyen rendezett kategória azonosító, azon belül listaár szerint!"
            ],
            "metadata": {
                "azdata_cell_guid": "f95ad665-a807-4099-bf06-64ed974f866f"
            },
            "attachments": {}
        },
        {
            "cell_type": "code",
            "source": [
                ""
            ],
            "metadata": {
                "azdata_cell_guid": "74c7ec8a-ae4a-4d03-b1c4-e8f6bb1be12c",
                "language": "sql"
            },
            "outputs": [],
            "execution_count": null
        },
        {
            "cell_type": "markdown",
            "source": [
                "15. <span style=\"color: rgb(36, 41, 47); font-family: -apple-system, BlinkMacSystemFont, &quot;Segoe UI&quot;, Helvetica, Arial, sans-serif, &quot;Apple Color Emoji&quot;, &quot;Segoe UI Emoji&quot;; font-size: 16px;\">Készítsünk listát a rendelési tételekről, amely minden sor esetén göngyölítve tartalmazza az ügyfél adott rendelési tételig meglévő rendelési tételeinek összértékét!</span>\n",
                "\n",
                "1. Az új oszlop neve legyen Eddigi rendelési tételek összértéke!\n",
                "2. Az ügyfél neve is jelenjen meg!"
            ],
            "metadata": {
                "azdata_cell_guid": "93552388-ffec-49ff-99e5-ae8dc8072601"
            },
            "attachments": {}
        },
        {
            "cell_type": "code",
            "source": [
                ""
            ],
            "metadata": {
                "azdata_cell_guid": "0e7f547f-7d96-4611-b1c2-0fa84a581e79",
                "language": "sql"
            },
            "outputs": [],
            "execution_count": null
        }
    ]
}