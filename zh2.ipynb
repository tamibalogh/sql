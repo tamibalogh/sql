{
    "metadata": {
        "kernelspec": {
            "name": "SQL",
            "display_name": "SQL",
            "language": "sql"
        },
        "language_info": {
            "name": "sql",
            "version": ""
        }
    },
    "nbformat_minor": 2,
    "nbformat": 4,
    "cells": [
        {
            "cell_type": "markdown",
            "source": [
                "<span style=\"color: rgb(0, 0, 0); font-family: &quot;Open Sans&quot;, sans-serif; font-size: 14.44px; background-color: rgb(255, 255, 255);\">Készítsünk listát az egyes szálláshelyek átlagos csillagszámáról típus, illetve hely szerint csoportosítva (külön-külön)!</span>\n",
                "\n",
                "- Az átlag 2 tizedesre kerekítve jelenjen meg\n",
                "- Hagyjuk ki azokat a szálláshelyeket, amelyek nevében kötőjel (-) van!"
            ],
            "metadata": {
                "azdata_cell_guid": "2da0fcbc-8435-4f58-a20a-c61b4c2c14fc"
            },
            "attachments": {}
        },
        {
            "cell_type": "code",
            "source": [
                "SELECT ROUND(AVG(CSILLAGOK_SZAMA), 2) AS 'Átlagos csillagszám',\r\n",
                "       TIPUS,\r\n",
                "       HELY\r\n",
                "FROM Szallashely\r\n",
                "WHERE SZALLAS_NEV NOT LIKE '%-%'\r\n",
                "GROUP BY HELY, TIPUS"
            ],
            "metadata": {
                "azdata_cell_guid": "081d45cf-100b-48a2-9254-760b1374f041",
                "language": "sql"
            },
            "outputs": [
                {
                    "output_type": "display_data",
                    "data": {
                        "text/html": "(16 rows affected)"
                    },
                    "metadata": {}
                },
                {
                    "output_type": "display_data",
                    "data": {
                        "text/html": "Total execution time: 00:00:00.003"
                    },
                    "metadata": {}
                },
                {
                    "output_type": "execute_result",
                    "metadata": {},
                    "execution_count": 2,
                    "data": {
                        "application/vnd.dataresource+json": {
                            "schema": {
                                "fields": [
                                    {
                                        "name": "Átlagos csillagszám"
                                    },
                                    {
                                        "name": "TIPUS"
                                    },
                                    {
                                        "name": "HELY"
                                    }
                                ]
                            },
                            "data": [
                                {
                                    "Átlagos csillagszám": "0",
                                    "TIPUS": "Apartman",
                                    "HELY": "Balaton-dél"
                                },
                                {
                                    "Átlagos csillagszám": "0",
                                    "TIPUS": "Apartman",
                                    "HELY": "Dél-Somogy"
                                },
                                {
                                    "Átlagos csillagszám": "0",
                                    "TIPUS": "Apartman",
                                    "HELY": "Hajdúbihar megye"
                                },
                                {
                                    "Átlagos csillagszám": "0",
                                    "TIPUS": "Diákszálló",
                                    "HELY": "Budapest"
                                },
                                {
                                    "Átlagos csillagszám": "3",
                                    "TIPUS": "Hotel",
                                    "HELY": "Balaton-dél"
                                },
                                {
                                    "Átlagos csillagszám": "3",
                                    "TIPUS": "Hotel",
                                    "HELY": "Budapest"
                                },
                                {
                                    "Átlagos csillagszám": "3",
                                    "TIPUS": "Hotel",
                                    "HELY": "Pest megye"
                                },
                                {
                                    "Átlagos csillagszám": "4",
                                    "TIPUS": "Hotel",
                                    "HELY": "Tolna megye"
                                },
                                {
                                    "Átlagos csillagszám": "3",
                                    "TIPUS": "panzió",
                                    "HELY": "Balaton-dél"
                                },
                                {
                                    "Átlagos csillagszám": "3",
                                    "TIPUS": "panzió",
                                    "HELY": "Békés megye"
                                },
                                {
                                    "Átlagos csillagszám": "3",
                                    "TIPUS": "panzió",
                                    "HELY": "Budapest"
                                },
                                {
                                    "Átlagos csillagszám": "3",
                                    "TIPUS": "panzió",
                                    "HELY": "Csongrád megye"
                                },
                                {
                                    "Átlagos csillagszám": "0",
                                    "TIPUS": "vendégház",
                                    "HELY": "Balaton-dél"
                                },
                                {
                                    "Átlagos csillagszám": "0",
                                    "TIPUS": "vendégház",
                                    "HELY": "Balaton-észak"
                                },
                                {
                                    "Átlagos csillagszám": "0",
                                    "TIPUS": "vendégház",
                                    "HELY": "Csongrád megye"
                                },
                                {
                                    "Átlagos csillagszám": "0",
                                    "TIPUS": "vendégház",
                                    "HELY": "Dél-Somogy"
                                }
                            ]
                        },
                        "text/html": [
                            "<table>",
                            "<tr><th>Átlagos csillagszám</th><th>TIPUS</th><th>HELY</th></tr>",
                            "<tr><td>0</td><td>Apartman</td><td>Balaton-dél</td></tr>",
                            "<tr><td>0</td><td>Apartman</td><td>Dél-Somogy</td></tr>",
                            "<tr><td>0</td><td>Apartman</td><td>Hajdúbihar megye</td></tr>",
                            "<tr><td>0</td><td>Diákszálló</td><td>Budapest</td></tr>",
                            "<tr><td>3</td><td>Hotel</td><td>Balaton-dél</td></tr>",
                            "<tr><td>3</td><td>Hotel</td><td>Budapest</td></tr>",
                            "<tr><td>3</td><td>Hotel</td><td>Pest megye</td></tr>",
                            "<tr><td>4</td><td>Hotel</td><td>Tolna megye</td></tr>",
                            "<tr><td>3</td><td>panzió</td><td>Balaton-dél</td></tr>",
                            "<tr><td>3</td><td>panzió</td><td>Békés megye</td></tr>",
                            "<tr><td>3</td><td>panzió</td><td>Budapest</td></tr>",
                            "<tr><td>3</td><td>panzió</td><td>Csongrád megye</td></tr>",
                            "<tr><td>0</td><td>vendégház</td><td>Balaton-dél</td></tr>",
                            "<tr><td>0</td><td>vendégház</td><td>Balaton-észak</td></tr>",
                            "<tr><td>0</td><td>vendégház</td><td>Csongrád megye</td></tr>",
                            "<tr><td>0</td><td>vendégház</td><td>Dél-Somogy</td></tr>",
                            "</table>"
                        ]
                    }
                }
            ],
            "execution_count": 2
        },
        {
            "cell_type": "markdown",
            "source": [
                "Rangsoroljuk az egyes szobákat a foglalások száma, azon belül férőhely szerint!\n",
                "\n",
                "- Holtverseny esetén a sorszámok sűrűn kövessék egymást\n",
                "- Az 1-es számot a legtöbbet foglalt, azon belül legkevesebb férőhelyű szoba kapja\n",
                "- Csak a szoba azonosítója, a férőhely és a helyezés jelenjen meg"
            ],
            "metadata": {
                "azdata_cell_guid": "1d3dda44-d65d-4a23-bf7d-53dd5c775f87"
            },
            "attachments": {}
        },
        {
            "cell_type": "code",
            "source": [
                "SELECT sz.SZOBA_ID,\r\n",
                "       sz.FEROHELY,\r\n",
                "       DENSE_RANK () OVER (ORDER BY COUNT(*) DESC, sz.FEROHELY ASC) AS 'Helyezés'\r\n",
                "FROM Szoba sz JOIN Foglalas f ON sz.SZOBA_ID = f.SZOBA_FK\r\n",
                "GROUP BY sz.SZOBA_ID, sz.FEROHELY"
            ],
            "metadata": {
                "azdata_cell_guid": "f4effcc3-ae65-4678-9e67-fd64de5f5f02",
                "language": "sql"
            },
            "outputs": [
                {
                    "output_type": "display_data",
                    "data": {
                        "text/html": "(197 rows affected)"
                    },
                    "metadata": {}
                },
                {
                    "output_type": "display_data",
                    "data": {
                        "text/html": "Total execution time: 00:00:00.012"
                    },
                    "metadata": {}
                },
                {
                    "output_type": "execute_result",
                    "execution_count": 31,
                    "data": {
                        "application/vnd.dataresource+json": {
                            "schema": {
                                "fields": [
                                    {
                                        "name": "SZOBA_ID"
                                    },
                                    {
                                        "name": "FEROHELY"
                                    },
                                    {
                                        "name": "Helyezés"
                                    }
                                ]
                            },
                            "data": [
                                {
                                    "SZOBA_ID": "58",
                                    "FEROHELY": "2",
                                    "Helyezés": "1"
                                },
                                {
                                    "SZOBA_ID": "182",
                                    "FEROHELY": "2",
                                    "Helyezés": "2"
                                },
                                {
                                    "SZOBA_ID": "185",
                                    "FEROHELY": "3",
                                    "Helyezés": "3"
                                },
                                {
                                    "SZOBA_ID": "70",
                                    "FEROHELY": "2",
                                    "Helyezés": "4"
                                },
                                {
                                    "SZOBA_ID": "94",
                                    "FEROHELY": "2",
                                    "Helyezés": "5"
                                },
                                {
                                    "SZOBA_ID": "12",
                                    "FEROHELY": "2",
                                    "Helyezés": "6"
                                },
                                {
                                    "SZOBA_ID": "172",
                                    "FEROHELY": "2",
                                    "Helyezés": "6"
                                },
                                {
                                    "SZOBA_ID": "35",
                                    "FEROHELY": "3",
                                    "Helyezés": "7"
                                },
                                {
                                    "SZOBA_ID": "48",
                                    "FEROHELY": "3",
                                    "Helyezés": "7"
                                },
                                {
                                    "SZOBA_ID": "74",
                                    "FEROHELY": "3",
                                    "Helyezés": "7"
                                },
                                {
                                    "SZOBA_ID": "122",
                                    "FEROHELY": "3",
                                    "Helyezés": "7"
                                },
                                {
                                    "SZOBA_ID": "121",
                                    "FEROHELY": "2",
                                    "Helyezés": "8"
                                },
                                {
                                    "SZOBA_ID": "140",
                                    "FEROHELY": "2",
                                    "Helyezés": "8"
                                },
                                {
                                    "SZOBA_ID": "110",
                                    "FEROHELY": "2",
                                    "Helyezés": "8"
                                },
                                {
                                    "SZOBA_ID": "55",
                                    "FEROHELY": "2",
                                    "Helyezés": "8"
                                },
                                {
                                    "SZOBA_ID": "38",
                                    "FEROHELY": "2",
                                    "Helyezés": "8"
                                },
                                {
                                    "SZOBA_ID": "1",
                                    "FEROHELY": "3",
                                    "Helyezés": "9"
                                },
                                {
                                    "SZOBA_ID": "3",
                                    "FEROHELY": "3",
                                    "Helyezés": "9"
                                },
                                {
                                    "SZOBA_ID": "43",
                                    "FEROHELY": "3",
                                    "Helyezés": "9"
                                },
                                {
                                    "SZOBA_ID": "83",
                                    "FEROHELY": "3",
                                    "Helyezés": "9"
                                },
                                {
                                    "SZOBA_ID": "88",
                                    "FEROHELY": "3",
                                    "Helyezés": "9"
                                },
                                {
                                    "SZOBA_ID": "89",
                                    "FEROHELY": "3",
                                    "Helyezés": "9"
                                },
                                {
                                    "SZOBA_ID": "117",
                                    "FEROHELY": "3",
                                    "Helyezés": "9"
                                },
                                {
                                    "SZOBA_ID": "198",
                                    "FEROHELY": "3",
                                    "Helyezés": "9"
                                },
                                {
                                    "SZOBA_ID": "149",
                                    "FEROHELY": "2",
                                    "Helyezés": "10"
                                },
                                {
                                    "SZOBA_ID": "156",
                                    "FEROHELY": "2",
                                    "Helyezés": "10"
                                },
                                {
                                    "SZOBA_ID": "163",
                                    "FEROHELY": "2",
                                    "Helyezés": "10"
                                },
                                {
                                    "SZOBA_ID": "165",
                                    "FEROHELY": "2",
                                    "Helyezés": "10"
                                },
                                {
                                    "SZOBA_ID": "118",
                                    "FEROHELY": "2",
                                    "Helyezés": "10"
                                },
                                {
                                    "SZOBA_ID": "109",
                                    "FEROHELY": "2",
                                    "Helyezés": "10"
                                },
                                {
                                    "SZOBA_ID": "127",
                                    "FEROHELY": "2",
                                    "Helyezés": "10"
                                },
                                {
                                    "SZOBA_ID": "139",
                                    "FEROHELY": "2",
                                    "Helyezés": "10"
                                },
                                {
                                    "SZOBA_ID": "80",
                                    "FEROHELY": "2",
                                    "Helyezés": "10"
                                },
                                {
                                    "SZOBA_ID": "59",
                                    "FEROHELY": "2",
                                    "Helyezés": "10"
                                },
                                {
                                    "SZOBA_ID": "39",
                                    "FEROHELY": "2",
                                    "Helyezés": "10"
                                },
                                {
                                    "SZOBA_ID": "27",
                                    "FEROHELY": "3",
                                    "Helyezés": "11"
                                },
                                {
                                    "SZOBA_ID": "49",
                                    "FEROHELY": "3",
                                    "Helyezés": "11"
                                },
                                {
                                    "SZOBA_ID": "96",
                                    "FEROHELY": "3",
                                    "Helyezés": "11"
                                },
                                {
                                    "SZOBA_ID": "97",
                                    "FEROHELY": "3",
                                    "Helyezés": "11"
                                },
                                {
                                    "SZOBA_ID": "138",
                                    "FEROHELY": "3",
                                    "Helyezés": "11"
                                },
                                {
                                    "SZOBA_ID": "143",
                                    "FEROHELY": "3",
                                    "Helyezés": "11"
                                },
                                {
                                    "SZOBA_ID": "115",
                                    "FEROHELY": "3",
                                    "Helyezés": "11"
                                },
                                {
                                    "SZOBA_ID": "187",
                                    "FEROHELY": "3",
                                    "Helyezés": "11"
                                },
                                {
                                    "SZOBA_ID": "193",
                                    "FEROHELY": "3",
                                    "Helyezés": "11"
                                },
                                {
                                    "SZOBA_ID": "195",
                                    "FEROHELY": "2",
                                    "Helyezés": "12"
                                },
                                {
                                    "SZOBA_ID": "161",
                                    "FEROHELY": "2",
                                    "Helyezés": "12"
                                },
                                {
                                    "SZOBA_ID": "150",
                                    "FEROHELY": "2",
                                    "Helyezés": "12"
                                },
                                {
                                    "SZOBA_ID": "148",
                                    "FEROHELY": "2",
                                    "Helyezés": "12"
                                },
                                {
                                    "SZOBA_ID": "169",
                                    "FEROHELY": "2",
                                    "Helyezés": "12"
                                },
                                {
                                    "SZOBA_ID": "106",
                                    "FEROHELY": "2",
                                    "Helyezés": "12"
                                },
                                {
                                    "SZOBA_ID": "126",
                                    "FEROHELY": "2",
                                    "Helyezés": "12"
                                },
                                {
                                    "SZOBA_ID": "145",
                                    "FEROHELY": "2",
                                    "Helyezés": "12"
                                },
                                {
                                    "SZOBA_ID": "141",
                                    "FEROHELY": "2",
                                    "Helyezés": "12"
                                },
                                {
                                    "SZOBA_ID": "130",
                                    "FEROHELY": "2",
                                    "Helyezés": "12"
                                },
                                {
                                    "SZOBA_ID": "137",
                                    "FEROHELY": "2",
                                    "Helyezés": "12"
                                },
                                {
                                    "SZOBA_ID": "78",
                                    "FEROHELY": "2",
                                    "Helyezés": "12"
                                },
                                {
                                    "SZOBA_ID": "42",
                                    "FEROHELY": "2",
                                    "Helyezés": "12"
                                },
                                {
                                    "SZOBA_ID": "64",
                                    "FEROHELY": "2",
                                    "Helyezés": "12"
                                },
                                {
                                    "SZOBA_ID": "67",
                                    "FEROHELY": "2",
                                    "Helyezés": "12"
                                },
                                {
                                    "SZOBA_ID": "28",
                                    "FEROHELY": "2",
                                    "Helyezés": "12"
                                },
                                {
                                    "SZOBA_ID": "29",
                                    "FEROHELY": "2",
                                    "Helyezés": "12"
                                },
                                {
                                    "SZOBA_ID": "19",
                                    "FEROHELY": "2",
                                    "Helyezés": "12"
                                },
                                {
                                    "SZOBA_ID": "33",
                                    "FEROHELY": "2",
                                    "Helyezés": "12"
                                },
                                {
                                    "SZOBA_ID": "4",
                                    "FEROHELY": "2",
                                    "Helyezés": "12"
                                },
                                {
                                    "SZOBA_ID": "7",
                                    "FEROHELY": "2",
                                    "Helyezés": "12"
                                },
                                {
                                    "SZOBA_ID": "15",
                                    "FEROHELY": "2",
                                    "Helyezés": "12"
                                },
                                {
                                    "SZOBA_ID": "17",
                                    "FEROHELY": "3",
                                    "Helyezés": "13"
                                },
                                {
                                    "SZOBA_ID": "18",
                                    "FEROHELY": "3",
                                    "Helyezés": "13"
                                },
                                {
                                    "SZOBA_ID": "6",
                                    "FEROHELY": "3",
                                    "Helyezés": "13"
                                },
                                {
                                    "SZOBA_ID": "9",
                                    "FEROHELY": "3",
                                    "Helyezés": "13"
                                },
                                {
                                    "SZOBA_ID": "22",
                                    "FEROHELY": "3",
                                    "Helyezés": "13"
                                },
                                {
                                    "SZOBA_ID": "36",
                                    "FEROHELY": "3",
                                    "Helyezés": "13"
                                },
                                {
                                    "SZOBA_ID": "44",
                                    "FEROHELY": "3",
                                    "Helyezés": "13"
                                },
                                {
                                    "SZOBA_ID": "54",
                                    "FEROHELY": "3",
                                    "Helyezés": "13"
                                },
                                {
                                    "SZOBA_ID": "77",
                                    "FEROHELY": "3",
                                    "Helyezés": "13"
                                },
                                {
                                    "SZOBA_ID": "82",
                                    "FEROHELY": "3",
                                    "Helyezés": "13"
                                },
                                {
                                    "SZOBA_ID": "92",
                                    "FEROHELY": "3",
                                    "Helyezés": "13"
                                },
                                {
                                    "SZOBA_ID": "132",
                                    "FEROHELY": "3",
                                    "Helyezés": "13"
                                },
                                {
                                    "SZOBA_ID": "133",
                                    "FEROHELY": "3",
                                    "Helyezés": "13"
                                },
                                {
                                    "SZOBA_ID": "134",
                                    "FEROHELY": "3",
                                    "Helyezés": "13"
                                },
                                {
                                    "SZOBA_ID": "146",
                                    "FEROHELY": "3",
                                    "Helyezés": "13"
                                },
                                {
                                    "SZOBA_ID": "124",
                                    "FEROHELY": "3",
                                    "Helyezés": "13"
                                },
                                {
                                    "SZOBA_ID": "120",
                                    "FEROHELY": "3",
                                    "Helyezés": "13"
                                },
                                {
                                    "SZOBA_ID": "176",
                                    "FEROHELY": "3",
                                    "Helyezés": "13"
                                },
                                {
                                    "SZOBA_ID": "181",
                                    "FEROHELY": "3",
                                    "Helyezés": "13"
                                },
                                {
                                    "SZOBA_ID": "188",
                                    "FEROHELY": "3",
                                    "Helyezés": "13"
                                },
                                {
                                    "SZOBA_ID": "197",
                                    "FEROHELY": "3",
                                    "Helyezés": "13"
                                },
                                {
                                    "SZOBA_ID": "189",
                                    "FEROHELY": "2",
                                    "Helyezés": "14"
                                },
                                {
                                    "SZOBA_ID": "190",
                                    "FEROHELY": "2",
                                    "Helyezés": "14"
                                },
                                {
                                    "SZOBA_ID": "191",
                                    "FEROHELY": "2",
                                    "Helyezés": "14"
                                },
                                {
                                    "SZOBA_ID": "168",
                                    "FEROHELY": "2",
                                    "Helyezés": "14"
                                },
                                {
                                    "SZOBA_ID": "175",
                                    "FEROHELY": "2",
                                    "Helyezés": "14"
                                },
                                {
                                    "SZOBA_ID": "170",
                                    "FEROHELY": "2",
                                    "Helyezés": "14"
                                },
                                {
                                    "SZOBA_ID": "171",
                                    "FEROHELY": "2",
                                    "Helyezés": "14"
                                },
                                {
                                    "SZOBA_ID": "157",
                                    "FEROHELY": "2",
                                    "Helyezés": "14"
                                },
                                {
                                    "SZOBA_ID": "154",
                                    "FEROHELY": "2",
                                    "Helyezés": "14"
                                },
                                {
                                    "SZOBA_ID": "164",
                                    "FEROHELY": "2",
                                    "Helyezés": "14"
                                },
                                {
                                    "SZOBA_ID": "119",
                                    "FEROHELY": "2",
                                    "Helyezés": "14"
                                },
                                {
                                    "SZOBA_ID": "107",
                                    "FEROHELY": "2",
                                    "Helyezés": "14"
                                },
                                {
                                    "SZOBA_ID": "128",
                                    "FEROHELY": "2",
                                    "Helyezés": "14"
                                },
                                {
                                    "SZOBA_ID": "131",
                                    "FEROHELY": "2",
                                    "Helyezés": "14"
                                },
                                {
                                    "SZOBA_ID": "99",
                                    "FEROHELY": "2",
                                    "Helyezés": "14"
                                },
                                {
                                    "SZOBA_ID": "111",
                                    "FEROHELY": "2",
                                    "Helyezés": "14"
                                },
                                {
                                    "SZOBA_ID": "81",
                                    "FEROHELY": "2",
                                    "Helyezés": "14"
                                },
                                {
                                    "SZOBA_ID": "86",
                                    "FEROHELY": "2",
                                    "Helyezés": "14"
                                },
                                {
                                    "SZOBA_ID": "52",
                                    "FEROHELY": "2",
                                    "Helyezés": "14"
                                },
                                {
                                    "SZOBA_ID": "45",
                                    "FEROHELY": "2",
                                    "Helyezés": "14"
                                },
                                {
                                    "SZOBA_ID": "62",
                                    "FEROHELY": "2",
                                    "Helyezés": "14"
                                },
                                {
                                    "SZOBA_ID": "61",
                                    "FEROHELY": "3",
                                    "Helyezés": "15"
                                },
                                {
                                    "SZOBA_ID": "51",
                                    "FEROHELY": "3",
                                    "Helyezés": "15"
                                },
                                {
                                    "SZOBA_ID": "20",
                                    "FEROHELY": "3",
                                    "Helyezés": "15"
                                },
                                {
                                    "SZOBA_ID": "8",
                                    "FEROHELY": "3",
                                    "Helyezés": "15"
                                },
                                {
                                    "SZOBA_ID": "16",
                                    "FEROHELY": "3",
                                    "Helyezés": "15"
                                },
                                {
                                    "SZOBA_ID": "87",
                                    "FEROHELY": "3",
                                    "Helyezés": "15"
                                },
                                {
                                    "SZOBA_ID": "79",
                                    "FEROHELY": "3",
                                    "Helyezés": "15"
                                },
                                {
                                    "SZOBA_ID": "112",
                                    "FEROHELY": "3",
                                    "Helyezés": "15"
                                },
                                {
                                    "SZOBA_ID": "113",
                                    "FEROHELY": "3",
                                    "Helyezés": "15"
                                },
                                {
                                    "SZOBA_ID": "93",
                                    "FEROHELY": "3",
                                    "Helyezés": "15"
                                },
                                {
                                    "SZOBA_ID": "144",
                                    "FEROHELY": "3",
                                    "Helyezés": "15"
                                },
                                {
                                    "SZOBA_ID": "123",
                                    "FEROHELY": "3",
                                    "Helyezés": "15"
                                },
                                {
                                    "SZOBA_ID": "153",
                                    "FEROHELY": "3",
                                    "Helyezés": "15"
                                },
                                {
                                    "SZOBA_ID": "160",
                                    "FEROHELY": "3",
                                    "Helyezés": "15"
                                },
                                {
                                    "SZOBA_ID": "155",
                                    "FEROHELY": "3",
                                    "Helyezés": "15"
                                },
                                {
                                    "SZOBA_ID": "152",
                                    "FEROHELY": "2",
                                    "Helyezés": "16"
                                },
                                {
                                    "SZOBA_ID": "173",
                                    "FEROHELY": "2",
                                    "Helyezés": "16"
                                },
                                {
                                    "SZOBA_ID": "174",
                                    "FEROHELY": "2",
                                    "Helyezés": "16"
                                },
                                {
                                    "SZOBA_ID": "186",
                                    "FEROHELY": "2",
                                    "Helyezés": "16"
                                },
                                {
                                    "SZOBA_ID": "196",
                                    "FEROHELY": "2",
                                    "Helyezés": "16"
                                },
                                {
                                    "SZOBA_ID": "184",
                                    "FEROHELY": "2",
                                    "Helyezés": "16"
                                },
                                {
                                    "SZOBA_ID": "129",
                                    "FEROHELY": "2",
                                    "Helyezés": "16"
                                },
                                {
                                    "SZOBA_ID": "100",
                                    "FEROHELY": "2",
                                    "Helyezés": "16"
                                },
                                {
                                    "SZOBA_ID": "114",
                                    "FEROHELY": "2",
                                    "Helyezés": "16"
                                },
                                {
                                    "SZOBA_ID": "98",
                                    "FEROHELY": "2",
                                    "Helyezés": "16"
                                },
                                {
                                    "SZOBA_ID": "103",
                                    "FEROHELY": "2",
                                    "Helyezés": "16"
                                },
                                {
                                    "SZOBA_ID": "85",
                                    "FEROHELY": "2",
                                    "Helyezés": "16"
                                },
                                {
                                    "SZOBA_ID": "91",
                                    "FEROHELY": "2",
                                    "Helyezés": "16"
                                },
                                {
                                    "SZOBA_ID": "11",
                                    "FEROHELY": "2",
                                    "Helyezés": "16"
                                },
                                {
                                    "SZOBA_ID": "5",
                                    "FEROHELY": "2",
                                    "Helyezés": "16"
                                },
                                {
                                    "SZOBA_ID": "21",
                                    "FEROHELY": "2",
                                    "Helyezés": "16"
                                },
                                {
                                    "SZOBA_ID": "50",
                                    "FEROHELY": "2",
                                    "Helyezés": "16"
                                },
                                {
                                    "SZOBA_ID": "57",
                                    "FEROHELY": "2",
                                    "Helyezés": "16"
                                },
                                {
                                    "SZOBA_ID": "63",
                                    "FEROHELY": "2",
                                    "Helyezés": "16"
                                },
                                {
                                    "SZOBA_ID": "72",
                                    "FEROHELY": "2",
                                    "Helyezés": "16"
                                },
                                {
                                    "SZOBA_ID": "73",
                                    "FEROHELY": "2",
                                    "Helyezés": "16"
                                },
                                {
                                    "SZOBA_ID": "66",
                                    "FEROHELY": "3",
                                    "Helyezés": "17"
                                },
                                {
                                    "SZOBA_ID": "69",
                                    "FEROHELY": "3",
                                    "Helyezés": "17"
                                },
                                {
                                    "SZOBA_ID": "46",
                                    "FEROHELY": "3",
                                    "Helyezés": "17"
                                },
                                {
                                    "SZOBA_ID": "34",
                                    "FEROHELY": "3",
                                    "Helyezés": "17"
                                },
                                {
                                    "SZOBA_ID": "40",
                                    "FEROHELY": "3",
                                    "Helyezés": "17"
                                },
                                {
                                    "SZOBA_ID": "2",
                                    "FEROHELY": "3",
                                    "Helyezés": "17"
                                },
                                {
                                    "SZOBA_ID": "10",
                                    "FEROHELY": "3",
                                    "Helyezés": "17"
                                },
                                {
                                    "SZOBA_ID": "13",
                                    "FEROHELY": "3",
                                    "Helyezés": "17"
                                },
                                {
                                    "SZOBA_ID": "90",
                                    "FEROHELY": "3",
                                    "Helyezés": "17"
                                },
                                {
                                    "SZOBA_ID": "84",
                                    "FEROHELY": "3",
                                    "Helyezés": "17"
                                },
                                {
                                    "SZOBA_ID": "104",
                                    "FEROHELY": "3",
                                    "Helyezés": "17"
                                },
                                {
                                    "SZOBA_ID": "95",
                                    "FEROHELY": "3",
                                    "Helyezés": "17"
                                },
                                {
                                    "SZOBA_ID": "183",
                                    "FEROHELY": "3",
                                    "Helyezés": "17"
                                },
                                {
                                    "SZOBA_ID": "177",
                                    "FEROHELY": "3",
                                    "Helyezés": "17"
                                },
                                {
                                    "SZOBA_ID": "178",
                                    "FEROHELY": "3",
                                    "Helyezés": "17"
                                },
                                {
                                    "SZOBA_ID": "180",
                                    "FEROHELY": "2",
                                    "Helyezés": "18"
                                },
                                {
                                    "SZOBA_ID": "151",
                                    "FEROHELY": "2",
                                    "Helyezés": "18"
                                },
                                {
                                    "SZOBA_ID": "158",
                                    "FEROHELY": "2",
                                    "Helyezés": "18"
                                },
                                {
                                    "SZOBA_ID": "166",
                                    "FEROHELY": "2",
                                    "Helyezés": "18"
                                },
                                {
                                    "SZOBA_ID": "101",
                                    "FEROHELY": "2",
                                    "Helyezés": "18"
                                },
                                {
                                    "SZOBA_ID": "75",
                                    "FEROHELY": "2",
                                    "Helyezés": "18"
                                },
                                {
                                    "SZOBA_ID": "76",
                                    "FEROHELY": "2",
                                    "Helyezés": "18"
                                },
                                {
                                    "SZOBA_ID": "136",
                                    "FEROHELY": "2",
                                    "Helyezés": "18"
                                },
                                {
                                    "SZOBA_ID": "23",
                                    "FEROHELY": "2",
                                    "Helyezés": "18"
                                },
                                {
                                    "SZOBA_ID": "37",
                                    "FEROHELY": "2",
                                    "Helyezés": "18"
                                },
                                {
                                    "SZOBA_ID": "68",
                                    "FEROHELY": "2",
                                    "Helyezés": "18"
                                },
                                {
                                    "SZOBA_ID": "71",
                                    "FEROHELY": "3",
                                    "Helyezés": "19"
                                },
                                {
                                    "SZOBA_ID": "30",
                                    "FEROHELY": "3",
                                    "Helyezés": "19"
                                },
                                {
                                    "SZOBA_ID": "31",
                                    "FEROHELY": "3",
                                    "Helyezés": "19"
                                },
                                {
                                    "SZOBA_ID": "14",
                                    "FEROHELY": "3",
                                    "Helyezés": "19"
                                },
                                {
                                    "SZOBA_ID": "135",
                                    "FEROHELY": "3",
                                    "Helyezés": "19"
                                },
                                {
                                    "SZOBA_ID": "162",
                                    "FEROHELY": "3",
                                    "Helyezés": "19"
                                },
                                {
                                    "SZOBA_ID": "179",
                                    "FEROHELY": "3",
                                    "Helyezés": "19"
                                },
                                {
                                    "SZOBA_ID": "24",
                                    "FEROHELY": "4",
                                    "Helyezés": "20"
                                },
                                {
                                    "SZOBA_ID": "26",
                                    "FEROHELY": "2",
                                    "Helyezés": "21"
                                },
                                {
                                    "SZOBA_ID": "47",
                                    "FEROHELY": "2",
                                    "Helyezés": "21"
                                },
                                {
                                    "SZOBA_ID": "53",
                                    "FEROHELY": "2",
                                    "Helyezés": "21"
                                },
                                {
                                    "SZOBA_ID": "56",
                                    "FEROHELY": "2",
                                    "Helyezés": "21"
                                },
                                {
                                    "SZOBA_ID": "108",
                                    "FEROHELY": "2",
                                    "Helyezés": "21"
                                },
                                {
                                    "SZOBA_ID": "102",
                                    "FEROHELY": "2",
                                    "Helyezés": "21"
                                },
                                {
                                    "SZOBA_ID": "105",
                                    "FEROHELY": "2",
                                    "Helyezés": "21"
                                },
                                {
                                    "SZOBA_ID": "192",
                                    "FEROHELY": "2",
                                    "Helyezés": "21"
                                },
                                {
                                    "SZOBA_ID": "167",
                                    "FEROHELY": "3",
                                    "Helyezés": "22"
                                },
                                {
                                    "SZOBA_ID": "116",
                                    "FEROHELY": "3",
                                    "Helyezés": "22"
                                },
                                {
                                    "SZOBA_ID": "142",
                                    "FEROHELY": "3",
                                    "Helyezés": "22"
                                },
                                {
                                    "SZOBA_ID": "25",
                                    "FEROHELY": "3",
                                    "Helyezés": "22"
                                },
                                {
                                    "SZOBA_ID": "41",
                                    "FEROHELY": "3",
                                    "Helyezés": "22"
                                },
                                {
                                    "SZOBA_ID": "32",
                                    "FEROHELY": "2",
                                    "Helyezés": "23"
                                },
                                {
                                    "SZOBA_ID": "65",
                                    "FEROHELY": "2",
                                    "Helyezés": "23"
                                },
                                {
                                    "SZOBA_ID": "147",
                                    "FEROHELY": "2",
                                    "Helyezés": "23"
                                },
                                {
                                    "SZOBA_ID": "125",
                                    "FEROHELY": "2",
                                    "Helyezés": "23"
                                },
                                {
                                    "SZOBA_ID": "194",
                                    "FEROHELY": "2",
                                    "Helyezés": "23"
                                },
                                {
                                    "SZOBA_ID": "60",
                                    "FEROHELY": "3",
                                    "Helyezés": "24"
                                }
                            ]
                        },
                        "text/html": "<table><tr><th>SZOBA_ID</th><th>FEROHELY</th><th>Helyezés</th></tr><tr><td>58</td><td>2</td><td>1</td></tr><tr><td>182</td><td>2</td><td>2</td></tr><tr><td>185</td><td>3</td><td>3</td></tr><tr><td>70</td><td>2</td><td>4</td></tr><tr><td>94</td><td>2</td><td>5</td></tr><tr><td>12</td><td>2</td><td>6</td></tr><tr><td>172</td><td>2</td><td>6</td></tr><tr><td>35</td><td>3</td><td>7</td></tr><tr><td>48</td><td>3</td><td>7</td></tr><tr><td>74</td><td>3</td><td>7</td></tr><tr><td>122</td><td>3</td><td>7</td></tr><tr><td>121</td><td>2</td><td>8</td></tr><tr><td>140</td><td>2</td><td>8</td></tr><tr><td>110</td><td>2</td><td>8</td></tr><tr><td>55</td><td>2</td><td>8</td></tr><tr><td>38</td><td>2</td><td>8</td></tr><tr><td>1</td><td>3</td><td>9</td></tr><tr><td>3</td><td>3</td><td>9</td></tr><tr><td>43</td><td>3</td><td>9</td></tr><tr><td>83</td><td>3</td><td>9</td></tr><tr><td>88</td><td>3</td><td>9</td></tr><tr><td>89</td><td>3</td><td>9</td></tr><tr><td>117</td><td>3</td><td>9</td></tr><tr><td>198</td><td>3</td><td>9</td></tr><tr><td>149</td><td>2</td><td>10</td></tr><tr><td>156</td><td>2</td><td>10</td></tr><tr><td>163</td><td>2</td><td>10</td></tr><tr><td>165</td><td>2</td><td>10</td></tr><tr><td>118</td><td>2</td><td>10</td></tr><tr><td>109</td><td>2</td><td>10</td></tr><tr><td>127</td><td>2</td><td>10</td></tr><tr><td>139</td><td>2</td><td>10</td></tr><tr><td>80</td><td>2</td><td>10</td></tr><tr><td>59</td><td>2</td><td>10</td></tr><tr><td>39</td><td>2</td><td>10</td></tr><tr><td>27</td><td>3</td><td>11</td></tr><tr><td>49</td><td>3</td><td>11</td></tr><tr><td>96</td><td>3</td><td>11</td></tr><tr><td>97</td><td>3</td><td>11</td></tr><tr><td>138</td><td>3</td><td>11</td></tr><tr><td>143</td><td>3</td><td>11</td></tr><tr><td>115</td><td>3</td><td>11</td></tr><tr><td>187</td><td>3</td><td>11</td></tr><tr><td>193</td><td>3</td><td>11</td></tr><tr><td>195</td><td>2</td><td>12</td></tr><tr><td>161</td><td>2</td><td>12</td></tr><tr><td>150</td><td>2</td><td>12</td></tr><tr><td>148</td><td>2</td><td>12</td></tr><tr><td>169</td><td>2</td><td>12</td></tr><tr><td>106</td><td>2</td><td>12</td></tr><tr><td>126</td><td>2</td><td>12</td></tr><tr><td>145</td><td>2</td><td>12</td></tr><tr><td>141</td><td>2</td><td>12</td></tr><tr><td>130</td><td>2</td><td>12</td></tr><tr><td>137</td><td>2</td><td>12</td></tr><tr><td>78</td><td>2</td><td>12</td></tr><tr><td>42</td><td>2</td><td>12</td></tr><tr><td>64</td><td>2</td><td>12</td></tr><tr><td>67</td><td>2</td><td>12</td></tr><tr><td>28</td><td>2</td><td>12</td></tr><tr><td>29</td><td>2</td><td>12</td></tr><tr><td>19</td><td>2</td><td>12</td></tr><tr><td>33</td><td>2</td><td>12</td></tr><tr><td>4</td><td>2</td><td>12</td></tr><tr><td>7</td><td>2</td><td>12</td></tr><tr><td>15</td><td>2</td><td>12</td></tr><tr><td>17</td><td>3</td><td>13</td></tr><tr><td>18</td><td>3</td><td>13</td></tr><tr><td>6</td><td>3</td><td>13</td></tr><tr><td>9</td><td>3</td><td>13</td></tr><tr><td>22</td><td>3</td><td>13</td></tr><tr><td>36</td><td>3</td><td>13</td></tr><tr><td>44</td><td>3</td><td>13</td></tr><tr><td>54</td><td>3</td><td>13</td></tr><tr><td>77</td><td>3</td><td>13</td></tr><tr><td>82</td><td>3</td><td>13</td></tr><tr><td>92</td><td>3</td><td>13</td></tr><tr><td>132</td><td>3</td><td>13</td></tr><tr><td>133</td><td>3</td><td>13</td></tr><tr><td>134</td><td>3</td><td>13</td></tr><tr><td>146</td><td>3</td><td>13</td></tr><tr><td>124</td><td>3</td><td>13</td></tr><tr><td>120</td><td>3</td><td>13</td></tr><tr><td>176</td><td>3</td><td>13</td></tr><tr><td>181</td><td>3</td><td>13</td></tr><tr><td>188</td><td>3</td><td>13</td></tr><tr><td>197</td><td>3</td><td>13</td></tr><tr><td>189</td><td>2</td><td>14</td></tr><tr><td>190</td><td>2</td><td>14</td></tr><tr><td>191</td><td>2</td><td>14</td></tr><tr><td>168</td><td>2</td><td>14</td></tr><tr><td>175</td><td>2</td><td>14</td></tr><tr><td>170</td><td>2</td><td>14</td></tr><tr><td>171</td><td>2</td><td>14</td></tr><tr><td>157</td><td>2</td><td>14</td></tr><tr><td>154</td><td>2</td><td>14</td></tr><tr><td>164</td><td>2</td><td>14</td></tr><tr><td>119</td><td>2</td><td>14</td></tr><tr><td>107</td><td>2</td><td>14</td></tr><tr><td>128</td><td>2</td><td>14</td></tr><tr><td>131</td><td>2</td><td>14</td></tr><tr><td>99</td><td>2</td><td>14</td></tr><tr><td>111</td><td>2</td><td>14</td></tr><tr><td>81</td><td>2</td><td>14</td></tr><tr><td>86</td><td>2</td><td>14</td></tr><tr><td>52</td><td>2</td><td>14</td></tr><tr><td>45</td><td>2</td><td>14</td></tr><tr><td>62</td><td>2</td><td>14</td></tr><tr><td>61</td><td>3</td><td>15</td></tr><tr><td>51</td><td>3</td><td>15</td></tr><tr><td>20</td><td>3</td><td>15</td></tr><tr><td>8</td><td>3</td><td>15</td></tr><tr><td>16</td><td>3</td><td>15</td></tr><tr><td>87</td><td>3</td><td>15</td></tr><tr><td>79</td><td>3</td><td>15</td></tr><tr><td>112</td><td>3</td><td>15</td></tr><tr><td>113</td><td>3</td><td>15</td></tr><tr><td>93</td><td>3</td><td>15</td></tr><tr><td>144</td><td>3</td><td>15</td></tr><tr><td>123</td><td>3</td><td>15</td></tr><tr><td>153</td><td>3</td><td>15</td></tr><tr><td>160</td><td>3</td><td>15</td></tr><tr><td>155</td><td>3</td><td>15</td></tr><tr><td>152</td><td>2</td><td>16</td></tr><tr><td>173</td><td>2</td><td>16</td></tr><tr><td>174</td><td>2</td><td>16</td></tr><tr><td>186</td><td>2</td><td>16</td></tr><tr><td>196</td><td>2</td><td>16</td></tr><tr><td>184</td><td>2</td><td>16</td></tr><tr><td>129</td><td>2</td><td>16</td></tr><tr><td>100</td><td>2</td><td>16</td></tr><tr><td>114</td><td>2</td><td>16</td></tr><tr><td>98</td><td>2</td><td>16</td></tr><tr><td>103</td><td>2</td><td>16</td></tr><tr><td>85</td><td>2</td><td>16</td></tr><tr><td>91</td><td>2</td><td>16</td></tr><tr><td>11</td><td>2</td><td>16</td></tr><tr><td>5</td><td>2</td><td>16</td></tr><tr><td>21</td><td>2</td><td>16</td></tr><tr><td>50</td><td>2</td><td>16</td></tr><tr><td>57</td><td>2</td><td>16</td></tr><tr><td>63</td><td>2</td><td>16</td></tr><tr><td>72</td><td>2</td><td>16</td></tr><tr><td>73</td><td>2</td><td>16</td></tr><tr><td>66</td><td>3</td><td>17</td></tr><tr><td>69</td><td>3</td><td>17</td></tr><tr><td>46</td><td>3</td><td>17</td></tr><tr><td>34</td><td>3</td><td>17</td></tr><tr><td>40</td><td>3</td><td>17</td></tr><tr><td>2</td><td>3</td><td>17</td></tr><tr><td>10</td><td>3</td><td>17</td></tr><tr><td>13</td><td>3</td><td>17</td></tr><tr><td>90</td><td>3</td><td>17</td></tr><tr><td>84</td><td>3</td><td>17</td></tr><tr><td>104</td><td>3</td><td>17</td></tr><tr><td>95</td><td>3</td><td>17</td></tr><tr><td>183</td><td>3</td><td>17</td></tr><tr><td>177</td><td>3</td><td>17</td></tr><tr><td>178</td><td>3</td><td>17</td></tr><tr><td>180</td><td>2</td><td>18</td></tr><tr><td>151</td><td>2</td><td>18</td></tr><tr><td>158</td><td>2</td><td>18</td></tr><tr><td>166</td><td>2</td><td>18</td></tr><tr><td>101</td><td>2</td><td>18</td></tr><tr><td>75</td><td>2</td><td>18</td></tr><tr><td>76</td><td>2</td><td>18</td></tr><tr><td>136</td><td>2</td><td>18</td></tr><tr><td>23</td><td>2</td><td>18</td></tr><tr><td>37</td><td>2</td><td>18</td></tr><tr><td>68</td><td>2</td><td>18</td></tr><tr><td>71</td><td>3</td><td>19</td></tr><tr><td>30</td><td>3</td><td>19</td></tr><tr><td>31</td><td>3</td><td>19</td></tr><tr><td>14</td><td>3</td><td>19</td></tr><tr><td>135</td><td>3</td><td>19</td></tr><tr><td>162</td><td>3</td><td>19</td></tr><tr><td>179</td><td>3</td><td>19</td></tr><tr><td>24</td><td>4</td><td>20</td></tr><tr><td>26</td><td>2</td><td>21</td></tr><tr><td>47</td><td>2</td><td>21</td></tr><tr><td>53</td><td>2</td><td>21</td></tr><tr><td>56</td><td>2</td><td>21</td></tr><tr><td>108</td><td>2</td><td>21</td></tr><tr><td>102</td><td>2</td><td>21</td></tr><tr><td>105</td><td>2</td><td>21</td></tr><tr><td>192</td><td>2</td><td>21</td></tr><tr><td>167</td><td>3</td><td>22</td></tr><tr><td>116</td><td>3</td><td>22</td></tr><tr><td>142</td><td>3</td><td>22</td></tr><tr><td>25</td><td>3</td><td>22</td></tr><tr><td>41</td><td>3</td><td>22</td></tr><tr><td>32</td><td>2</td><td>23</td></tr><tr><td>65</td><td>2</td><td>23</td></tr><tr><td>147</td><td>2</td><td>23</td></tr><tr><td>125</td><td>2</td><td>23</td></tr><tr><td>194</td><td>2</td><td>23</td></tr><tr><td>60</td><td>3</td><td>24</td></tr></table>"
                    },
                    "metadata": {}
                }
            ],
            "execution_count": 31
        },
        {
            "cell_type": "markdown",
            "source": [
                "<span style=\"color: rgb(0, 0, 0); font-family: &quot;Open Sans&quot;, sans-serif; font-size: 14.44px; background-color: rgb(255, 255, 255);\">Jelenítsük meg azon ügyfelek nevét, akik még sohasem foglaltak VAGY volt foglalásuk, de nem volt közöttük 2 napnál hosszabb!</span>"
            ],
            "metadata": {
                "azdata_cell_guid": "fa826441-1427-4e84-a8ca-b5e2948964f5"
            },
            "attachments": {}
        },
        {
            "cell_type": "code",
            "source": [
                "SELECT v.NEV,\r\n",
                "       f.UGYFEL_FK\r\n",
                "FROM Vendeg v LEFT JOIN Foglalas f ON v.USERNEV = f.UGYFEL_FK\r\n",
                "WHERE f.FOGLALAS_PK IS NULL OR f.UGYFEL_FK NOT IN (SELECT UGYFEL_FK\r\n",
                "                                                    FROM Foglalas\r\n",
                "                                                    WHERE DATEDIFF(day, METTOL, MEDDIG) > 2)"
            ],
            "metadata": {
                "azdata_cell_guid": "69e90ffc-0468-4c92-98e7-d6766bfe52bd",
                "language": "sql"
            },
            "outputs": [
                {
                    "output_type": "display_data",
                    "data": {
                        "text/html": "(15 rows affected)"
                    },
                    "metadata": {}
                },
                {
                    "output_type": "display_data",
                    "data": {
                        "text/html": "Total execution time: 00:00:00.051"
                    },
                    "metadata": {}
                },
                {
                    "output_type": "execute_result",
                    "execution_count": 40,
                    "data": {
                        "application/vnd.dataresource+json": {
                            "schema": {
                                "fields": [
                                    {
                                        "name": "NEV"
                                    },
                                    {
                                        "name": "UGYFEL_FK"
                                    }
                                ]
                            },
                            "data": [
                                {
                                    "NEV": "Szomor Andrea",
                                    "UGYFEL_FK": "andrea3"
                                },
                                {
                                    "NEV": "Szűcs Annamária",
                                    "UGYFEL_FK": "annamaria1"
                                },
                                {
                                    "NEV": "Szűcs Annamária",
                                    "UGYFEL_FK": "annamaria1"
                                },
                                {
                                    "NEV": "Szöllősi Gábor",
                                    "UGYFEL_FK": "NULL"
                                },
                                {
                                    "NEV": "Búza Imre",
                                    "UGYFEL_FK": "imre"
                                },
                                {
                                    "NEV": "Búza Imre",
                                    "UGYFEL_FK": "imre"
                                },
                                {
                                    "NEV": "Gondos Miklós",
                                    "UGYFEL_FK": "miklos2"
                                },
                                {
                                    "NEV": "Gondos Miklós",
                                    "UGYFEL_FK": "miklos2"
                                },
                                {
                                    "NEV": "Gondos Miklós",
                                    "UGYFEL_FK": "miklos2"
                                },
                                {
                                    "NEV": "Bodor Szabolcs",
                                    "UGYFEL_FK": "szabolcs"
                                },
                                {
                                    "NEV": "Papós Tímea",
                                    "UGYFEL_FK": "timea"
                                },
                                {
                                    "NEV": "Keresztúri Viktor",
                                    "UGYFEL_FK": "VIKTORK"
                                },
                                {
                                    "NEV": "Keresztúri Viktor",
                                    "UGYFEL_FK": "VIKTORK"
                                },
                                {
                                    "NEV": "Molnár Zsófi",
                                    "UGYFEL_FK": "zsofi1"
                                },
                                {
                                    "NEV": "Molnár Zsófi",
                                    "UGYFEL_FK": "zsofi1"
                                }
                            ]
                        },
                        "text/html": "<table><tr><th>NEV</th><th>UGYFEL_FK</th></tr><tr><td>Szomor Andrea</td><td>andrea3</td></tr><tr><td>Szűcs Annamária</td><td>annamaria1</td></tr><tr><td>Szűcs Annamária</td><td>annamaria1</td></tr><tr><td>Szöllősi Gábor</td><td>NULL</td></tr><tr><td>Búza Imre</td><td>imre</td></tr><tr><td>Búza Imre</td><td>imre</td></tr><tr><td>Gondos Miklós</td><td>miklos2</td></tr><tr><td>Gondos Miklós</td><td>miklos2</td></tr><tr><td>Gondos Miklós</td><td>miklos2</td></tr><tr><td>Bodor Szabolcs</td><td>szabolcs</td></tr><tr><td>Papós Tímea</td><td>timea</td></tr><tr><td>Keresztúri Viktor</td><td>VIKTORK</td></tr><tr><td>Keresztúri Viktor</td><td>VIKTORK</td></tr><tr><td>Molnár Zsófi</td><td>zsofi1</td></tr><tr><td>Molnár Zsófi</td><td>zsofi1</td></tr></table>"
                    },
                    "metadata": {}
                }
            ],
            "execution_count": 40
        }
    ]
}