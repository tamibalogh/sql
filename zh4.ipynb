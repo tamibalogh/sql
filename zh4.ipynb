{
    "metadata": {
        "kernelspec": {
            "name": "SQL",
            "display_name": "SQL",
            "language": "sql"
        },
        "language_info": {
            "name": "sql",
            "version": ""
        }
    },
    "nbformat_minor": 2,
    "nbformat": 4,
    "cells": [
        {
            "cell_type": "markdown",
            "source": [
                "Jelenítsük meg minden egyes szoba esetén, hogy hányszor foglalták le!\n",
                "\n",
                "- Csak a szoba azonosítója és a foglalások darabszáma jelenjen meg\n",
                "- Azok a szobák is jelenjenek meg, ahol nem történt foglalás"
            ],
            "metadata": {
                "azdata_cell_guid": "ea7e8f2c-e7ba-4d2f-90ef-74945559d603"
            },
            "attachments": {}
        },
        {
            "cell_type": "code",
            "source": [
                "SELECT sz.SZOBA_ID,\r\n",
                "       COUNT(*) AS 'DB'\r\n",
                "FROM Szoba sz LEFT JOIN Foglalas f ON sz.SZOBA_ID = f.SZOBA_FK\r\n",
                "GROUP BY sz.SZOBA_ID"
            ],
            "metadata": {
                "azdata_cell_guid": "283ca4fc-9a8f-4651-8ea1-65e1d7933b2d",
                "language": "sql"
            },
            "outputs": [
                {
                    "output_type": "display_data",
                    "data": {
                        "text/html": "(294 rows affected)"
                    },
                    "metadata": {}
                },
                {
                    "output_type": "display_data",
                    "data": {
                        "text/html": "Total execution time: 00:00:00.011"
                    },
                    "metadata": {}
                },
                {
                    "output_type": "execute_result",
                    "metadata": {},
                    "execution_count": 7,
                    "data": {
                        "application/vnd.dataresource+json": {
                            "schema": {
                                "fields": [
                                    {
                                        "name": "SZOBA_ID"
                                    },
                                    {
                                        "name": "DB"
                                    }
                                ]
                            },
                            "data": [
                                {
                                    "SZOBA_ID": "1",
                                    "DB": "8"
                                },
                                {
                                    "SZOBA_ID": "2",
                                    "DB": "4"
                                },
                                {
                                    "SZOBA_ID": "3",
                                    "DB": "8"
                                },
                                {
                                    "SZOBA_ID": "4",
                                    "DB": "6"
                                },
                                {
                                    "SZOBA_ID": "5",
                                    "DB": "4"
                                },
                                {
                                    "SZOBA_ID": "6",
                                    "DB": "6"
                                },
                                {
                                    "SZOBA_ID": "7",
                                    "DB": "6"
                                },
                                {
                                    "SZOBA_ID": "8",
                                    "DB": "5"
                                },
                                {
                                    "SZOBA_ID": "9",
                                    "DB": "6"
                                },
                                {
                                    "SZOBA_ID": "10",
                                    "DB": "4"
                                },
                                {
                                    "SZOBA_ID": "11",
                                    "DB": "4"
                                },
                                {
                                    "SZOBA_ID": "12",
                                    "DB": "9"
                                },
                                {
                                    "SZOBA_ID": "13",
                                    "DB": "4"
                                },
                                {
                                    "SZOBA_ID": "14",
                                    "DB": "3"
                                },
                                {
                                    "SZOBA_ID": "15",
                                    "DB": "6"
                                },
                                {
                                    "SZOBA_ID": "16",
                                    "DB": "5"
                                },
                                {
                                    "SZOBA_ID": "17",
                                    "DB": "6"
                                },
                                {
                                    "SZOBA_ID": "18",
                                    "DB": "6"
                                },
                                {
                                    "SZOBA_ID": "19",
                                    "DB": "6"
                                },
                                {
                                    "SZOBA_ID": "20",
                                    "DB": "5"
                                },
                                {
                                    "SZOBA_ID": "21",
                                    "DB": "4"
                                },
                                {
                                    "SZOBA_ID": "22",
                                    "DB": "6"
                                },
                                {
                                    "SZOBA_ID": "23",
                                    "DB": "3"
                                },
                                {
                                    "SZOBA_ID": "24",
                                    "DB": "3"
                                },
                                {
                                    "SZOBA_ID": "25",
                                    "DB": "2"
                                },
                                {
                                    "SZOBA_ID": "26",
                                    "DB": "2"
                                },
                                {
                                    "SZOBA_ID": "27",
                                    "DB": "7"
                                },
                                {
                                    "SZOBA_ID": "28",
                                    "DB": "6"
                                },
                                {
                                    "SZOBA_ID": "29",
                                    "DB": "6"
                                },
                                {
                                    "SZOBA_ID": "30",
                                    "DB": "3"
                                },
                                {
                                    "SZOBA_ID": "31",
                                    "DB": "3"
                                },
                                {
                                    "SZOBA_ID": "32",
                                    "DB": "1"
                                },
                                {
                                    "SZOBA_ID": "33",
                                    "DB": "6"
                                },
                                {
                                    "SZOBA_ID": "34",
                                    "DB": "4"
                                },
                                {
                                    "SZOBA_ID": "35",
                                    "DB": "9"
                                },
                                {
                                    "SZOBA_ID": "36",
                                    "DB": "6"
                                },
                                {
                                    "SZOBA_ID": "37",
                                    "DB": "3"
                                },
                                {
                                    "SZOBA_ID": "38",
                                    "DB": "8"
                                },
                                {
                                    "SZOBA_ID": "39",
                                    "DB": "7"
                                },
                                {
                                    "SZOBA_ID": "40",
                                    "DB": "4"
                                },
                                {
                                    "SZOBA_ID": "41",
                                    "DB": "2"
                                },
                                {
                                    "SZOBA_ID": "42",
                                    "DB": "6"
                                },
                                {
                                    "SZOBA_ID": "43",
                                    "DB": "8"
                                },
                                {
                                    "SZOBA_ID": "44",
                                    "DB": "6"
                                },
                                {
                                    "SZOBA_ID": "45",
                                    "DB": "5"
                                },
                                {
                                    "SZOBA_ID": "46",
                                    "DB": "4"
                                },
                                {
                                    "SZOBA_ID": "47",
                                    "DB": "2"
                                },
                                {
                                    "SZOBA_ID": "48",
                                    "DB": "9"
                                },
                                {
                                    "SZOBA_ID": "49",
                                    "DB": "7"
                                },
                                {
                                    "SZOBA_ID": "50",
                                    "DB": "4"
                                },
                                {
                                    "SZOBA_ID": "51",
                                    "DB": "5"
                                },
                                {
                                    "SZOBA_ID": "52",
                                    "DB": "5"
                                },
                                {
                                    "SZOBA_ID": "53",
                                    "DB": "2"
                                },
                                {
                                    "SZOBA_ID": "54",
                                    "DB": "6"
                                },
                                {
                                    "SZOBA_ID": "55",
                                    "DB": "8"
                                },
                                {
                                    "SZOBA_ID": "56",
                                    "DB": "2"
                                },
                                {
                                    "SZOBA_ID": "57",
                                    "DB": "4"
                                },
                                {
                                    "SZOBA_ID": "58",
                                    "DB": "13"
                                },
                                {
                                    "SZOBA_ID": "59",
                                    "DB": "7"
                                },
                                {
                                    "SZOBA_ID": "60",
                                    "DB": "1"
                                },
                                {
                                    "SZOBA_ID": "61",
                                    "DB": "5"
                                },
                                {
                                    "SZOBA_ID": "62",
                                    "DB": "5"
                                },
                                {
                                    "SZOBA_ID": "63",
                                    "DB": "4"
                                },
                                {
                                    "SZOBA_ID": "64",
                                    "DB": "6"
                                },
                                {
                                    "SZOBA_ID": "65",
                                    "DB": "1"
                                },
                                {
                                    "SZOBA_ID": "66",
                                    "DB": "4"
                                },
                                {
                                    "SZOBA_ID": "67",
                                    "DB": "6"
                                },
                                {
                                    "SZOBA_ID": "68",
                                    "DB": "3"
                                },
                                {
                                    "SZOBA_ID": "69",
                                    "DB": "4"
                                },
                                {
                                    "SZOBA_ID": "70",
                                    "DB": "11"
                                },
                                {
                                    "SZOBA_ID": "71",
                                    "DB": "3"
                                },
                                {
                                    "SZOBA_ID": "72",
                                    "DB": "4"
                                },
                                {
                                    "SZOBA_ID": "73",
                                    "DB": "4"
                                },
                                {
                                    "SZOBA_ID": "74",
                                    "DB": "9"
                                },
                                {
                                    "SZOBA_ID": "75",
                                    "DB": "3"
                                },
                                {
                                    "SZOBA_ID": "76",
                                    "DB": "3"
                                },
                                {
                                    "SZOBA_ID": "77",
                                    "DB": "6"
                                },
                                {
                                    "SZOBA_ID": "78",
                                    "DB": "6"
                                },
                                {
                                    "SZOBA_ID": "79",
                                    "DB": "5"
                                },
                                {
                                    "SZOBA_ID": "80",
                                    "DB": "7"
                                },
                                {
                                    "SZOBA_ID": "81",
                                    "DB": "5"
                                },
                                {
                                    "SZOBA_ID": "82",
                                    "DB": "6"
                                },
                                {
                                    "SZOBA_ID": "83",
                                    "DB": "8"
                                },
                                {
                                    "SZOBA_ID": "84",
                                    "DB": "4"
                                },
                                {
                                    "SZOBA_ID": "85",
                                    "DB": "4"
                                },
                                {
                                    "SZOBA_ID": "86",
                                    "DB": "5"
                                },
                                {
                                    "SZOBA_ID": "87",
                                    "DB": "5"
                                },
                                {
                                    "SZOBA_ID": "88",
                                    "DB": "8"
                                },
                                {
                                    "SZOBA_ID": "89",
                                    "DB": "8"
                                },
                                {
                                    "SZOBA_ID": "90",
                                    "DB": "4"
                                },
                                {
                                    "SZOBA_ID": "91",
                                    "DB": "4"
                                },
                                {
                                    "SZOBA_ID": "92",
                                    "DB": "6"
                                },
                                {
                                    "SZOBA_ID": "93",
                                    "DB": "5"
                                },
                                {
                                    "SZOBA_ID": "94",
                                    "DB": "10"
                                },
                                {
                                    "SZOBA_ID": "95",
                                    "DB": "4"
                                },
                                {
                                    "SZOBA_ID": "96",
                                    "DB": "7"
                                },
                                {
                                    "SZOBA_ID": "97",
                                    "DB": "7"
                                },
                                {
                                    "SZOBA_ID": "98",
                                    "DB": "4"
                                },
                                {
                                    "SZOBA_ID": "99",
                                    "DB": "5"
                                },
                                {
                                    "SZOBA_ID": "100",
                                    "DB": "4"
                                },
                                {
                                    "SZOBA_ID": "101",
                                    "DB": "3"
                                },
                                {
                                    "SZOBA_ID": "102",
                                    "DB": "2"
                                },
                                {
                                    "SZOBA_ID": "103",
                                    "DB": "4"
                                },
                                {
                                    "SZOBA_ID": "104",
                                    "DB": "4"
                                },
                                {
                                    "SZOBA_ID": "105",
                                    "DB": "2"
                                },
                                {
                                    "SZOBA_ID": "106",
                                    "DB": "6"
                                },
                                {
                                    "SZOBA_ID": "107",
                                    "DB": "5"
                                },
                                {
                                    "SZOBA_ID": "108",
                                    "DB": "2"
                                },
                                {
                                    "SZOBA_ID": "109",
                                    "DB": "7"
                                },
                                {
                                    "SZOBA_ID": "110",
                                    "DB": "8"
                                },
                                {
                                    "SZOBA_ID": "111",
                                    "DB": "5"
                                },
                                {
                                    "SZOBA_ID": "112",
                                    "DB": "5"
                                },
                                {
                                    "SZOBA_ID": "113",
                                    "DB": "5"
                                },
                                {
                                    "SZOBA_ID": "114",
                                    "DB": "4"
                                },
                                {
                                    "SZOBA_ID": "115",
                                    "DB": "7"
                                },
                                {
                                    "SZOBA_ID": "116",
                                    "DB": "2"
                                },
                                {
                                    "SZOBA_ID": "117",
                                    "DB": "8"
                                },
                                {
                                    "SZOBA_ID": "118",
                                    "DB": "7"
                                },
                                {
                                    "SZOBA_ID": "119",
                                    "DB": "5"
                                },
                                {
                                    "SZOBA_ID": "120",
                                    "DB": "6"
                                },
                                {
                                    "SZOBA_ID": "121",
                                    "DB": "8"
                                },
                                {
                                    "SZOBA_ID": "122",
                                    "DB": "9"
                                },
                                {
                                    "SZOBA_ID": "123",
                                    "DB": "5"
                                },
                                {
                                    "SZOBA_ID": "124",
                                    "DB": "6"
                                },
                                {
                                    "SZOBA_ID": "125",
                                    "DB": "1"
                                },
                                {
                                    "SZOBA_ID": "126",
                                    "DB": "6"
                                },
                                {
                                    "SZOBA_ID": "127",
                                    "DB": "7"
                                },
                                {
                                    "SZOBA_ID": "128",
                                    "DB": "5"
                                },
                                {
                                    "SZOBA_ID": "129",
                                    "DB": "4"
                                },
                                {
                                    "SZOBA_ID": "130",
                                    "DB": "6"
                                },
                                {
                                    "SZOBA_ID": "131",
                                    "DB": "5"
                                },
                                {
                                    "SZOBA_ID": "132",
                                    "DB": "6"
                                },
                                {
                                    "SZOBA_ID": "133",
                                    "DB": "6"
                                },
                                {
                                    "SZOBA_ID": "134",
                                    "DB": "6"
                                },
                                {
                                    "SZOBA_ID": "135",
                                    "DB": "3"
                                },
                                {
                                    "SZOBA_ID": "136",
                                    "DB": "3"
                                },
                                {
                                    "SZOBA_ID": "137",
                                    "DB": "6"
                                },
                                {
                                    "SZOBA_ID": "138",
                                    "DB": "7"
                                },
                                {
                                    "SZOBA_ID": "139",
                                    "DB": "7"
                                },
                                {
                                    "SZOBA_ID": "140",
                                    "DB": "8"
                                },
                                {
                                    "SZOBA_ID": "141",
                                    "DB": "6"
                                },
                                {
                                    "SZOBA_ID": "142",
                                    "DB": "2"
                                },
                                {
                                    "SZOBA_ID": "143",
                                    "DB": "7"
                                },
                                {
                                    "SZOBA_ID": "144",
                                    "DB": "5"
                                },
                                {
                                    "SZOBA_ID": "145",
                                    "DB": "6"
                                },
                                {
                                    "SZOBA_ID": "146",
                                    "DB": "6"
                                },
                                {
                                    "SZOBA_ID": "147",
                                    "DB": "1"
                                },
                                {
                                    "SZOBA_ID": "148",
                                    "DB": "6"
                                },
                                {
                                    "SZOBA_ID": "149",
                                    "DB": "7"
                                },
                                {
                                    "SZOBA_ID": "150",
                                    "DB": "6"
                                },
                                {
                                    "SZOBA_ID": "151",
                                    "DB": "3"
                                },
                                {
                                    "SZOBA_ID": "152",
                                    "DB": "4"
                                },
                                {
                                    "SZOBA_ID": "153",
                                    "DB": "5"
                                },
                                {
                                    "SZOBA_ID": "154",
                                    "DB": "5"
                                },
                                {
                                    "SZOBA_ID": "155",
                                    "DB": "5"
                                },
                                {
                                    "SZOBA_ID": "156",
                                    "DB": "7"
                                },
                                {
                                    "SZOBA_ID": "157",
                                    "DB": "5"
                                },
                                {
                                    "SZOBA_ID": "158",
                                    "DB": "3"
                                },
                                {
                                    "SZOBA_ID": "159",
                                    "DB": "1"
                                },
                                {
                                    "SZOBA_ID": "160",
                                    "DB": "5"
                                },
                                {
                                    "SZOBA_ID": "161",
                                    "DB": "6"
                                },
                                {
                                    "SZOBA_ID": "162",
                                    "DB": "3"
                                },
                                {
                                    "SZOBA_ID": "163",
                                    "DB": "7"
                                },
                                {
                                    "SZOBA_ID": "164",
                                    "DB": "5"
                                },
                                {
                                    "SZOBA_ID": "165",
                                    "DB": "7"
                                },
                                {
                                    "SZOBA_ID": "166",
                                    "DB": "3"
                                },
                                {
                                    "SZOBA_ID": "167",
                                    "DB": "2"
                                },
                                {
                                    "SZOBA_ID": "168",
                                    "DB": "5"
                                },
                                {
                                    "SZOBA_ID": "169",
                                    "DB": "6"
                                },
                                {
                                    "SZOBA_ID": "170",
                                    "DB": "5"
                                },
                                {
                                    "SZOBA_ID": "171",
                                    "DB": "5"
                                },
                                {
                                    "SZOBA_ID": "172",
                                    "DB": "9"
                                },
                                {
                                    "SZOBA_ID": "173",
                                    "DB": "4"
                                },
                                {
                                    "SZOBA_ID": "174",
                                    "DB": "4"
                                },
                                {
                                    "SZOBA_ID": "175",
                                    "DB": "5"
                                },
                                {
                                    "SZOBA_ID": "176",
                                    "DB": "6"
                                },
                                {
                                    "SZOBA_ID": "177",
                                    "DB": "4"
                                },
                                {
                                    "SZOBA_ID": "178",
                                    "DB": "4"
                                },
                                {
                                    "SZOBA_ID": "179",
                                    "DB": "3"
                                },
                                {
                                    "SZOBA_ID": "180",
                                    "DB": "3"
                                },
                                {
                                    "SZOBA_ID": "181",
                                    "DB": "6"
                                },
                                {
                                    "SZOBA_ID": "182",
                                    "DB": "12"
                                },
                                {
                                    "SZOBA_ID": "183",
                                    "DB": "4"
                                },
                                {
                                    "SZOBA_ID": "184",
                                    "DB": "4"
                                },
                                {
                                    "SZOBA_ID": "185",
                                    "DB": "12"
                                },
                                {
                                    "SZOBA_ID": "186",
                                    "DB": "4"
                                },
                                {
                                    "SZOBA_ID": "187",
                                    "DB": "7"
                                },
                                {
                                    "SZOBA_ID": "188",
                                    "DB": "6"
                                },
                                {
                                    "SZOBA_ID": "189",
                                    "DB": "5"
                                },
                                {
                                    "SZOBA_ID": "190",
                                    "DB": "5"
                                },
                                {
                                    "SZOBA_ID": "191",
                                    "DB": "5"
                                },
                                {
                                    "SZOBA_ID": "192",
                                    "DB": "2"
                                },
                                {
                                    "SZOBA_ID": "193",
                                    "DB": "7"
                                },
                                {
                                    "SZOBA_ID": "194",
                                    "DB": "1"
                                },
                                {
                                    "SZOBA_ID": "195",
                                    "DB": "6"
                                },
                                {
                                    "SZOBA_ID": "196",
                                    "DB": "4"
                                },
                                {
                                    "SZOBA_ID": "197",
                                    "DB": "6"
                                },
                                {
                                    "SZOBA_ID": "198",
                                    "DB": "8"
                                },
                                {
                                    "SZOBA_ID": "199",
                                    "DB": "1"
                                },
                                {
                                    "SZOBA_ID": "200",
                                    "DB": "1"
                                },
                                {
                                    "SZOBA_ID": "201",
                                    "DB": "1"
                                },
                                {
                                    "SZOBA_ID": "202",
                                    "DB": "1"
                                },
                                {
                                    "SZOBA_ID": "203",
                                    "DB": "1"
                                },
                                {
                                    "SZOBA_ID": "204",
                                    "DB": "1"
                                },
                                {
                                    "SZOBA_ID": "205",
                                    "DB": "1"
                                },
                                {
                                    "SZOBA_ID": "206",
                                    "DB": "1"
                                },
                                {
                                    "SZOBA_ID": "207",
                                    "DB": "1"
                                },
                                {
                                    "SZOBA_ID": "208",
                                    "DB": "1"
                                },
                                {
                                    "SZOBA_ID": "209",
                                    "DB": "1"
                                },
                                {
                                    "SZOBA_ID": "210",
                                    "DB": "1"
                                },
                                {
                                    "SZOBA_ID": "211",
                                    "DB": "1"
                                },
                                {
                                    "SZOBA_ID": "212",
                                    "DB": "1"
                                },
                                {
                                    "SZOBA_ID": "213",
                                    "DB": "1"
                                },
                                {
                                    "SZOBA_ID": "214",
                                    "DB": "1"
                                },
                                {
                                    "SZOBA_ID": "215",
                                    "DB": "1"
                                },
                                {
                                    "SZOBA_ID": "216",
                                    "DB": "1"
                                },
                                {
                                    "SZOBA_ID": "217",
                                    "DB": "1"
                                },
                                {
                                    "SZOBA_ID": "218",
                                    "DB": "1"
                                },
                                {
                                    "SZOBA_ID": "219",
                                    "DB": "1"
                                },
                                {
                                    "SZOBA_ID": "220",
                                    "DB": "1"
                                },
                                {
                                    "SZOBA_ID": "221",
                                    "DB": "1"
                                },
                                {
                                    "SZOBA_ID": "222",
                                    "DB": "1"
                                },
                                {
                                    "SZOBA_ID": "223",
                                    "DB": "1"
                                },
                                {
                                    "SZOBA_ID": "224",
                                    "DB": "1"
                                },
                                {
                                    "SZOBA_ID": "225",
                                    "DB": "1"
                                },
                                {
                                    "SZOBA_ID": "226",
                                    "DB": "1"
                                },
                                {
                                    "SZOBA_ID": "227",
                                    "DB": "1"
                                },
                                {
                                    "SZOBA_ID": "228",
                                    "DB": "1"
                                },
                                {
                                    "SZOBA_ID": "229",
                                    "DB": "1"
                                },
                                {
                                    "SZOBA_ID": "230",
                                    "DB": "1"
                                },
                                {
                                    "SZOBA_ID": "231",
                                    "DB": "1"
                                },
                                {
                                    "SZOBA_ID": "232",
                                    "DB": "1"
                                },
                                {
                                    "SZOBA_ID": "233",
                                    "DB": "1"
                                },
                                {
                                    "SZOBA_ID": "234",
                                    "DB": "1"
                                },
                                {
                                    "SZOBA_ID": "235",
                                    "DB": "1"
                                },
                                {
                                    "SZOBA_ID": "236",
                                    "DB": "1"
                                },
                                {
                                    "SZOBA_ID": "237",
                                    "DB": "1"
                                },
                                {
                                    "SZOBA_ID": "238",
                                    "DB": "1"
                                },
                                {
                                    "SZOBA_ID": "239",
                                    "DB": "1"
                                },
                                {
                                    "SZOBA_ID": "240",
                                    "DB": "1"
                                },
                                {
                                    "SZOBA_ID": "241",
                                    "DB": "1"
                                },
                                {
                                    "SZOBA_ID": "242",
                                    "DB": "1"
                                },
                                {
                                    "SZOBA_ID": "243",
                                    "DB": "1"
                                },
                                {
                                    "SZOBA_ID": "244",
                                    "DB": "1"
                                },
                                {
                                    "SZOBA_ID": "245",
                                    "DB": "1"
                                },
                                {
                                    "SZOBA_ID": "246",
                                    "DB": "1"
                                },
                                {
                                    "SZOBA_ID": "247",
                                    "DB": "1"
                                },
                                {
                                    "SZOBA_ID": "248",
                                    "DB": "1"
                                },
                                {
                                    "SZOBA_ID": "249",
                                    "DB": "1"
                                },
                                {
                                    "SZOBA_ID": "250",
                                    "DB": "1"
                                },
                                {
                                    "SZOBA_ID": "251",
                                    "DB": "1"
                                },
                                {
                                    "SZOBA_ID": "252",
                                    "DB": "1"
                                },
                                {
                                    "SZOBA_ID": "253",
                                    "DB": "1"
                                },
                                {
                                    "SZOBA_ID": "254",
                                    "DB": "1"
                                },
                                {
                                    "SZOBA_ID": "255",
                                    "DB": "1"
                                },
                                {
                                    "SZOBA_ID": "256",
                                    "DB": "1"
                                },
                                {
                                    "SZOBA_ID": "257",
                                    "DB": "1"
                                },
                                {
                                    "SZOBA_ID": "258",
                                    "DB": "1"
                                },
                                {
                                    "SZOBA_ID": "259",
                                    "DB": "1"
                                },
                                {
                                    "SZOBA_ID": "260",
                                    "DB": "1"
                                },
                                {
                                    "SZOBA_ID": "261",
                                    "DB": "1"
                                },
                                {
                                    "SZOBA_ID": "262",
                                    "DB": "1"
                                },
                                {
                                    "SZOBA_ID": "263",
                                    "DB": "1"
                                },
                                {
                                    "SZOBA_ID": "264",
                                    "DB": "1"
                                },
                                {
                                    "SZOBA_ID": "265",
                                    "DB": "1"
                                },
                                {
                                    "SZOBA_ID": "266",
                                    "DB": "1"
                                },
                                {
                                    "SZOBA_ID": "267",
                                    "DB": "1"
                                },
                                {
                                    "SZOBA_ID": "268",
                                    "DB": "1"
                                },
                                {
                                    "SZOBA_ID": "269",
                                    "DB": "1"
                                },
                                {
                                    "SZOBA_ID": "270",
                                    "DB": "1"
                                },
                                {
                                    "SZOBA_ID": "271",
                                    "DB": "1"
                                },
                                {
                                    "SZOBA_ID": "272",
                                    "DB": "1"
                                },
                                {
                                    "SZOBA_ID": "273",
                                    "DB": "1"
                                },
                                {
                                    "SZOBA_ID": "274",
                                    "DB": "1"
                                },
                                {
                                    "SZOBA_ID": "275",
                                    "DB": "1"
                                },
                                {
                                    "SZOBA_ID": "276",
                                    "DB": "1"
                                },
                                {
                                    "SZOBA_ID": "277",
                                    "DB": "1"
                                },
                                {
                                    "SZOBA_ID": "278",
                                    "DB": "1"
                                },
                                {
                                    "SZOBA_ID": "279",
                                    "DB": "1"
                                },
                                {
                                    "SZOBA_ID": "280",
                                    "DB": "1"
                                },
                                {
                                    "SZOBA_ID": "281",
                                    "DB": "1"
                                },
                                {
                                    "SZOBA_ID": "282",
                                    "DB": "1"
                                },
                                {
                                    "SZOBA_ID": "283",
                                    "DB": "1"
                                },
                                {
                                    "SZOBA_ID": "284",
                                    "DB": "1"
                                },
                                {
                                    "SZOBA_ID": "285",
                                    "DB": "1"
                                },
                                {
                                    "SZOBA_ID": "286",
                                    "DB": "1"
                                },
                                {
                                    "SZOBA_ID": "287",
                                    "DB": "1"
                                },
                                {
                                    "SZOBA_ID": "288",
                                    "DB": "1"
                                },
                                {
                                    "SZOBA_ID": "289",
                                    "DB": "1"
                                },
                                {
                                    "SZOBA_ID": "290",
                                    "DB": "1"
                                },
                                {
                                    "SZOBA_ID": "291",
                                    "DB": "1"
                                },
                                {
                                    "SZOBA_ID": "292",
                                    "DB": "1"
                                },
                                {
                                    "SZOBA_ID": "293",
                                    "DB": "1"
                                },
                                {
                                    "SZOBA_ID": "294",
                                    "DB": "1"
                                }
                            ]
                        },
                        "text/html": [
                            "<table>",
                            "<tr><th>SZOBA_ID</th><th>DB</th></tr>",
                            "<tr><td>1</td><td>8</td></tr>",
                            "<tr><td>2</td><td>4</td></tr>",
                            "<tr><td>3</td><td>8</td></tr>",
                            "<tr><td>4</td><td>6</td></tr>",
                            "<tr><td>5</td><td>4</td></tr>",
                            "<tr><td>6</td><td>6</td></tr>",
                            "<tr><td>7</td><td>6</td></tr>",
                            "<tr><td>8</td><td>5</td></tr>",
                            "<tr><td>9</td><td>6</td></tr>",
                            "<tr><td>10</td><td>4</td></tr>",
                            "<tr><td>11</td><td>4</td></tr>",
                            "<tr><td>12</td><td>9</td></tr>",
                            "<tr><td>13</td><td>4</td></tr>",
                            "<tr><td>14</td><td>3</td></tr>",
                            "<tr><td>15</td><td>6</td></tr>",
                            "<tr><td>16</td><td>5</td></tr>",
                            "<tr><td>17</td><td>6</td></tr>",
                            "<tr><td>18</td><td>6</td></tr>",
                            "<tr><td>19</td><td>6</td></tr>",
                            "<tr><td>20</td><td>5</td></tr>",
                            "<tr><td>21</td><td>4</td></tr>",
                            "<tr><td>22</td><td>6</td></tr>",
                            "<tr><td>23</td><td>3</td></tr>",
                            "<tr><td>24</td><td>3</td></tr>",
                            "<tr><td>25</td><td>2</td></tr>",
                            "<tr><td>26</td><td>2</td></tr>",
                            "<tr><td>27</td><td>7</td></tr>",
                            "<tr><td>28</td><td>6</td></tr>",
                            "<tr><td>29</td><td>6</td></tr>",
                            "<tr><td>30</td><td>3</td></tr>",
                            "<tr><td>31</td><td>3</td></tr>",
                            "<tr><td>32</td><td>1</td></tr>",
                            "<tr><td>33</td><td>6</td></tr>",
                            "<tr><td>34</td><td>4</td></tr>",
                            "<tr><td>35</td><td>9</td></tr>",
                            "<tr><td>36</td><td>6</td></tr>",
                            "<tr><td>37</td><td>3</td></tr>",
                            "<tr><td>38</td><td>8</td></tr>",
                            "<tr><td>39</td><td>7</td></tr>",
                            "<tr><td>40</td><td>4</td></tr>",
                            "<tr><td>41</td><td>2</td></tr>",
                            "<tr><td>42</td><td>6</td></tr>",
                            "<tr><td>43</td><td>8</td></tr>",
                            "<tr><td>44</td><td>6</td></tr>",
                            "<tr><td>45</td><td>5</td></tr>",
                            "<tr><td>46</td><td>4</td></tr>",
                            "<tr><td>47</td><td>2</td></tr>",
                            "<tr><td>48</td><td>9</td></tr>",
                            "<tr><td>49</td><td>7</td></tr>",
                            "<tr><td>50</td><td>4</td></tr>",
                            "<tr><td>51</td><td>5</td></tr>",
                            "<tr><td>52</td><td>5</td></tr>",
                            "<tr><td>53</td><td>2</td></tr>",
                            "<tr><td>54</td><td>6</td></tr>",
                            "<tr><td>55</td><td>8</td></tr>",
                            "<tr><td>56</td><td>2</td></tr>",
                            "<tr><td>57</td><td>4</td></tr>",
                            "<tr><td>58</td><td>13</td></tr>",
                            "<tr><td>59</td><td>7</td></tr>",
                            "<tr><td>60</td><td>1</td></tr>",
                            "<tr><td>61</td><td>5</td></tr>",
                            "<tr><td>62</td><td>5</td></tr>",
                            "<tr><td>63</td><td>4</td></tr>",
                            "<tr><td>64</td><td>6</td></tr>",
                            "<tr><td>65</td><td>1</td></tr>",
                            "<tr><td>66</td><td>4</td></tr>",
                            "<tr><td>67</td><td>6</td></tr>",
                            "<tr><td>68</td><td>3</td></tr>",
                            "<tr><td>69</td><td>4</td></tr>",
                            "<tr><td>70</td><td>11</td></tr>",
                            "<tr><td>71</td><td>3</td></tr>",
                            "<tr><td>72</td><td>4</td></tr>",
                            "<tr><td>73</td><td>4</td></tr>",
                            "<tr><td>74</td><td>9</td></tr>",
                            "<tr><td>75</td><td>3</td></tr>",
                            "<tr><td>76</td><td>3</td></tr>",
                            "<tr><td>77</td><td>6</td></tr>",
                            "<tr><td>78</td><td>6</td></tr>",
                            "<tr><td>79</td><td>5</td></tr>",
                            "<tr><td>80</td><td>7</td></tr>",
                            "<tr><td>81</td><td>5</td></tr>",
                            "<tr><td>82</td><td>6</td></tr>",
                            "<tr><td>83</td><td>8</td></tr>",
                            "<tr><td>84</td><td>4</td></tr>",
                            "<tr><td>85</td><td>4</td></tr>",
                            "<tr><td>86</td><td>5</td></tr>",
                            "<tr><td>87</td><td>5</td></tr>",
                            "<tr><td>88</td><td>8</td></tr>",
                            "<tr><td>89</td><td>8</td></tr>",
                            "<tr><td>90</td><td>4</td></tr>",
                            "<tr><td>91</td><td>4</td></tr>",
                            "<tr><td>92</td><td>6</td></tr>",
                            "<tr><td>93</td><td>5</td></tr>",
                            "<tr><td>94</td><td>10</td></tr>",
                            "<tr><td>95</td><td>4</td></tr>",
                            "<tr><td>96</td><td>7</td></tr>",
                            "<tr><td>97</td><td>7</td></tr>",
                            "<tr><td>98</td><td>4</td></tr>",
                            "<tr><td>99</td><td>5</td></tr>",
                            "<tr><td>100</td><td>4</td></tr>",
                            "<tr><td>101</td><td>3</td></tr>",
                            "<tr><td>102</td><td>2</td></tr>",
                            "<tr><td>103</td><td>4</td></tr>",
                            "<tr><td>104</td><td>4</td></tr>",
                            "<tr><td>105</td><td>2</td></tr>",
                            "<tr><td>106</td><td>6</td></tr>",
                            "<tr><td>107</td><td>5</td></tr>",
                            "<tr><td>108</td><td>2</td></tr>",
                            "<tr><td>109</td><td>7</td></tr>",
                            "<tr><td>110</td><td>8</td></tr>",
                            "<tr><td>111</td><td>5</td></tr>",
                            "<tr><td>112</td><td>5</td></tr>",
                            "<tr><td>113</td><td>5</td></tr>",
                            "<tr><td>114</td><td>4</td></tr>",
                            "<tr><td>115</td><td>7</td></tr>",
                            "<tr><td>116</td><td>2</td></tr>",
                            "<tr><td>117</td><td>8</td></tr>",
                            "<tr><td>118</td><td>7</td></tr>",
                            "<tr><td>119</td><td>5</td></tr>",
                            "<tr><td>120</td><td>6</td></tr>",
                            "<tr><td>121</td><td>8</td></tr>",
                            "<tr><td>122</td><td>9</td></tr>",
                            "<tr><td>123</td><td>5</td></tr>",
                            "<tr><td>124</td><td>6</td></tr>",
                            "<tr><td>125</td><td>1</td></tr>",
                            "<tr><td>126</td><td>6</td></tr>",
                            "<tr><td>127</td><td>7</td></tr>",
                            "<tr><td>128</td><td>5</td></tr>",
                            "<tr><td>129</td><td>4</td></tr>",
                            "<tr><td>130</td><td>6</td></tr>",
                            "<tr><td>131</td><td>5</td></tr>",
                            "<tr><td>132</td><td>6</td></tr>",
                            "<tr><td>133</td><td>6</td></tr>",
                            "<tr><td>134</td><td>6</td></tr>",
                            "<tr><td>135</td><td>3</td></tr>",
                            "<tr><td>136</td><td>3</td></tr>",
                            "<tr><td>137</td><td>6</td></tr>",
                            "<tr><td>138</td><td>7</td></tr>",
                            "<tr><td>139</td><td>7</td></tr>",
                            "<tr><td>140</td><td>8</td></tr>",
                            "<tr><td>141</td><td>6</td></tr>",
                            "<tr><td>142</td><td>2</td></tr>",
                            "<tr><td>143</td><td>7</td></tr>",
                            "<tr><td>144</td><td>5</td></tr>",
                            "<tr><td>145</td><td>6</td></tr>",
                            "<tr><td>146</td><td>6</td></tr>",
                            "<tr><td>147</td><td>1</td></tr>",
                            "<tr><td>148</td><td>6</td></tr>",
                            "<tr><td>149</td><td>7</td></tr>",
                            "<tr><td>150</td><td>6</td></tr>",
                            "<tr><td>151</td><td>3</td></tr>",
                            "<tr><td>152</td><td>4</td></tr>",
                            "<tr><td>153</td><td>5</td></tr>",
                            "<tr><td>154</td><td>5</td></tr>",
                            "<tr><td>155</td><td>5</td></tr>",
                            "<tr><td>156</td><td>7</td></tr>",
                            "<tr><td>157</td><td>5</td></tr>",
                            "<tr><td>158</td><td>3</td></tr>",
                            "<tr><td>159</td><td>1</td></tr>",
                            "<tr><td>160</td><td>5</td></tr>",
                            "<tr><td>161</td><td>6</td></tr>",
                            "<tr><td>162</td><td>3</td></tr>",
                            "<tr><td>163</td><td>7</td></tr>",
                            "<tr><td>164</td><td>5</td></tr>",
                            "<tr><td>165</td><td>7</td></tr>",
                            "<tr><td>166</td><td>3</td></tr>",
                            "<tr><td>167</td><td>2</td></tr>",
                            "<tr><td>168</td><td>5</td></tr>",
                            "<tr><td>169</td><td>6</td></tr>",
                            "<tr><td>170</td><td>5</td></tr>",
                            "<tr><td>171</td><td>5</td></tr>",
                            "<tr><td>172</td><td>9</td></tr>",
                            "<tr><td>173</td><td>4</td></tr>",
                            "<tr><td>174</td><td>4</td></tr>",
                            "<tr><td>175</td><td>5</td></tr>",
                            "<tr><td>176</td><td>6</td></tr>",
                            "<tr><td>177</td><td>4</td></tr>",
                            "<tr><td>178</td><td>4</td></tr>",
                            "<tr><td>179</td><td>3</td></tr>",
                            "<tr><td>180</td><td>3</td></tr>",
                            "<tr><td>181</td><td>6</td></tr>",
                            "<tr><td>182</td><td>12</td></tr>",
                            "<tr><td>183</td><td>4</td></tr>",
                            "<tr><td>184</td><td>4</td></tr>",
                            "<tr><td>185</td><td>12</td></tr>",
                            "<tr><td>186</td><td>4</td></tr>",
                            "<tr><td>187</td><td>7</td></tr>",
                            "<tr><td>188</td><td>6</td></tr>",
                            "<tr><td>189</td><td>5</td></tr>",
                            "<tr><td>190</td><td>5</td></tr>",
                            "<tr><td>191</td><td>5</td></tr>",
                            "<tr><td>192</td><td>2</td></tr>",
                            "<tr><td>193</td><td>7</td></tr>",
                            "<tr><td>194</td><td>1</td></tr>",
                            "<tr><td>195</td><td>6</td></tr>",
                            "<tr><td>196</td><td>4</td></tr>",
                            "<tr><td>197</td><td>6</td></tr>",
                            "<tr><td>198</td><td>8</td></tr>",
                            "<tr><td>199</td><td>1</td></tr>",
                            "<tr><td>200</td><td>1</td></tr>",
                            "<tr><td>201</td><td>1</td></tr>",
                            "<tr><td>202</td><td>1</td></tr>",
                            "<tr><td>203</td><td>1</td></tr>",
                            "<tr><td>204</td><td>1</td></tr>",
                            "<tr><td>205</td><td>1</td></tr>",
                            "<tr><td>206</td><td>1</td></tr>",
                            "<tr><td>207</td><td>1</td></tr>",
                            "<tr><td>208</td><td>1</td></tr>",
                            "<tr><td>209</td><td>1</td></tr>",
                            "<tr><td>210</td><td>1</td></tr>",
                            "<tr><td>211</td><td>1</td></tr>",
                            "<tr><td>212</td><td>1</td></tr>",
                            "<tr><td>213</td><td>1</td></tr>",
                            "<tr><td>214</td><td>1</td></tr>",
                            "<tr><td>215</td><td>1</td></tr>",
                            "<tr><td>216</td><td>1</td></tr>",
                            "<tr><td>217</td><td>1</td></tr>",
                            "<tr><td>218</td><td>1</td></tr>",
                            "<tr><td>219</td><td>1</td></tr>",
                            "<tr><td>220</td><td>1</td></tr>",
                            "<tr><td>221</td><td>1</td></tr>",
                            "<tr><td>222</td><td>1</td></tr>",
                            "<tr><td>223</td><td>1</td></tr>",
                            "<tr><td>224</td><td>1</td></tr>",
                            "<tr><td>225</td><td>1</td></tr>",
                            "<tr><td>226</td><td>1</td></tr>",
                            "<tr><td>227</td><td>1</td></tr>",
                            "<tr><td>228</td><td>1</td></tr>",
                            "<tr><td>229</td><td>1</td></tr>",
                            "<tr><td>230</td><td>1</td></tr>",
                            "<tr><td>231</td><td>1</td></tr>",
                            "<tr><td>232</td><td>1</td></tr>",
                            "<tr><td>233</td><td>1</td></tr>",
                            "<tr><td>234</td><td>1</td></tr>",
                            "<tr><td>235</td><td>1</td></tr>",
                            "<tr><td>236</td><td>1</td></tr>",
                            "<tr><td>237</td><td>1</td></tr>",
                            "<tr><td>238</td><td>1</td></tr>",
                            "<tr><td>239</td><td>1</td></tr>",
                            "<tr><td>240</td><td>1</td></tr>",
                            "<tr><td>241</td><td>1</td></tr>",
                            "<tr><td>242</td><td>1</td></tr>",
                            "<tr><td>243</td><td>1</td></tr>",
                            "<tr><td>244</td><td>1</td></tr>",
                            "<tr><td>245</td><td>1</td></tr>",
                            "<tr><td>246</td><td>1</td></tr>",
                            "<tr><td>247</td><td>1</td></tr>",
                            "<tr><td>248</td><td>1</td></tr>",
                            "<tr><td>249</td><td>1</td></tr>",
                            "<tr><td>250</td><td>1</td></tr>",
                            "<tr><td>251</td><td>1</td></tr>",
                            "<tr><td>252</td><td>1</td></tr>",
                            "<tr><td>253</td><td>1</td></tr>",
                            "<tr><td>254</td><td>1</td></tr>",
                            "<tr><td>255</td><td>1</td></tr>",
                            "<tr><td>256</td><td>1</td></tr>",
                            "<tr><td>257</td><td>1</td></tr>",
                            "<tr><td>258</td><td>1</td></tr>",
                            "<tr><td>259</td><td>1</td></tr>",
                            "<tr><td>260</td><td>1</td></tr>",
                            "<tr><td>261</td><td>1</td></tr>",
                            "<tr><td>262</td><td>1</td></tr>",
                            "<tr><td>263</td><td>1</td></tr>",
                            "<tr><td>264</td><td>1</td></tr>",
                            "<tr><td>265</td><td>1</td></tr>",
                            "<tr><td>266</td><td>1</td></tr>",
                            "<tr><td>267</td><td>1</td></tr>",
                            "<tr><td>268</td><td>1</td></tr>",
                            "<tr><td>269</td><td>1</td></tr>",
                            "<tr><td>270</td><td>1</td></tr>",
                            "<tr><td>271</td><td>1</td></tr>",
                            "<tr><td>272</td><td>1</td></tr>",
                            "<tr><td>273</td><td>1</td></tr>",
                            "<tr><td>274</td><td>1</td></tr>",
                            "<tr><td>275</td><td>1</td></tr>",
                            "<tr><td>276</td><td>1</td></tr>",
                            "<tr><td>277</td><td>1</td></tr>",
                            "<tr><td>278</td><td>1</td></tr>",
                            "<tr><td>279</td><td>1</td></tr>",
                            "<tr><td>280</td><td>1</td></tr>",
                            "<tr><td>281</td><td>1</td></tr>",
                            "<tr><td>282</td><td>1</td></tr>",
                            "<tr><td>283</td><td>1</td></tr>",
                            "<tr><td>284</td><td>1</td></tr>",
                            "<tr><td>285</td><td>1</td></tr>",
                            "<tr><td>286</td><td>1</td></tr>",
                            "<tr><td>287</td><td>1</td></tr>",
                            "<tr><td>288</td><td>1</td></tr>",
                            "<tr><td>289</td><td>1</td></tr>",
                            "<tr><td>290</td><td>1</td></tr>",
                            "<tr><td>291</td><td>1</td></tr>",
                            "<tr><td>292</td><td>1</td></tr>",
                            "<tr><td>293</td><td>1</td></tr>",
                            "<tr><td>294</td><td>1</td></tr>",
                            "</table>"
                        ]
                    }
                }
            ],
            "execution_count": 7
        },
        {
            "cell_type": "markdown",
            "source": [
                "Listázzuk azon vendégek adatait, akik a legtöbb férőhelyes szobát (vagy szobákat) már lefoglalták!\n",
                "\n",
                "- Csak klímás szoba jöhet számításba"
            ],
            "metadata": {
                "azdata_cell_guid": "9cc2c07b-6ec3-4260-8f22-d6cd10f2db3c"
            },
            "attachments": {}
        },
        {
            "cell_type": "code",
            "source": [
                "SELECT v.*\r\n",
                "FROM Szoba sz JOIN Foglalas f ON sz.SZOBA_ID = f.SZOBA_FK\r\n",
                "              JOIN Vendeg v ON f.UGYFEL_FK = v.USERNEV\r\n",
                "WHERE sz.KLIMAS = 'i' AND sz.FEROHELY = (SELECT MAX(FEROHELY)\r\n",
                "                                         FROM Szoba)"
            ],
            "metadata": {
                "azdata_cell_guid": "ade7cfaa-4f3a-4082-ba5f-41f3d445032b",
                "language": "sql"
            },
            "outputs": [
                {
                    "output_type": "display_data",
                    "data": {
                        "text/html": "(3 rows affected)"
                    },
                    "metadata": {}
                },
                {
                    "output_type": "display_data",
                    "data": {
                        "text/html": "Total execution time: 00:00:00.018"
                    },
                    "metadata": {}
                },
                {
                    "output_type": "execute_result",
                    "metadata": {},
                    "execution_count": 19,
                    "data": {
                        "application/vnd.dataresource+json": {
                            "schema": {
                                "fields": [
                                    {
                                        "name": "USERNEV"
                                    },
                                    {
                                        "name": "NEV"
                                    },
                                    {
                                        "name": "EMAIL"
                                    },
                                    {
                                        "name": "SZAML_CIM"
                                    },
                                    {
                                        "name": "SZUL_DAT"
                                    }
                                ]
                            },
                            "data": [
                                {
                                    "USERNEV": "JOZSEFG",
                                    "NEV": "Gyuris József",
                                    "EMAIL": "józsef.gyuris@mail.hu",
                                    "SZAML_CIM": "2660 Balassagyarmat Petőfi utca 1/2.",
                                    "SZUL_DAT": "1975-05-26"
                                },
                                {
                                    "USERNEV": "PETERB",
                                    "NEV": "Berendi Péter",
                                    "EMAIL": "péter.berendi@mail.hu",
                                    "SZAML_CIM": "3980 Sátoraljaújhely Vasút utca 4/10.",
                                    "SZUL_DAT": "1969-01-01"
                                },
                                {
                                    "USERNEV": "tunde",
                                    "NEV": "Turcsik Tünde",
                                    "EMAIL": "tunde@gmail.com",
                                    "SZAML_CIM": "7130 Tolna Fő út 122.",
                                    "SZUL_DAT": "1974-02-12"
                                }
                            ]
                        },
                        "text/html": [
                            "<table>",
                            "<tr><th>USERNEV</th><th>NEV</th><th>EMAIL</th><th>SZAML_CIM</th><th>SZUL_DAT</th></tr>",
                            "<tr><td>JOZSEFG</td><td>Gyuris József</td><td>józsef.gyuris@mail.hu</td><td>2660 Balassagyarmat Petőfi utca 1/2.</td><td>1975-05-26</td></tr>",
                            "<tr><td>PETERB</td><td>Berendi Péter</td><td>péter.berendi@mail.hu</td><td>3980 Sátoraljaújhely Vasút utca 4/10.</td><td>1969-01-01</td></tr>",
                            "<tr><td>tunde</td><td>Turcsik Tünde</td><td>tunde@gmail.com</td><td>7130 Tolna Fő út 122.</td><td>1974-02-12</td></tr>",
                            "</table>"
                        ]
                    }
                }
            ],
            "execution_count": 19
        },
        {
            "cell_type": "markdown",
            "source": [
                "Készítsen lekérdezést, amely sorszámozza a vendégeket a foglalások száma alapján\n",
                "\n",
                "- A sorszám mellett jelenjen meg a vendég azonosítója, neve és a foglalások száma is\n",
                "- A legtöbbet foglaló vendég kapja az egyes sorszámot\n",
                "- Holtverseny esetén a számozás annyit ugorjon, ahány egyforma érték van"
            ],
            "metadata": {
                "language": "sql",
                "azdata_cell_guid": "16f4a777-8c50-4cdd-ac4d-516fb5707f95"
            },
            "attachments": {}
        },
        {
            "cell_type": "code",
            "source": [
                "SELECT DENSE_RANK() OVER (ORDER BY COUNT(*) DESC) AS 'SORSZAM',\r\n",
                "       v.USERNEV,\r\n",
                "       v.NEV,\r\n",
                "       COUNT(*) AS 'FOGLALASOK'\r\n",
                "FROM Foglalas f JOIN Vendeg v ON f.UGYFEL_FK = v.USERNEV\r\n",
                "GROUP BY v.USERNEV, v.NEV"
            ],
            "metadata": {
                "language": "sql",
                "azdata_cell_guid": "47aeff44-3434-4146-9c48-bac9adc1a952"
            },
            "outputs": [
                {
                    "output_type": "display_data",
                    "data": {
                        "text/html": "(195 rows affected)"
                    },
                    "metadata": {}
                },
                {
                    "output_type": "display_data",
                    "data": {
                        "text/html": "Total execution time: 00:00:00.018"
                    },
                    "metadata": {}
                },
                {
                    "output_type": "execute_result",
                    "metadata": {},
                    "execution_count": 48,
                    "data": {
                        "application/vnd.dataresource+json": {
                            "schema": {
                                "fields": [
                                    {
                                        "name": "SORSZAM"
                                    },
                                    {
                                        "name": "USERNEV"
                                    },
                                    {
                                        "name": "NEV"
                                    },
                                    {
                                        "name": "FOGLALASOK"
                                    }
                                ]
                            },
                            "data": [
                                {
                                    "SORSZAM": "1",
                                    "USERNEV": "andras41",
                                    "NEV": "Komjáti András",
                                    "FOGLALASOK": "13"
                                },
                                {
                                    "SORSZAM": "1",
                                    "USERNEV": "ARONK",
                                    "NEV": "Kelemen Áron",
                                    "FOGLALASOK": "13"
                                },
                                {
                                    "SORSZAM": "2",
                                    "USERNEV": "krisztian4",
                                    "NEV": "Czérna Krisztián",
                                    "FOGLALASOK": "12"
                                },
                                {
                                    "SORSZAM": "2",
                                    "USERNEV": "peter4",
                                    "NEV": "Bíró Péter",
                                    "FOGLALASOK": "12"
                                },
                                {
                                    "SORSZAM": "2",
                                    "USERNEV": "sara",
                                    "NEV": "Farkas Sára",
                                    "FOGLALASOK": "12"
                                },
                                {
                                    "SORSZAM": "2",
                                    "USERNEV": "zoltan4",
                                    "NEV": "Barna Zoltán",
                                    "FOGLALASOK": "12"
                                },
                                {
                                    "SORSZAM": "3",
                                    "USERNEV": "kata",
                                    "NEV": "Gondos Katalin",
                                    "FOGLALASOK": "10"
                                },
                                {
                                    "SORSZAM": "3",
                                    "USERNEV": "akos",
                                    "NEV": "Bíró Ákos",
                                    "FOGLALASOK": "10"
                                },
                                {
                                    "SORSZAM": "3",
                                    "USERNEV": "balazs2",
                                    "NEV": "Szűcs Balázs",
                                    "FOGLALASOK": "10"
                                },
                                {
                                    "SORSZAM": "3",
                                    "USERNEV": "balint1",
                                    "NEV": "Molnár Bálint",
                                    "FOGLALASOK": "10"
                                },
                                {
                                    "SORSZAM": "3",
                                    "USERNEV": "eszter2",
                                    "NEV": "Balogh Eszter",
                                    "FOGLALASOK": "10"
                                },
                                {
                                    "SORSZAM": "4",
                                    "USERNEV": "dani",
                                    "NEV": "Vörös Dániel",
                                    "FOGLALASOK": "9"
                                },
                                {
                                    "SORSZAM": "4",
                                    "USERNEV": "daniel",
                                    "NEV": "Rácz Dániel",
                                    "FOGLALASOK": "9"
                                },
                                {
                                    "SORSZAM": "4",
                                    "USERNEV": "david",
                                    "NEV": "Ambrus Dávid",
                                    "FOGLALASOK": "9"
                                },
                                {
                                    "SORSZAM": "4",
                                    "USERNEV": "BEATRIXK",
                                    "NEV": "Kerényi Beatrix",
                                    "FOGLALASOK": "9"
                                },
                                {
                                    "SORSZAM": "4",
                                    "USERNEV": "bence",
                                    "NEV": "Győrffy Bence",
                                    "FOGLALASOK": "9"
                                },
                                {
                                    "SORSZAM": "4",
                                    "USERNEV": "ANIKOS",
                                    "NEV": "Simon Anikó",
                                    "FOGLALASOK": "9"
                                },
                                {
                                    "SORSZAM": "4",
                                    "USERNEV": "katalin",
                                    "NEV": "Horváth Katalin",
                                    "FOGLALASOK": "9"
                                },
                                {
                                    "SORSZAM": "4",
                                    "USERNEV": "katka",
                                    "NEV": "Kovács Katalin",
                                    "FOGLALASOK": "9"
                                },
                                {
                                    "SORSZAM": "4",
                                    "USERNEV": "norbert4",
                                    "NEV": "Mile Norbert",
                                    "FOGLALASOK": "9"
                                },
                                {
                                    "SORSZAM": "4",
                                    "USERNEV": "szilvia1",
                                    "NEV": "Tari Szilvia",
                                    "FOGLALASOK": "9"
                                },
                                {
                                    "SORSZAM": "4",
                                    "USERNEV": "TAMASF",
                                    "NEV": "Fényes Tamás",
                                    "FOGLALASOK": "9"
                                },
                                {
                                    "SORSZAM": "5",
                                    "USERNEV": "tunde",
                                    "NEV": "Turcsik Tünde",
                                    "FOGLALASOK": "8"
                                },
                                {
                                    "SORSZAM": "5",
                                    "USERNEV": "ROBERTI",
                                    "NEV": "Iván Róbert",
                                    "FOGLALASOK": "8"
                                },
                                {
                                    "SORSZAM": "5",
                                    "USERNEV": "MATYASS",
                                    "NEV": "Szilágyi Mátyás",
                                    "FOGLALASOK": "8"
                                },
                                {
                                    "SORSZAM": "5",
                                    "USERNEV": "krisztina",
                                    "NEV": "Szedlár Krisztina",
                                    "FOGLALASOK": "8"
                                },
                                {
                                    "SORSZAM": "5",
                                    "USERNEV": "maria1",
                                    "NEV": "Baráth Mária",
                                    "FOGLALASOK": "8"
                                },
                                {
                                    "SORSZAM": "5",
                                    "USERNEV": "fruzsina4",
                                    "NEV": "Frank Fruzsina",
                                    "FOGLALASOK": "8"
                                },
                                {
                                    "SORSZAM": "5",
                                    "USERNEV": "GYORGYO",
                                    "NEV": "Oroszi György",
                                    "FOGLALASOK": "8"
                                },
                                {
                                    "SORSZAM": "5",
                                    "USERNEV": "anett3",
                                    "NEV": "Pivarcsi Anett",
                                    "FOGLALASOK": "8"
                                },
                                {
                                    "SORSZAM": "5",
                                    "USERNEV": "andras3",
                                    "NEV": "Vígh András",
                                    "FOGLALASOK": "8"
                                },
                                {
                                    "SORSZAM": "5",
                                    "USERNEV": "bernadett2",
                                    "NEV": "Kovács Bernadett",
                                    "FOGLALASOK": "8"
                                },
                                {
                                    "SORSZAM": "5",
                                    "USERNEV": "csongor3",
                                    "NEV": "Nagymihály Csongor",
                                    "FOGLALASOK": "8"
                                },
                                {
                                    "SORSZAM": "6",
                                    "USERNEV": "daniel1",
                                    "NEV": "Keszler Dániel",
                                    "FOGLALASOK": "7"
                                },
                                {
                                    "SORSZAM": "6",
                                    "USERNEV": "edit",
                                    "NEV": "Bittmann Edit",
                                    "FOGLALASOK": "7"
                                },
                                {
                                    "SORSZAM": "6",
                                    "USERNEV": "emese",
                                    "NEV": "Kuruc Emese",
                                    "FOGLALASOK": "7"
                                },
                                {
                                    "SORSZAM": "6",
                                    "USERNEV": "BERNADETTO",
                                    "NEV": "Orbán Bernadett",
                                    "FOGLALASOK": "7"
                                },
                                {
                                    "SORSZAM": "6",
                                    "USERNEV": "bernadett1",
                                    "NEV": "Simon Bernadett",
                                    "FOGLALASOK": "7"
                                },
                                {
                                    "SORSZAM": "6",
                                    "USERNEV": "alexandra",
                                    "NEV": "Bagóczki Alexandra",
                                    "FOGLALASOK": "7"
                                },
                                {
                                    "SORSZAM": "6",
                                    "USERNEV": "andras21",
                                    "NEV": "Molnár András",
                                    "FOGLALASOK": "7"
                                },
                                {
                                    "SORSZAM": "6",
                                    "USERNEV": "arpad2",
                                    "NEV": "Ötvös Árpád",
                                    "FOGLALASOK": "7"
                                },
                                {
                                    "SORSZAM": "6",
                                    "USERNEV": "ARPADH",
                                    "NEV": "Horváth Árpád",
                                    "FOGLALASOK": "7"
                                },
                                {
                                    "SORSZAM": "6",
                                    "USERNEV": "imre1",
                                    "NEV": "Papp Imre",
                                    "FOGLALASOK": "7"
                                },
                                {
                                    "SORSZAM": "6",
                                    "USERNEV": "GYONGYIK",
                                    "NEV": "Kornseé Gyöngyi",
                                    "FOGLALASOK": "7"
                                },
                                {
                                    "SORSZAM": "6",
                                    "USERNEV": "kati",
                                    "NEV": "Zatykó Katalin",
                                    "FOGLALASOK": "7"
                                },
                                {
                                    "SORSZAM": "6",
                                    "USERNEV": "JANOSG",
                                    "NEV": "Giliga János",
                                    "FOGLALASOK": "7"
                                },
                                {
                                    "SORSZAM": "6",
                                    "USERNEV": "JOZSEFG",
                                    "NEV": "Gyuris József",
                                    "FOGLALASOK": "7"
                                },
                                {
                                    "SORSZAM": "6",
                                    "USERNEV": "marton",
                                    "NEV": "Kalacsi Márton",
                                    "FOGLALASOK": "7"
                                },
                                {
                                    "SORSZAM": "6",
                                    "USERNEV": "nikoletta4",
                                    "NEV": "Kő Nikoletta",
                                    "FOGLALASOK": "7"
                                },
                                {
                                    "SORSZAM": "6",
                                    "USERNEV": "norbert2",
                                    "NEV": "Hegedűs Norbert",
                                    "FOGLALASOK": "7"
                                },
                                {
                                    "SORSZAM": "6",
                                    "USERNEV": "SZABOLCSM",
                                    "NEV": "Miklós Szabolcs",
                                    "FOGLALASOK": "7"
                                },
                                {
                                    "SORSZAM": "6",
                                    "USERNEV": "SZILARDS",
                                    "NEV": "Szalai Szilárd",
                                    "FOGLALASOK": "7"
                                },
                                {
                                    "SORSZAM": "6",
                                    "USERNEV": "vivien3",
                                    "NEV": "Boros Vivien",
                                    "FOGLALASOK": "7"
                                },
                                {
                                    "SORSZAM": "7",
                                    "USERNEV": "ZSOLTJ",
                                    "NEV": "Józsa Zsolt",
                                    "FOGLALASOK": "6"
                                },
                                {
                                    "SORSZAM": "7",
                                    "USERNEV": "ZOLTANP",
                                    "NEV": "Pintér Zoltán",
                                    "FOGLALASOK": "6"
                                },
                                {
                                    "SORSZAM": "7",
                                    "USERNEV": "ZSUZSAV",
                                    "NEV": "Vajda Zsuzsa",
                                    "FOGLALASOK": "6"
                                },
                                {
                                    "SORSZAM": "7",
                                    "USERNEV": "veronika4",
                                    "NEV": "Tankó Veronika",
                                    "FOGLALASOK": "6"
                                },
                                {
                                    "SORSZAM": "7",
                                    "USERNEV": "tihamer",
                                    "NEV": "Kazy Tihamér",
                                    "FOGLALASOK": "6"
                                },
                                {
                                    "SORSZAM": "7",
                                    "USERNEV": "RENATAK",
                                    "NEV": "Kardos Renáta",
                                    "FOGLALASOK": "6"
                                },
                                {
                                    "SORSZAM": "7",
                                    "USERNEV": "polla",
                                    "NEV": "Palágyi Polla",
                                    "FOGLALASOK": "6"
                                },
                                {
                                    "SORSZAM": "7",
                                    "USERNEV": "peter3",
                                    "NEV": "Szalai Péter",
                                    "FOGLALASOK": "6"
                                },
                                {
                                    "SORSZAM": "7",
                                    "USERNEV": "MONIKAM",
                                    "NEV": "Mohos Mónika",
                                    "FOGLALASOK": "6"
                                },
                                {
                                    "SORSZAM": "7",
                                    "USERNEV": "kriszti",
                                    "NEV": "Horváth Krisztina",
                                    "FOGLALASOK": "6"
                                },
                                {
                                    "SORSZAM": "7",
                                    "USERNEV": "LASZLON",
                                    "NEV": "Nagy László",
                                    "FOGLALASOK": "6"
                                },
                                {
                                    "SORSZAM": "7",
                                    "USERNEV": "krisztina1",
                                    "NEV": "Bori Krisztina",
                                    "FOGLALASOK": "6"
                                },
                                {
                                    "SORSZAM": "7",
                                    "USERNEV": "KRISZTIANM",
                                    "NEV": "Mogyródi Krisztián",
                                    "FOGLALASOK": "6"
                                },
                                {
                                    "SORSZAM": "7",
                                    "USERNEV": "lala",
                                    "NEV": "Nagymihály Lajos",
                                    "FOGLALASOK": "6"
                                },
                                {
                                    "SORSZAM": "7",
                                    "USERNEV": "katalin4",
                                    "NEV": "Kertész Katalin",
                                    "FOGLALASOK": "6"
                                },
                                {
                                    "SORSZAM": "7",
                                    "USERNEV": "gabor1",
                                    "NEV": "Köves Gábor",
                                    "FOGLALASOK": "6"
                                },
                                {
                                    "SORSZAM": "7",
                                    "USERNEV": "gabriella1",
                                    "NEV": "Nagy Gabriella",
                                    "FOGLALASOK": "6"
                                },
                                {
                                    "SORSZAM": "7",
                                    "USERNEV": "ARPADM",
                                    "NEV": "Móricz Árpád",
                                    "FOGLALASOK": "6"
                                },
                                {
                                    "SORSZAM": "7",
                                    "USERNEV": "ANNAMARIAR",
                                    "NEV": "Regős Annamária",
                                    "FOGLALASOK": "6"
                                },
                                {
                                    "SORSZAM": "7",
                                    "USERNEV": "aron2",
                                    "NEV": "Jakab Áron",
                                    "FOGLALASOK": "6"
                                },
                                {
                                    "SORSZAM": "7",
                                    "USERNEV": "attila1",
                                    "NEV": "Gulyás Attila",
                                    "FOGLALASOK": "6"
                                },
                                {
                                    "SORSZAM": "7",
                                    "USERNEV": "andrea",
                                    "NEV": "Kiss Andrea",
                                    "FOGLALASOK": "6"
                                },
                                {
                                    "SORSZAM": "7",
                                    "USERNEV": "AGNESH",
                                    "NEV": "Horváth Ágnes",
                                    "FOGLALASOK": "6"
                                },
                                {
                                    "SORSZAM": "7",
                                    "USERNEV": "adam4",
                                    "NEV": "Bieniek Ádám",
                                    "FOGLALASOK": "6"
                                },
                                {
                                    "SORSZAM": "7",
                                    "USERNEV": "beata4",
                                    "NEV": "Bagi Beáta",
                                    "FOGLALASOK": "6"
                                },
                                {
                                    "SORSZAM": "7",
                                    "USERNEV": "BENCEB",
                                    "NEV": "Bajusz Bence",
                                    "FOGLALASOK": "6"
                                },
                                {
                                    "SORSZAM": "7",
                                    "USERNEV": "bertalan",
                                    "NEV": "Csiger Bertalan",
                                    "FOGLALASOK": "6"
                                },
                                {
                                    "SORSZAM": "7",
                                    "USERNEV": "BEATRIXS",
                                    "NEV": "Szekendi Beatrix",
                                    "FOGLALASOK": "6"
                                },
                                {
                                    "SORSZAM": "7",
                                    "USERNEV": "BELAF",
                                    "NEV": "Farkas Béla",
                                    "FOGLALASOK": "6"
                                },
                                {
                                    "SORSZAM": "7",
                                    "USERNEV": "balazs3",
                                    "NEV": "Bakódy Balázs",
                                    "FOGLALASOK": "6"
                                },
                                {
                                    "SORSZAM": "7",
                                    "USERNEV": "balazs1",
                                    "NEV": "Bozsik Balázs",
                                    "FOGLALASOK": "6"
                                },
                                {
                                    "SORSZAM": "7",
                                    "USERNEV": "david1",
                                    "NEV": "Sobják Dávid",
                                    "FOGLALASOK": "6"
                                },
                                {
                                    "SORSZAM": "7",
                                    "USERNEV": "denes",
                                    "NEV": "Tömböly Dénes",
                                    "FOGLALASOK": "6"
                                },
                                {
                                    "SORSZAM": "8",
                                    "USERNEV": "dora3",
                                    "NEV": "Sarodi Dóra",
                                    "FOGLALASOK": "5"
                                },
                                {
                                    "SORSZAM": "8",
                                    "USERNEV": "EVAV",
                                    "NEV": "Viktor Éva",
                                    "FOGLALASOK": "5"
                                },
                                {
                                    "SORSZAM": "8",
                                    "USERNEV": "brigitta",
                                    "NEV": "Székely Brigitta",
                                    "FOGLALASOK": "5"
                                },
                                {
                                    "SORSZAM": "8",
                                    "USERNEV": "brigitta3",
                                    "NEV": "Pataki Brigitta",
                                    "FOGLALASOK": "5"
                                },
                                {
                                    "SORSZAM": "8",
                                    "USERNEV": "agnes",
                                    "NEV": "Lengyel Ágnes",
                                    "FOGLALASOK": "5"
                                },
                                {
                                    "SORSZAM": "8",
                                    "USERNEV": "ANDRASE",
                                    "NEV": "Erdei András",
                                    "FOGLALASOK": "5"
                                },
                                {
                                    "SORSZAM": "8",
                                    "USERNEV": "andi",
                                    "NEV": "Maródi Andrea",
                                    "FOGLALASOK": "5"
                                },
                                {
                                    "SORSZAM": "8",
                                    "USERNEV": "andras2",
                                    "NEV": "Tóth András",
                                    "FOGLALASOK": "5"
                                },
                                {
                                    "SORSZAM": "8",
                                    "USERNEV": "gusztav",
                                    "NEV": "Bárci Gusztáv",
                                    "FOGLALASOK": "5"
                                },
                                {
                                    "SORSZAM": "8",
                                    "USERNEV": "julia",
                                    "NEV": "Tóth Júlia",
                                    "FOGLALASOK": "5"
                                },
                                {
                                    "SORSZAM": "8",
                                    "USERNEV": "janos3",
                                    "NEV": "Harangozó János",
                                    "FOGLALASOK": "5"
                                },
                                {
                                    "SORSZAM": "8",
                                    "USERNEV": "jozsef2",
                                    "NEV": "Vajda József",
                                    "FOGLALASOK": "5"
                                },
                                {
                                    "SORSZAM": "8",
                                    "USERNEV": "KRISZTINAG",
                                    "NEV": "Gyárfás Krisztina",
                                    "FOGLALASOK": "5"
                                },
                                {
                                    "SORSZAM": "8",
                                    "USERNEV": "laszlo2",
                                    "NEV": "Móra László",
                                    "FOGLALASOK": "5"
                                },
                                {
                                    "SORSZAM": "8",
                                    "USERNEV": "mark",
                                    "NEV": "Kispál Márk",
                                    "FOGLALASOK": "5"
                                },
                                {
                                    "SORSZAM": "8",
                                    "USERNEV": "MIHALYJ",
                                    "NEV": "Juhász Mihály",
                                    "FOGLALASOK": "5"
                                },
                                {
                                    "SORSZAM": "8",
                                    "USERNEV": "pal",
                                    "NEV": "Barabás Pál",
                                    "FOGLALASOK": "5"
                                },
                                {
                                    "SORSZAM": "8",
                                    "USERNEV": "norbert",
                                    "NEV": "Szűcs Norbert",
                                    "FOGLALASOK": "5"
                                },
                                {
                                    "SORSZAM": "8",
                                    "USERNEV": "PETERB",
                                    "NEV": "Berendi Péter",
                                    "FOGLALASOK": "5"
                                },
                                {
                                    "SORSZAM": "8",
                                    "USERNEV": "RENATAS",
                                    "NEV": "Szirmai Renáta",
                                    "FOGLALASOK": "5"
                                },
                                {
                                    "SORSZAM": "8",
                                    "USERNEV": "SEBASTIANF",
                                    "NEV": "Foltényi Sebastián",
                                    "FOGLALASOK": "5"
                                },
                                {
                                    "SORSZAM": "8",
                                    "USERNEV": "reka4",
                                    "NEV": "Szikszai Réka",
                                    "FOGLALASOK": "5"
                                },
                                {
                                    "SORSZAM": "8",
                                    "USERNEV": "timea2",
                                    "NEV": "Dusha Tímea",
                                    "FOGLALASOK": "5"
                                },
                                {
                                    "SORSZAM": "8",
                                    "USERNEV": "valentin",
                                    "NEV": "Feró Valentin",
                                    "FOGLALASOK": "5"
                                },
                                {
                                    "SORSZAM": "8",
                                    "USERNEV": "sandor3",
                                    "NEV": "Farkas Sándor",
                                    "FOGLALASOK": "5"
                                },
                                {
                                    "SORSZAM": "9",
                                    "USERNEV": "sandor4",
                                    "NEV": "Nagy Sándor",
                                    "FOGLALASOK": "4"
                                },
                                {
                                    "SORSZAM": "9",
                                    "USERNEV": "VIKTORIAU",
                                    "NEV": "Urbán Viktoria",
                                    "FOGLALASOK": "4"
                                },
                                {
                                    "SORSZAM": "9",
                                    "USERNEV": "tamas",
                                    "NEV": "Antal Tamás",
                                    "FOGLALASOK": "4"
                                },
                                {
                                    "SORSZAM": "9",
                                    "USERNEV": "sandor",
                                    "NEV": "Karasz Sándor",
                                    "FOGLALASOK": "4"
                                },
                                {
                                    "SORSZAM": "9",
                                    "USERNEV": "roland",
                                    "NEV": "Tóth Roland",
                                    "FOGLALASOK": "4"
                                },
                                {
                                    "SORSZAM": "9",
                                    "USERNEV": "roland1",
                                    "NEV": "Ferencz Roland",
                                    "FOGLALASOK": "4"
                                },
                                {
                                    "SORSZAM": "9",
                                    "USERNEV": "sebestyen",
                                    "NEV": "Rab Sebestyén",
                                    "FOGLALASOK": "4"
                                },
                                {
                                    "SORSZAM": "9",
                                    "USERNEV": "robert2",
                                    "NEV": "Patay Róbert",
                                    "FOGLALASOK": "4"
                                },
                                {
                                    "SORSZAM": "9",
                                    "USERNEV": "rajmond4",
                                    "NEV": "Rácz Rajmond",
                                    "FOGLALASOK": "4"
                                },
                                {
                                    "SORSZAM": "9",
                                    "USERNEV": "zsolt1",
                                    "NEV": "Pulai Zsolt",
                                    "FOGLALASOK": "4"
                                },
                                {
                                    "SORSZAM": "9",
                                    "USERNEV": "zsuzsa3",
                                    "NEV": "Varsányi Zsuzsa",
                                    "FOGLALASOK": "4"
                                },
                                {
                                    "SORSZAM": "9",
                                    "USERNEV": "zsuzsanna",
                                    "NEV": "Barta Zsuzsanna",
                                    "FOGLALASOK": "4"
                                },
                                {
                                    "SORSZAM": "9",
                                    "USERNEV": "nikolett3",
                                    "NEV": "Horváth Nikolett",
                                    "FOGLALASOK": "4"
                                },
                                {
                                    "SORSZAM": "9",
                                    "USERNEV": "peter1",
                                    "NEV": "Kozma Péter",
                                    "FOGLALASOK": "4"
                                },
                                {
                                    "SORSZAM": "9",
                                    "USERNEV": "peter2",
                                    "NEV": "Bozsó Péter",
                                    "FOGLALASOK": "4"
                                },
                                {
                                    "SORSZAM": "9",
                                    "USERNEV": "NIKOLETTAT",
                                    "NEV": "Tatár Nikoletta",
                                    "FOGLALASOK": "4"
                                },
                                {
                                    "SORSZAM": "9",
                                    "USERNEV": "MARKH",
                                    "NEV": "Horváth Márk",
                                    "FOGLALASOK": "4"
                                },
                                {
                                    "SORSZAM": "9",
                                    "USERNEV": "LASZLOA",
                                    "NEV": "Antal László",
                                    "FOGLALASOK": "4"
                                },
                                {
                                    "SORSZAM": "9",
                                    "USERNEV": "JANOSP",
                                    "NEV": "Pálinkás János",
                                    "FOGLALASOK": "4"
                                },
                                {
                                    "SORSZAM": "9",
                                    "USERNEV": "julianna4",
                                    "NEV": "Szabó Julianna",
                                    "FOGLALASOK": "4"
                                },
                                {
                                    "SORSZAM": "9",
                                    "USERNEV": "eva2",
                                    "NEV": "Perlinger Éva",
                                    "FOGLALASOK": "4"
                                },
                                {
                                    "SORSZAM": "9",
                                    "USERNEV": "georgij",
                                    "NEV": "Nyíri Georgij",
                                    "FOGLALASOK": "4"
                                },
                                {
                                    "SORSZAM": "9",
                                    "USERNEV": "gabor4",
                                    "NEV": "Telek Gábor",
                                    "FOGLALASOK": "4"
                                },
                                {
                                    "SORSZAM": "9",
                                    "USERNEV": "istvan1",
                                    "NEV": "Vizi István",
                                    "FOGLALASOK": "4"
                                },
                                {
                                    "SORSZAM": "9",
                                    "USERNEV": "ilona3",
                                    "NEV": "Bosnyák Ilona",
                                    "FOGLALASOK": "4"
                                },
                                {
                                    "SORSZAM": "9",
                                    "USERNEV": "aniko4",
                                    "NEV": "Böröcz Anikó",
                                    "FOGLALASOK": "4"
                                },
                                {
                                    "SORSZAM": "9",
                                    "USERNEV": "anita",
                                    "NEV": "Hamvay-Kovács Anita",
                                    "FOGLALASOK": "4"
                                },
                                {
                                    "SORSZAM": "9",
                                    "USERNEV": "andrea4",
                                    "NEV": "Neizer Andrea",
                                    "FOGLALASOK": "4"
                                },
                                {
                                    "SORSZAM": "9",
                                    "USERNEV": "ATTILAO",
                                    "NEV": "Opra Attila",
                                    "FOGLALASOK": "4"
                                },
                                {
                                    "SORSZAM": "9",
                                    "USERNEV": "ferenc1",
                                    "NEV": "Orosz Ferenc",
                                    "FOGLALASOK": "4"
                                },
                                {
                                    "SORSZAM": "9",
                                    "USERNEV": "ESZTERE",
                                    "NEV": "Érsek Eszter",
                                    "FOGLALASOK": "4"
                                },
                                {
                                    "SORSZAM": "9",
                                    "USERNEV": "eszter",
                                    "NEV": "Molnár Eszter",
                                    "FOGLALASOK": "4"
                                },
                                {
                                    "SORSZAM": "9",
                                    "USERNEV": "debora",
                                    "NEV": "Barna Debóra",
                                    "FOGLALASOK": "4"
                                },
                                {
                                    "SORSZAM": "10",
                                    "USERNEV": "eszter4",
                                    "NEV": "Fülöp Eszter",
                                    "FOGLALASOK": "3"
                                },
                                {
                                    "SORSZAM": "10",
                                    "USERNEV": "balint",
                                    "NEV": "Horváth Bálint",
                                    "FOGLALASOK": "3"
                                },
                                {
                                    "SORSZAM": "10",
                                    "USERNEV": "ANDREAT",
                                    "NEV": "Tornyos Andrea",
                                    "FOGLALASOK": "3"
                                },
                                {
                                    "SORSZAM": "10",
                                    "USERNEV": "aniko",
                                    "NEV": "Tóth Anikó",
                                    "FOGLALASOK": "3"
                                },
                                {
                                    "SORSZAM": "10",
                                    "USERNEV": "attila4",
                                    "NEV": "Baróti Attila",
                                    "FOGLALASOK": "3"
                                },
                                {
                                    "SORSZAM": "10",
                                    "USERNEV": "attila",
                                    "NEV": "Csóti Attila",
                                    "FOGLALASOK": "3"
                                },
                                {
                                    "SORSZAM": "10",
                                    "USERNEV": "andras4",
                                    "NEV": "Back András",
                                    "FOGLALASOK": "3"
                                },
                                {
                                    "SORSZAM": "10",
                                    "USERNEV": "agnes3",
                                    "NEV": "Hartyánszky Ágnes",
                                    "FOGLALASOK": "3"
                                },
                                {
                                    "SORSZAM": "10",
                                    "USERNEV": "adam1",
                                    "NEV": "Kiss Ádám",
                                    "FOGLALASOK": "3"
                                },
                                {
                                    "SORSZAM": "10",
                                    "USERNEV": "AGNESK",
                                    "NEV": "Kovács Ágnes",
                                    "FOGLALASOK": "3"
                                },
                                {
                                    "SORSZAM": "10",
                                    "USERNEV": "aladar",
                                    "NEV": "Dunai Aladár",
                                    "FOGLALASOK": "3"
                                },
                                {
                                    "SORSZAM": "10",
                                    "USERNEV": "henrik3",
                                    "NEV": "Nádudvari Henrik",
                                    "FOGLALASOK": "3"
                                },
                                {
                                    "SORSZAM": "10",
                                    "USERNEV": "IBOLYAA",
                                    "NEV": "Andor Ibolya",
                                    "FOGLALASOK": "3"
                                },
                                {
                                    "SORSZAM": "10",
                                    "USERNEV": "istvan",
                                    "NEV": "Soós István",
                                    "FOGLALASOK": "3"
                                },
                                {
                                    "SORSZAM": "10",
                                    "USERNEV": "klaudia2",
                                    "NEV": "Bakó Klaudia",
                                    "FOGLALASOK": "3"
                                },
                                {
                                    "SORSZAM": "10",
                                    "USERNEV": "kornel4",
                                    "NEV": "Lukács Kornél",
                                    "FOGLALASOK": "3"
                                },
                                {
                                    "SORSZAM": "10",
                                    "USERNEV": "jozsef",
                                    "NEV": "Gergely József",
                                    "FOGLALASOK": "3"
                                },
                                {
                                    "SORSZAM": "10",
                                    "USERNEV": "JUDITH",
                                    "NEV": "Hídasi Judit",
                                    "FOGLALASOK": "3"
                                },
                                {
                                    "SORSZAM": "10",
                                    "USERNEV": "MATEK",
                                    "NEV": "Koza Máté",
                                    "FOGLALASOK": "3"
                                },
                                {
                                    "SORSZAM": "10",
                                    "USERNEV": "lajos",
                                    "NEV": "Kiss Lajos",
                                    "FOGLALASOK": "3"
                                },
                                {
                                    "SORSZAM": "10",
                                    "USERNEV": "NANDORF",
                                    "NEV": "Fő Nándor",
                                    "FOGLALASOK": "3"
                                },
                                {
                                    "SORSZAM": "10",
                                    "USERNEV": "miklos2",
                                    "NEV": "Gondos Miklós",
                                    "FOGLALASOK": "3"
                                },
                                {
                                    "SORSZAM": "10",
                                    "USERNEV": "MIKLOSB",
                                    "NEV": "Balla Miklós",
                                    "FOGLALASOK": "3"
                                },
                                {
                                    "SORSZAM": "10",
                                    "USERNEV": "norbert5",
                                    "NEV": "Béres Norbert",
                                    "FOGLALASOK": "3"
                                },
                                {
                                    "SORSZAM": "10",
                                    "USERNEV": "ZOLTANT",
                                    "NEV": "Tóth Zoltán",
                                    "FOGLALASOK": "3"
                                },
                                {
                                    "SORSZAM": "10",
                                    "USERNEV": "zsuzsa",
                                    "NEV": "Pusztai Zsuzsanna",
                                    "FOGLALASOK": "3"
                                },
                                {
                                    "SORSZAM": "10",
                                    "USERNEV": "roza2",
                                    "NEV": "Bucskó Róza",
                                    "FOGLALASOK": "3"
                                },
                                {
                                    "SORSZAM": "11",
                                    "USERNEV": "ROBERTP",
                                    "NEV": "Pásztor Róbert",
                                    "FOGLALASOK": "2"
                                },
                                {
                                    "SORSZAM": "11",
                                    "USERNEV": "VIKTORK",
                                    "NEV": "Keresztúri Viktor",
                                    "FOGLALASOK": "2"
                                },
                                {
                                    "SORSZAM": "11",
                                    "USERNEV": "tibor",
                                    "NEV": "Gombos Tibor",
                                    "FOGLALASOK": "2"
                                },
                                {
                                    "SORSZAM": "11",
                                    "USERNEV": "tamara2",
                                    "NEV": "Miklós Tamara",
                                    "FOGLALASOK": "2"
                                },
                                {
                                    "SORSZAM": "11",
                                    "USERNEV": "zoltan",
                                    "NEV": "Fodor Zoltán",
                                    "FOGLALASOK": "2"
                                },
                                {
                                    "SORSZAM": "11",
                                    "USERNEV": "zsofi1",
                                    "NEV": "Molnár Zsófi",
                                    "FOGLALASOK": "2"
                                },
                                {
                                    "SORSZAM": "11",
                                    "USERNEV": "matyas2",
                                    "NEV": "Botka Mátyás",
                                    "FOGLALASOK": "2"
                                },
                                {
                                    "SORSZAM": "11",
                                    "USERNEV": "julia4",
                                    "NEV": "Nagy Júlia",
                                    "FOGLALASOK": "2"
                                },
                                {
                                    "SORSZAM": "11",
                                    "USERNEV": "kristof4",
                                    "NEV": "Poprádi Kristóf",
                                    "FOGLALASOK": "2"
                                },
                                {
                                    "SORSZAM": "11",
                                    "USERNEV": "ISTVANV",
                                    "NEV": "Varga István",
                                    "FOGLALASOK": "2"
                                },
                                {
                                    "SORSZAM": "11",
                                    "USERNEV": "imre",
                                    "NEV": "Búza Imre",
                                    "FOGLALASOK": "2"
                                },
                                {
                                    "SORSZAM": "11",
                                    "USERNEV": "adam3",
                                    "NEV": "Barkóci Ádám",
                                    "FOGLALASOK": "2"
                                },
                                {
                                    "SORSZAM": "11",
                                    "USERNEV": "annamaria1",
                                    "NEV": "Szűcs Annamária",
                                    "FOGLALASOK": "2"
                                },
                                {
                                    "SORSZAM": "11",
                                    "USERNEV": "balint2",
                                    "NEV": "Vukasinovity Bálint",
                                    "FOGLALASOK": "2"
                                },
                                {
                                    "SORSZAM": "11",
                                    "USERNEV": "balu",
                                    "NEV": "Endresz Bálint",
                                    "FOGLALASOK": "2"
                                },
                                {
                                    "SORSZAM": "11",
                                    "USERNEV": "eva",
                                    "NEV": "Enyedi Éva",
                                    "FOGLALASOK": "2"
                                },
                                {
                                    "SORSZAM": "12",
                                    "USERNEV": "david4",
                                    "NEV": "Berta Dávid",
                                    "FOGLALASOK": "1"
                                },
                                {
                                    "SORSZAM": "12",
                                    "USERNEV": "ANDRASN",
                                    "NEV": "Nagy András",
                                    "FOGLALASOK": "1"
                                },
                                {
                                    "SORSZAM": "12",
                                    "USERNEV": "andrea3",
                                    "NEV": "Szomor Andrea",
                                    "FOGLALASOK": "1"
                                },
                                {
                                    "SORSZAM": "12",
                                    "USERNEV": "gabriella10",
                                    "NEV": "Vida Gabriella",
                                    "FOGLALASOK": "1"
                                },
                                {
                                    "SORSZAM": "12",
                                    "USERNEV": "laszlo1",
                                    "NEV": "Farkas László",
                                    "FOGLALASOK": "1"
                                },
                                {
                                    "SORSZAM": "12",
                                    "USERNEV": "tibor2",
                                    "NEV": "Dániel Tibor",
                                    "FOGLALASOK": "1"
                                },
                                {
                                    "SORSZAM": "12",
                                    "USERNEV": "timea",
                                    "NEV": "Papós Tímea",
                                    "FOGLALASOK": "1"
                                },
                                {
                                    "SORSZAM": "12",
                                    "USERNEV": "szabolcs",
                                    "NEV": "Bodor Szabolcs",
                                    "FOGLALASOK": "1"
                                }
                            ]
                        },
                        "text/html": [
                            "<table>",
                            "<tr><th>SORSZAM</th><th>USERNEV</th><th>NEV</th><th>FOGLALASOK</th></tr>",
                            "<tr><td>1</td><td>andras41</td><td>Komjáti András</td><td>13</td></tr>",
                            "<tr><td>1</td><td>ARONK</td><td>Kelemen Áron</td><td>13</td></tr>",
                            "<tr><td>2</td><td>krisztian4</td><td>Czérna Krisztián</td><td>12</td></tr>",
                            "<tr><td>2</td><td>peter4</td><td>Bíró Péter</td><td>12</td></tr>",
                            "<tr><td>2</td><td>sara</td><td>Farkas Sára</td><td>12</td></tr>",
                            "<tr><td>2</td><td>zoltan4</td><td>Barna Zoltán</td><td>12</td></tr>",
                            "<tr><td>3</td><td>kata</td><td>Gondos Katalin</td><td>10</td></tr>",
                            "<tr><td>3</td><td>akos</td><td>Bíró Ákos</td><td>10</td></tr>",
                            "<tr><td>3</td><td>balazs2</td><td>Szűcs Balázs</td><td>10</td></tr>",
                            "<tr><td>3</td><td>balint1</td><td>Molnár Bálint</td><td>10</td></tr>",
                            "<tr><td>3</td><td>eszter2</td><td>Balogh Eszter</td><td>10</td></tr>",
                            "<tr><td>4</td><td>dani</td><td>Vörös Dániel</td><td>9</td></tr>",
                            "<tr><td>4</td><td>daniel</td><td>Rácz Dániel</td><td>9</td></tr>",
                            "<tr><td>4</td><td>david</td><td>Ambrus Dávid</td><td>9</td></tr>",
                            "<tr><td>4</td><td>BEATRIXK</td><td>Kerényi Beatrix</td><td>9</td></tr>",
                            "<tr><td>4</td><td>bence</td><td>Győrffy Bence</td><td>9</td></tr>",
                            "<tr><td>4</td><td>ANIKOS</td><td>Simon Anikó</td><td>9</td></tr>",
                            "<tr><td>4</td><td>katalin</td><td>Horváth Katalin</td><td>9</td></tr>",
                            "<tr><td>4</td><td>katka</td><td>Kovács Katalin</td><td>9</td></tr>",
                            "<tr><td>4</td><td>norbert4</td><td>Mile Norbert</td><td>9</td></tr>",
                            "<tr><td>4</td><td>szilvia1</td><td>Tari Szilvia</td><td>9</td></tr>",
                            "<tr><td>4</td><td>TAMASF</td><td>Fényes Tamás</td><td>9</td></tr>",
                            "<tr><td>5</td><td>tunde</td><td>Turcsik Tünde</td><td>8</td></tr>",
                            "<tr><td>5</td><td>ROBERTI</td><td>Iván Róbert</td><td>8</td></tr>",
                            "<tr><td>5</td><td>MATYASS</td><td>Szilágyi Mátyás</td><td>8</td></tr>",
                            "<tr><td>5</td><td>krisztina</td><td>Szedlár Krisztina</td><td>8</td></tr>",
                            "<tr><td>5</td><td>maria1</td><td>Baráth Mária</td><td>8</td></tr>",
                            "<tr><td>5</td><td>fruzsina4</td><td>Frank Fruzsina</td><td>8</td></tr>",
                            "<tr><td>5</td><td>GYORGYO</td><td>Oroszi György</td><td>8</td></tr>",
                            "<tr><td>5</td><td>anett3</td><td>Pivarcsi Anett</td><td>8</td></tr>",
                            "<tr><td>5</td><td>andras3</td><td>Vígh András</td><td>8</td></tr>",
                            "<tr><td>5</td><td>bernadett2</td><td>Kovács Bernadett</td><td>8</td></tr>",
                            "<tr><td>5</td><td>csongor3</td><td>Nagymihály Csongor</td><td>8</td></tr>",
                            "<tr><td>6</td><td>daniel1</td><td>Keszler Dániel</td><td>7</td></tr>",
                            "<tr><td>6</td><td>edit</td><td>Bittmann Edit</td><td>7</td></tr>",
                            "<tr><td>6</td><td>emese</td><td>Kuruc Emese</td><td>7</td></tr>",
                            "<tr><td>6</td><td>BERNADETTO</td><td>Orbán Bernadett</td><td>7</td></tr>",
                            "<tr><td>6</td><td>bernadett1</td><td>Simon Bernadett</td><td>7</td></tr>",
                            "<tr><td>6</td><td>alexandra</td><td>Bagóczki Alexandra</td><td>7</td></tr>",
                            "<tr><td>6</td><td>andras21</td><td>Molnár András</td><td>7</td></tr>",
                            "<tr><td>6</td><td>arpad2</td><td>Ötvös Árpád</td><td>7</td></tr>",
                            "<tr><td>6</td><td>ARPADH</td><td>Horváth Árpád</td><td>7</td></tr>",
                            "<tr><td>6</td><td>imre1</td><td>Papp Imre</td><td>7</td></tr>",
                            "<tr><td>6</td><td>GYONGYIK</td><td>Kornseé Gyöngyi</td><td>7</td></tr>",
                            "<tr><td>6</td><td>kati</td><td>Zatykó Katalin</td><td>7</td></tr>",
                            "<tr><td>6</td><td>JANOSG</td><td>Giliga János</td><td>7</td></tr>",
                            "<tr><td>6</td><td>JOZSEFG</td><td>Gyuris József</td><td>7</td></tr>",
                            "<tr><td>6</td><td>marton</td><td>Kalacsi Márton</td><td>7</td></tr>",
                            "<tr><td>6</td><td>nikoletta4</td><td>Kő Nikoletta</td><td>7</td></tr>",
                            "<tr><td>6</td><td>norbert2</td><td>Hegedűs Norbert</td><td>7</td></tr>",
                            "<tr><td>6</td><td>SZABOLCSM</td><td>Miklós Szabolcs</td><td>7</td></tr>",
                            "<tr><td>6</td><td>SZILARDS</td><td>Szalai Szilárd</td><td>7</td></tr>",
                            "<tr><td>6</td><td>vivien3</td><td>Boros Vivien</td><td>7</td></tr>",
                            "<tr><td>7</td><td>ZSOLTJ</td><td>Józsa Zsolt</td><td>6</td></tr>",
                            "<tr><td>7</td><td>ZOLTANP</td><td>Pintér Zoltán</td><td>6</td></tr>",
                            "<tr><td>7</td><td>ZSUZSAV</td><td>Vajda Zsuzsa</td><td>6</td></tr>",
                            "<tr><td>7</td><td>veronika4</td><td>Tankó Veronika</td><td>6</td></tr>",
                            "<tr><td>7</td><td>tihamer</td><td>Kazy Tihamér</td><td>6</td></tr>",
                            "<tr><td>7</td><td>RENATAK</td><td>Kardos Renáta</td><td>6</td></tr>",
                            "<tr><td>7</td><td>polla</td><td>Palágyi Polla</td><td>6</td></tr>",
                            "<tr><td>7</td><td>peter3</td><td>Szalai Péter</td><td>6</td></tr>",
                            "<tr><td>7</td><td>MONIKAM</td><td>Mohos Mónika</td><td>6</td></tr>",
                            "<tr><td>7</td><td>kriszti</td><td>Horváth Krisztina</td><td>6</td></tr>",
                            "<tr><td>7</td><td>LASZLON</td><td>Nagy László</td><td>6</td></tr>",
                            "<tr><td>7</td><td>krisztina1</td><td>Bori Krisztina</td><td>6</td></tr>",
                            "<tr><td>7</td><td>KRISZTIANM</td><td>Mogyródi Krisztián</td><td>6</td></tr>",
                            "<tr><td>7</td><td>lala</td><td>Nagymihály Lajos</td><td>6</td></tr>",
                            "<tr><td>7</td><td>katalin4</td><td>Kertész Katalin</td><td>6</td></tr>",
                            "<tr><td>7</td><td>gabor1</td><td>Köves Gábor</td><td>6</td></tr>",
                            "<tr><td>7</td><td>gabriella1</td><td>Nagy Gabriella</td><td>6</td></tr>",
                            "<tr><td>7</td><td>ARPADM</td><td>Móricz Árpád</td><td>6</td></tr>",
                            "<tr><td>7</td><td>ANNAMARIAR</td><td>Regős Annamária</td><td>6</td></tr>",
                            "<tr><td>7</td><td>aron2</td><td>Jakab Áron</td><td>6</td></tr>",
                            "<tr><td>7</td><td>attila1</td><td>Gulyás Attila</td><td>6</td></tr>",
                            "<tr><td>7</td><td>andrea</td><td>Kiss Andrea</td><td>6</td></tr>",
                            "<tr><td>7</td><td>AGNESH</td><td>Horváth Ágnes</td><td>6</td></tr>",
                            "<tr><td>7</td><td>adam4</td><td>Bieniek Ádám</td><td>6</td></tr>",
                            "<tr><td>7</td><td>beata4</td><td>Bagi Beáta</td><td>6</td></tr>",
                            "<tr><td>7</td><td>BENCEB</td><td>Bajusz Bence</td><td>6</td></tr>",
                            "<tr><td>7</td><td>bertalan</td><td>Csiger Bertalan</td><td>6</td></tr>",
                            "<tr><td>7</td><td>BEATRIXS</td><td>Szekendi Beatrix</td><td>6</td></tr>",
                            "<tr><td>7</td><td>BELAF</td><td>Farkas Béla</td><td>6</td></tr>",
                            "<tr><td>7</td><td>balazs3</td><td>Bakódy Balázs</td><td>6</td></tr>",
                            "<tr><td>7</td><td>balazs1</td><td>Bozsik Balázs</td><td>6</td></tr>",
                            "<tr><td>7</td><td>david1</td><td>Sobják Dávid</td><td>6</td></tr>",
                            "<tr><td>7</td><td>denes</td><td>Tömböly Dénes</td><td>6</td></tr>",
                            "<tr><td>8</td><td>dora3</td><td>Sarodi Dóra</td><td>5</td></tr>",
                            "<tr><td>8</td><td>EVAV</td><td>Viktor Éva</td><td>5</td></tr>",
                            "<tr><td>8</td><td>brigitta</td><td>Székely Brigitta</td><td>5</td></tr>",
                            "<tr><td>8</td><td>brigitta3</td><td>Pataki Brigitta</td><td>5</td></tr>",
                            "<tr><td>8</td><td>agnes</td><td>Lengyel Ágnes</td><td>5</td></tr>",
                            "<tr><td>8</td><td>ANDRASE</td><td>Erdei András</td><td>5</td></tr>",
                            "<tr><td>8</td><td>andi</td><td>Maródi Andrea</td><td>5</td></tr>",
                            "<tr><td>8</td><td>andras2</td><td>Tóth András</td><td>5</td></tr>",
                            "<tr><td>8</td><td>gusztav</td><td>Bárci Gusztáv</td><td>5</td></tr>",
                            "<tr><td>8</td><td>julia</td><td>Tóth Júlia</td><td>5</td></tr>",
                            "<tr><td>8</td><td>janos3</td><td>Harangozó János</td><td>5</td></tr>",
                            "<tr><td>8</td><td>jozsef2</td><td>Vajda József</td><td>5</td></tr>",
                            "<tr><td>8</td><td>KRISZTINAG</td><td>Gyárfás Krisztina</td><td>5</td></tr>",
                            "<tr><td>8</td><td>laszlo2</td><td>Móra László</td><td>5</td></tr>",
                            "<tr><td>8</td><td>mark</td><td>Kispál Márk</td><td>5</td></tr>",
                            "<tr><td>8</td><td>MIHALYJ</td><td>Juhász Mihály</td><td>5</td></tr>",
                            "<tr><td>8</td><td>pal</td><td>Barabás Pál</td><td>5</td></tr>",
                            "<tr><td>8</td><td>norbert</td><td>Szűcs Norbert</td><td>5</td></tr>",
                            "<tr><td>8</td><td>PETERB</td><td>Berendi Péter</td><td>5</td></tr>",
                            "<tr><td>8</td><td>RENATAS</td><td>Szirmai Renáta</td><td>5</td></tr>",
                            "<tr><td>8</td><td>SEBASTIANF</td><td>Foltényi Sebastián</td><td>5</td></tr>",
                            "<tr><td>8</td><td>reka4</td><td>Szikszai Réka</td><td>5</td></tr>",
                            "<tr><td>8</td><td>timea2</td><td>Dusha Tímea</td><td>5</td></tr>",
                            "<tr><td>8</td><td>valentin</td><td>Feró Valentin</td><td>5</td></tr>",
                            "<tr><td>8</td><td>sandor3</td><td>Farkas Sándor</td><td>5</td></tr>",
                            "<tr><td>9</td><td>sandor4</td><td>Nagy Sándor</td><td>4</td></tr>",
                            "<tr><td>9</td><td>VIKTORIAU</td><td>Urbán Viktoria</td><td>4</td></tr>",
                            "<tr><td>9</td><td>tamas</td><td>Antal Tamás</td><td>4</td></tr>",
                            "<tr><td>9</td><td>sandor</td><td>Karasz Sándor</td><td>4</td></tr>",
                            "<tr><td>9</td><td>roland</td><td>Tóth Roland</td><td>4</td></tr>",
                            "<tr><td>9</td><td>roland1</td><td>Ferencz Roland</td><td>4</td></tr>",
                            "<tr><td>9</td><td>sebestyen</td><td>Rab Sebestyén</td><td>4</td></tr>",
                            "<tr><td>9</td><td>robert2</td><td>Patay Róbert</td><td>4</td></tr>",
                            "<tr><td>9</td><td>rajmond4</td><td>Rácz Rajmond</td><td>4</td></tr>",
                            "<tr><td>9</td><td>zsolt1</td><td>Pulai Zsolt</td><td>4</td></tr>",
                            "<tr><td>9</td><td>zsuzsa3</td><td>Varsányi Zsuzsa</td><td>4</td></tr>",
                            "<tr><td>9</td><td>zsuzsanna</td><td>Barta Zsuzsanna</td><td>4</td></tr>",
                            "<tr><td>9</td><td>nikolett3</td><td>Horváth Nikolett</td><td>4</td></tr>",
                            "<tr><td>9</td><td>peter1</td><td>Kozma Péter</td><td>4</td></tr>",
                            "<tr><td>9</td><td>peter2</td><td>Bozsó Péter</td><td>4</td></tr>",
                            "<tr><td>9</td><td>NIKOLETTAT</td><td>Tatár Nikoletta</td><td>4</td></tr>",
                            "<tr><td>9</td><td>MARKH</td><td>Horváth Márk</td><td>4</td></tr>",
                            "<tr><td>9</td><td>LASZLOA</td><td>Antal László</td><td>4</td></tr>",
                            "<tr><td>9</td><td>JANOSP</td><td>Pálinkás János</td><td>4</td></tr>",
                            "<tr><td>9</td><td>julianna4</td><td>Szabó Julianna</td><td>4</td></tr>",
                            "<tr><td>9</td><td>eva2</td><td>Perlinger Éva</td><td>4</td></tr>",
                            "<tr><td>9</td><td>georgij</td><td>Nyíri Georgij</td><td>4</td></tr>",
                            "<tr><td>9</td><td>gabor4</td><td>Telek Gábor</td><td>4</td></tr>",
                            "<tr><td>9</td><td>istvan1</td><td>Vizi István</td><td>4</td></tr>",
                            "<tr><td>9</td><td>ilona3</td><td>Bosnyák Ilona</td><td>4</td></tr>",
                            "<tr><td>9</td><td>aniko4</td><td>Böröcz Anikó</td><td>4</td></tr>",
                            "<tr><td>9</td><td>anita</td><td>Hamvay-Kovács Anita</td><td>4</td></tr>",
                            "<tr><td>9</td><td>andrea4</td><td>Neizer Andrea</td><td>4</td></tr>",
                            "<tr><td>9</td><td>ATTILAO</td><td>Opra Attila</td><td>4</td></tr>",
                            "<tr><td>9</td><td>ferenc1</td><td>Orosz Ferenc</td><td>4</td></tr>",
                            "<tr><td>9</td><td>ESZTERE</td><td>Érsek Eszter</td><td>4</td></tr>",
                            "<tr><td>9</td><td>eszter</td><td>Molnár Eszter</td><td>4</td></tr>",
                            "<tr><td>9</td><td>debora</td><td>Barna Debóra</td><td>4</td></tr>",
                            "<tr><td>10</td><td>eszter4</td><td>Fülöp Eszter</td><td>3</td></tr>",
                            "<tr><td>10</td><td>balint</td><td>Horváth Bálint</td><td>3</td></tr>",
                            "<tr><td>10</td><td>ANDREAT</td><td>Tornyos Andrea</td><td>3</td></tr>",
                            "<tr><td>10</td><td>aniko</td><td>Tóth Anikó</td><td>3</td></tr>",
                            "<tr><td>10</td><td>attila4</td><td>Baróti Attila</td><td>3</td></tr>",
                            "<tr><td>10</td><td>attila</td><td>Csóti Attila</td><td>3</td></tr>",
                            "<tr><td>10</td><td>andras4</td><td>Back András</td><td>3</td></tr>",
                            "<tr><td>10</td><td>agnes3</td><td>Hartyánszky Ágnes</td><td>3</td></tr>",
                            "<tr><td>10</td><td>adam1</td><td>Kiss Ádám</td><td>3</td></tr>",
                            "<tr><td>10</td><td>AGNESK</td><td>Kovács Ágnes</td><td>3</td></tr>",
                            "<tr><td>10</td><td>aladar</td><td>Dunai Aladár</td><td>3</td></tr>",
                            "<tr><td>10</td><td>henrik3</td><td>Nádudvari Henrik</td><td>3</td></tr>",
                            "<tr><td>10</td><td>IBOLYAA</td><td>Andor Ibolya</td><td>3</td></tr>",
                            "<tr><td>10</td><td>istvan</td><td>Soós István</td><td>3</td></tr>",
                            "<tr><td>10</td><td>klaudia2</td><td>Bakó Klaudia</td><td>3</td></tr>",
                            "<tr><td>10</td><td>kornel4</td><td>Lukács Kornél</td><td>3</td></tr>",
                            "<tr><td>10</td><td>jozsef</td><td>Gergely József</td><td>3</td></tr>",
                            "<tr><td>10</td><td>JUDITH</td><td>Hídasi Judit</td><td>3</td></tr>",
                            "<tr><td>10</td><td>MATEK</td><td>Koza Máté</td><td>3</td></tr>",
                            "<tr><td>10</td><td>lajos</td><td>Kiss Lajos</td><td>3</td></tr>",
                            "<tr><td>10</td><td>NANDORF</td><td>Fő Nándor</td><td>3</td></tr>",
                            "<tr><td>10</td><td>miklos2</td><td>Gondos Miklós</td><td>3</td></tr>",
                            "<tr><td>10</td><td>MIKLOSB</td><td>Balla Miklós</td><td>3</td></tr>",
                            "<tr><td>10</td><td>norbert5</td><td>Béres Norbert</td><td>3</td></tr>",
                            "<tr><td>10</td><td>ZOLTANT</td><td>Tóth Zoltán</td><td>3</td></tr>",
                            "<tr><td>10</td><td>zsuzsa</td><td>Pusztai Zsuzsanna</td><td>3</td></tr>",
                            "<tr><td>10</td><td>roza2</td><td>Bucskó Róza</td><td>3</td></tr>",
                            "<tr><td>11</td><td>ROBERTP</td><td>Pásztor Róbert</td><td>2</td></tr>",
                            "<tr><td>11</td><td>VIKTORK</td><td>Keresztúri Viktor</td><td>2</td></tr>",
                            "<tr><td>11</td><td>tibor</td><td>Gombos Tibor</td><td>2</td></tr>",
                            "<tr><td>11</td><td>tamara2</td><td>Miklós Tamara</td><td>2</td></tr>",
                            "<tr><td>11</td><td>zoltan</td><td>Fodor Zoltán</td><td>2</td></tr>",
                            "<tr><td>11</td><td>zsofi1</td><td>Molnár Zsófi</td><td>2</td></tr>",
                            "<tr><td>11</td><td>matyas2</td><td>Botka Mátyás</td><td>2</td></tr>",
                            "<tr><td>11</td><td>julia4</td><td>Nagy Júlia</td><td>2</td></tr>",
                            "<tr><td>11</td><td>kristof4</td><td>Poprádi Kristóf</td><td>2</td></tr>",
                            "<tr><td>11</td><td>ISTVANV</td><td>Varga István</td><td>2</td></tr>",
                            "<tr><td>11</td><td>imre</td><td>Búza Imre</td><td>2</td></tr>",
                            "<tr><td>11</td><td>adam3</td><td>Barkóci Ádám</td><td>2</td></tr>",
                            "<tr><td>11</td><td>annamaria1</td><td>Szűcs Annamária</td><td>2</td></tr>",
                            "<tr><td>11</td><td>balint2</td><td>Vukasinovity Bálint</td><td>2</td></tr>",
                            "<tr><td>11</td><td>balu</td><td>Endresz Bálint</td><td>2</td></tr>",
                            "<tr><td>11</td><td>eva</td><td>Enyedi Éva</td><td>2</td></tr>",
                            "<tr><td>12</td><td>david4</td><td>Berta Dávid</td><td>1</td></tr>",
                            "<tr><td>12</td><td>ANDRASN</td><td>Nagy András</td><td>1</td></tr>",
                            "<tr><td>12</td><td>andrea3</td><td>Szomor Andrea</td><td>1</td></tr>",
                            "<tr><td>12</td><td>gabriella10</td><td>Vida Gabriella</td><td>1</td></tr>",
                            "<tr><td>12</td><td>laszlo1</td><td>Farkas László</td><td>1</td></tr>",
                            "<tr><td>12</td><td>tibor2</td><td>Dániel Tibor</td><td>1</td></tr>",
                            "<tr><td>12</td><td>timea</td><td>Papós Tímea</td><td>1</td></tr>",
                            "<tr><td>12</td><td>szabolcs</td><td>Bodor Szabolcs</td><td>1</td></tr>",
                            "</table>"
                        ]
                    }
                }
            ],
            "execution_count": 48
        },
        {
            "cell_type": "markdown",
            "source": [
                "Jelenítsük meg, hogy hány foglalás történt szobánként, naponta (METTOL), valamint szobánként, azon belül naponta \n",
                "\n",
                "- Szempontonként külön-külön számoljuk a foglalásokat\n",
                "- A foglalások száma minden esetben legalább 2 legyen"
            ],
            "metadata": {
                "language": "sql",
                "azdata_cell_guid": "38b345e2-46cf-4893-abe6-469042ecfb3a"
            },
            "attachments": {}
        },
        {
            "cell_type": "code",
            "source": [
                "SELECT sz.SZOBA_ID,\r\n",
                "        DAY(f.METTOL),\r\n",
                "       COUNT(*)\r\n",
                "FROM Szoba sz JOIN Foglalas f ON sz.SZOBA_ID = f.SZOBA_FK\r\n",
                "GROUP BY sz.SZOBA_ID, DAY(F.METTOL)\r\n",
                "HAVING COUNT(*) >= 2"
            ],
            "metadata": {
                "language": "sql",
                "azdata_cell_guid": "c239fa39-e0b0-4341-970f-3c79f4c24dbc"
            },
            "outputs": [
                {
                    "output_type": "display_data",
                    "data": {
                        "text/html": "(83 rows affected)"
                    },
                    "metadata": {}
                },
                {
                    "output_type": "display_data",
                    "data": {
                        "text/html": "Total execution time: 00:00:00.014"
                    },
                    "metadata": {}
                },
                {
                    "output_type": "execute_result",
                    "metadata": {},
                    "execution_count": 50,
                    "data": {
                        "application/vnd.dataresource+json": {
                            "schema": {
                                "fields": [
                                    {
                                        "name": "SZOBA_ID"
                                    },
                                    {
                                        "name": "(No column name)"
                                    },
                                    {
                                        "name": "(No column name)"
                                    }
                                ]
                            },
                            "data": [
                                {
                                    "SZOBA_ID": "20",
                                    "(No column name)": "2"
                                },
                                {
                                    "SZOBA_ID": "29",
                                    "(No column name)": "2"
                                },
                                {
                                    "SZOBA_ID": "132",
                                    "(No column name)": "2"
                                },
                                {
                                    "SZOBA_ID": "150",
                                    "(No column name)": "2"
                                },
                                {
                                    "SZOBA_ID": "163",
                                    "(No column name)": "2"
                                },
                                {
                                    "SZOBA_ID": "63",
                                    "(No column name)": "2"
                                },
                                {
                                    "SZOBA_ID": "172",
                                    "(No column name)": "2"
                                },
                                {
                                    "SZOBA_ID": "36",
                                    "(No column name)": "3"
                                },
                                {
                                    "SZOBA_ID": "165",
                                    "(No column name)": "3"
                                },
                                {
                                    "SZOBA_ID": "122",
                                    "(No column name)": "2"
                                },
                                {
                                    "SZOBA_ID": "27",
                                    "(No column name)": "2"
                                },
                                {
                                    "SZOBA_ID": "33",
                                    "(No column name)": "2"
                                },
                                {
                                    "SZOBA_ID": "113",
                                    "(No column name)": "2"
                                },
                                {
                                    "SZOBA_ID": "7",
                                    "(No column name)": "2"
                                },
                                {
                                    "SZOBA_ID": "57",
                                    "(No column name)": "2"
                                },
                                {
                                    "SZOBA_ID": "87",
                                    "(No column name)": "2"
                                },
                                {
                                    "SZOBA_ID": "112",
                                    "(No column name)": "2"
                                },
                                {
                                    "SZOBA_ID": "131",
                                    "(No column name)": "2"
                                },
                                {
                                    "SZOBA_ID": "141",
                                    "(No column name)": "2"
                                },
                                {
                                    "SZOBA_ID": "173",
                                    "(No column name)": "2"
                                },
                                {
                                    "SZOBA_ID": "174",
                                    "(No column name)": "2"
                                },
                                {
                                    "SZOBA_ID": "40",
                                    "(No column name)": "2"
                                },
                                {
                                    "SZOBA_ID": "110",
                                    "(No column name)": "2"
                                },
                                {
                                    "SZOBA_ID": "160",
                                    "(No column name)": "2"
                                },
                                {
                                    "SZOBA_ID": "12",
                                    "(No column name)": "3"
                                },
                                {
                                    "SZOBA_ID": "62",
                                    "(No column name)": "2"
                                },
                                {
                                    "SZOBA_ID": "169",
                                    "(No column name)": "2"
                                },
                                {
                                    "SZOBA_ID": "170",
                                    "(No column name)": "2"
                                },
                                {
                                    "SZOBA_ID": "35",
                                    "(No column name)": "2"
                                },
                                {
                                    "SZOBA_ID": "19",
                                    "(No column name)": "2"
                                },
                                {
                                    "SZOBA_ID": "25",
                                    "(No column name)": "2"
                                },
                                {
                                    "SZOBA_ID": "96",
                                    "(No column name)": "2"
                                },
                                {
                                    "SZOBA_ID": "3",
                                    "(No column name)": "2"
                                },
                                {
                                    "SZOBA_ID": "15",
                                    "(No column name)": "2"
                                },
                                {
                                    "SZOBA_ID": "79",
                                    "(No column name)": "2"
                                },
                                {
                                    "SZOBA_ID": "81",
                                    "(No column name)": "2"
                                },
                                {
                                    "SZOBA_ID": "114",
                                    "(No column name)": "2"
                                },
                                {
                                    "SZOBA_ID": "154",
                                    "(No column name)": "2"
                                },
                                {
                                    "SZOBA_ID": "138",
                                    "(No column name)": "2"
                                },
                                {
                                    "SZOBA_ID": "142",
                                    "(No column name)": "2"
                                },
                                {
                                    "SZOBA_ID": "35",
                                    "(No column name)": "2"
                                },
                                {
                                    "SZOBA_ID": "44",
                                    "(No column name)": "2"
                                },
                                {
                                    "SZOBA_ID": "45",
                                    "(No column name)": "2"
                                },
                                {
                                    "SZOBA_ID": "99",
                                    "(No column name)": "2"
                                },
                                {
                                    "SZOBA_ID": "21",
                                    "(No column name)": "2"
                                },
                                {
                                    "SZOBA_ID": "90",
                                    "(No column name)": "2"
                                },
                                {
                                    "SZOBA_ID": "74",
                                    "(No column name)": "2"
                                },
                                {
                                    "SZOBA_ID": "29",
                                    "(No column name)": "2"
                                },
                                {
                                    "SZOBA_ID": "58",
                                    "(No column name)": "2"
                                },
                                {
                                    "SZOBA_ID": "94",
                                    "(No column name)": "2"
                                },
                                {
                                    "SZOBA_ID": "109",
                                    "(No column name)": "2"
                                },
                                {
                                    "SZOBA_ID": "143",
                                    "(No column name)": "2"
                                },
                                {
                                    "SZOBA_ID": "145",
                                    "(No column name)": "2"
                                },
                                {
                                    "SZOBA_ID": "148",
                                    "(No column name)": "2"
                                },
                                {
                                    "SZOBA_ID": "171",
                                    "(No column name)": "2"
                                },
                                {
                                    "SZOBA_ID": "89",
                                    "(No column name)": "2"
                                },
                                {
                                    "SZOBA_ID": "172",
                                    "(No column name)": "2"
                                },
                                {
                                    "SZOBA_ID": "48",
                                    "(No column name)": "2"
                                },
                                {
                                    "SZOBA_ID": "59",
                                    "(No column name)": "2"
                                },
                                {
                                    "SZOBA_ID": "72",
                                    "(No column name)": "2"
                                },
                                {
                                    "SZOBA_ID": "121",
                                    "(No column name)": "2"
                                },
                                {
                                    "SZOBA_ID": "49",
                                    "(No column name)": "2"
                                },
                                {
                                    "SZOBA_ID": "88",
                                    "(No column name)": "2"
                                },
                                {
                                    "SZOBA_ID": "128",
                                    "(No column name)": "2"
                                },
                                {
                                    "SZOBA_ID": "31",
                                    "(No column name)": "2"
                                },
                                {
                                    "SZOBA_ID": "70",
                                    "(No column name)": "2"
                                },
                                {
                                    "SZOBA_ID": "97",
                                    "(No column name)": "2"
                                },
                                {
                                    "SZOBA_ID": "51",
                                    "(No column name)": "2"
                                },
                                {
                                    "SZOBA_ID": "55",
                                    "(No column name)": "3"
                                },
                                {
                                    "SZOBA_ID": "91",
                                    "(No column name)": "2"
                                },
                                {
                                    "SZOBA_ID": "178",
                                    "(No column name)": "2"
                                },
                                {
                                    "SZOBA_ID": "82",
                                    "(No column name)": "2"
                                },
                                {
                                    "SZOBA_ID": "124",
                                    "(No column name)": "2"
                                },
                                {
                                    "SZOBA_ID": "70",
                                    "(No column name)": "2"
                                },
                                {
                                    "SZOBA_ID": "74",
                                    "(No column name)": "2"
                                },
                                {
                                    "SZOBA_ID": "83",
                                    "(No column name)": "2"
                                },
                                {
                                    "SZOBA_ID": "106",
                                    "(No column name)": "2"
                                },
                                {
                                    "SZOBA_ID": "120",
                                    "(No column name)": "2"
                                },
                                {
                                    "SZOBA_ID": "127",
                                    "(No column name)": "2"
                                },
                                {
                                    "SZOBA_ID": "175",
                                    "(No column name)": "2"
                                },
                                {
                                    "SZOBA_ID": "182",
                                    "(No column name)": "3"
                                },
                                {
                                    "SZOBA_ID": "197",
                                    "(No column name)": "2"
                                },
                                {
                                    "SZOBA_ID": "99",
                                    "(No column name)": "2"
                                }
                            ]
                        },
                        "text/html": [
                            "<table>",
                            "<tr><th>SZOBA_ID</th><th>(No column name)</th><th>(No column name)</th></tr>",
                            "<tr><td>20</td><td>1</td><td>2</td></tr>",
                            "<tr><td>29</td><td>1</td><td>2</td></tr>",
                            "<tr><td>132</td><td>1</td><td>2</td></tr>",
                            "<tr><td>150</td><td>1</td><td>2</td></tr>",
                            "<tr><td>163</td><td>1</td><td>2</td></tr>",
                            "<tr><td>63</td><td>2</td><td>2</td></tr>",
                            "<tr><td>172</td><td>2</td><td>2</td></tr>",
                            "<tr><td>36</td><td>3</td><td>3</td></tr>",
                            "<tr><td>165</td><td>3</td><td>3</td></tr>",
                            "<tr><td>122</td><td>4</td><td>2</td></tr>",
                            "<tr><td>27</td><td>5</td><td>2</td></tr>",
                            "<tr><td>33</td><td>5</td><td>2</td></tr>",
                            "<tr><td>113</td><td>5</td><td>2</td></tr>",
                            "<tr><td>7</td><td>6</td><td>2</td></tr>",
                            "<tr><td>57</td><td>6</td><td>2</td></tr>",
                            "<tr><td>87</td><td>6</td><td>2</td></tr>",
                            "<tr><td>112</td><td>6</td><td>2</td></tr>",
                            "<tr><td>131</td><td>6</td><td>2</td></tr>",
                            "<tr><td>141</td><td>6</td><td>2</td></tr>",
                            "<tr><td>173</td><td>6</td><td>2</td></tr>",
                            "<tr><td>174</td><td>6</td><td>2</td></tr>",
                            "<tr><td>40</td><td>7</td><td>2</td></tr>",
                            "<tr><td>110</td><td>7</td><td>2</td></tr>",
                            "<tr><td>160</td><td>7</td><td>2</td></tr>",
                            "<tr><td>12</td><td>9</td><td>3</td></tr>",
                            "<tr><td>62</td><td>9</td><td>2</td></tr>",
                            "<tr><td>169</td><td>9</td><td>2</td></tr>",
                            "<tr><td>170</td><td>10</td><td>2</td></tr>",
                            "<tr><td>35</td><td>13</td><td>2</td></tr>",
                            "<tr><td>19</td><td>14</td><td>2</td></tr>",
                            "<tr><td>25</td><td>14</td><td>2</td></tr>",
                            "<tr><td>96</td><td>14</td><td>2</td></tr>",
                            "<tr><td>3</td><td>16</td><td>2</td></tr>",
                            "<tr><td>15</td><td>16</td><td>2</td></tr>",
                            "<tr><td>79</td><td>16</td><td>2</td></tr>",
                            "<tr><td>81</td><td>16</td><td>2</td></tr>",
                            "<tr><td>114</td><td>16</td><td>2</td></tr>",
                            "<tr><td>154</td><td>16</td><td>2</td></tr>",
                            "<tr><td>138</td><td>17</td><td>2</td></tr>",
                            "<tr><td>142</td><td>17</td><td>2</td></tr>",
                            "<tr><td>35</td><td>18</td><td>2</td></tr>",
                            "<tr><td>44</td><td>19</td><td>2</td></tr>",
                            "<tr><td>45</td><td>20</td><td>2</td></tr>",
                            "<tr><td>99</td><td>20</td><td>2</td></tr>",
                            "<tr><td>21</td><td>21</td><td>2</td></tr>",
                            "<tr><td>90</td><td>21</td><td>2</td></tr>",
                            "<tr><td>74</td><td>22</td><td>2</td></tr>",
                            "<tr><td>29</td><td>23</td><td>2</td></tr>",
                            "<tr><td>58</td><td>23</td><td>2</td></tr>",
                            "<tr><td>94</td><td>23</td><td>2</td></tr>",
                            "<tr><td>109</td><td>23</td><td>2</td></tr>",
                            "<tr><td>143</td><td>23</td><td>2</td></tr>",
                            "<tr><td>145</td><td>23</td><td>2</td></tr>",
                            "<tr><td>148</td><td>23</td><td>2</td></tr>",
                            "<tr><td>171</td><td>23</td><td>2</td></tr>",
                            "<tr><td>89</td><td>24</td><td>2</td></tr>",
                            "<tr><td>172</td><td>24</td><td>2</td></tr>",
                            "<tr><td>48</td><td>25</td><td>2</td></tr>",
                            "<tr><td>59</td><td>25</td><td>2</td></tr>",
                            "<tr><td>72</td><td>25</td><td>2</td></tr>",
                            "<tr><td>121</td><td>25</td><td>2</td></tr>",
                            "<tr><td>49</td><td>26</td><td>2</td></tr>",
                            "<tr><td>88</td><td>26</td><td>2</td></tr>",
                            "<tr><td>128</td><td>26</td><td>2</td></tr>",
                            "<tr><td>31</td><td>27</td><td>2</td></tr>",
                            "<tr><td>70</td><td>27</td><td>2</td></tr>",
                            "<tr><td>97</td><td>27</td><td>2</td></tr>",
                            "<tr><td>51</td><td>28</td><td>2</td></tr>",
                            "<tr><td>55</td><td>28</td><td>3</td></tr>",
                            "<tr><td>91</td><td>28</td><td>2</td></tr>",
                            "<tr><td>178</td><td>28</td><td>2</td></tr>",
                            "<tr><td>82</td><td>29</td><td>2</td></tr>",
                            "<tr><td>124</td><td>29</td><td>2</td></tr>",
                            "<tr><td>70</td><td>30</td><td>2</td></tr>",
                            "<tr><td>74</td><td>30</td><td>2</td></tr>",
                            "<tr><td>83</td><td>30</td><td>2</td></tr>",
                            "<tr><td>106</td><td>30</td><td>2</td></tr>",
                            "<tr><td>120</td><td>30</td><td>2</td></tr>",
                            "<tr><td>127</td><td>30</td><td>2</td></tr>",
                            "<tr><td>175</td><td>30</td><td>2</td></tr>",
                            "<tr><td>182</td><td>30</td><td>3</td></tr>",
                            "<tr><td>197</td><td>30</td><td>2</td></tr>",
                            "<tr><td>99</td><td>31</td><td>2</td></tr>",
                            "</table>"
                        ]
                    }
                }
            ],
            "execution_count": 50
        },
        {
            "cell_type": "markdown",
            "source": [
                "A Szoba tábla Ferohely oszlopára végezzük el a következő számításokat:\n",
                "\n",
                "- Különböző értékek száma\n",
                "- Minimum, maximum, átlag\n",
                "- Null és Not null értékek százalékos aránya"
            ],
            "metadata": {
                "language": "sql",
                "azdata_cell_guid": "c2623e89-994d-4dcb-8720-d28f1d6d6614"
            },
            "attachments": {}
        },
        {
            "cell_type": "code",
            "source": [
                "SELECT COUNT(DISTINCT FEROHELY) AS 'KULONBOZO',\r\n",
                "       MIN(FEROHELY) AS 'MIN',\r\n",
                "       MAX(FEROHELY) AS 'MAX',\r\n",
                "       AVG(FEROHELY) AS 'ATLAG',\r\n",
                "       (SUM(CASE WHEN FEROHELY IS NULL THEN 1 ELSE 0 END) / COUNT(*)) * 100 AS 'NULL SZAZALEK',\r\n",
                "       (SUM(CASE WHEN FEROHELY IS NOT NULL THEN 1 ELSE 0 END) / COUNT(*)) * 100 AS 'NEM NULL SZAZALEK'\r\n",
                "FROM Szoba"
            ],
            "metadata": {
                "language": "sql",
                "azdata_cell_guid": "ae3f54c7-a2e7-4b41-af1c-065c7bf2a8b9",
                "tags": []
            },
            "outputs": [
                {
                    "output_type": "display_data",
                    "data": {
                        "text/html": "(1 row affected)"
                    },
                    "metadata": {}
                },
                {
                    "output_type": "display_data",
                    "data": {
                        "text/html": "Total execution time: 00:00:00.011"
                    },
                    "metadata": {}
                },
                {
                    "output_type": "execute_result",
                    "metadata": {},
                    "execution_count": 37,
                    "data": {
                        "application/vnd.dataresource+json": {
                            "schema": {
                                "fields": [
                                    {
                                        "name": "KULONBOZO"
                                    },
                                    {
                                        "name": "MIN"
                                    },
                                    {
                                        "name": "MAX"
                                    },
                                    {
                                        "name": "ATLAG"
                                    },
                                    {
                                        "name": "NULL SZAZALEK"
                                    },
                                    {
                                        "name": "NEM NULL SZAZALEK"
                                    }
                                ]
                            },
                            "data": [
                                {
                                    "KULONBOZO": "4",
                                    "MIN": "1",
                                    "MAX": "4",
                                    "ATLAG": "2",
                                    "NULL SZAZALEK": "0",
                                    "NEM NULL SZAZALEK": "100"
                                }
                            ]
                        },
                        "text/html": [
                            "<table>",
                            "<tr><th>KULONBOZO</th><th>MIN</th><th>MAX</th><th>ATLAG</th><th>NULL SZAZALEK</th><th>NEM NULL SZAZALEK</th></tr>",
                            "<tr><td>4</td><td>1</td><td>4</td><td>2</td><td>0</td><td>100</td></tr>",
                            "</table>"
                        ]
                    }
                }
            ],
            "execution_count": 37
        }
    ]
}