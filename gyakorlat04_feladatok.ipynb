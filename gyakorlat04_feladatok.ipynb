{
    "metadata": {
        "kernelspec": {
            "name": "SQL",
            "display_name": "SQL",
            "language": "sql"
        },
        "language_info": {
            "name": "sql",
            "version": ""
        }
    },
    "nbformat_minor": 2,
    "nbformat": 4,
    "cells": [
        {
            "cell_type": "markdown",
            "source": [
                "1. <span style=\"background-color: rgb(255, 255, 255); color: rgb(0, 0, 0); font-family: &quot;Open Sans&quot;, sans-serif; font-size: 14.44px;\">Készítsünk listát arról, hogy ügyfelenként (LOGIN), azon belül szállítási módonként hány megrendelés történt!&nbsp;</span> \n",
                "\n",
                "a. A lista tartalmazza a részösszegeket és a végösszeget is!  \n",
                "b. Használjuk a ROLLUP záradékot!"
            ],
            "metadata": {
                "azdata_cell_guid": "363cd270-6577-449b-9c89-d4b7c7972d52"
            },
            "attachments": {}
        },
        {
            "cell_type": "code",
            "source": [
                "SELECT LOGIN,\r\n",
                "       SZALL_MOD,\r\n",
                "       COUNT(*)\r\n",
                "FROM Rendeles\r\n",
                "GROUP BY ROLLUP(LOGIN, SZALL_MOD)"
            ],
            "metadata": {
                "azdata_cell_guid": "6ab9f633-a3b5-48c9-a1dc-4fb8235ae85b",
                "language": "sql"
            },
            "outputs": [
                {
                    "output_type": "display_data",
                    "data": {
                        "text/html": "(763 rows affected)"
                    },
                    "metadata": {}
                },
                {
                    "output_type": "display_data",
                    "data": {
                        "text/html": "Total execution time: 00:00:00.105"
                    },
                    "metadata": {}
                },
                {
                    "output_type": "execute_result",
                    "execution_count": 2,
                    "data": {
                        "application/vnd.dataresource+json": {
                            "schema": {
                                "fields": [
                                    {
                                        "name": "LOGIN"
                                    },
                                    {
                                        "name": "SZALL_MOD"
                                    },
                                    {
                                        "name": "(No column name)"
                                    }
                                ]
                            },
                            "data": [
                                {
                                    "LOGIN": "adam1",
                                    "SZALL_MOD": "GLS",
                                    "(No column name)": "129"
                                },
                                {
                                    "LOGIN": "adam1",
                                    "SZALL_MOD": "Posta",
                                    "(No column name)": "132"
                                },
                                {
                                    "LOGIN": "adam1",
                                    "SZALL_MOD": "Személyes átvétel",
                                    "(No column name)": "131"
                                },
                                {
                                    "LOGIN": "adam1",
                                    "SZALL_MOD": "NULL",
                                    "(No column name)": "392"
                                },
                                {
                                    "LOGIN": "adam3",
                                    "SZALL_MOD": "GLS",
                                    "(No column name)": "10"
                                },
                                {
                                    "LOGIN": "adam3",
                                    "SZALL_MOD": "Posta",
                                    "(No column name)": "3"
                                },
                                {
                                    "LOGIN": "adam3",
                                    "SZALL_MOD": "Személyes átvétel",
                                    "(No column name)": "2"
                                },
                                {
                                    "LOGIN": "adam3",
                                    "SZALL_MOD": "NULL",
                                    "(No column name)": "15"
                                },
                                {
                                    "LOGIN": "adam4",
                                    "SZALL_MOD": "GLS",
                                    "(No column name)": "12"
                                },
                                {
                                    "LOGIN": "adam4",
                                    "SZALL_MOD": "Posta",
                                    "(No column name)": "6"
                                },
                                {
                                    "LOGIN": "adam4",
                                    "SZALL_MOD": "Személyes átvétel",
                                    "(No column name)": "11"
                                },
                                {
                                    "LOGIN": "adam4",
                                    "SZALL_MOD": "NULL",
                                    "(No column name)": "29"
                                },
                                {
                                    "LOGIN": "agnes",
                                    "SZALL_MOD": "GLS",
                                    "(No column name)": "144"
                                },
                                {
                                    "LOGIN": "agnes",
                                    "SZALL_MOD": "Posta",
                                    "(No column name)": "130"
                                },
                                {
                                    "LOGIN": "agnes",
                                    "SZALL_MOD": "Személyes átvétel",
                                    "(No column name)": "144"
                                },
                                {
                                    "LOGIN": "agnes",
                                    "SZALL_MOD": "NULL",
                                    "(No column name)": "418"
                                },
                                {
                                    "LOGIN": "agnes3",
                                    "SZALL_MOD": "GLS",
                                    "(No column name)": "148"
                                },
                                {
                                    "LOGIN": "agnes3",
                                    "SZALL_MOD": "Posta",
                                    "(No column name)": "146"
                                },
                                {
                                    "LOGIN": "agnes3",
                                    "SZALL_MOD": "Személyes átvétel",
                                    "(No column name)": "136"
                                },
                                {
                                    "LOGIN": "agnes3",
                                    "SZALL_MOD": "NULL",
                                    "(No column name)": "430"
                                },
                                {
                                    "LOGIN": "AGNESH",
                                    "SZALL_MOD": "GLS",
                                    "(No column name)": "2"
                                },
                                {
                                    "LOGIN": "AGNESH",
                                    "SZALL_MOD": "Posta",
                                    "(No column name)": "3"
                                },
                                {
                                    "LOGIN": "AGNESH",
                                    "SZALL_MOD": "Személyes átvétel",
                                    "(No column name)": "6"
                                },
                                {
                                    "LOGIN": "AGNESH",
                                    "SZALL_MOD": "NULL",
                                    "(No column name)": "11"
                                },
                                {
                                    "LOGIN": "AGNESK",
                                    "SZALL_MOD": "GLS",
                                    "(No column name)": "1"
                                },
                                {
                                    "LOGIN": "AGNESK",
                                    "SZALL_MOD": "Posta",
                                    "(No column name)": "7"
                                },
                                {
                                    "LOGIN": "AGNESK",
                                    "SZALL_MOD": "Személyes átvétel",
                                    "(No column name)": "7"
                                },
                                {
                                    "LOGIN": "AGNESK",
                                    "SZALL_MOD": "NULL",
                                    "(No column name)": "15"
                                },
                                {
                                    "LOGIN": "akos",
                                    "SZALL_MOD": "GLS",
                                    "(No column name)": "146"
                                },
                                {
                                    "LOGIN": "akos",
                                    "SZALL_MOD": "Posta",
                                    "(No column name)": "143"
                                },
                                {
                                    "LOGIN": "akos",
                                    "SZALL_MOD": "Személyes átvétel",
                                    "(No column name)": "140"
                                },
                                {
                                    "LOGIN": "akos",
                                    "SZALL_MOD": "NULL",
                                    "(No column name)": "429"
                                },
                                {
                                    "LOGIN": "aladar",
                                    "SZALL_MOD": "GLS",
                                    "(No column name)": "156"
                                },
                                {
                                    "LOGIN": "aladar",
                                    "SZALL_MOD": "Posta",
                                    "(No column name)": "134"
                                },
                                {
                                    "LOGIN": "aladar",
                                    "SZALL_MOD": "Személyes átvétel",
                                    "(No column name)": "118"
                                },
                                {
                                    "LOGIN": "aladar",
                                    "SZALL_MOD": "NULL",
                                    "(No column name)": "408"
                                },
                                {
                                    "LOGIN": "alexandra",
                                    "SZALL_MOD": "GLS",
                                    "(No column name)": "5"
                                },
                                {
                                    "LOGIN": "alexandra",
                                    "SZALL_MOD": "Posta",
                                    "(No column name)": "9"
                                },
                                {
                                    "LOGIN": "alexandra",
                                    "SZALL_MOD": "Személyes átvétel",
                                    "(No column name)": "5"
                                },
                                {
                                    "LOGIN": "alexandra",
                                    "SZALL_MOD": "NULL",
                                    "(No column name)": "19"
                                },
                                {
                                    "LOGIN": "andi",
                                    "SZALL_MOD": "GLS",
                                    "(No column name)": "7"
                                },
                                {
                                    "LOGIN": "andi",
                                    "SZALL_MOD": "Posta",
                                    "(No column name)": "4"
                                },
                                {
                                    "LOGIN": "andi",
                                    "SZALL_MOD": "Személyes átvétel",
                                    "(No column name)": "7"
                                },
                                {
                                    "LOGIN": "andi",
                                    "SZALL_MOD": "NULL",
                                    "(No column name)": "18"
                                },
                                {
                                    "LOGIN": "andras2",
                                    "SZALL_MOD": "GLS",
                                    "(No column name)": "4"
                                },
                                {
                                    "LOGIN": "andras2",
                                    "SZALL_MOD": "Posta",
                                    "(No column name)": "7"
                                },
                                {
                                    "LOGIN": "andras2",
                                    "SZALL_MOD": "Személyes átvétel",
                                    "(No column name)": "11"
                                },
                                {
                                    "LOGIN": "andras2",
                                    "SZALL_MOD": "NULL",
                                    "(No column name)": "22"
                                },
                                {
                                    "LOGIN": "andras21",
                                    "SZALL_MOD": "GLS",
                                    "(No column name)": "140"
                                },
                                {
                                    "LOGIN": "andras21",
                                    "SZALL_MOD": "Posta",
                                    "(No column name)": "124"
                                },
                                {
                                    "LOGIN": "andras21",
                                    "SZALL_MOD": "Személyes átvétel",
                                    "(No column name)": "126"
                                },
                                {
                                    "LOGIN": "andras21",
                                    "SZALL_MOD": "NULL",
                                    "(No column name)": "390"
                                },
                                {
                                    "LOGIN": "andras3",
                                    "SZALL_MOD": "GLS",
                                    "(No column name)": "3"
                                },
                                {
                                    "LOGIN": "andras3",
                                    "SZALL_MOD": "Posta",
                                    "(No column name)": "1"
                                },
                                {
                                    "LOGIN": "andras3",
                                    "SZALL_MOD": "Személyes átvétel",
                                    "(No column name)": "5"
                                },
                                {
                                    "LOGIN": "andras3",
                                    "SZALL_MOD": "NULL",
                                    "(No column name)": "9"
                                },
                                {
                                    "LOGIN": "andras4",
                                    "SZALL_MOD": "GLS",
                                    "(No column name)": "4"
                                },
                                {
                                    "LOGIN": "andras4",
                                    "SZALL_MOD": "Posta",
                                    "(No column name)": "4"
                                },
                                {
                                    "LOGIN": "andras4",
                                    "SZALL_MOD": "Személyes átvétel",
                                    "(No column name)": "4"
                                },
                                {
                                    "LOGIN": "andras4",
                                    "SZALL_MOD": "NULL",
                                    "(No column name)": "12"
                                },
                                {
                                    "LOGIN": "andras41",
                                    "SZALL_MOD": "GLS",
                                    "(No column name)": "149"
                                },
                                {
                                    "LOGIN": "andras41",
                                    "SZALL_MOD": "Posta",
                                    "(No column name)": "137"
                                },
                                {
                                    "LOGIN": "andras41",
                                    "SZALL_MOD": "Személyes átvétel",
                                    "(No column name)": "133"
                                },
                                {
                                    "LOGIN": "andras41",
                                    "SZALL_MOD": "NULL",
                                    "(No column name)": "419"
                                },
                                {
                                    "LOGIN": "ANDRASE",
                                    "SZALL_MOD": "GLS",
                                    "(No column name)": "159"
                                },
                                {
                                    "LOGIN": "ANDRASE",
                                    "SZALL_MOD": "Posta",
                                    "(No column name)": "141"
                                },
                                {
                                    "LOGIN": "ANDRASE",
                                    "SZALL_MOD": "Személyes átvétel",
                                    "(No column name)": "136"
                                },
                                {
                                    "LOGIN": "ANDRASE",
                                    "SZALL_MOD": "NULL",
                                    "(No column name)": "436"
                                },
                                {
                                    "LOGIN": "ANDRASN",
                                    "SZALL_MOD": "GLS",
                                    "(No column name)": "10"
                                },
                                {
                                    "LOGIN": "ANDRASN",
                                    "SZALL_MOD": "Posta",
                                    "(No column name)": "9"
                                },
                                {
                                    "LOGIN": "ANDRASN",
                                    "SZALL_MOD": "Személyes átvétel",
                                    "(No column name)": "5"
                                },
                                {
                                    "LOGIN": "ANDRASN",
                                    "SZALL_MOD": "NULL",
                                    "(No column name)": "24"
                                },
                                {
                                    "LOGIN": "andrea",
                                    "SZALL_MOD": "GLS",
                                    "(No column name)": "12"
                                },
                                {
                                    "LOGIN": "andrea",
                                    "SZALL_MOD": "Posta",
                                    "(No column name)": "4"
                                },
                                {
                                    "LOGIN": "andrea",
                                    "SZALL_MOD": "Személyes átvétel",
                                    "(No column name)": "8"
                                },
                                {
                                    "LOGIN": "andrea",
                                    "SZALL_MOD": "NULL",
                                    "(No column name)": "24"
                                },
                                {
                                    "LOGIN": "andrea3",
                                    "SZALL_MOD": "GLS",
                                    "(No column name)": "131"
                                },
                                {
                                    "LOGIN": "andrea3",
                                    "SZALL_MOD": "Posta",
                                    "(No column name)": "136"
                                },
                                {
                                    "LOGIN": "andrea3",
                                    "SZALL_MOD": "Személyes átvétel",
                                    "(No column name)": "146"
                                },
                                {
                                    "LOGIN": "andrea3",
                                    "SZALL_MOD": "NULL",
                                    "(No column name)": "413"
                                },
                                {
                                    "LOGIN": "andrea4",
                                    "SZALL_MOD": "GLS",
                                    "(No column name)": "7"
                                },
                                {
                                    "LOGIN": "andrea4",
                                    "SZALL_MOD": "Posta",
                                    "(No column name)": "4"
                                },
                                {
                                    "LOGIN": "andrea4",
                                    "SZALL_MOD": "Személyes átvétel",
                                    "(No column name)": "7"
                                },
                                {
                                    "LOGIN": "andrea4",
                                    "SZALL_MOD": "NULL",
                                    "(No column name)": "18"
                                },
                                {
                                    "LOGIN": "ANDREAT",
                                    "SZALL_MOD": "GLS",
                                    "(No column name)": "3"
                                },
                                {
                                    "LOGIN": "ANDREAT",
                                    "SZALL_MOD": "Posta",
                                    "(No column name)": "6"
                                },
                                {
                                    "LOGIN": "ANDREAT",
                                    "SZALL_MOD": "Személyes átvétel",
                                    "(No column name)": "12"
                                },
                                {
                                    "LOGIN": "ANDREAT",
                                    "SZALL_MOD": "NULL",
                                    "(No column name)": "21"
                                },
                                {
                                    "LOGIN": "anett3",
                                    "SZALL_MOD": "GLS",
                                    "(No column name)": "3"
                                },
                                {
                                    "LOGIN": "anett3",
                                    "SZALL_MOD": "Posta",
                                    "(No column name)": "6"
                                },
                                {
                                    "LOGIN": "anett3",
                                    "SZALL_MOD": "Személyes átvétel",
                                    "(No column name)": "9"
                                },
                                {
                                    "LOGIN": "anett3",
                                    "SZALL_MOD": "NULL",
                                    "(No column name)": "18"
                                },
                                {
                                    "LOGIN": "aniko",
                                    "SZALL_MOD": "GLS",
                                    "(No column name)": "128"
                                },
                                {
                                    "LOGIN": "aniko",
                                    "SZALL_MOD": "Posta",
                                    "(No column name)": "137"
                                },
                                {
                                    "LOGIN": "aniko",
                                    "SZALL_MOD": "Személyes átvétel",
                                    "(No column name)": "138"
                                },
                                {
                                    "LOGIN": "aniko",
                                    "SZALL_MOD": "NULL",
                                    "(No column name)": "403"
                                },
                                {
                                    "LOGIN": "aniko4",
                                    "SZALL_MOD": "GLS",
                                    "(No column name)": "6"
                                },
                                {
                                    "LOGIN": "aniko4",
                                    "SZALL_MOD": "Posta",
                                    "(No column name)": "6"
                                },
                                {
                                    "LOGIN": "aniko4",
                                    "SZALL_MOD": "Személyes átvétel",
                                    "(No column name)": "3"
                                },
                                {
                                    "LOGIN": "aniko4",
                                    "SZALL_MOD": "NULL",
                                    "(No column name)": "15"
                                },
                                {
                                    "LOGIN": "ANIKOS",
                                    "SZALL_MOD": "GLS",
                                    "(No column name)": "128"
                                },
                                {
                                    "LOGIN": "ANIKOS",
                                    "SZALL_MOD": "Posta",
                                    "(No column name)": "126"
                                },
                                {
                                    "LOGIN": "ANIKOS",
                                    "SZALL_MOD": "Személyes átvétel",
                                    "(No column name)": "150"
                                },
                                {
                                    "LOGIN": "ANIKOS",
                                    "SZALL_MOD": "NULL",
                                    "(No column name)": "404"
                                },
                                {
                                    "LOGIN": "anita",
                                    "SZALL_MOD": "GLS",
                                    "(No column name)": "5"
                                },
                                {
                                    "LOGIN": "anita",
                                    "SZALL_MOD": "Posta",
                                    "(No column name)": "2"
                                },
                                {
                                    "LOGIN": "anita",
                                    "SZALL_MOD": "Személyes átvétel",
                                    "(No column name)": "5"
                                },
                                {
                                    "LOGIN": "anita",
                                    "SZALL_MOD": "NULL",
                                    "(No column name)": "12"
                                },
                                {
                                    "LOGIN": "annamaria1",
                                    "SZALL_MOD": "GLS",
                                    "(No column name)": "5"
                                },
                                {
                                    "LOGIN": "annamaria1",
                                    "SZALL_MOD": "Posta",
                                    "(No column name)": "4"
                                },
                                {
                                    "LOGIN": "annamaria1",
                                    "SZALL_MOD": "Személyes átvétel",
                                    "(No column name)": "7"
                                },
                                {
                                    "LOGIN": "annamaria1",
                                    "SZALL_MOD": "NULL",
                                    "(No column name)": "16"
                                },
                                {
                                    "LOGIN": "ANNAMARIAR",
                                    "SZALL_MOD": "GLS",
                                    "(No column name)": "8"
                                },
                                {
                                    "LOGIN": "ANNAMARIAR",
                                    "SZALL_MOD": "Posta",
                                    "(No column name)": "2"
                                },
                                {
                                    "LOGIN": "ANNAMARIAR",
                                    "SZALL_MOD": "Személyes átvétel",
                                    "(No column name)": "3"
                                },
                                {
                                    "LOGIN": "ANNAMARIAR",
                                    "SZALL_MOD": "NULL",
                                    "(No column name)": "13"
                                },
                                {
                                    "LOGIN": "aron2",
                                    "SZALL_MOD": "GLS",
                                    "(No column name)": "132"
                                },
                                {
                                    "LOGIN": "aron2",
                                    "SZALL_MOD": "Posta",
                                    "(No column name)": "133"
                                },
                                {
                                    "LOGIN": "aron2",
                                    "SZALL_MOD": "Személyes átvétel",
                                    "(No column name)": "144"
                                },
                                {
                                    "LOGIN": "aron2",
                                    "SZALL_MOD": "NULL",
                                    "(No column name)": "409"
                                },
                                {
                                    "LOGIN": "ARONK",
                                    "SZALL_MOD": "GLS",
                                    "(No column name)": "155"
                                },
                                {
                                    "LOGIN": "ARONK",
                                    "SZALL_MOD": "Posta",
                                    "(No column name)": "120"
                                },
                                {
                                    "LOGIN": "ARONK",
                                    "SZALL_MOD": "Személyes átvétel",
                                    "(No column name)": "155"
                                },
                                {
                                    "LOGIN": "ARONK",
                                    "SZALL_MOD": "NULL",
                                    "(No column name)": "430"
                                },
                                {
                                    "LOGIN": "arpad2",
                                    "SZALL_MOD": "GLS",
                                    "(No column name)": "6"
                                },
                                {
                                    "LOGIN": "arpad2",
                                    "SZALL_MOD": "Posta",
                                    "(No column name)": "1"
                                },
                                {
                                    "LOGIN": "arpad2",
                                    "SZALL_MOD": "Személyes átvétel",
                                    "(No column name)": "10"
                                },
                                {
                                    "LOGIN": "arpad2",
                                    "SZALL_MOD": "NULL",
                                    "(No column name)": "17"
                                },
                                {
                                    "LOGIN": "ARPADH",
                                    "SZALL_MOD": "GLS",
                                    "(No column name)": "6"
                                },
                                {
                                    "LOGIN": "ARPADH",
                                    "SZALL_MOD": "Posta",
                                    "(No column name)": "3"
                                },
                                {
                                    "LOGIN": "ARPADH",
                                    "SZALL_MOD": "Személyes átvétel",
                                    "(No column name)": "5"
                                },
                                {
                                    "LOGIN": "ARPADH",
                                    "SZALL_MOD": "NULL",
                                    "(No column name)": "14"
                                },
                                {
                                    "LOGIN": "ARPADM",
                                    "SZALL_MOD": "GLS",
                                    "(No column name)": "6"
                                },
                                {
                                    "LOGIN": "ARPADM",
                                    "SZALL_MOD": "Posta",
                                    "(No column name)": "3"
                                },
                                {
                                    "LOGIN": "ARPADM",
                                    "SZALL_MOD": "Személyes átvétel",
                                    "(No column name)": "7"
                                },
                                {
                                    "LOGIN": "ARPADM",
                                    "SZALL_MOD": "NULL",
                                    "(No column name)": "16"
                                },
                                {
                                    "LOGIN": "attila1",
                                    "SZALL_MOD": "GLS",
                                    "(No column name)": "5"
                                },
                                {
                                    "LOGIN": "attila1",
                                    "SZALL_MOD": "Posta",
                                    "(No column name)": "7"
                                },
                                {
                                    "LOGIN": "attila1",
                                    "SZALL_MOD": "Személyes átvétel",
                                    "(No column name)": "6"
                                },
                                {
                                    "LOGIN": "attila1",
                                    "SZALL_MOD": "NULL",
                                    "(No column name)": "18"
                                },
                                {
                                    "LOGIN": "attila4",
                                    "SZALL_MOD": "GLS",
                                    "(No column name)": "135"
                                },
                                {
                                    "LOGIN": "attila4",
                                    "SZALL_MOD": "Posta",
                                    "(No column name)": "125"
                                },
                                {
                                    "LOGIN": "attila4",
                                    "SZALL_MOD": "Személyes átvétel",
                                    "(No column name)": "141"
                                },
                                {
                                    "LOGIN": "attila4",
                                    "SZALL_MOD": "NULL",
                                    "(No column name)": "401"
                                },
                                {
                                    "LOGIN": "ATTILAO",
                                    "SZALL_MOD": "GLS",
                                    "(No column name)": "4"
                                },
                                {
                                    "LOGIN": "ATTILAO",
                                    "SZALL_MOD": "Posta",
                                    "(No column name)": "4"
                                },
                                {
                                    "LOGIN": "ATTILAO",
                                    "SZALL_MOD": "Személyes átvétel",
                                    "(No column name)": "6"
                                },
                                {
                                    "LOGIN": "ATTILAO",
                                    "SZALL_MOD": "NULL",
                                    "(No column name)": "14"
                                },
                                {
                                    "LOGIN": "balazs1",
                                    "SZALL_MOD": "GLS",
                                    "(No column name)": "128"
                                },
                                {
                                    "LOGIN": "balazs1",
                                    "SZALL_MOD": "Posta",
                                    "(No column name)": "136"
                                },
                                {
                                    "LOGIN": "balazs1",
                                    "SZALL_MOD": "Személyes átvétel",
                                    "(No column name)": "155"
                                },
                                {
                                    "LOGIN": "balazs1",
                                    "SZALL_MOD": "NULL",
                                    "(No column name)": "419"
                                },
                                {
                                    "LOGIN": "balazs2",
                                    "SZALL_MOD": "GLS",
                                    "(No column name)": "5"
                                },
                                {
                                    "LOGIN": "balazs2",
                                    "SZALL_MOD": "Posta",
                                    "(No column name)": "7"
                                },
                                {
                                    "LOGIN": "balazs2",
                                    "SZALL_MOD": "Személyes átvétel",
                                    "(No column name)": "5"
                                },
                                {
                                    "LOGIN": "balazs2",
                                    "SZALL_MOD": "NULL",
                                    "(No column name)": "17"
                                },
                                {
                                    "LOGIN": "balazs3",
                                    "SZALL_MOD": "GLS",
                                    "(No column name)": "6"
                                },
                                {
                                    "LOGIN": "balazs3",
                                    "SZALL_MOD": "Posta",
                                    "(No column name)": "6"
                                },
                                {
                                    "LOGIN": "balazs3",
                                    "SZALL_MOD": "Személyes átvétel",
                                    "(No column name)": "3"
                                },
                                {
                                    "LOGIN": "balazs3",
                                    "SZALL_MOD": "NULL",
                                    "(No column name)": "15"
                                },
                                {
                                    "LOGIN": "balint",
                                    "SZALL_MOD": "GLS",
                                    "(No column name)": "10"
                                },
                                {
                                    "LOGIN": "balint",
                                    "SZALL_MOD": "Posta",
                                    "(No column name)": "4"
                                },
                                {
                                    "LOGIN": "balint",
                                    "SZALL_MOD": "Személyes átvétel",
                                    "(No column name)": "2"
                                },
                                {
                                    "LOGIN": "balint",
                                    "SZALL_MOD": "NULL",
                                    "(No column name)": "16"
                                },
                                {
                                    "LOGIN": "balint1",
                                    "SZALL_MOD": "GLS",
                                    "(No column name)": "158"
                                },
                                {
                                    "LOGIN": "balint1",
                                    "SZALL_MOD": "Posta",
                                    "(No column name)": "152"
                                },
                                {
                                    "LOGIN": "balint1",
                                    "SZALL_MOD": "Személyes átvétel",
                                    "(No column name)": "152"
                                },
                                {
                                    "LOGIN": "balint1",
                                    "SZALL_MOD": "NULL",
                                    "(No column name)": "462"
                                },
                                {
                                    "LOGIN": "balint2",
                                    "SZALL_MOD": "GLS",
                                    "(No column name)": "8"
                                },
                                {
                                    "LOGIN": "balint2",
                                    "SZALL_MOD": "Posta",
                                    "(No column name)": "6"
                                },
                                {
                                    "LOGIN": "balint2",
                                    "SZALL_MOD": "Személyes átvétel",
                                    "(No column name)": "3"
                                },
                                {
                                    "LOGIN": "balint2",
                                    "SZALL_MOD": "NULL",
                                    "(No column name)": "17"
                                },
                                {
                                    "LOGIN": "balu",
                                    "SZALL_MOD": "GLS",
                                    "(No column name)": "127"
                                },
                                {
                                    "LOGIN": "balu",
                                    "SZALL_MOD": "Posta",
                                    "(No column name)": "137"
                                },
                                {
                                    "LOGIN": "balu",
                                    "SZALL_MOD": "Személyes átvétel",
                                    "(No column name)": "123"
                                },
                                {
                                    "LOGIN": "balu",
                                    "SZALL_MOD": "NULL",
                                    "(No column name)": "387"
                                },
                                {
                                    "LOGIN": "BEATRIXK",
                                    "SZALL_MOD": "GLS",
                                    "(No column name)": "135"
                                },
                                {
                                    "LOGIN": "BEATRIXK",
                                    "SZALL_MOD": "Posta",
                                    "(No column name)": "155"
                                },
                                {
                                    "LOGIN": "BEATRIXK",
                                    "SZALL_MOD": "Személyes átvétel",
                                    "(No column name)": "145"
                                },
                                {
                                    "LOGIN": "BEATRIXK",
                                    "SZALL_MOD": "NULL",
                                    "(No column name)": "435"
                                },
                                {
                                    "LOGIN": "BEATRIXS",
                                    "SZALL_MOD": "GLS",
                                    "(No column name)": "146"
                                },
                                {
                                    "LOGIN": "BEATRIXS",
                                    "SZALL_MOD": "Posta",
                                    "(No column name)": "141"
                                },
                                {
                                    "LOGIN": "BEATRIXS",
                                    "SZALL_MOD": "Személyes átvétel",
                                    "(No column name)": "133"
                                },
                                {
                                    "LOGIN": "BEATRIXS",
                                    "SZALL_MOD": "NULL",
                                    "(No column name)": "420"
                                },
                                {
                                    "LOGIN": "BELAF",
                                    "SZALL_MOD": "GLS",
                                    "(No column name)": "11"
                                },
                                {
                                    "LOGIN": "BELAF",
                                    "SZALL_MOD": "Posta",
                                    "(No column name)": "2"
                                },
                                {
                                    "LOGIN": "BELAF",
                                    "SZALL_MOD": "Személyes átvétel",
                                    "(No column name)": "5"
                                },
                                {
                                    "LOGIN": "BELAF",
                                    "SZALL_MOD": "NULL",
                                    "(No column name)": "18"
                                },
                                {
                                    "LOGIN": "bence",
                                    "SZALL_MOD": "GLS",
                                    "(No column name)": "4"
                                },
                                {
                                    "LOGIN": "bence",
                                    "SZALL_MOD": "Posta",
                                    "(No column name)": "6"
                                },
                                {
                                    "LOGIN": "bence",
                                    "SZALL_MOD": "Személyes átvétel",
                                    "(No column name)": "8"
                                },
                                {
                                    "LOGIN": "bence",
                                    "SZALL_MOD": "NULL",
                                    "(No column name)": "18"
                                },
                                {
                                    "LOGIN": "BENCEB",
                                    "SZALL_MOD": "GLS",
                                    "(No column name)": "5"
                                },
                                {
                                    "LOGIN": "BENCEB",
                                    "SZALL_MOD": "Posta",
                                    "(No column name)": "7"
                                },
                                {
                                    "LOGIN": "BENCEB",
                                    "SZALL_MOD": "Személyes átvétel",
                                    "(No column name)": "5"
                                },
                                {
                                    "LOGIN": "BENCEB",
                                    "SZALL_MOD": "NULL",
                                    "(No column name)": "17"
                                },
                                {
                                    "LOGIN": "bernadett1",
                                    "SZALL_MOD": "GLS",
                                    "(No column name)": "10"
                                },
                                {
                                    "LOGIN": "bernadett1",
                                    "SZALL_MOD": "Posta",
                                    "(No column name)": "5"
                                },
                                {
                                    "LOGIN": "bernadett1",
                                    "SZALL_MOD": "Személyes átvétel",
                                    "(No column name)": "5"
                                },
                                {
                                    "LOGIN": "bernadett1",
                                    "SZALL_MOD": "NULL",
                                    "(No column name)": "20"
                                },
                                {
                                    "LOGIN": "bernadett2",
                                    "SZALL_MOD": "GLS",
                                    "(No column name)": "6"
                                },
                                {
                                    "LOGIN": "bernadett2",
                                    "SZALL_MOD": "Posta",
                                    "(No column name)": "2"
                                },
                                {
                                    "LOGIN": "bernadett2",
                                    "SZALL_MOD": "Személyes átvétel",
                                    "(No column name)": "7"
                                },
                                {
                                    "LOGIN": "bernadett2",
                                    "SZALL_MOD": "NULL",
                                    "(No column name)": "15"
                                },
                                {
                                    "LOGIN": "BERNADETTO",
                                    "SZALL_MOD": "GLS",
                                    "(No column name)": "7"
                                },
                                {
                                    "LOGIN": "BERNADETTO",
                                    "SZALL_MOD": "Posta",
                                    "(No column name)": "2"
                                },
                                {
                                    "LOGIN": "BERNADETTO",
                                    "SZALL_MOD": "Személyes átvétel",
                                    "(No column name)": "7"
                                },
                                {
                                    "LOGIN": "BERNADETTO",
                                    "SZALL_MOD": "NULL",
                                    "(No column name)": "16"
                                },
                                {
                                    "LOGIN": "bertalan",
                                    "SZALL_MOD": "GLS",
                                    "(No column name)": "128"
                                },
                                {
                                    "LOGIN": "bertalan",
                                    "SZALL_MOD": "Posta",
                                    "(No column name)": "124"
                                },
                                {
                                    "LOGIN": "bertalan",
                                    "SZALL_MOD": "Személyes átvétel",
                                    "(No column name)": "101"
                                },
                                {
                                    "LOGIN": "bertalan",
                                    "SZALL_MOD": "NULL",
                                    "(No column name)": "353"
                                },
                                {
                                    "LOGIN": "brigitta",
                                    "SZALL_MOD": "GLS",
                                    "(No column name)": "137"
                                },
                                {
                                    "LOGIN": "brigitta",
                                    "SZALL_MOD": "Posta",
                                    "(No column name)": "137"
                                },
                                {
                                    "LOGIN": "brigitta",
                                    "SZALL_MOD": "Személyes átvétel",
                                    "(No column name)": "119"
                                },
                                {
                                    "LOGIN": "brigitta",
                                    "SZALL_MOD": "NULL",
                                    "(No column name)": "393"
                                },
                                {
                                    "LOGIN": "brigitta3",
                                    "SZALL_MOD": "GLS",
                                    "(No column name)": "144"
                                },
                                {
                                    "LOGIN": "brigitta3",
                                    "SZALL_MOD": "Posta",
                                    "(No column name)": "130"
                                },
                                {
                                    "LOGIN": "brigitta3",
                                    "SZALL_MOD": "Személyes átvétel",
                                    "(No column name)": "139"
                                },
                                {
                                    "LOGIN": "brigitta3",
                                    "SZALL_MOD": "NULL",
                                    "(No column name)": "413"
                                },
                                {
                                    "LOGIN": "csongor3",
                                    "SZALL_MOD": "GLS",
                                    "(No column name)": "5"
                                },
                                {
                                    "LOGIN": "csongor3",
                                    "SZALL_MOD": "Posta",
                                    "(No column name)": "2"
                                },
                                {
                                    "LOGIN": "csongor3",
                                    "SZALL_MOD": "Személyes átvétel",
                                    "(No column name)": "8"
                                },
                                {
                                    "LOGIN": "csongor3",
                                    "SZALL_MOD": "NULL",
                                    "(No column name)": "15"
                                },
                                {
                                    "LOGIN": "dani",
                                    "SZALL_MOD": "GLS",
                                    "(No column name)": "5"
                                },
                                {
                                    "LOGIN": "dani",
                                    "SZALL_MOD": "Személyes átvétel",
                                    "(No column name)": "8"
                                },
                                {
                                    "LOGIN": "dani",
                                    "SZALL_MOD": "NULL",
                                    "(No column name)": "13"
                                },
                                {
                                    "LOGIN": "daniel",
                                    "SZALL_MOD": "GLS",
                                    "(No column name)": "7"
                                },
                                {
                                    "LOGIN": "daniel",
                                    "SZALL_MOD": "Posta",
                                    "(No column name)": "2"
                                },
                                {
                                    "LOGIN": "daniel",
                                    "SZALL_MOD": "Személyes átvétel",
                                    "(No column name)": "4"
                                },
                                {
                                    "LOGIN": "daniel",
                                    "SZALL_MOD": "NULL",
                                    "(No column name)": "13"
                                },
                                {
                                    "LOGIN": "daniel1",
                                    "SZALL_MOD": "GLS",
                                    "(No column name)": "156"
                                },
                                {
                                    "LOGIN": "daniel1",
                                    "SZALL_MOD": "Posta",
                                    "(No column name)": "131"
                                },
                                {
                                    "LOGIN": "daniel1",
                                    "SZALL_MOD": "Személyes átvétel",
                                    "(No column name)": "132"
                                },
                                {
                                    "LOGIN": "daniel1",
                                    "SZALL_MOD": "NULL",
                                    "(No column name)": "419"
                                },
                                {
                                    "LOGIN": "david",
                                    "SZALL_MOD": "GLS",
                                    "(No column name)": "161"
                                },
                                {
                                    "LOGIN": "david",
                                    "SZALL_MOD": "Posta",
                                    "(No column name)": "144"
                                },
                                {
                                    "LOGIN": "david",
                                    "SZALL_MOD": "Személyes átvétel",
                                    "(No column name)": "146"
                                },
                                {
                                    "LOGIN": "david",
                                    "SZALL_MOD": "NULL",
                                    "(No column name)": "451"
                                },
                                {
                                    "LOGIN": "david1",
                                    "SZALL_MOD": "GLS",
                                    "(No column name)": "8"
                                },
                                {
                                    "LOGIN": "david1",
                                    "SZALL_MOD": "Posta",
                                    "(No column name)": "1"
                                },
                                {
                                    "LOGIN": "david1",
                                    "SZALL_MOD": "Személyes átvétel",
                                    "(No column name)": "8"
                                },
                                {
                                    "LOGIN": "david1",
                                    "SZALL_MOD": "NULL",
                                    "(No column name)": "17"
                                },
                                {
                                    "LOGIN": "david4",
                                    "SZALL_MOD": "GLS",
                                    "(No column name)": "3"
                                },
                                {
                                    "LOGIN": "david4",
                                    "SZALL_MOD": "Posta",
                                    "(No column name)": "8"
                                },
                                {
                                    "LOGIN": "david4",
                                    "SZALL_MOD": "Személyes átvétel",
                                    "(No column name)": "10"
                                },
                                {
                                    "LOGIN": "david4",
                                    "SZALL_MOD": "NULL",
                                    "(No column name)": "21"
                                },
                                {
                                    "LOGIN": "debora",
                                    "SZALL_MOD": "GLS",
                                    "(No column name)": "7"
                                },
                                {
                                    "LOGIN": "debora",
                                    "SZALL_MOD": "Posta",
                                    "(No column name)": "6"
                                },
                                {
                                    "LOGIN": "debora",
                                    "SZALL_MOD": "Személyes átvétel",
                                    "(No column name)": "3"
                                },
                                {
                                    "LOGIN": "debora",
                                    "SZALL_MOD": "NULL",
                                    "(No column name)": "16"
                                },
                                {
                                    "LOGIN": "denes",
                                    "SZALL_MOD": "GLS",
                                    "(No column name)": "3"
                                },
                                {
                                    "LOGIN": "denes",
                                    "SZALL_MOD": "Posta",
                                    "(No column name)": "2"
                                },
                                {
                                    "LOGIN": "denes",
                                    "SZALL_MOD": "Személyes átvétel",
                                    "(No column name)": "4"
                                },
                                {
                                    "LOGIN": "denes",
                                    "SZALL_MOD": "NULL",
                                    "(No column name)": "9"
                                },
                                {
                                    "LOGIN": "dora3",
                                    "SZALL_MOD": "GLS",
                                    "(No column name)": "144"
                                },
                                {
                                    "LOGIN": "dora3",
                                    "SZALL_MOD": "Posta",
                                    "(No column name)": "124"
                                },
                                {
                                    "LOGIN": "dora3",
                                    "SZALL_MOD": "Személyes átvétel",
                                    "(No column name)": "164"
                                },
                                {
                                    "LOGIN": "dora3",
                                    "SZALL_MOD": "NULL",
                                    "(No column name)": "432"
                                },
                                {
                                    "LOGIN": "edit",
                                    "SZALL_MOD": "GLS",
                                    "(No column name)": "7"
                                },
                                {
                                    "LOGIN": "edit",
                                    "SZALL_MOD": "Posta",
                                    "(No column name)": "2"
                                },
                                {
                                    "LOGIN": "edit",
                                    "SZALL_MOD": "Személyes átvétel",
                                    "(No column name)": "4"
                                },
                                {
                                    "LOGIN": "edit",
                                    "SZALL_MOD": "NULL",
                                    "(No column name)": "13"
                                },
                                {
                                    "LOGIN": "emese",
                                    "SZALL_MOD": "GLS",
                                    "(No column name)": "128"
                                },
                                {
                                    "LOGIN": "emese",
                                    "SZALL_MOD": "Posta",
                                    "(No column name)": "136"
                                },
                                {
                                    "LOGIN": "emese",
                                    "SZALL_MOD": "Személyes átvétel",
                                    "(No column name)": "142"
                                },
                                {
                                    "LOGIN": "emese",
                                    "SZALL_MOD": "NULL",
                                    "(No column name)": "406"
                                },
                                {
                                    "LOGIN": "eszter2",
                                    "SZALL_MOD": "GLS",
                                    "(No column name)": "127"
                                },
                                {
                                    "LOGIN": "eszter2",
                                    "SZALL_MOD": "Posta",
                                    "(No column name)": "136"
                                },
                                {
                                    "LOGIN": "eszter2",
                                    "SZALL_MOD": "Személyes átvétel",
                                    "(No column name)": "152"
                                },
                                {
                                    "LOGIN": "eszter2",
                                    "SZALL_MOD": "NULL",
                                    "(No column name)": "415"
                                },
                                {
                                    "LOGIN": "eszter4",
                                    "SZALL_MOD": "GLS",
                                    "(No column name)": "141"
                                },
                                {
                                    "LOGIN": "eszter4",
                                    "SZALL_MOD": "Posta",
                                    "(No column name)": "134"
                                },
                                {
                                    "LOGIN": "eszter4",
                                    "SZALL_MOD": "Személyes átvétel",
                                    "(No column name)": "149"
                                },
                                {
                                    "LOGIN": "eszter4",
                                    "SZALL_MOD": "NULL",
                                    "(No column name)": "424"
                                },
                                {
                                    "LOGIN": "ESZTERE",
                                    "SZALL_MOD": "GLS",
                                    "(No column name)": "6"
                                },
                                {
                                    "LOGIN": "ESZTERE",
                                    "SZALL_MOD": "Posta",
                                    "(No column name)": "9"
                                },
                                {
                                    "LOGIN": "ESZTERE",
                                    "SZALL_MOD": "Személyes átvétel",
                                    "(No column name)": "7"
                                },
                                {
                                    "LOGIN": "ESZTERE",
                                    "SZALL_MOD": "NULL",
                                    "(No column name)": "22"
                                },
                                {
                                    "LOGIN": "eva",
                                    "SZALL_MOD": "GLS",
                                    "(No column name)": "125"
                                },
                                {
                                    "LOGIN": "eva",
                                    "SZALL_MOD": "Posta",
                                    "(No column name)": "140"
                                },
                                {
                                    "LOGIN": "eva",
                                    "SZALL_MOD": "Személyes átvétel",
                                    "(No column name)": "139"
                                },
                                {
                                    "LOGIN": "eva",
                                    "SZALL_MOD": "NULL",
                                    "(No column name)": "404"
                                },
                                {
                                    "LOGIN": "eva2",
                                    "SZALL_MOD": "GLS",
                                    "(No column name)": "154"
                                },
                                {
                                    "LOGIN": "eva2",
                                    "SZALL_MOD": "Posta",
                                    "(No column name)": "138"
                                },
                                {
                                    "LOGIN": "eva2",
                                    "SZALL_MOD": "Személyes átvétel",
                                    "(No column name)": "170"
                                },
                                {
                                    "LOGIN": "eva2",
                                    "SZALL_MOD": "NULL",
                                    "(No column name)": "462"
                                },
                                {
                                    "LOGIN": "EVAV",
                                    "SZALL_MOD": "GLS",
                                    "(No column name)": "2"
                                },
                                {
                                    "LOGIN": "EVAV",
                                    "SZALL_MOD": "Posta",
                                    "(No column name)": "1"
                                },
                                {
                                    "LOGIN": "EVAV",
                                    "SZALL_MOD": "Személyes átvétel",
                                    "(No column name)": "4"
                                },
                                {
                                    "LOGIN": "EVAV",
                                    "SZALL_MOD": "NULL",
                                    "(No column name)": "7"
                                },
                                {
                                    "LOGIN": "ferenc1",
                                    "SZALL_MOD": "GLS",
                                    "(No column name)": "144"
                                },
                                {
                                    "LOGIN": "ferenc1",
                                    "SZALL_MOD": "Posta",
                                    "(No column name)": "158"
                                },
                                {
                                    "LOGIN": "ferenc1",
                                    "SZALL_MOD": "Személyes átvétel",
                                    "(No column name)": "135"
                                },
                                {
                                    "LOGIN": "ferenc1",
                                    "SZALL_MOD": "NULL",
                                    "(No column name)": "437"
                                },
                                {
                                    "LOGIN": "fruzsina4",
                                    "SZALL_MOD": "GLS",
                                    "(No column name)": "8"
                                },
                                {
                                    "LOGIN": "fruzsina4",
                                    "SZALL_MOD": "Posta",
                                    "(No column name)": "3"
                                },
                                {
                                    "LOGIN": "fruzsina4",
                                    "SZALL_MOD": "Személyes átvétel",
                                    "(No column name)": "7"
                                },
                                {
                                    "LOGIN": "fruzsina4",
                                    "SZALL_MOD": "NULL",
                                    "(No column name)": "18"
                                },
                                {
                                    "LOGIN": "gabor1",
                                    "SZALL_MOD": "GLS",
                                    "(No column name)": "9"
                                },
                                {
                                    "LOGIN": "gabor1",
                                    "SZALL_MOD": "Posta",
                                    "(No column name)": "5"
                                },
                                {
                                    "LOGIN": "gabor1",
                                    "SZALL_MOD": "Személyes átvétel",
                                    "(No column name)": "5"
                                },
                                {
                                    "LOGIN": "gabor1",
                                    "SZALL_MOD": "NULL",
                                    "(No column name)": "19"
                                },
                                {
                                    "LOGIN": "gabor4",
                                    "SZALL_MOD": "GLS",
                                    "(No column name)": "7"
                                },
                                {
                                    "LOGIN": "gabor4",
                                    "SZALL_MOD": "Posta",
                                    "(No column name)": "9"
                                },
                                {
                                    "LOGIN": "gabor4",
                                    "SZALL_MOD": "Személyes átvétel",
                                    "(No column name)": "4"
                                },
                                {
                                    "LOGIN": "gabor4",
                                    "SZALL_MOD": "NULL",
                                    "(No column name)": "20"
                                },
                                {
                                    "LOGIN": "GABORS",
                                    "SZALL_MOD": "GLS",
                                    "(No column name)": "5"
                                },
                                {
                                    "LOGIN": "GABORS",
                                    "SZALL_MOD": "Posta",
                                    "(No column name)": "6"
                                },
                                {
                                    "LOGIN": "GABORS",
                                    "SZALL_MOD": "Személyes átvétel",
                                    "(No column name)": "4"
                                },
                                {
                                    "LOGIN": "GABORS",
                                    "SZALL_MOD": "NULL",
                                    "(No column name)": "15"
                                },
                                {
                                    "LOGIN": "gabriella1",
                                    "SZALL_MOD": "GLS",
                                    "(No column name)": "5"
                                },
                                {
                                    "LOGIN": "gabriella1",
                                    "SZALL_MOD": "Posta",
                                    "(No column name)": "4"
                                },
                                {
                                    "LOGIN": "gabriella1",
                                    "SZALL_MOD": "Személyes átvétel",
                                    "(No column name)": "5"
                                },
                                {
                                    "LOGIN": "gabriella1",
                                    "SZALL_MOD": "NULL",
                                    "(No column name)": "14"
                                },
                                {
                                    "LOGIN": "gabriella10",
                                    "SZALL_MOD": "GLS",
                                    "(No column name)": "4"
                                },
                                {
                                    "LOGIN": "gabriella10",
                                    "SZALL_MOD": "Posta",
                                    "(No column name)": "5"
                                },
                                {
                                    "LOGIN": "gabriella10",
                                    "SZALL_MOD": "Személyes átvétel",
                                    "(No column name)": "7"
                                },
                                {
                                    "LOGIN": "gabriella10",
                                    "SZALL_MOD": "NULL",
                                    "(No column name)": "16"
                                },
                                {
                                    "LOGIN": "georgij",
                                    "SZALL_MOD": "GLS",
                                    "(No column name)": "9"
                                },
                                {
                                    "LOGIN": "georgij",
                                    "SZALL_MOD": "Posta",
                                    "(No column name)": "2"
                                },
                                {
                                    "LOGIN": "georgij",
                                    "SZALL_MOD": "Személyes átvétel",
                                    "(No column name)": "10"
                                },
                                {
                                    "LOGIN": "georgij",
                                    "SZALL_MOD": "NULL",
                                    "(No column name)": "21"
                                },
                                {
                                    "LOGIN": "gusztav",
                                    "SZALL_MOD": "GLS",
                                    "(No column name)": "5"
                                },
                                {
                                    "LOGIN": "gusztav",
                                    "SZALL_MOD": "Posta",
                                    "(No column name)": "4"
                                },
                                {
                                    "LOGIN": "gusztav",
                                    "SZALL_MOD": "Személyes átvétel",
                                    "(No column name)": "5"
                                },
                                {
                                    "LOGIN": "gusztav",
                                    "SZALL_MOD": "NULL",
                                    "(No column name)": "14"
                                },
                                {
                                    "LOGIN": "GYONGYIK",
                                    "SZALL_MOD": "GLS",
                                    "(No column name)": "6"
                                },
                                {
                                    "LOGIN": "GYONGYIK",
                                    "SZALL_MOD": "Posta",
                                    "(No column name)": "6"
                                },
                                {
                                    "LOGIN": "GYONGYIK",
                                    "SZALL_MOD": "Személyes átvétel",
                                    "(No column name)": "3"
                                },
                                {
                                    "LOGIN": "GYONGYIK",
                                    "SZALL_MOD": "NULL",
                                    "(No column name)": "15"
                                },
                                {
                                    "LOGIN": "GYORGYO",
                                    "SZALL_MOD": "GLS",
                                    "(No column name)": "7"
                                },
                                {
                                    "LOGIN": "GYORGYO",
                                    "SZALL_MOD": "Posta",
                                    "(No column name)": "4"
                                },
                                {
                                    "LOGIN": "GYORGYO",
                                    "SZALL_MOD": "Személyes átvétel",
                                    "(No column name)": "5"
                                },
                                {
                                    "LOGIN": "GYORGYO",
                                    "SZALL_MOD": "NULL",
                                    "(No column name)": "16"
                                },
                                {
                                    "LOGIN": "henrik3",
                                    "SZALL_MOD": "GLS",
                                    "(No column name)": "7"
                                },
                                {
                                    "LOGIN": "henrik3",
                                    "SZALL_MOD": "Posta",
                                    "(No column name)": "4"
                                },
                                {
                                    "LOGIN": "henrik3",
                                    "SZALL_MOD": "Személyes átvétel",
                                    "(No column name)": "5"
                                },
                                {
                                    "LOGIN": "henrik3",
                                    "SZALL_MOD": "NULL",
                                    "(No column name)": "16"
                                },
                                {
                                    "LOGIN": "IBOLYAA",
                                    "SZALL_MOD": "GLS",
                                    "(No column name)": "140"
                                },
                                {
                                    "LOGIN": "IBOLYAA",
                                    "SZALL_MOD": "Posta",
                                    "(No column name)": "125"
                                },
                                {
                                    "LOGIN": "IBOLYAA",
                                    "SZALL_MOD": "Személyes átvétel",
                                    "(No column name)": "157"
                                },
                                {
                                    "LOGIN": "IBOLYAA",
                                    "SZALL_MOD": "NULL",
                                    "(No column name)": "422"
                                },
                                {
                                    "LOGIN": "ilona3",
                                    "SZALL_MOD": "GLS",
                                    "(No column name)": "9"
                                },
                                {
                                    "LOGIN": "ilona3",
                                    "SZALL_MOD": "Posta",
                                    "(No column name)": "2"
                                },
                                {
                                    "LOGIN": "ilona3",
                                    "SZALL_MOD": "Személyes átvétel",
                                    "(No column name)": "7"
                                },
                                {
                                    "LOGIN": "ilona3",
                                    "SZALL_MOD": "NULL",
                                    "(No column name)": "18"
                                },
                                {
                                    "LOGIN": "imre",
                                    "SZALL_MOD": "GLS",
                                    "(No column name)": "5"
                                },
                                {
                                    "LOGIN": "imre",
                                    "SZALL_MOD": "Posta",
                                    "(No column name)": "4"
                                },
                                {
                                    "LOGIN": "imre",
                                    "SZALL_MOD": "Személyes átvétel",
                                    "(No column name)": "6"
                                },
                                {
                                    "LOGIN": "imre",
                                    "SZALL_MOD": "NULL",
                                    "(No column name)": "15"
                                },
                                {
                                    "LOGIN": "imre1",
                                    "SZALL_MOD": "GLS",
                                    "(No column name)": "8"
                                },
                                {
                                    "LOGIN": "imre1",
                                    "SZALL_MOD": "Posta",
                                    "(No column name)": "4"
                                },
                                {
                                    "LOGIN": "imre1",
                                    "SZALL_MOD": "Személyes átvétel",
                                    "(No column name)": "3"
                                },
                                {
                                    "LOGIN": "imre1",
                                    "SZALL_MOD": "NULL",
                                    "(No column name)": "15"
                                },
                                {
                                    "LOGIN": "istvan",
                                    "SZALL_MOD": "GLS",
                                    "(No column name)": "3"
                                },
                                {
                                    "LOGIN": "istvan",
                                    "SZALL_MOD": "Posta",
                                    "(No column name)": "4"
                                },
                                {
                                    "LOGIN": "istvan",
                                    "SZALL_MOD": "Személyes átvétel",
                                    "(No column name)": "4"
                                },
                                {
                                    "LOGIN": "istvan",
                                    "SZALL_MOD": "NULL",
                                    "(No column name)": "11"
                                },
                                {
                                    "LOGIN": "istvan1",
                                    "SZALL_MOD": "GLS",
                                    "(No column name)": "8"
                                },
                                {
                                    "LOGIN": "istvan1",
                                    "SZALL_MOD": "Posta",
                                    "(No column name)": "4"
                                },
                                {
                                    "LOGIN": "istvan1",
                                    "SZALL_MOD": "Személyes átvétel",
                                    "(No column name)": "7"
                                },
                                {
                                    "LOGIN": "istvan1",
                                    "SZALL_MOD": "NULL",
                                    "(No column name)": "19"
                                },
                                {
                                    "LOGIN": "ISTVANV",
                                    "SZALL_MOD": "GLS",
                                    "(No column name)": "4"
                                },
                                {
                                    "LOGIN": "ISTVANV",
                                    "SZALL_MOD": "Posta",
                                    "(No column name)": "9"
                                },
                                {
                                    "LOGIN": "ISTVANV",
                                    "SZALL_MOD": "Személyes átvétel",
                                    "(No column name)": "8"
                                },
                                {
                                    "LOGIN": "ISTVANV",
                                    "SZALL_MOD": "NULL",
                                    "(No column name)": "21"
                                },
                                {
                                    "LOGIN": "janos3",
                                    "SZALL_MOD": "GLS",
                                    "(No column name)": "5"
                                },
                                {
                                    "LOGIN": "janos3",
                                    "SZALL_MOD": "Posta",
                                    "(No column name)": "2"
                                },
                                {
                                    "LOGIN": "janos3",
                                    "SZALL_MOD": "Személyes átvétel",
                                    "(No column name)": "6"
                                },
                                {
                                    "LOGIN": "janos3",
                                    "SZALL_MOD": "NULL",
                                    "(No column name)": "13"
                                },
                                {
                                    "LOGIN": "JANOSG",
                                    "SZALL_MOD": "GLS",
                                    "(No column name)": "3"
                                },
                                {
                                    "LOGIN": "JANOSG",
                                    "SZALL_MOD": "Posta",
                                    "(No column name)": "3"
                                },
                                {
                                    "LOGIN": "JANOSG",
                                    "SZALL_MOD": "Személyes átvétel",
                                    "(No column name)": "4"
                                },
                                {
                                    "LOGIN": "JANOSG",
                                    "SZALL_MOD": "NULL",
                                    "(No column name)": "10"
                                },
                                {
                                    "LOGIN": "JANOSP",
                                    "SZALL_MOD": "GLS",
                                    "(No column name)": "7"
                                },
                                {
                                    "LOGIN": "JANOSP",
                                    "SZALL_MOD": "Posta",
                                    "(No column name)": "7"
                                },
                                {
                                    "LOGIN": "JANOSP",
                                    "SZALL_MOD": "Személyes átvétel",
                                    "(No column name)": "3"
                                },
                                {
                                    "LOGIN": "JANOSP",
                                    "SZALL_MOD": "NULL",
                                    "(No column name)": "17"
                                },
                                {
                                    "LOGIN": "jozsef",
                                    "SZALL_MOD": "GLS",
                                    "(No column name)": "116"
                                },
                                {
                                    "LOGIN": "jozsef",
                                    "SZALL_MOD": "Posta",
                                    "(No column name)": "132"
                                },
                                {
                                    "LOGIN": "jozsef",
                                    "SZALL_MOD": "Személyes átvétel",
                                    "(No column name)": "134"
                                },
                                {
                                    "LOGIN": "jozsef",
                                    "SZALL_MOD": "NULL",
                                    "(No column name)": "382"
                                },
                                {
                                    "LOGIN": "jozsef2",
                                    "SZALL_MOD": "GLS",
                                    "(No column name)": "7"
                                },
                                {
                                    "LOGIN": "jozsef2",
                                    "SZALL_MOD": "Posta",
                                    "(No column name)": "2"
                                },
                                {
                                    "LOGIN": "jozsef2",
                                    "SZALL_MOD": "Személyes átvétel",
                                    "(No column name)": "4"
                                },
                                {
                                    "LOGIN": "jozsef2",
                                    "SZALL_MOD": "NULL",
                                    "(No column name)": "13"
                                },
                                {
                                    "LOGIN": "JOZSEFG",
                                    "SZALL_MOD": "GLS",
                                    "(No column name)": "11"
                                },
                                {
                                    "LOGIN": "JOZSEFG",
                                    "SZALL_MOD": "Posta",
                                    "(No column name)": "1"
                                },
                                {
                                    "LOGIN": "JOZSEFG",
                                    "SZALL_MOD": "Személyes átvétel",
                                    "(No column name)": "9"
                                },
                                {
                                    "LOGIN": "JOZSEFG",
                                    "SZALL_MOD": "NULL",
                                    "(No column name)": "21"
                                },
                                {
                                    "LOGIN": "JUDITH",
                                    "SZALL_MOD": "GLS",
                                    "(No column name)": "170"
                                },
                                {
                                    "LOGIN": "JUDITH",
                                    "SZALL_MOD": "Posta",
                                    "(No column name)": "130"
                                },
                                {
                                    "LOGIN": "JUDITH",
                                    "SZALL_MOD": "Személyes átvétel",
                                    "(No column name)": "150"
                                },
                                {
                                    "LOGIN": "JUDITH",
                                    "SZALL_MOD": "NULL",
                                    "(No column name)": "450"
                                },
                                {
                                    "LOGIN": "julia",
                                    "SZALL_MOD": "GLS",
                                    "(No column name)": "137"
                                },
                                {
                                    "LOGIN": "julia",
                                    "SZALL_MOD": "Posta",
                                    "(No column name)": "160"
                                },
                                {
                                    "LOGIN": "julia",
                                    "SZALL_MOD": "Személyes átvétel",
                                    "(No column name)": "138"
                                },
                                {
                                    "LOGIN": "julia",
                                    "SZALL_MOD": "NULL",
                                    "(No column name)": "435"
                                },
                                {
                                    "LOGIN": "julia4",
                                    "SZALL_MOD": "GLS",
                                    "(No column name)": "2"
                                },
                                {
                                    "LOGIN": "julia4",
                                    "SZALL_MOD": "Posta",
                                    "(No column name)": "4"
                                },
                                {
                                    "LOGIN": "julia4",
                                    "SZALL_MOD": "Személyes átvétel",
                                    "(No column name)": "8"
                                },
                                {
                                    "LOGIN": "julia4",
                                    "SZALL_MOD": "NULL",
                                    "(No column name)": "14"
                                },
                                {
                                    "LOGIN": "julianna4",
                                    "SZALL_MOD": "GLS",
                                    "(No column name)": "8"
                                },
                                {
                                    "LOGIN": "julianna4",
                                    "SZALL_MOD": "Posta",
                                    "(No column name)": "12"
                                },
                                {
                                    "LOGIN": "julianna4",
                                    "SZALL_MOD": "Személyes átvétel",
                                    "(No column name)": "7"
                                },
                                {
                                    "LOGIN": "julianna4",
                                    "SZALL_MOD": "NULL",
                                    "(No column name)": "27"
                                },
                                {
                                    "LOGIN": "kata",
                                    "SZALL_MOD": "GLS",
                                    "(No column name)": "5"
                                },
                                {
                                    "LOGIN": "kata",
                                    "SZALL_MOD": "Posta",
                                    "(No column name)": "4"
                                },
                                {
                                    "LOGIN": "kata",
                                    "SZALL_MOD": "Személyes átvétel",
                                    "(No column name)": "3"
                                },
                                {
                                    "LOGIN": "kata",
                                    "SZALL_MOD": "NULL",
                                    "(No column name)": "12"
                                },
                                {
                                    "LOGIN": "katalin",
                                    "SZALL_MOD": "GLS",
                                    "(No column name)": "7"
                                },
                                {
                                    "LOGIN": "katalin",
                                    "SZALL_MOD": "Posta",
                                    "(No column name)": "7"
                                },
                                {
                                    "LOGIN": "katalin",
                                    "SZALL_MOD": "Személyes átvétel",
                                    "(No column name)": "5"
                                },
                                {
                                    "LOGIN": "katalin",
                                    "SZALL_MOD": "NULL",
                                    "(No column name)": "19"
                                },
                                {
                                    "LOGIN": "katalin4",
                                    "SZALL_MOD": "GLS",
                                    "(No column name)": "7"
                                },
                                {
                                    "LOGIN": "katalin4",
                                    "SZALL_MOD": "Posta",
                                    "(No column name)": "5"
                                },
                                {
                                    "LOGIN": "katalin4",
                                    "SZALL_MOD": "Személyes átvétel",
                                    "(No column name)": "11"
                                },
                                {
                                    "LOGIN": "katalin4",
                                    "SZALL_MOD": "NULL",
                                    "(No column name)": "23"
                                },
                                {
                                    "LOGIN": "kati",
                                    "SZALL_MOD": "GLS",
                                    "(No column name)": "4"
                                },
                                {
                                    "LOGIN": "kati",
                                    "SZALL_MOD": "Posta",
                                    "(No column name)": "5"
                                },
                                {
                                    "LOGIN": "kati",
                                    "SZALL_MOD": "Személyes átvétel",
                                    "(No column name)": "4"
                                },
                                {
                                    "LOGIN": "kati",
                                    "SZALL_MOD": "NULL",
                                    "(No column name)": "13"
                                },
                                {
                                    "LOGIN": "katka",
                                    "SZALL_MOD": "GLS",
                                    "(No column name)": "6"
                                },
                                {
                                    "LOGIN": "katka",
                                    "SZALL_MOD": "Posta",
                                    "(No column name)": "6"
                                },
                                {
                                    "LOGIN": "katka",
                                    "SZALL_MOD": "Személyes átvétel",
                                    "(No column name)": "10"
                                },
                                {
                                    "LOGIN": "katka",
                                    "SZALL_MOD": "NULL",
                                    "(No column name)": "22"
                                },
                                {
                                    "LOGIN": "klaudia2",
                                    "SZALL_MOD": "GLS",
                                    "(No column name)": "3"
                                },
                                {
                                    "LOGIN": "klaudia2",
                                    "SZALL_MOD": "Posta",
                                    "(No column name)": "9"
                                },
                                {
                                    "LOGIN": "klaudia2",
                                    "SZALL_MOD": "Személyes átvétel",
                                    "(No column name)": "5"
                                },
                                {
                                    "LOGIN": "klaudia2",
                                    "SZALL_MOD": "NULL",
                                    "(No column name)": "17"
                                },
                                {
                                    "LOGIN": "kornel4",
                                    "SZALL_MOD": "GLS",
                                    "(No column name)": "3"
                                },
                                {
                                    "LOGIN": "kornel4",
                                    "SZALL_MOD": "Posta",
                                    "(No column name)": "1"
                                },
                                {
                                    "LOGIN": "kornel4",
                                    "SZALL_MOD": "Személyes átvétel",
                                    "(No column name)": "7"
                                },
                                {
                                    "LOGIN": "kornel4",
                                    "SZALL_MOD": "NULL",
                                    "(No column name)": "11"
                                },
                                {
                                    "LOGIN": "kristof4",
                                    "SZALL_MOD": "GLS",
                                    "(No column name)": "9"
                                },
                                {
                                    "LOGIN": "kristof4",
                                    "SZALL_MOD": "Posta",
                                    "(No column name)": "4"
                                },
                                {
                                    "LOGIN": "kristof4",
                                    "SZALL_MOD": "Személyes átvétel",
                                    "(No column name)": "8"
                                },
                                {
                                    "LOGIN": "kristof4",
                                    "SZALL_MOD": "NULL",
                                    "(No column name)": "21"
                                },
                                {
                                    "LOGIN": "kriszti",
                                    "SZALL_MOD": "GLS",
                                    "(No column name)": "3"
                                },
                                {
                                    "LOGIN": "kriszti",
                                    "SZALL_MOD": "Posta",
                                    "(No column name)": "5"
                                },
                                {
                                    "LOGIN": "kriszti",
                                    "SZALL_MOD": "Személyes átvétel",
                                    "(No column name)": "5"
                                },
                                {
                                    "LOGIN": "kriszti",
                                    "SZALL_MOD": "NULL",
                                    "(No column name)": "13"
                                },
                                {
                                    "LOGIN": "krisztian4",
                                    "SZALL_MOD": "GLS",
                                    "(No column name)": "5"
                                },
                                {
                                    "LOGIN": "krisztian4",
                                    "SZALL_MOD": "Posta",
                                    "(No column name)": "6"
                                },
                                {
                                    "LOGIN": "krisztian4",
                                    "SZALL_MOD": "Személyes átvétel",
                                    "(No column name)": "6"
                                },
                                {
                                    "LOGIN": "krisztian4",
                                    "SZALL_MOD": "NULL",
                                    "(No column name)": "17"
                                },
                                {
                                    "LOGIN": "KRISZTIANM",
                                    "SZALL_MOD": "GLS",
                                    "(No column name)": "118"
                                },
                                {
                                    "LOGIN": "KRISZTIANM",
                                    "SZALL_MOD": "Posta",
                                    "(No column name)": "136"
                                },
                                {
                                    "LOGIN": "KRISZTIANM",
                                    "SZALL_MOD": "Személyes átvétel",
                                    "(No column name)": "130"
                                },
                                {
                                    "LOGIN": "KRISZTIANM",
                                    "SZALL_MOD": "NULL",
                                    "(No column name)": "384"
                                },
                                {
                                    "LOGIN": "krisztina",
                                    "SZALL_MOD": "GLS",
                                    "(No column name)": "149"
                                },
                                {
                                    "LOGIN": "krisztina",
                                    "SZALL_MOD": "Posta",
                                    "(No column name)": "150"
                                },
                                {
                                    "LOGIN": "krisztina",
                                    "SZALL_MOD": "Személyes átvétel",
                                    "(No column name)": "157"
                                },
                                {
                                    "LOGIN": "krisztina",
                                    "SZALL_MOD": "NULL",
                                    "(No column name)": "456"
                                },
                                {
                                    "LOGIN": "krisztina1",
                                    "SZALL_MOD": "GLS",
                                    "(No column name)": "10"
                                },
                                {
                                    "LOGIN": "krisztina1",
                                    "SZALL_MOD": "Posta",
                                    "(No column name)": "4"
                                },
                                {
                                    "LOGIN": "krisztina1",
                                    "SZALL_MOD": "Személyes átvétel",
                                    "(No column name)": "8"
                                },
                                {
                                    "LOGIN": "krisztina1",
                                    "SZALL_MOD": "NULL",
                                    "(No column name)": "22"
                                },
                                {
                                    "LOGIN": "KRISZTINAG",
                                    "SZALL_MOD": "GLS",
                                    "(No column name)": "6"
                                },
                                {
                                    "LOGIN": "KRISZTINAG",
                                    "SZALL_MOD": "Posta",
                                    "(No column name)": "6"
                                },
                                {
                                    "LOGIN": "KRISZTINAG",
                                    "SZALL_MOD": "Személyes átvétel",
                                    "(No column name)": "10"
                                },
                                {
                                    "LOGIN": "KRISZTINAG",
                                    "SZALL_MOD": "NULL",
                                    "(No column name)": "22"
                                },
                                {
                                    "LOGIN": "lajos",
                                    "SZALL_MOD": "GLS",
                                    "(No column name)": "5"
                                },
                                {
                                    "LOGIN": "lajos",
                                    "SZALL_MOD": "Posta",
                                    "(No column name)": "2"
                                },
                                {
                                    "LOGIN": "lajos",
                                    "SZALL_MOD": "Személyes átvétel",
                                    "(No column name)": "9"
                                },
                                {
                                    "LOGIN": "lajos",
                                    "SZALL_MOD": "NULL",
                                    "(No column name)": "16"
                                },
                                {
                                    "LOGIN": "lala",
                                    "SZALL_MOD": "GLS",
                                    "(No column name)": "5"
                                },
                                {
                                    "LOGIN": "lala",
                                    "SZALL_MOD": "Posta",
                                    "(No column name)": "3"
                                },
                                {
                                    "LOGIN": "lala",
                                    "SZALL_MOD": "Személyes átvétel",
                                    "(No column name)": "9"
                                },
                                {
                                    "LOGIN": "lala",
                                    "SZALL_MOD": "NULL",
                                    "(No column name)": "17"
                                },
                                {
                                    "LOGIN": "laszlo1",
                                    "SZALL_MOD": "GLS",
                                    "(No column name)": "130"
                                },
                                {
                                    "LOGIN": "laszlo1",
                                    "SZALL_MOD": "Posta",
                                    "(No column name)": "129"
                                },
                                {
                                    "LOGIN": "laszlo1",
                                    "SZALL_MOD": "Személyes átvétel",
                                    "(No column name)": "135"
                                },
                                {
                                    "LOGIN": "laszlo1",
                                    "SZALL_MOD": "NULL",
                                    "(No column name)": "394"
                                },
                                {
                                    "LOGIN": "laszlo2",
                                    "SZALL_MOD": "GLS",
                                    "(No column name)": "12"
                                },
                                {
                                    "LOGIN": "laszlo2",
                                    "SZALL_MOD": "Posta",
                                    "(No column name)": "6"
                                },
                                {
                                    "LOGIN": "laszlo2",
                                    "SZALL_MOD": "Személyes átvétel",
                                    "(No column name)": "7"
                                },
                                {
                                    "LOGIN": "laszlo2",
                                    "SZALL_MOD": "NULL",
                                    "(No column name)": "25"
                                },
                                {
                                    "LOGIN": "LASZLOA",
                                    "SZALL_MOD": "GLS",
                                    "(No column name)": "156"
                                },
                                {
                                    "LOGIN": "LASZLOA",
                                    "SZALL_MOD": "Posta",
                                    "(No column name)": "136"
                                },
                                {
                                    "LOGIN": "LASZLOA",
                                    "SZALL_MOD": "Személyes átvétel",
                                    "(No column name)": "154"
                                },
                                {
                                    "LOGIN": "LASZLOA",
                                    "SZALL_MOD": "NULL",
                                    "(No column name)": "446"
                                },
                                {
                                    "LOGIN": "LASZLON",
                                    "SZALL_MOD": "GLS",
                                    "(No column name)": "126"
                                },
                                {
                                    "LOGIN": "LASZLON",
                                    "SZALL_MOD": "Posta",
                                    "(No column name)": "131"
                                },
                                {
                                    "LOGIN": "LASZLON",
                                    "SZALL_MOD": "Személyes átvétel",
                                    "(No column name)": "143"
                                },
                                {
                                    "LOGIN": "LASZLON",
                                    "SZALL_MOD": "NULL",
                                    "(No column name)": "400"
                                },
                                {
                                    "LOGIN": "maria1",
                                    "SZALL_MOD": "GLS",
                                    "(No column name)": "4"
                                },
                                {
                                    "LOGIN": "maria1",
                                    "SZALL_MOD": "Posta",
                                    "(No column name)": "5"
                                },
                                {
                                    "LOGIN": "maria1",
                                    "SZALL_MOD": "Személyes átvétel",
                                    "(No column name)": "1"
                                },
                                {
                                    "LOGIN": "maria1",
                                    "SZALL_MOD": "NULL",
                                    "(No column name)": "10"
                                },
                                {
                                    "LOGIN": "MARKH",
                                    "SZALL_MOD": "GLS",
                                    "(No column name)": "128"
                                },
                                {
                                    "LOGIN": "MARKH",
                                    "SZALL_MOD": "Posta",
                                    "(No column name)": "142"
                                },
                                {
                                    "LOGIN": "MARKH",
                                    "SZALL_MOD": "Személyes átvétel",
                                    "(No column name)": "142"
                                },
                                {
                                    "LOGIN": "MARKH",
                                    "SZALL_MOD": "NULL",
                                    "(No column name)": "412"
                                },
                                {
                                    "LOGIN": "marton",
                                    "SZALL_MOD": "GLS",
                                    "(No column name)": "5"
                                },
                                {
                                    "LOGIN": "marton",
                                    "SZALL_MOD": "Posta",
                                    "(No column name)": "4"
                                },
                                {
                                    "LOGIN": "marton",
                                    "SZALL_MOD": "Személyes átvétel",
                                    "(No column name)": "5"
                                },
                                {
                                    "LOGIN": "marton",
                                    "SZALL_MOD": "NULL",
                                    "(No column name)": "14"
                                },
                                {
                                    "LOGIN": "MATEK",
                                    "SZALL_MOD": "GLS",
                                    "(No column name)": "6"
                                },
                                {
                                    "LOGIN": "MATEK",
                                    "SZALL_MOD": "Posta",
                                    "(No column name)": "10"
                                },
                                {
                                    "LOGIN": "MATEK",
                                    "SZALL_MOD": "Személyes átvétel",
                                    "(No column name)": "9"
                                },
                                {
                                    "LOGIN": "MATEK",
                                    "SZALL_MOD": "NULL",
                                    "(No column name)": "25"
                                },
                                {
                                    "LOGIN": "matyas2",
                                    "SZALL_MOD": "GLS",
                                    "(No column name)": "138"
                                },
                                {
                                    "LOGIN": "matyas2",
                                    "SZALL_MOD": "Posta",
                                    "(No column name)": "131"
                                },
                                {
                                    "LOGIN": "matyas2",
                                    "SZALL_MOD": "Személyes átvétel",
                                    "(No column name)": "164"
                                },
                                {
                                    "LOGIN": "matyas2",
                                    "SZALL_MOD": "NULL",
                                    "(No column name)": "433"
                                },
                                {
                                    "LOGIN": "MATYASS",
                                    "SZALL_MOD": "GLS",
                                    "(No column name)": "4"
                                },
                                {
                                    "LOGIN": "MATYASS",
                                    "SZALL_MOD": "Posta",
                                    "(No column name)": "5"
                                },
                                {
                                    "LOGIN": "MATYASS",
                                    "SZALL_MOD": "Személyes átvétel",
                                    "(No column name)": "3"
                                },
                                {
                                    "LOGIN": "MATYASS",
                                    "SZALL_MOD": "NULL",
                                    "(No column name)": "12"
                                },
                                {
                                    "LOGIN": "MIHALYJ",
                                    "SZALL_MOD": "GLS",
                                    "(No column name)": "3"
                                },
                                {
                                    "LOGIN": "MIHALYJ",
                                    "SZALL_MOD": "Posta",
                                    "(No column name)": "4"
                                },
                                {
                                    "LOGIN": "MIHALYJ",
                                    "SZALL_MOD": "Személyes átvétel",
                                    "(No column name)": "6"
                                },
                                {
                                    "LOGIN": "MIHALYJ",
                                    "SZALL_MOD": "NULL",
                                    "(No column name)": "13"
                                },
                                {
                                    "LOGIN": "miklos2",
                                    "SZALL_MOD": "GLS",
                                    "(No column name)": "7"
                                },
                                {
                                    "LOGIN": "miklos2",
                                    "SZALL_MOD": "Posta",
                                    "(No column name)": "4"
                                },
                                {
                                    "LOGIN": "miklos2",
                                    "SZALL_MOD": "Személyes átvétel",
                                    "(No column name)": "2"
                                },
                                {
                                    "LOGIN": "miklos2",
                                    "SZALL_MOD": "NULL",
                                    "(No column name)": "13"
                                },
                                {
                                    "LOGIN": "MIKLOSB",
                                    "SZALL_MOD": "GLS",
                                    "(No column name)": "6"
                                },
                                {
                                    "LOGIN": "MIKLOSB",
                                    "SZALL_MOD": "Posta",
                                    "(No column name)": "1"
                                },
                                {
                                    "LOGIN": "MIKLOSB",
                                    "SZALL_MOD": "Személyes átvétel",
                                    "(No column name)": "8"
                                },
                                {
                                    "LOGIN": "MIKLOSB",
                                    "SZALL_MOD": "NULL",
                                    "(No column name)": "15"
                                },
                                {
                                    "LOGIN": "MONIKAM",
                                    "SZALL_MOD": "GLS",
                                    "(No column name)": "133"
                                },
                                {
                                    "LOGIN": "MONIKAM",
                                    "SZALL_MOD": "Posta",
                                    "(No column name)": "151"
                                },
                                {
                                    "LOGIN": "MONIKAM",
                                    "SZALL_MOD": "Személyes átvétel",
                                    "(No column name)": "123"
                                },
                                {
                                    "LOGIN": "MONIKAM",
                                    "SZALL_MOD": "NULL",
                                    "(No column name)": "407"
                                },
                                {
                                    "LOGIN": "NANDORF",
                                    "SZALL_MOD": "GLS",
                                    "(No column name)": "147"
                                },
                                {
                                    "LOGIN": "NANDORF",
                                    "SZALL_MOD": "Posta",
                                    "(No column name)": "139"
                                },
                                {
                                    "LOGIN": "NANDORF",
                                    "SZALL_MOD": "Személyes átvétel",
                                    "(No column name)": "134"
                                },
                                {
                                    "LOGIN": "NANDORF",
                                    "SZALL_MOD": "NULL",
                                    "(No column name)": "420"
                                },
                                {
                                    "LOGIN": "nikolett3",
                                    "SZALL_MOD": "GLS",
                                    "(No column name)": "4"
                                },
                                {
                                    "LOGIN": "nikolett3",
                                    "SZALL_MOD": "Posta",
                                    "(No column name)": "3"
                                },
                                {
                                    "LOGIN": "nikolett3",
                                    "SZALL_MOD": "Személyes átvétel",
                                    "(No column name)": "10"
                                },
                                {
                                    "LOGIN": "nikolett3",
                                    "SZALL_MOD": "NULL",
                                    "(No column name)": "17"
                                },
                                {
                                    "LOGIN": "nikoletta4",
                                    "SZALL_MOD": "GLS",
                                    "(No column name)": "137"
                                },
                                {
                                    "LOGIN": "nikoletta4",
                                    "SZALL_MOD": "Posta",
                                    "(No column name)": "158"
                                },
                                {
                                    "LOGIN": "nikoletta4",
                                    "SZALL_MOD": "Személyes átvétel",
                                    "(No column name)": "119"
                                },
                                {
                                    "LOGIN": "nikoletta4",
                                    "SZALL_MOD": "NULL",
                                    "(No column name)": "414"
                                },
                                {
                                    "LOGIN": "NIKOLETTAT",
                                    "SZALL_MOD": "GLS",
                                    "(No column name)": "13"
                                },
                                {
                                    "LOGIN": "NIKOLETTAT",
                                    "SZALL_MOD": "Posta",
                                    "(No column name)": "7"
                                },
                                {
                                    "LOGIN": "NIKOLETTAT",
                                    "SZALL_MOD": "Személyes átvétel",
                                    "(No column name)": "5"
                                },
                                {
                                    "LOGIN": "NIKOLETTAT",
                                    "SZALL_MOD": "NULL",
                                    "(No column name)": "25"
                                },
                                {
                                    "LOGIN": "norbert2",
                                    "SZALL_MOD": "GLS",
                                    "(No column name)": "7"
                                },
                                {
                                    "LOGIN": "norbert2",
                                    "SZALL_MOD": "Posta",
                                    "(No column name)": "4"
                                },
                                {
                                    "LOGIN": "norbert2",
                                    "SZALL_MOD": "NULL",
                                    "(No column name)": "11"
                                },
                                {
                                    "LOGIN": "norbert4",
                                    "SZALL_MOD": "GLS",
                                    "(No column name)": "1"
                                },
                                {
                                    "LOGIN": "norbert4",
                                    "SZALL_MOD": "Posta",
                                    "(No column name)": "3"
                                },
                                {
                                    "LOGIN": "norbert4",
                                    "SZALL_MOD": "Személyes átvétel",
                                    "(No column name)": "9"
                                },
                                {
                                    "LOGIN": "norbert4",
                                    "SZALL_MOD": "NULL",
                                    "(No column name)": "13"
                                },
                                {
                                    "LOGIN": "norbert5",
                                    "SZALL_MOD": "GLS",
                                    "(No column name)": "1"
                                },
                                {
                                    "LOGIN": "norbert5",
                                    "SZALL_MOD": "Posta",
                                    "(No column name)": "6"
                                },
                                {
                                    "LOGIN": "norbert5",
                                    "SZALL_MOD": "Személyes átvétel",
                                    "(No column name)": "9"
                                },
                                {
                                    "LOGIN": "norbert5",
                                    "SZALL_MOD": "NULL",
                                    "(No column name)": "16"
                                },
                                {
                                    "LOGIN": "pal",
                                    "SZALL_MOD": "GLS",
                                    "(No column name)": "152"
                                },
                                {
                                    "LOGIN": "pal",
                                    "SZALL_MOD": "Posta",
                                    "(No column name)": "132"
                                },
                                {
                                    "LOGIN": "pal",
                                    "SZALL_MOD": "Személyes átvétel",
                                    "(No column name)": "154"
                                },
                                {
                                    "LOGIN": "pal",
                                    "SZALL_MOD": "NULL",
                                    "(No column name)": "438"
                                },
                                {
                                    "LOGIN": "peter1",
                                    "SZALL_MOD": "GLS",
                                    "(No column name)": "151"
                                },
                                {
                                    "LOGIN": "peter1",
                                    "SZALL_MOD": "Posta",
                                    "(No column name)": "135"
                                },
                                {
                                    "LOGIN": "peter1",
                                    "SZALL_MOD": "Személyes átvétel",
                                    "(No column name)": "126"
                                },
                                {
                                    "LOGIN": "peter1",
                                    "SZALL_MOD": "NULL",
                                    "(No column name)": "412"
                                },
                                {
                                    "LOGIN": "peter2",
                                    "SZALL_MOD": "GLS",
                                    "(No column name)": "7"
                                },
                                {
                                    "LOGIN": "peter2",
                                    "SZALL_MOD": "Posta",
                                    "(No column name)": "4"
                                },
                                {
                                    "LOGIN": "peter2",
                                    "SZALL_MOD": "Személyes átvétel",
                                    "(No column name)": "7"
                                },
                                {
                                    "LOGIN": "peter2",
                                    "SZALL_MOD": "NULL",
                                    "(No column name)": "18"
                                },
                                {
                                    "LOGIN": "peter3",
                                    "SZALL_MOD": "GLS",
                                    "(No column name)": "8"
                                },
                                {
                                    "LOGIN": "peter3",
                                    "SZALL_MOD": "Posta",
                                    "(No column name)": "7"
                                },
                                {
                                    "LOGIN": "peter3",
                                    "SZALL_MOD": "Személyes átvétel",
                                    "(No column name)": "10"
                                },
                                {
                                    "LOGIN": "peter3",
                                    "SZALL_MOD": "NULL",
                                    "(No column name)": "25"
                                },
                                {
                                    "LOGIN": "peter4",
                                    "SZALL_MOD": "GLS",
                                    "(No column name)": "266"
                                },
                                {
                                    "LOGIN": "peter4",
                                    "SZALL_MOD": "Posta",
                                    "(No column name)": "293"
                                },
                                {
                                    "LOGIN": "peter4",
                                    "SZALL_MOD": "Személyes átvétel",
                                    "(No column name)": "293"
                                },
                                {
                                    "LOGIN": "peter4",
                                    "SZALL_MOD": "NULL",
                                    "(No column name)": "852"
                                },
                                {
                                    "LOGIN": "PETERB",
                                    "SZALL_MOD": "GLS",
                                    "(No column name)": "2"
                                },
                                {
                                    "LOGIN": "PETERB",
                                    "SZALL_MOD": "Posta",
                                    "(No column name)": "4"
                                },
                                {
                                    "LOGIN": "PETERB",
                                    "SZALL_MOD": "Személyes átvétel",
                                    "(No column name)": "9"
                                },
                                {
                                    "LOGIN": "PETERB",
                                    "SZALL_MOD": "NULL",
                                    "(No column name)": "15"
                                },
                                {
                                    "LOGIN": "polla",
                                    "SZALL_MOD": "GLS",
                                    "(No column name)": "9"
                                },
                                {
                                    "LOGIN": "polla",
                                    "SZALL_MOD": "Posta",
                                    "(No column name)": "6"
                                },
                                {
                                    "LOGIN": "polla",
                                    "SZALL_MOD": "Személyes átvétel",
                                    "(No column name)": "7"
                                },
                                {
                                    "LOGIN": "polla",
                                    "SZALL_MOD": "NULL",
                                    "(No column name)": "22"
                                },
                                {
                                    "LOGIN": "rajmond4",
                                    "SZALL_MOD": "GLS",
                                    "(No column name)": "6"
                                },
                                {
                                    "LOGIN": "rajmond4",
                                    "SZALL_MOD": "Posta",
                                    "(No column name)": "5"
                                },
                                {
                                    "LOGIN": "rajmond4",
                                    "SZALL_MOD": "Személyes átvétel",
                                    "(No column name)": "6"
                                },
                                {
                                    "LOGIN": "rajmond4",
                                    "SZALL_MOD": "NULL",
                                    "(No column name)": "17"
                                },
                                {
                                    "LOGIN": "reka4",
                                    "SZALL_MOD": "GLS",
                                    "(No column name)": "5"
                                },
                                {
                                    "LOGIN": "reka4",
                                    "SZALL_MOD": "Posta",
                                    "(No column name)": "4"
                                },
                                {
                                    "LOGIN": "reka4",
                                    "SZALL_MOD": "Személyes átvétel",
                                    "(No column name)": "11"
                                },
                                {
                                    "LOGIN": "reka4",
                                    "SZALL_MOD": "NULL",
                                    "(No column name)": "20"
                                },
                                {
                                    "LOGIN": "RENATAK",
                                    "SZALL_MOD": "GLS",
                                    "(No column name)": "135"
                                },
                                {
                                    "LOGIN": "RENATAK",
                                    "SZALL_MOD": "Posta",
                                    "(No column name)": "140"
                                },
                                {
                                    "LOGIN": "RENATAK",
                                    "SZALL_MOD": "Személyes átvétel",
                                    "(No column name)": "147"
                                },
                                {
                                    "LOGIN": "RENATAK",
                                    "SZALL_MOD": "NULL",
                                    "(No column name)": "422"
                                },
                                {
                                    "LOGIN": "RENATAS",
                                    "SZALL_MOD": "GLS",
                                    "(No column name)": "6"
                                },
                                {
                                    "LOGIN": "RENATAS",
                                    "SZALL_MOD": "Posta",
                                    "(No column name)": "5"
                                },
                                {
                                    "LOGIN": "RENATAS",
                                    "SZALL_MOD": "Személyes átvétel",
                                    "(No column name)": "5"
                                },
                                {
                                    "LOGIN": "RENATAS",
                                    "SZALL_MOD": "NULL",
                                    "(No column name)": "16"
                                },
                                {
                                    "LOGIN": "robert2",
                                    "SZALL_MOD": "GLS",
                                    "(No column name)": "5"
                                },
                                {
                                    "LOGIN": "robert2",
                                    "SZALL_MOD": "Posta",
                                    "(No column name)": "1"
                                },
                                {
                                    "LOGIN": "robert2",
                                    "SZALL_MOD": "Személyes átvétel",
                                    "(No column name)": "7"
                                },
                                {
                                    "LOGIN": "robert2",
                                    "SZALL_MOD": "NULL",
                                    "(No column name)": "13"
                                },
                                {
                                    "LOGIN": "ROBERTI",
                                    "SZALL_MOD": "GLS",
                                    "(No column name)": "5"
                                },
                                {
                                    "LOGIN": "ROBERTI",
                                    "SZALL_MOD": "Posta",
                                    "(No column name)": "3"
                                },
                                {
                                    "LOGIN": "ROBERTI",
                                    "SZALL_MOD": "Személyes átvétel",
                                    "(No column name)": "5"
                                },
                                {
                                    "LOGIN": "ROBERTI",
                                    "SZALL_MOD": "NULL",
                                    "(No column name)": "13"
                                },
                                {
                                    "LOGIN": "ROBERTP",
                                    "SZALL_MOD": "GLS",
                                    "(No column name)": "8"
                                },
                                {
                                    "LOGIN": "ROBERTP",
                                    "SZALL_MOD": "Posta",
                                    "(No column name)": "8"
                                },
                                {
                                    "LOGIN": "ROBERTP",
                                    "SZALL_MOD": "Személyes átvétel",
                                    "(No column name)": "10"
                                },
                                {
                                    "LOGIN": "ROBERTP",
                                    "SZALL_MOD": "NULL",
                                    "(No column name)": "26"
                                },
                                {
                                    "LOGIN": "roland",
                                    "SZALL_MOD": "GLS",
                                    "(No column name)": "132"
                                },
                                {
                                    "LOGIN": "roland",
                                    "SZALL_MOD": "Posta",
                                    "(No column name)": "157"
                                },
                                {
                                    "LOGIN": "roland",
                                    "SZALL_MOD": "Személyes átvétel",
                                    "(No column name)": "125"
                                },
                                {
                                    "LOGIN": "roland",
                                    "SZALL_MOD": "NULL",
                                    "(No column name)": "414"
                                },
                                {
                                    "LOGIN": "roland1",
                                    "SZALL_MOD": "GLS",
                                    "(No column name)": "142"
                                },
                                {
                                    "LOGIN": "roland1",
                                    "SZALL_MOD": "Posta",
                                    "(No column name)": "155"
                                },
                                {
                                    "LOGIN": "roland1",
                                    "SZALL_MOD": "Személyes átvétel",
                                    "(No column name)": "135"
                                },
                                {
                                    "LOGIN": "roland1",
                                    "SZALL_MOD": "NULL",
                                    "(No column name)": "432"
                                },
                                {
                                    "LOGIN": "roza2",
                                    "SZALL_MOD": "GLS",
                                    "(No column name)": "3"
                                },
                                {
                                    "LOGIN": "roza2",
                                    "SZALL_MOD": "Posta",
                                    "(No column name)": "2"
                                },
                                {
                                    "LOGIN": "roza2",
                                    "SZALL_MOD": "Személyes átvétel",
                                    "(No column name)": "3"
                                },
                                {
                                    "LOGIN": "roza2",
                                    "SZALL_MOD": "NULL",
                                    "(No column name)": "8"
                                },
                                {
                                    "LOGIN": "sandor",
                                    "SZALL_MOD": "GLS",
                                    "(No column name)": "4"
                                },
                                {
                                    "LOGIN": "sandor",
                                    "SZALL_MOD": "Posta",
                                    "(No column name)": "6"
                                },
                                {
                                    "LOGIN": "sandor",
                                    "SZALL_MOD": "Személyes átvétel",
                                    "(No column name)": "7"
                                },
                                {
                                    "LOGIN": "sandor",
                                    "SZALL_MOD": "NULL",
                                    "(No column name)": "17"
                                },
                                {
                                    "LOGIN": "sandor3",
                                    "SZALL_MOD": "GLS",
                                    "(No column name)": "4"
                                },
                                {
                                    "LOGIN": "sandor3",
                                    "SZALL_MOD": "Posta",
                                    "(No column name)": "4"
                                },
                                {
                                    "LOGIN": "sandor3",
                                    "SZALL_MOD": "Személyes átvétel",
                                    "(No column name)": "6"
                                },
                                {
                                    "LOGIN": "sandor3",
                                    "SZALL_MOD": "NULL",
                                    "(No column name)": "14"
                                },
                                {
                                    "LOGIN": "sandor4",
                                    "SZALL_MOD": "GLS",
                                    "(No column name)": "4"
                                },
                                {
                                    "LOGIN": "sandor4",
                                    "SZALL_MOD": "Posta",
                                    "(No column name)": "2"
                                },
                                {
                                    "LOGIN": "sandor4",
                                    "SZALL_MOD": "Személyes átvétel",
                                    "(No column name)": "5"
                                },
                                {
                                    "LOGIN": "sandor4",
                                    "SZALL_MOD": "NULL",
                                    "(No column name)": "11"
                                },
                                {
                                    "LOGIN": "sara",
                                    "SZALL_MOD": "GLS",
                                    "(No column name)": "4"
                                },
                                {
                                    "LOGIN": "sara",
                                    "SZALL_MOD": "Posta",
                                    "(No column name)": "7"
                                },
                                {
                                    "LOGIN": "sara",
                                    "SZALL_MOD": "Személyes átvétel",
                                    "(No column name)": "9"
                                },
                                {
                                    "LOGIN": "sara",
                                    "SZALL_MOD": "NULL",
                                    "(No column name)": "20"
                                },
                                {
                                    "LOGIN": "SEBASTIANF",
                                    "SZALL_MOD": "GLS",
                                    "(No column name)": "6"
                                },
                                {
                                    "LOGIN": "SEBASTIANF",
                                    "SZALL_MOD": "Posta",
                                    "(No column name)": "3"
                                },
                                {
                                    "LOGIN": "SEBASTIANF",
                                    "SZALL_MOD": "Személyes átvétel",
                                    "(No column name)": "6"
                                },
                                {
                                    "LOGIN": "SEBASTIANF",
                                    "SZALL_MOD": "NULL",
                                    "(No column name)": "15"
                                },
                                {
                                    "LOGIN": "sebestyen",
                                    "SZALL_MOD": "GLS",
                                    "(No column name)": "4"
                                },
                                {
                                    "LOGIN": "sebestyen",
                                    "SZALL_MOD": "Posta",
                                    "(No column name)": "6"
                                },
                                {
                                    "LOGIN": "sebestyen",
                                    "SZALL_MOD": "Személyes átvétel",
                                    "(No column name)": "6"
                                },
                                {
                                    "LOGIN": "sebestyen",
                                    "SZALL_MOD": "NULL",
                                    "(No column name)": "16"
                                },
                                {
                                    "LOGIN": "szabolcs",
                                    "SZALL_MOD": "GLS",
                                    "(No column name)": "145"
                                },
                                {
                                    "LOGIN": "szabolcs",
                                    "SZALL_MOD": "Posta",
                                    "(No column name)": "157"
                                },
                                {
                                    "LOGIN": "szabolcs",
                                    "SZALL_MOD": "Személyes átvétel",
                                    "(No column name)": "169"
                                },
                                {
                                    "LOGIN": "szabolcs",
                                    "SZALL_MOD": "NULL",
                                    "(No column name)": "471"
                                },
                                {
                                    "LOGIN": "SZABOLCSM",
                                    "SZALL_MOD": "GLS",
                                    "(No column name)": "126"
                                },
                                {
                                    "LOGIN": "SZABOLCSM",
                                    "SZALL_MOD": "Posta",
                                    "(No column name)": "153"
                                },
                                {
                                    "LOGIN": "SZABOLCSM",
                                    "SZALL_MOD": "Személyes átvétel",
                                    "(No column name)": "129"
                                },
                                {
                                    "LOGIN": "SZABOLCSM",
                                    "SZALL_MOD": "NULL",
                                    "(No column name)": "408"
                                },
                                {
                                    "LOGIN": "SZILARDS",
                                    "SZALL_MOD": "GLS",
                                    "(No column name)": "144"
                                },
                                {
                                    "LOGIN": "SZILARDS",
                                    "SZALL_MOD": "Posta",
                                    "(No column name)": "131"
                                },
                                {
                                    "LOGIN": "SZILARDS",
                                    "SZALL_MOD": "Személyes átvétel",
                                    "(No column name)": "111"
                                },
                                {
                                    "LOGIN": "SZILARDS",
                                    "SZALL_MOD": "NULL",
                                    "(No column name)": "386"
                                },
                                {
                                    "LOGIN": "szilvia1",
                                    "SZALL_MOD": "GLS",
                                    "(No column name)": "156"
                                },
                                {
                                    "LOGIN": "szilvia1",
                                    "SZALL_MOD": "Posta",
                                    "(No column name)": "151"
                                },
                                {
                                    "LOGIN": "szilvia1",
                                    "SZALL_MOD": "Személyes átvétel",
                                    "(No column name)": "138"
                                },
                                {
                                    "LOGIN": "szilvia1",
                                    "SZALL_MOD": "NULL",
                                    "(No column name)": "445"
                                },
                                {
                                    "LOGIN": "tamara2",
                                    "SZALL_MOD": "GLS",
                                    "(No column name)": "6"
                                },
                                {
                                    "LOGIN": "tamara2",
                                    "SZALL_MOD": "Posta",
                                    "(No column name)": "4"
                                },
                                {
                                    "LOGIN": "tamara2",
                                    "SZALL_MOD": "Személyes átvétel",
                                    "(No column name)": "3"
                                },
                                {
                                    "LOGIN": "tamara2",
                                    "SZALL_MOD": "NULL",
                                    "(No column name)": "13"
                                },
                                {
                                    "LOGIN": "tamas",
                                    "SZALL_MOD": "GLS",
                                    "(No column name)": "143"
                                },
                                {
                                    "LOGIN": "tamas",
                                    "SZALL_MOD": "Posta",
                                    "(No column name)": "156"
                                },
                                {
                                    "LOGIN": "tamas",
                                    "SZALL_MOD": "Személyes átvétel",
                                    "(No column name)": "122"
                                },
                                {
                                    "LOGIN": "tamas",
                                    "SZALL_MOD": "NULL",
                                    "(No column name)": "421"
                                },
                                {
                                    "LOGIN": "TAMASF",
                                    "SZALL_MOD": "GLS",
                                    "(No column name)": "159"
                                },
                                {
                                    "LOGIN": "TAMASF",
                                    "SZALL_MOD": "Posta",
                                    "(No column name)": "145"
                                },
                                {
                                    "LOGIN": "TAMASF",
                                    "SZALL_MOD": "Személyes átvétel",
                                    "(No column name)": "129"
                                },
                                {
                                    "LOGIN": "TAMASF",
                                    "SZALL_MOD": "NULL",
                                    "(No column name)": "433"
                                },
                                {
                                    "LOGIN": "tibor",
                                    "SZALL_MOD": "GLS",
                                    "(No column name)": "115"
                                },
                                {
                                    "LOGIN": "tibor",
                                    "SZALL_MOD": "Posta",
                                    "(No column name)": "129"
                                },
                                {
                                    "LOGIN": "tibor",
                                    "SZALL_MOD": "Személyes átvétel",
                                    "(No column name)": "130"
                                },
                                {
                                    "LOGIN": "tibor",
                                    "SZALL_MOD": "NULL",
                                    "(No column name)": "374"
                                },
                                {
                                    "LOGIN": "tibor2",
                                    "SZALL_MOD": "GLS",
                                    "(No column name)": "7"
                                },
                                {
                                    "LOGIN": "tibor2",
                                    "SZALL_MOD": "Posta",
                                    "(No column name)": "7"
                                },
                                {
                                    "LOGIN": "tibor2",
                                    "SZALL_MOD": "Személyes átvétel",
                                    "(No column name)": "11"
                                },
                                {
                                    "LOGIN": "tibor2",
                                    "SZALL_MOD": "NULL",
                                    "(No column name)": "25"
                                },
                                {
                                    "LOGIN": "tihamer",
                                    "SZALL_MOD": "GLS",
                                    "(No column name)": "9"
                                },
                                {
                                    "LOGIN": "tihamer",
                                    "SZALL_MOD": "Posta",
                                    "(No column name)": "6"
                                },
                                {
                                    "LOGIN": "tihamer",
                                    "SZALL_MOD": "Személyes átvétel",
                                    "(No column name)": "5"
                                },
                                {
                                    "LOGIN": "tihamer",
                                    "SZALL_MOD": "NULL",
                                    "(No column name)": "20"
                                },
                                {
                                    "LOGIN": "timea",
                                    "SZALL_MOD": "GLS",
                                    "(No column name)": "14"
                                },
                                {
                                    "LOGIN": "timea",
                                    "SZALL_MOD": "Posta",
                                    "(No column name)": "23"
                                },
                                {
                                    "LOGIN": "timea",
                                    "SZALL_MOD": "Személyes átvétel",
                                    "(No column name)": "18"
                                },
                                {
                                    "LOGIN": "timea",
                                    "SZALL_MOD": "NULL",
                                    "(No column name)": "55"
                                },
                                {
                                    "LOGIN": "timea2",
                                    "SZALL_MOD": "GLS",
                                    "(No column name)": "1"
                                },
                                {
                                    "LOGIN": "timea2",
                                    "SZALL_MOD": "Posta",
                                    "(No column name)": "5"
                                },
                                {
                                    "LOGIN": "timea2",
                                    "SZALL_MOD": "Személyes átvétel",
                                    "(No column name)": "10"
                                },
                                {
                                    "LOGIN": "timea2",
                                    "SZALL_MOD": "NULL",
                                    "(No column name)": "16"
                                },
                                {
                                    "LOGIN": "tunde",
                                    "SZALL_MOD": "GLS",
                                    "(No column name)": "6"
                                },
                                {
                                    "LOGIN": "tunde",
                                    "SZALL_MOD": "Posta",
                                    "(No column name)": "6"
                                },
                                {
                                    "LOGIN": "tunde",
                                    "SZALL_MOD": "Személyes átvétel",
                                    "(No column name)": "4"
                                },
                                {
                                    "LOGIN": "tunde",
                                    "SZALL_MOD": "NULL",
                                    "(No column name)": "16"
                                },
                                {
                                    "LOGIN": "valentin",
                                    "SZALL_MOD": "GLS",
                                    "(No column name)": "5"
                                },
                                {
                                    "LOGIN": "valentin",
                                    "SZALL_MOD": "Posta",
                                    "(No column name)": "5"
                                },
                                {
                                    "LOGIN": "valentin",
                                    "SZALL_MOD": "Személyes átvétel",
                                    "(No column name)": "3"
                                },
                                {
                                    "LOGIN": "valentin",
                                    "SZALL_MOD": "NULL",
                                    "(No column name)": "13"
                                },
                                {
                                    "LOGIN": "veronika4",
                                    "SZALL_MOD": "GLS",
                                    "(No column name)": "5"
                                },
                                {
                                    "LOGIN": "veronika4",
                                    "SZALL_MOD": "Posta",
                                    "(No column name)": "6"
                                },
                                {
                                    "LOGIN": "veronika4",
                                    "SZALL_MOD": "Személyes átvétel",
                                    "(No column name)": "7"
                                },
                                {
                                    "LOGIN": "veronika4",
                                    "SZALL_MOD": "NULL",
                                    "(No column name)": "18"
                                },
                                {
                                    "LOGIN": "VIKTORIAU",
                                    "SZALL_MOD": "GLS",
                                    "(No column name)": "5"
                                },
                                {
                                    "LOGIN": "VIKTORIAU",
                                    "SZALL_MOD": "Posta",
                                    "(No column name)": "4"
                                },
                                {
                                    "LOGIN": "VIKTORIAU",
                                    "SZALL_MOD": "Személyes átvétel",
                                    "(No column name)": "5"
                                },
                                {
                                    "LOGIN": "VIKTORIAU",
                                    "SZALL_MOD": "NULL",
                                    "(No column name)": "14"
                                },
                                {
                                    "LOGIN": "VIKTORK",
                                    "SZALL_MOD": "GLS",
                                    "(No column name)": "8"
                                },
                                {
                                    "LOGIN": "VIKTORK",
                                    "SZALL_MOD": "Posta",
                                    "(No column name)": "6"
                                },
                                {
                                    "LOGIN": "VIKTORK",
                                    "SZALL_MOD": "Személyes átvétel",
                                    "(No column name)": "6"
                                },
                                {
                                    "LOGIN": "VIKTORK",
                                    "SZALL_MOD": "NULL",
                                    "(No column name)": "20"
                                },
                                {
                                    "LOGIN": "vivien3",
                                    "SZALL_MOD": "GLS",
                                    "(No column name)": "9"
                                },
                                {
                                    "LOGIN": "vivien3",
                                    "SZALL_MOD": "Posta",
                                    "(No column name)": "6"
                                },
                                {
                                    "LOGIN": "vivien3",
                                    "SZALL_MOD": "Személyes átvétel",
                                    "(No column name)": "7"
                                },
                                {
                                    "LOGIN": "vivien3",
                                    "SZALL_MOD": "NULL",
                                    "(No column name)": "22"
                                },
                                {
                                    "LOGIN": "zoltan",
                                    "SZALL_MOD": "GLS",
                                    "(No column name)": "5"
                                },
                                {
                                    "LOGIN": "zoltan",
                                    "SZALL_MOD": "Posta",
                                    "(No column name)": "3"
                                },
                                {
                                    "LOGIN": "zoltan",
                                    "SZALL_MOD": "Személyes átvétel",
                                    "(No column name)": "7"
                                },
                                {
                                    "LOGIN": "zoltan",
                                    "SZALL_MOD": "NULL",
                                    "(No column name)": "15"
                                },
                                {
                                    "LOGIN": "zoltan4",
                                    "SZALL_MOD": "GLS",
                                    "(No column name)": "129"
                                },
                                {
                                    "LOGIN": "zoltan4",
                                    "SZALL_MOD": "Posta",
                                    "(No column name)": "124"
                                },
                                {
                                    "LOGIN": "zoltan4",
                                    "SZALL_MOD": "Személyes átvétel",
                                    "(No column name)": "171"
                                },
                                {
                                    "LOGIN": "zoltan4",
                                    "SZALL_MOD": "NULL",
                                    "(No column name)": "424"
                                },
                                {
                                    "LOGIN": "ZOLTANP",
                                    "SZALL_MOD": "GLS",
                                    "(No column name)": "6"
                                },
                                {
                                    "LOGIN": "ZOLTANP",
                                    "SZALL_MOD": "Posta",
                                    "(No column name)": "3"
                                },
                                {
                                    "LOGIN": "ZOLTANP",
                                    "SZALL_MOD": "Személyes átvétel",
                                    "(No column name)": "4"
                                },
                                {
                                    "LOGIN": "ZOLTANP",
                                    "SZALL_MOD": "NULL",
                                    "(No column name)": "13"
                                },
                                {
                                    "LOGIN": "ZOLTANT",
                                    "SZALL_MOD": "GLS",
                                    "(No column name)": "127"
                                },
                                {
                                    "LOGIN": "ZOLTANT",
                                    "SZALL_MOD": "Posta",
                                    "(No column name)": "107"
                                },
                                {
                                    "LOGIN": "ZOLTANT",
                                    "SZALL_MOD": "Személyes átvétel",
                                    "(No column name)": "123"
                                },
                                {
                                    "LOGIN": "ZOLTANT",
                                    "SZALL_MOD": "NULL",
                                    "(No column name)": "357"
                                },
                                {
                                    "LOGIN": "zsofi1",
                                    "SZALL_MOD": "GLS",
                                    "(No column name)": "7"
                                },
                                {
                                    "LOGIN": "zsofi1",
                                    "SZALL_MOD": "Posta",
                                    "(No column name)": "6"
                                },
                                {
                                    "LOGIN": "zsofi1",
                                    "SZALL_MOD": "Személyes átvétel",
                                    "(No column name)": "6"
                                },
                                {
                                    "LOGIN": "zsofi1",
                                    "SZALL_MOD": "NULL",
                                    "(No column name)": "19"
                                },
                                {
                                    "LOGIN": "zsolt1",
                                    "SZALL_MOD": "GLS",
                                    "(No column name)": "11"
                                },
                                {
                                    "LOGIN": "zsolt1",
                                    "SZALL_MOD": "Posta",
                                    "(No column name)": "6"
                                },
                                {
                                    "LOGIN": "zsolt1",
                                    "SZALL_MOD": "Személyes átvétel",
                                    "(No column name)": "3"
                                },
                                {
                                    "LOGIN": "zsolt1",
                                    "SZALL_MOD": "NULL",
                                    "(No column name)": "20"
                                },
                                {
                                    "LOGIN": "ZSOLTJ",
                                    "SZALL_MOD": "GLS",
                                    "(No column name)": "1"
                                },
                                {
                                    "LOGIN": "ZSOLTJ",
                                    "SZALL_MOD": "Posta",
                                    "(No column name)": "8"
                                },
                                {
                                    "LOGIN": "ZSOLTJ",
                                    "SZALL_MOD": "Személyes átvétel",
                                    "(No column name)": "9"
                                },
                                {
                                    "LOGIN": "ZSOLTJ",
                                    "SZALL_MOD": "NULL",
                                    "(No column name)": "18"
                                },
                                {
                                    "LOGIN": "zsuzsa",
                                    "SZALL_MOD": "GLS",
                                    "(No column name)": "8"
                                },
                                {
                                    "LOGIN": "zsuzsa",
                                    "SZALL_MOD": "Posta",
                                    "(No column name)": "5"
                                },
                                {
                                    "LOGIN": "zsuzsa",
                                    "SZALL_MOD": "Személyes átvétel",
                                    "(No column name)": "3"
                                },
                                {
                                    "LOGIN": "zsuzsa",
                                    "SZALL_MOD": "NULL",
                                    "(No column name)": "16"
                                },
                                {
                                    "LOGIN": "zsuzsa3",
                                    "SZALL_MOD": "GLS",
                                    "(No column name)": "5"
                                },
                                {
                                    "LOGIN": "zsuzsa3",
                                    "SZALL_MOD": "Posta",
                                    "(No column name)": "5"
                                },
                                {
                                    "LOGIN": "zsuzsa3",
                                    "SZALL_MOD": "Személyes átvétel",
                                    "(No column name)": "6"
                                },
                                {
                                    "LOGIN": "zsuzsa3",
                                    "SZALL_MOD": "NULL",
                                    "(No column name)": "16"
                                },
                                {
                                    "LOGIN": "zsuzsanna",
                                    "SZALL_MOD": "GLS",
                                    "(No column name)": "7"
                                },
                                {
                                    "LOGIN": "zsuzsanna",
                                    "SZALL_MOD": "Posta",
                                    "(No column name)": "5"
                                },
                                {
                                    "LOGIN": "zsuzsanna",
                                    "SZALL_MOD": "Személyes átvétel",
                                    "(No column name)": "3"
                                },
                                {
                                    "LOGIN": "zsuzsanna",
                                    "SZALL_MOD": "NULL",
                                    "(No column name)": "15"
                                },
                                {
                                    "LOGIN": "ZSUZSAV",
                                    "SZALL_MOD": "GLS",
                                    "(No column name)": "139"
                                },
                                {
                                    "LOGIN": "ZSUZSAV",
                                    "SZALL_MOD": "Posta",
                                    "(No column name)": "139"
                                },
                                {
                                    "LOGIN": "ZSUZSAV",
                                    "SZALL_MOD": "Személyes átvétel",
                                    "(No column name)": "142"
                                },
                                {
                                    "LOGIN": "ZSUZSAV",
                                    "SZALL_MOD": "NULL",
                                    "(No column name)": "420"
                                },
                                {
                                    "LOGIN": "NULL",
                                    "SZALL_MOD": "NULL",
                                    "(No column name)": "28085"
                                }
                            ]
                        },
                        "text/html": "<table><tr><th>LOGIN</th><th>SZALL_MOD</th><th>(No column name)</th></tr><tr><td>adam1</td><td>GLS</td><td>129</td></tr><tr><td>adam1</td><td>Posta</td><td>132</td></tr><tr><td>adam1</td><td>Személyes átvétel</td><td>131</td></tr><tr><td>adam1</td><td>NULL</td><td>392</td></tr><tr><td>adam3</td><td>GLS</td><td>10</td></tr><tr><td>adam3</td><td>Posta</td><td>3</td></tr><tr><td>adam3</td><td>Személyes átvétel</td><td>2</td></tr><tr><td>adam3</td><td>NULL</td><td>15</td></tr><tr><td>adam4</td><td>GLS</td><td>12</td></tr><tr><td>adam4</td><td>Posta</td><td>6</td></tr><tr><td>adam4</td><td>Személyes átvétel</td><td>11</td></tr><tr><td>adam4</td><td>NULL</td><td>29</td></tr><tr><td>agnes</td><td>GLS</td><td>144</td></tr><tr><td>agnes</td><td>Posta</td><td>130</td></tr><tr><td>agnes</td><td>Személyes átvétel</td><td>144</td></tr><tr><td>agnes</td><td>NULL</td><td>418</td></tr><tr><td>agnes3</td><td>GLS</td><td>148</td></tr><tr><td>agnes3</td><td>Posta</td><td>146</td></tr><tr><td>agnes3</td><td>Személyes átvétel</td><td>136</td></tr><tr><td>agnes3</td><td>NULL</td><td>430</td></tr><tr><td>AGNESH</td><td>GLS</td><td>2</td></tr><tr><td>AGNESH</td><td>Posta</td><td>3</td></tr><tr><td>AGNESH</td><td>Személyes átvétel</td><td>6</td></tr><tr><td>AGNESH</td><td>NULL</td><td>11</td></tr><tr><td>AGNESK</td><td>GLS</td><td>1</td></tr><tr><td>AGNESK</td><td>Posta</td><td>7</td></tr><tr><td>AGNESK</td><td>Személyes átvétel</td><td>7</td></tr><tr><td>AGNESK</td><td>NULL</td><td>15</td></tr><tr><td>akos</td><td>GLS</td><td>146</td></tr><tr><td>akos</td><td>Posta</td><td>143</td></tr><tr><td>akos</td><td>Személyes átvétel</td><td>140</td></tr><tr><td>akos</td><td>NULL</td><td>429</td></tr><tr><td>aladar</td><td>GLS</td><td>156</td></tr><tr><td>aladar</td><td>Posta</td><td>134</td></tr><tr><td>aladar</td><td>Személyes átvétel</td><td>118</td></tr><tr><td>aladar</td><td>NULL</td><td>408</td></tr><tr><td>alexandra</td><td>GLS</td><td>5</td></tr><tr><td>alexandra</td><td>Posta</td><td>9</td></tr><tr><td>alexandra</td><td>Személyes átvétel</td><td>5</td></tr><tr><td>alexandra</td><td>NULL</td><td>19</td></tr><tr><td>andi</td><td>GLS</td><td>7</td></tr><tr><td>andi</td><td>Posta</td><td>4</td></tr><tr><td>andi</td><td>Személyes átvétel</td><td>7</td></tr><tr><td>andi</td><td>NULL</td><td>18</td></tr><tr><td>andras2</td><td>GLS</td><td>4</td></tr><tr><td>andras2</td><td>Posta</td><td>7</td></tr><tr><td>andras2</td><td>Személyes átvétel</td><td>11</td></tr><tr><td>andras2</td><td>NULL</td><td>22</td></tr><tr><td>andras21</td><td>GLS</td><td>140</td></tr><tr><td>andras21</td><td>Posta</td><td>124</td></tr><tr><td>andras21</td><td>Személyes átvétel</td><td>126</td></tr><tr><td>andras21</td><td>NULL</td><td>390</td></tr><tr><td>andras3</td><td>GLS</td><td>3</td></tr><tr><td>andras3</td><td>Posta</td><td>1</td></tr><tr><td>andras3</td><td>Személyes átvétel</td><td>5</td></tr><tr><td>andras3</td><td>NULL</td><td>9</td></tr><tr><td>andras4</td><td>GLS</td><td>4</td></tr><tr><td>andras4</td><td>Posta</td><td>4</td></tr><tr><td>andras4</td><td>Személyes átvétel</td><td>4</td></tr><tr><td>andras4</td><td>NULL</td><td>12</td></tr><tr><td>andras41</td><td>GLS</td><td>149</td></tr><tr><td>andras41</td><td>Posta</td><td>137</td></tr><tr><td>andras41</td><td>Személyes átvétel</td><td>133</td></tr><tr><td>andras41</td><td>NULL</td><td>419</td></tr><tr><td>ANDRASE</td><td>GLS</td><td>159</td></tr><tr><td>ANDRASE</td><td>Posta</td><td>141</td></tr><tr><td>ANDRASE</td><td>Személyes átvétel</td><td>136</td></tr><tr><td>ANDRASE</td><td>NULL</td><td>436</td></tr><tr><td>ANDRASN</td><td>GLS</td><td>10</td></tr><tr><td>ANDRASN</td><td>Posta</td><td>9</td></tr><tr><td>ANDRASN</td><td>Személyes átvétel</td><td>5</td></tr><tr><td>ANDRASN</td><td>NULL</td><td>24</td></tr><tr><td>andrea</td><td>GLS</td><td>12</td></tr><tr><td>andrea</td><td>Posta</td><td>4</td></tr><tr><td>andrea</td><td>Személyes átvétel</td><td>8</td></tr><tr><td>andrea</td><td>NULL</td><td>24</td></tr><tr><td>andrea3</td><td>GLS</td><td>131</td></tr><tr><td>andrea3</td><td>Posta</td><td>136</td></tr><tr><td>andrea3</td><td>Személyes átvétel</td><td>146</td></tr><tr><td>andrea3</td><td>NULL</td><td>413</td></tr><tr><td>andrea4</td><td>GLS</td><td>7</td></tr><tr><td>andrea4</td><td>Posta</td><td>4</td></tr><tr><td>andrea4</td><td>Személyes átvétel</td><td>7</td></tr><tr><td>andrea4</td><td>NULL</td><td>18</td></tr><tr><td>ANDREAT</td><td>GLS</td><td>3</td></tr><tr><td>ANDREAT</td><td>Posta</td><td>6</td></tr><tr><td>ANDREAT</td><td>Személyes átvétel</td><td>12</td></tr><tr><td>ANDREAT</td><td>NULL</td><td>21</td></tr><tr><td>anett3</td><td>GLS</td><td>3</td></tr><tr><td>anett3</td><td>Posta</td><td>6</td></tr><tr><td>anett3</td><td>Személyes átvétel</td><td>9</td></tr><tr><td>anett3</td><td>NULL</td><td>18</td></tr><tr><td>aniko</td><td>GLS</td><td>128</td></tr><tr><td>aniko</td><td>Posta</td><td>137</td></tr><tr><td>aniko</td><td>Személyes átvétel</td><td>138</td></tr><tr><td>aniko</td><td>NULL</td><td>403</td></tr><tr><td>aniko4</td><td>GLS</td><td>6</td></tr><tr><td>aniko4</td><td>Posta</td><td>6</td></tr><tr><td>aniko4</td><td>Személyes átvétel</td><td>3</td></tr><tr><td>aniko4</td><td>NULL</td><td>15</td></tr><tr><td>ANIKOS</td><td>GLS</td><td>128</td></tr><tr><td>ANIKOS</td><td>Posta</td><td>126</td></tr><tr><td>ANIKOS</td><td>Személyes átvétel</td><td>150</td></tr><tr><td>ANIKOS</td><td>NULL</td><td>404</td></tr><tr><td>anita</td><td>GLS</td><td>5</td></tr><tr><td>anita</td><td>Posta</td><td>2</td></tr><tr><td>anita</td><td>Személyes átvétel</td><td>5</td></tr><tr><td>anita</td><td>NULL</td><td>12</td></tr><tr><td>annamaria1</td><td>GLS</td><td>5</td></tr><tr><td>annamaria1</td><td>Posta</td><td>4</td></tr><tr><td>annamaria1</td><td>Személyes átvétel</td><td>7</td></tr><tr><td>annamaria1</td><td>NULL</td><td>16</td></tr><tr><td>ANNAMARIAR</td><td>GLS</td><td>8</td></tr><tr><td>ANNAMARIAR</td><td>Posta</td><td>2</td></tr><tr><td>ANNAMARIAR</td><td>Személyes átvétel</td><td>3</td></tr><tr><td>ANNAMARIAR</td><td>NULL</td><td>13</td></tr><tr><td>aron2</td><td>GLS</td><td>132</td></tr><tr><td>aron2</td><td>Posta</td><td>133</td></tr><tr><td>aron2</td><td>Személyes átvétel</td><td>144</td></tr><tr><td>aron2</td><td>NULL</td><td>409</td></tr><tr><td>ARONK</td><td>GLS</td><td>155</td></tr><tr><td>ARONK</td><td>Posta</td><td>120</td></tr><tr><td>ARONK</td><td>Személyes átvétel</td><td>155</td></tr><tr><td>ARONK</td><td>NULL</td><td>430</td></tr><tr><td>arpad2</td><td>GLS</td><td>6</td></tr><tr><td>arpad2</td><td>Posta</td><td>1</td></tr><tr><td>arpad2</td><td>Személyes átvétel</td><td>10</td></tr><tr><td>arpad2</td><td>NULL</td><td>17</td></tr><tr><td>ARPADH</td><td>GLS</td><td>6</td></tr><tr><td>ARPADH</td><td>Posta</td><td>3</td></tr><tr><td>ARPADH</td><td>Személyes átvétel</td><td>5</td></tr><tr><td>ARPADH</td><td>NULL</td><td>14</td></tr><tr><td>ARPADM</td><td>GLS</td><td>6</td></tr><tr><td>ARPADM</td><td>Posta</td><td>3</td></tr><tr><td>ARPADM</td><td>Személyes átvétel</td><td>7</td></tr><tr><td>ARPADM</td><td>NULL</td><td>16</td></tr><tr><td>attila1</td><td>GLS</td><td>5</td></tr><tr><td>attila1</td><td>Posta</td><td>7</td></tr><tr><td>attila1</td><td>Személyes átvétel</td><td>6</td></tr><tr><td>attila1</td><td>NULL</td><td>18</td></tr><tr><td>attila4</td><td>GLS</td><td>135</td></tr><tr><td>attila4</td><td>Posta</td><td>125</td></tr><tr><td>attila4</td><td>Személyes átvétel</td><td>141</td></tr><tr><td>attila4</td><td>NULL</td><td>401</td></tr><tr><td>ATTILAO</td><td>GLS</td><td>4</td></tr><tr><td>ATTILAO</td><td>Posta</td><td>4</td></tr><tr><td>ATTILAO</td><td>Személyes átvétel</td><td>6</td></tr><tr><td>ATTILAO</td><td>NULL</td><td>14</td></tr><tr><td>balazs1</td><td>GLS</td><td>128</td></tr><tr><td>balazs1</td><td>Posta</td><td>136</td></tr><tr><td>balazs1</td><td>Személyes átvétel</td><td>155</td></tr><tr><td>balazs1</td><td>NULL</td><td>419</td></tr><tr><td>balazs2</td><td>GLS</td><td>5</td></tr><tr><td>balazs2</td><td>Posta</td><td>7</td></tr><tr><td>balazs2</td><td>Személyes átvétel</td><td>5</td></tr><tr><td>balazs2</td><td>NULL</td><td>17</td></tr><tr><td>balazs3</td><td>GLS</td><td>6</td></tr><tr><td>balazs3</td><td>Posta</td><td>6</td></tr><tr><td>balazs3</td><td>Személyes átvétel</td><td>3</td></tr><tr><td>balazs3</td><td>NULL</td><td>15</td></tr><tr><td>balint</td><td>GLS</td><td>10</td></tr><tr><td>balint</td><td>Posta</td><td>4</td></tr><tr><td>balint</td><td>Személyes átvétel</td><td>2</td></tr><tr><td>balint</td><td>NULL</td><td>16</td></tr><tr><td>balint1</td><td>GLS</td><td>158</td></tr><tr><td>balint1</td><td>Posta</td><td>152</td></tr><tr><td>balint1</td><td>Személyes átvétel</td><td>152</td></tr><tr><td>balint1</td><td>NULL</td><td>462</td></tr><tr><td>balint2</td><td>GLS</td><td>8</td></tr><tr><td>balint2</td><td>Posta</td><td>6</td></tr><tr><td>balint2</td><td>Személyes átvétel</td><td>3</td></tr><tr><td>balint2</td><td>NULL</td><td>17</td></tr><tr><td>balu</td><td>GLS</td><td>127</td></tr><tr><td>balu</td><td>Posta</td><td>137</td></tr><tr><td>balu</td><td>Személyes átvétel</td><td>123</td></tr><tr><td>balu</td><td>NULL</td><td>387</td></tr><tr><td>BEATRIXK</td><td>GLS</td><td>135</td></tr><tr><td>BEATRIXK</td><td>Posta</td><td>155</td></tr><tr><td>BEATRIXK</td><td>Személyes átvétel</td><td>145</td></tr><tr><td>BEATRIXK</td><td>NULL</td><td>435</td></tr><tr><td>BEATRIXS</td><td>GLS</td><td>146</td></tr><tr><td>BEATRIXS</td><td>Posta</td><td>141</td></tr><tr><td>BEATRIXS</td><td>Személyes átvétel</td><td>133</td></tr><tr><td>BEATRIXS</td><td>NULL</td><td>420</td></tr><tr><td>BELAF</td><td>GLS</td><td>11</td></tr><tr><td>BELAF</td><td>Posta</td><td>2</td></tr><tr><td>BELAF</td><td>Személyes átvétel</td><td>5</td></tr><tr><td>BELAF</td><td>NULL</td><td>18</td></tr><tr><td>bence</td><td>GLS</td><td>4</td></tr><tr><td>bence</td><td>Posta</td><td>6</td></tr><tr><td>bence</td><td>Személyes átvétel</td><td>8</td></tr><tr><td>bence</td><td>NULL</td><td>18</td></tr><tr><td>BENCEB</td><td>GLS</td><td>5</td></tr><tr><td>BENCEB</td><td>Posta</td><td>7</td></tr><tr><td>BENCEB</td><td>Személyes átvétel</td><td>5</td></tr><tr><td>BENCEB</td><td>NULL</td><td>17</td></tr><tr><td>bernadett1</td><td>GLS</td><td>10</td></tr><tr><td>bernadett1</td><td>Posta</td><td>5</td></tr><tr><td>bernadett1</td><td>Személyes átvétel</td><td>5</td></tr><tr><td>bernadett1</td><td>NULL</td><td>20</td></tr><tr><td>bernadett2</td><td>GLS</td><td>6</td></tr><tr><td>bernadett2</td><td>Posta</td><td>2</td></tr><tr><td>bernadett2</td><td>Személyes átvétel</td><td>7</td></tr><tr><td>bernadett2</td><td>NULL</td><td>15</td></tr><tr><td>BERNADETTO</td><td>GLS</td><td>7</td></tr><tr><td>BERNADETTO</td><td>Posta</td><td>2</td></tr><tr><td>BERNADETTO</td><td>Személyes átvétel</td><td>7</td></tr><tr><td>BERNADETTO</td><td>NULL</td><td>16</td></tr><tr><td>bertalan</td><td>GLS</td><td>128</td></tr><tr><td>bertalan</td><td>Posta</td><td>124</td></tr><tr><td>bertalan</td><td>Személyes átvétel</td><td>101</td></tr><tr><td>bertalan</td><td>NULL</td><td>353</td></tr><tr><td>brigitta</td><td>GLS</td><td>137</td></tr><tr><td>brigitta</td><td>Posta</td><td>137</td></tr><tr><td>brigitta</td><td>Személyes átvétel</td><td>119</td></tr><tr><td>brigitta</td><td>NULL</td><td>393</td></tr><tr><td>brigitta3</td><td>GLS</td><td>144</td></tr><tr><td>brigitta3</td><td>Posta</td><td>130</td></tr><tr><td>brigitta3</td><td>Személyes átvétel</td><td>139</td></tr><tr><td>brigitta3</td><td>NULL</td><td>413</td></tr><tr><td>csongor3</td><td>GLS</td><td>5</td></tr><tr><td>csongor3</td><td>Posta</td><td>2</td></tr><tr><td>csongor3</td><td>Személyes átvétel</td><td>8</td></tr><tr><td>csongor3</td><td>NULL</td><td>15</td></tr><tr><td>dani</td><td>GLS</td><td>5</td></tr><tr><td>dani</td><td>Személyes átvétel</td><td>8</td></tr><tr><td>dani</td><td>NULL</td><td>13</td></tr><tr><td>daniel</td><td>GLS</td><td>7</td></tr><tr><td>daniel</td><td>Posta</td><td>2</td></tr><tr><td>daniel</td><td>Személyes átvétel</td><td>4</td></tr><tr><td>daniel</td><td>NULL</td><td>13</td></tr><tr><td>daniel1</td><td>GLS</td><td>156</td></tr><tr><td>daniel1</td><td>Posta</td><td>131</td></tr><tr><td>daniel1</td><td>Személyes átvétel</td><td>132</td></tr><tr><td>daniel1</td><td>NULL</td><td>419</td></tr><tr><td>david</td><td>GLS</td><td>161</td></tr><tr><td>david</td><td>Posta</td><td>144</td></tr><tr><td>david</td><td>Személyes átvétel</td><td>146</td></tr><tr><td>david</td><td>NULL</td><td>451</td></tr><tr><td>david1</td><td>GLS</td><td>8</td></tr><tr><td>david1</td><td>Posta</td><td>1</td></tr><tr><td>david1</td><td>Személyes átvétel</td><td>8</td></tr><tr><td>david1</td><td>NULL</td><td>17</td></tr><tr><td>david4</td><td>GLS</td><td>3</td></tr><tr><td>david4</td><td>Posta</td><td>8</td></tr><tr><td>david4</td><td>Személyes átvétel</td><td>10</td></tr><tr><td>david4</td><td>NULL</td><td>21</td></tr><tr><td>debora</td><td>GLS</td><td>7</td></tr><tr><td>debora</td><td>Posta</td><td>6</td></tr><tr><td>debora</td><td>Személyes átvétel</td><td>3</td></tr><tr><td>debora</td><td>NULL</td><td>16</td></tr><tr><td>denes</td><td>GLS</td><td>3</td></tr><tr><td>denes</td><td>Posta</td><td>2</td></tr><tr><td>denes</td><td>Személyes átvétel</td><td>4</td></tr><tr><td>denes</td><td>NULL</td><td>9</td></tr><tr><td>dora3</td><td>GLS</td><td>144</td></tr><tr><td>dora3</td><td>Posta</td><td>124</td></tr><tr><td>dora3</td><td>Személyes átvétel</td><td>164</td></tr><tr><td>dora3</td><td>NULL</td><td>432</td></tr><tr><td>edit</td><td>GLS</td><td>7</td></tr><tr><td>edit</td><td>Posta</td><td>2</td></tr><tr><td>edit</td><td>Személyes átvétel</td><td>4</td></tr><tr><td>edit</td><td>NULL</td><td>13</td></tr><tr><td>emese</td><td>GLS</td><td>128</td></tr><tr><td>emese</td><td>Posta</td><td>136</td></tr><tr><td>emese</td><td>Személyes átvétel</td><td>142</td></tr><tr><td>emese</td><td>NULL</td><td>406</td></tr><tr><td>eszter2</td><td>GLS</td><td>127</td></tr><tr><td>eszter2</td><td>Posta</td><td>136</td></tr><tr><td>eszter2</td><td>Személyes átvétel</td><td>152</td></tr><tr><td>eszter2</td><td>NULL</td><td>415</td></tr><tr><td>eszter4</td><td>GLS</td><td>141</td></tr><tr><td>eszter4</td><td>Posta</td><td>134</td></tr><tr><td>eszter4</td><td>Személyes átvétel</td><td>149</td></tr><tr><td>eszter4</td><td>NULL</td><td>424</td></tr><tr><td>ESZTERE</td><td>GLS</td><td>6</td></tr><tr><td>ESZTERE</td><td>Posta</td><td>9</td></tr><tr><td>ESZTERE</td><td>Személyes átvétel</td><td>7</td></tr><tr><td>ESZTERE</td><td>NULL</td><td>22</td></tr><tr><td>eva</td><td>GLS</td><td>125</td></tr><tr><td>eva</td><td>Posta</td><td>140</td></tr><tr><td>eva</td><td>Személyes átvétel</td><td>139</td></tr><tr><td>eva</td><td>NULL</td><td>404</td></tr><tr><td>eva2</td><td>GLS</td><td>154</td></tr><tr><td>eva2</td><td>Posta</td><td>138</td></tr><tr><td>eva2</td><td>Személyes átvétel</td><td>170</td></tr><tr><td>eva2</td><td>NULL</td><td>462</td></tr><tr><td>EVAV</td><td>GLS</td><td>2</td></tr><tr><td>EVAV</td><td>Posta</td><td>1</td></tr><tr><td>EVAV</td><td>Személyes átvétel</td><td>4</td></tr><tr><td>EVAV</td><td>NULL</td><td>7</td></tr><tr><td>ferenc1</td><td>GLS</td><td>144</td></tr><tr><td>ferenc1</td><td>Posta</td><td>158</td></tr><tr><td>ferenc1</td><td>Személyes átvétel</td><td>135</td></tr><tr><td>ferenc1</td><td>NULL</td><td>437</td></tr><tr><td>fruzsina4</td><td>GLS</td><td>8</td></tr><tr><td>fruzsina4</td><td>Posta</td><td>3</td></tr><tr><td>fruzsina4</td><td>Személyes átvétel</td><td>7</td></tr><tr><td>fruzsina4</td><td>NULL</td><td>18</td></tr><tr><td>gabor1</td><td>GLS</td><td>9</td></tr><tr><td>gabor1</td><td>Posta</td><td>5</td></tr><tr><td>gabor1</td><td>Személyes átvétel</td><td>5</td></tr><tr><td>gabor1</td><td>NULL</td><td>19</td></tr><tr><td>gabor4</td><td>GLS</td><td>7</td></tr><tr><td>gabor4</td><td>Posta</td><td>9</td></tr><tr><td>gabor4</td><td>Személyes átvétel</td><td>4</td></tr><tr><td>gabor4</td><td>NULL</td><td>20</td></tr><tr><td>GABORS</td><td>GLS</td><td>5</td></tr><tr><td>GABORS</td><td>Posta</td><td>6</td></tr><tr><td>GABORS</td><td>Személyes átvétel</td><td>4</td></tr><tr><td>GABORS</td><td>NULL</td><td>15</td></tr><tr><td>gabriella1</td><td>GLS</td><td>5</td></tr><tr><td>gabriella1</td><td>Posta</td><td>4</td></tr><tr><td>gabriella1</td><td>Személyes átvétel</td><td>5</td></tr><tr><td>gabriella1</td><td>NULL</td><td>14</td></tr><tr><td>gabriella10</td><td>GLS</td><td>4</td></tr><tr><td>gabriella10</td><td>Posta</td><td>5</td></tr><tr><td>gabriella10</td><td>Személyes átvétel</td><td>7</td></tr><tr><td>gabriella10</td><td>NULL</td><td>16</td></tr><tr><td>georgij</td><td>GLS</td><td>9</td></tr><tr><td>georgij</td><td>Posta</td><td>2</td></tr><tr><td>georgij</td><td>Személyes átvétel</td><td>10</td></tr><tr><td>georgij</td><td>NULL</td><td>21</td></tr><tr><td>gusztav</td><td>GLS</td><td>5</td></tr><tr><td>gusztav</td><td>Posta</td><td>4</td></tr><tr><td>gusztav</td><td>Személyes átvétel</td><td>5</td></tr><tr><td>gusztav</td><td>NULL</td><td>14</td></tr><tr><td>GYONGYIK</td><td>GLS</td><td>6</td></tr><tr><td>GYONGYIK</td><td>Posta</td><td>6</td></tr><tr><td>GYONGYIK</td><td>Személyes átvétel</td><td>3</td></tr><tr><td>GYONGYIK</td><td>NULL</td><td>15</td></tr><tr><td>GYORGYO</td><td>GLS</td><td>7</td></tr><tr><td>GYORGYO</td><td>Posta</td><td>4</td></tr><tr><td>GYORGYO</td><td>Személyes átvétel</td><td>5</td></tr><tr><td>GYORGYO</td><td>NULL</td><td>16</td></tr><tr><td>henrik3</td><td>GLS</td><td>7</td></tr><tr><td>henrik3</td><td>Posta</td><td>4</td></tr><tr><td>henrik3</td><td>Személyes átvétel</td><td>5</td></tr><tr><td>henrik3</td><td>NULL</td><td>16</td></tr><tr><td>IBOLYAA</td><td>GLS</td><td>140</td></tr><tr><td>IBOLYAA</td><td>Posta</td><td>125</td></tr><tr><td>IBOLYAA</td><td>Személyes átvétel</td><td>157</td></tr><tr><td>IBOLYAA</td><td>NULL</td><td>422</td></tr><tr><td>ilona3</td><td>GLS</td><td>9</td></tr><tr><td>ilona3</td><td>Posta</td><td>2</td></tr><tr><td>ilona3</td><td>Személyes átvétel</td><td>7</td></tr><tr><td>ilona3</td><td>NULL</td><td>18</td></tr><tr><td>imre</td><td>GLS</td><td>5</td></tr><tr><td>imre</td><td>Posta</td><td>4</td></tr><tr><td>imre</td><td>Személyes átvétel</td><td>6</td></tr><tr><td>imre</td><td>NULL</td><td>15</td></tr><tr><td>imre1</td><td>GLS</td><td>8</td></tr><tr><td>imre1</td><td>Posta</td><td>4</td></tr><tr><td>imre1</td><td>Személyes átvétel</td><td>3</td></tr><tr><td>imre1</td><td>NULL</td><td>15</td></tr><tr><td>istvan</td><td>GLS</td><td>3</td></tr><tr><td>istvan</td><td>Posta</td><td>4</td></tr><tr><td>istvan</td><td>Személyes átvétel</td><td>4</td></tr><tr><td>istvan</td><td>NULL</td><td>11</td></tr><tr><td>istvan1</td><td>GLS</td><td>8</td></tr><tr><td>istvan1</td><td>Posta</td><td>4</td></tr><tr><td>istvan1</td><td>Személyes átvétel</td><td>7</td></tr><tr><td>istvan1</td><td>NULL</td><td>19</td></tr><tr><td>ISTVANV</td><td>GLS</td><td>4</td></tr><tr><td>ISTVANV</td><td>Posta</td><td>9</td></tr><tr><td>ISTVANV</td><td>Személyes átvétel</td><td>8</td></tr><tr><td>ISTVANV</td><td>NULL</td><td>21</td></tr><tr><td>janos3</td><td>GLS</td><td>5</td></tr><tr><td>janos3</td><td>Posta</td><td>2</td></tr><tr><td>janos3</td><td>Személyes átvétel</td><td>6</td></tr><tr><td>janos3</td><td>NULL</td><td>13</td></tr><tr><td>JANOSG</td><td>GLS</td><td>3</td></tr><tr><td>JANOSG</td><td>Posta</td><td>3</td></tr><tr><td>JANOSG</td><td>Személyes átvétel</td><td>4</td></tr><tr><td>JANOSG</td><td>NULL</td><td>10</td></tr><tr><td>JANOSP</td><td>GLS</td><td>7</td></tr><tr><td>JANOSP</td><td>Posta</td><td>7</td></tr><tr><td>JANOSP</td><td>Személyes átvétel</td><td>3</td></tr><tr><td>JANOSP</td><td>NULL</td><td>17</td></tr><tr><td>jozsef</td><td>GLS</td><td>116</td></tr><tr><td>jozsef</td><td>Posta</td><td>132</td></tr><tr><td>jozsef</td><td>Személyes átvétel</td><td>134</td></tr><tr><td>jozsef</td><td>NULL</td><td>382</td></tr><tr><td>jozsef2</td><td>GLS</td><td>7</td></tr><tr><td>jozsef2</td><td>Posta</td><td>2</td></tr><tr><td>jozsef2</td><td>Személyes átvétel</td><td>4</td></tr><tr><td>jozsef2</td><td>NULL</td><td>13</td></tr><tr><td>JOZSEFG</td><td>GLS</td><td>11</td></tr><tr><td>JOZSEFG</td><td>Posta</td><td>1</td></tr><tr><td>JOZSEFG</td><td>Személyes átvétel</td><td>9</td></tr><tr><td>JOZSEFG</td><td>NULL</td><td>21</td></tr><tr><td>JUDITH</td><td>GLS</td><td>170</td></tr><tr><td>JUDITH</td><td>Posta</td><td>130</td></tr><tr><td>JUDITH</td><td>Személyes átvétel</td><td>150</td></tr><tr><td>JUDITH</td><td>NULL</td><td>450</td></tr><tr><td>julia</td><td>GLS</td><td>137</td></tr><tr><td>julia</td><td>Posta</td><td>160</td></tr><tr><td>julia</td><td>Személyes átvétel</td><td>138</td></tr><tr><td>julia</td><td>NULL</td><td>435</td></tr><tr><td>julia4</td><td>GLS</td><td>2</td></tr><tr><td>julia4</td><td>Posta</td><td>4</td></tr><tr><td>julia4</td><td>Személyes átvétel</td><td>8</td></tr><tr><td>julia4</td><td>NULL</td><td>14</td></tr><tr><td>julianna4</td><td>GLS</td><td>8</td></tr><tr><td>julianna4</td><td>Posta</td><td>12</td></tr><tr><td>julianna4</td><td>Személyes átvétel</td><td>7</td></tr><tr><td>julianna4</td><td>NULL</td><td>27</td></tr><tr><td>kata</td><td>GLS</td><td>5</td></tr><tr><td>kata</td><td>Posta</td><td>4</td></tr><tr><td>kata</td><td>Személyes átvétel</td><td>3</td></tr><tr><td>kata</td><td>NULL</td><td>12</td></tr><tr><td>katalin</td><td>GLS</td><td>7</td></tr><tr><td>katalin</td><td>Posta</td><td>7</td></tr><tr><td>katalin</td><td>Személyes átvétel</td><td>5</td></tr><tr><td>katalin</td><td>NULL</td><td>19</td></tr><tr><td>katalin4</td><td>GLS</td><td>7</td></tr><tr><td>katalin4</td><td>Posta</td><td>5</td></tr><tr><td>katalin4</td><td>Személyes átvétel</td><td>11</td></tr><tr><td>katalin4</td><td>NULL</td><td>23</td></tr><tr><td>kati</td><td>GLS</td><td>4</td></tr><tr><td>kati</td><td>Posta</td><td>5</td></tr><tr><td>kati</td><td>Személyes átvétel</td><td>4</td></tr><tr><td>kati</td><td>NULL</td><td>13</td></tr><tr><td>katka</td><td>GLS</td><td>6</td></tr><tr><td>katka</td><td>Posta</td><td>6</td></tr><tr><td>katka</td><td>Személyes átvétel</td><td>10</td></tr><tr><td>katka</td><td>NULL</td><td>22</td></tr><tr><td>klaudia2</td><td>GLS</td><td>3</td></tr><tr><td>klaudia2</td><td>Posta</td><td>9</td></tr><tr><td>klaudia2</td><td>Személyes átvétel</td><td>5</td></tr><tr><td>klaudia2</td><td>NULL</td><td>17</td></tr><tr><td>kornel4</td><td>GLS</td><td>3</td></tr><tr><td>kornel4</td><td>Posta</td><td>1</td></tr><tr><td>kornel4</td><td>Személyes átvétel</td><td>7</td></tr><tr><td>kornel4</td><td>NULL</td><td>11</td></tr><tr><td>kristof4</td><td>GLS</td><td>9</td></tr><tr><td>kristof4</td><td>Posta</td><td>4</td></tr><tr><td>kristof4</td><td>Személyes átvétel</td><td>8</td></tr><tr><td>kristof4</td><td>NULL</td><td>21</td></tr><tr><td>kriszti</td><td>GLS</td><td>3</td></tr><tr><td>kriszti</td><td>Posta</td><td>5</td></tr><tr><td>kriszti</td><td>Személyes átvétel</td><td>5</td></tr><tr><td>kriszti</td><td>NULL</td><td>13</td></tr><tr><td>krisztian4</td><td>GLS</td><td>5</td></tr><tr><td>krisztian4</td><td>Posta</td><td>6</td></tr><tr><td>krisztian4</td><td>Személyes átvétel</td><td>6</td></tr><tr><td>krisztian4</td><td>NULL</td><td>17</td></tr><tr><td>KRISZTIANM</td><td>GLS</td><td>118</td></tr><tr><td>KRISZTIANM</td><td>Posta</td><td>136</td></tr><tr><td>KRISZTIANM</td><td>Személyes átvétel</td><td>130</td></tr><tr><td>KRISZTIANM</td><td>NULL</td><td>384</td></tr><tr><td>krisztina</td><td>GLS</td><td>149</td></tr><tr><td>krisztina</td><td>Posta</td><td>150</td></tr><tr><td>krisztina</td><td>Személyes átvétel</td><td>157</td></tr><tr><td>krisztina</td><td>NULL</td><td>456</td></tr><tr><td>krisztina1</td><td>GLS</td><td>10</td></tr><tr><td>krisztina1</td><td>Posta</td><td>4</td></tr><tr><td>krisztina1</td><td>Személyes átvétel</td><td>8</td></tr><tr><td>krisztina1</td><td>NULL</td><td>22</td></tr><tr><td>KRISZTINAG</td><td>GLS</td><td>6</td></tr><tr><td>KRISZTINAG</td><td>Posta</td><td>6</td></tr><tr><td>KRISZTINAG</td><td>Személyes átvétel</td><td>10</td></tr><tr><td>KRISZTINAG</td><td>NULL</td><td>22</td></tr><tr><td>lajos</td><td>GLS</td><td>5</td></tr><tr><td>lajos</td><td>Posta</td><td>2</td></tr><tr><td>lajos</td><td>Személyes átvétel</td><td>9</td></tr><tr><td>lajos</td><td>NULL</td><td>16</td></tr><tr><td>lala</td><td>GLS</td><td>5</td></tr><tr><td>lala</td><td>Posta</td><td>3</td></tr><tr><td>lala</td><td>Személyes átvétel</td><td>9</td></tr><tr><td>lala</td><td>NULL</td><td>17</td></tr><tr><td>laszlo1</td><td>GLS</td><td>130</td></tr><tr><td>laszlo1</td><td>Posta</td><td>129</td></tr><tr><td>laszlo1</td><td>Személyes átvétel</td><td>135</td></tr><tr><td>laszlo1</td><td>NULL</td><td>394</td></tr><tr><td>laszlo2</td><td>GLS</td><td>12</td></tr><tr><td>laszlo2</td><td>Posta</td><td>6</td></tr><tr><td>laszlo2</td><td>Személyes átvétel</td><td>7</td></tr><tr><td>laszlo2</td><td>NULL</td><td>25</td></tr><tr><td>LASZLOA</td><td>GLS</td><td>156</td></tr><tr><td>LASZLOA</td><td>Posta</td><td>136</td></tr><tr><td>LASZLOA</td><td>Személyes átvétel</td><td>154</td></tr><tr><td>LASZLOA</td><td>NULL</td><td>446</td></tr><tr><td>LASZLON</td><td>GLS</td><td>126</td></tr><tr><td>LASZLON</td><td>Posta</td><td>131</td></tr><tr><td>LASZLON</td><td>Személyes átvétel</td><td>143</td></tr><tr><td>LASZLON</td><td>NULL</td><td>400</td></tr><tr><td>maria1</td><td>GLS</td><td>4</td></tr><tr><td>maria1</td><td>Posta</td><td>5</td></tr><tr><td>maria1</td><td>Személyes átvétel</td><td>1</td></tr><tr><td>maria1</td><td>NULL</td><td>10</td></tr><tr><td>MARKH</td><td>GLS</td><td>128</td></tr><tr><td>MARKH</td><td>Posta</td><td>142</td></tr><tr><td>MARKH</td><td>Személyes átvétel</td><td>142</td></tr><tr><td>MARKH</td><td>NULL</td><td>412</td></tr><tr><td>marton</td><td>GLS</td><td>5</td></tr><tr><td>marton</td><td>Posta</td><td>4</td></tr><tr><td>marton</td><td>Személyes átvétel</td><td>5</td></tr><tr><td>marton</td><td>NULL</td><td>14</td></tr><tr><td>MATEK</td><td>GLS</td><td>6</td></tr><tr><td>MATEK</td><td>Posta</td><td>10</td></tr><tr><td>MATEK</td><td>Személyes átvétel</td><td>9</td></tr><tr><td>MATEK</td><td>NULL</td><td>25</td></tr><tr><td>matyas2</td><td>GLS</td><td>138</td></tr><tr><td>matyas2</td><td>Posta</td><td>131</td></tr><tr><td>matyas2</td><td>Személyes átvétel</td><td>164</td></tr><tr><td>matyas2</td><td>NULL</td><td>433</td></tr><tr><td>MATYASS</td><td>GLS</td><td>4</td></tr><tr><td>MATYASS</td><td>Posta</td><td>5</td></tr><tr><td>MATYASS</td><td>Személyes átvétel</td><td>3</td></tr><tr><td>MATYASS</td><td>NULL</td><td>12</td></tr><tr><td>MIHALYJ</td><td>GLS</td><td>3</td></tr><tr><td>MIHALYJ</td><td>Posta</td><td>4</td></tr><tr><td>MIHALYJ</td><td>Személyes átvétel</td><td>6</td></tr><tr><td>MIHALYJ</td><td>NULL</td><td>13</td></tr><tr><td>miklos2</td><td>GLS</td><td>7</td></tr><tr><td>miklos2</td><td>Posta</td><td>4</td></tr><tr><td>miklos2</td><td>Személyes átvétel</td><td>2</td></tr><tr><td>miklos2</td><td>NULL</td><td>13</td></tr><tr><td>MIKLOSB</td><td>GLS</td><td>6</td></tr><tr><td>MIKLOSB</td><td>Posta</td><td>1</td></tr><tr><td>MIKLOSB</td><td>Személyes átvétel</td><td>8</td></tr><tr><td>MIKLOSB</td><td>NULL</td><td>15</td></tr><tr><td>MONIKAM</td><td>GLS</td><td>133</td></tr><tr><td>MONIKAM</td><td>Posta</td><td>151</td></tr><tr><td>MONIKAM</td><td>Személyes átvétel</td><td>123</td></tr><tr><td>MONIKAM</td><td>NULL</td><td>407</td></tr><tr><td>NANDORF</td><td>GLS</td><td>147</td></tr><tr><td>NANDORF</td><td>Posta</td><td>139</td></tr><tr><td>NANDORF</td><td>Személyes átvétel</td><td>134</td></tr><tr><td>NANDORF</td><td>NULL</td><td>420</td></tr><tr><td>nikolett3</td><td>GLS</td><td>4</td></tr><tr><td>nikolett3</td><td>Posta</td><td>3</td></tr><tr><td>nikolett3</td><td>Személyes átvétel</td><td>10</td></tr><tr><td>nikolett3</td><td>NULL</td><td>17</td></tr><tr><td>nikoletta4</td><td>GLS</td><td>137</td></tr><tr><td>nikoletta4</td><td>Posta</td><td>158</td></tr><tr><td>nikoletta4</td><td>Személyes átvétel</td><td>119</td></tr><tr><td>nikoletta4</td><td>NULL</td><td>414</td></tr><tr><td>NIKOLETTAT</td><td>GLS</td><td>13</td></tr><tr><td>NIKOLETTAT</td><td>Posta</td><td>7</td></tr><tr><td>NIKOLETTAT</td><td>Személyes átvétel</td><td>5</td></tr><tr><td>NIKOLETTAT</td><td>NULL</td><td>25</td></tr><tr><td>norbert2</td><td>GLS</td><td>7</td></tr><tr><td>norbert2</td><td>Posta</td><td>4</td></tr><tr><td>norbert2</td><td>NULL</td><td>11</td></tr><tr><td>norbert4</td><td>GLS</td><td>1</td></tr><tr><td>norbert4</td><td>Posta</td><td>3</td></tr><tr><td>norbert4</td><td>Személyes átvétel</td><td>9</td></tr><tr><td>norbert4</td><td>NULL</td><td>13</td></tr><tr><td>norbert5</td><td>GLS</td><td>1</td></tr><tr><td>norbert5</td><td>Posta</td><td>6</td></tr><tr><td>norbert5</td><td>Személyes átvétel</td><td>9</td></tr><tr><td>norbert5</td><td>NULL</td><td>16</td></tr><tr><td>pal</td><td>GLS</td><td>152</td></tr><tr><td>pal</td><td>Posta</td><td>132</td></tr><tr><td>pal</td><td>Személyes átvétel</td><td>154</td></tr><tr><td>pal</td><td>NULL</td><td>438</td></tr><tr><td>peter1</td><td>GLS</td><td>151</td></tr><tr><td>peter1</td><td>Posta</td><td>135</td></tr><tr><td>peter1</td><td>Személyes átvétel</td><td>126</td></tr><tr><td>peter1</td><td>NULL</td><td>412</td></tr><tr><td>peter2</td><td>GLS</td><td>7</td></tr><tr><td>peter2</td><td>Posta</td><td>4</td></tr><tr><td>peter2</td><td>Személyes átvétel</td><td>7</td></tr><tr><td>peter2</td><td>NULL</td><td>18</td></tr><tr><td>peter3</td><td>GLS</td><td>8</td></tr><tr><td>peter3</td><td>Posta</td><td>7</td></tr><tr><td>peter3</td><td>Személyes átvétel</td><td>10</td></tr><tr><td>peter3</td><td>NULL</td><td>25</td></tr><tr><td>peter4</td><td>GLS</td><td>266</td></tr><tr><td>peter4</td><td>Posta</td><td>293</td></tr><tr><td>peter4</td><td>Személyes átvétel</td><td>293</td></tr><tr><td>peter4</td><td>NULL</td><td>852</td></tr><tr><td>PETERB</td><td>GLS</td><td>2</td></tr><tr><td>PETERB</td><td>Posta</td><td>4</td></tr><tr><td>PETERB</td><td>Személyes átvétel</td><td>9</td></tr><tr><td>PETERB</td><td>NULL</td><td>15</td></tr><tr><td>polla</td><td>GLS</td><td>9</td></tr><tr><td>polla</td><td>Posta</td><td>6</td></tr><tr><td>polla</td><td>Személyes átvétel</td><td>7</td></tr><tr><td>polla</td><td>NULL</td><td>22</td></tr><tr><td>rajmond4</td><td>GLS</td><td>6</td></tr><tr><td>rajmond4</td><td>Posta</td><td>5</td></tr><tr><td>rajmond4</td><td>Személyes átvétel</td><td>6</td></tr><tr><td>rajmond4</td><td>NULL</td><td>17</td></tr><tr><td>reka4</td><td>GLS</td><td>5</td></tr><tr><td>reka4</td><td>Posta</td><td>4</td></tr><tr><td>reka4</td><td>Személyes átvétel</td><td>11</td></tr><tr><td>reka4</td><td>NULL</td><td>20</td></tr><tr><td>RENATAK</td><td>GLS</td><td>135</td></tr><tr><td>RENATAK</td><td>Posta</td><td>140</td></tr><tr><td>RENATAK</td><td>Személyes átvétel</td><td>147</td></tr><tr><td>RENATAK</td><td>NULL</td><td>422</td></tr><tr><td>RENATAS</td><td>GLS</td><td>6</td></tr><tr><td>RENATAS</td><td>Posta</td><td>5</td></tr><tr><td>RENATAS</td><td>Személyes átvétel</td><td>5</td></tr><tr><td>RENATAS</td><td>NULL</td><td>16</td></tr><tr><td>robert2</td><td>GLS</td><td>5</td></tr><tr><td>robert2</td><td>Posta</td><td>1</td></tr><tr><td>robert2</td><td>Személyes átvétel</td><td>7</td></tr><tr><td>robert2</td><td>NULL</td><td>13</td></tr><tr><td>ROBERTI</td><td>GLS</td><td>5</td></tr><tr><td>ROBERTI</td><td>Posta</td><td>3</td></tr><tr><td>ROBERTI</td><td>Személyes átvétel</td><td>5</td></tr><tr><td>ROBERTI</td><td>NULL</td><td>13</td></tr><tr><td>ROBERTP</td><td>GLS</td><td>8</td></tr><tr><td>ROBERTP</td><td>Posta</td><td>8</td></tr><tr><td>ROBERTP</td><td>Személyes átvétel</td><td>10</td></tr><tr><td>ROBERTP</td><td>NULL</td><td>26</td></tr><tr><td>roland</td><td>GLS</td><td>132</td></tr><tr><td>roland</td><td>Posta</td><td>157</td></tr><tr><td>roland</td><td>Személyes átvétel</td><td>125</td></tr><tr><td>roland</td><td>NULL</td><td>414</td></tr><tr><td>roland1</td><td>GLS</td><td>142</td></tr><tr><td>roland1</td><td>Posta</td><td>155</td></tr><tr><td>roland1</td><td>Személyes átvétel</td><td>135</td></tr><tr><td>roland1</td><td>NULL</td><td>432</td></tr><tr><td>roza2</td><td>GLS</td><td>3</td></tr><tr><td>roza2</td><td>Posta</td><td>2</td></tr><tr><td>roza2</td><td>Személyes átvétel</td><td>3</td></tr><tr><td>roza2</td><td>NULL</td><td>8</td></tr><tr><td>sandor</td><td>GLS</td><td>4</td></tr><tr><td>sandor</td><td>Posta</td><td>6</td></tr><tr><td>sandor</td><td>Személyes átvétel</td><td>7</td></tr><tr><td>sandor</td><td>NULL</td><td>17</td></tr><tr><td>sandor3</td><td>GLS</td><td>4</td></tr><tr><td>sandor3</td><td>Posta</td><td>4</td></tr><tr><td>sandor3</td><td>Személyes átvétel</td><td>6</td></tr><tr><td>sandor3</td><td>NULL</td><td>14</td></tr><tr><td>sandor4</td><td>GLS</td><td>4</td></tr><tr><td>sandor4</td><td>Posta</td><td>2</td></tr><tr><td>sandor4</td><td>Személyes átvétel</td><td>5</td></tr><tr><td>sandor4</td><td>NULL</td><td>11</td></tr><tr><td>sara</td><td>GLS</td><td>4</td></tr><tr><td>sara</td><td>Posta</td><td>7</td></tr><tr><td>sara</td><td>Személyes átvétel</td><td>9</td></tr><tr><td>sara</td><td>NULL</td><td>20</td></tr><tr><td>SEBASTIANF</td><td>GLS</td><td>6</td></tr><tr><td>SEBASTIANF</td><td>Posta</td><td>3</td></tr><tr><td>SEBASTIANF</td><td>Személyes átvétel</td><td>6</td></tr><tr><td>SEBASTIANF</td><td>NULL</td><td>15</td></tr><tr><td>sebestyen</td><td>GLS</td><td>4</td></tr><tr><td>sebestyen</td><td>Posta</td><td>6</td></tr><tr><td>sebestyen</td><td>Személyes átvétel</td><td>6</td></tr><tr><td>sebestyen</td><td>NULL</td><td>16</td></tr><tr><td>szabolcs</td><td>GLS</td><td>145</td></tr><tr><td>szabolcs</td><td>Posta</td><td>157</td></tr><tr><td>szabolcs</td><td>Személyes átvétel</td><td>169</td></tr><tr><td>szabolcs</td><td>NULL</td><td>471</td></tr><tr><td>SZABOLCSM</td><td>GLS</td><td>126</td></tr><tr><td>SZABOLCSM</td><td>Posta</td><td>153</td></tr><tr><td>SZABOLCSM</td><td>Személyes átvétel</td><td>129</td></tr><tr><td>SZABOLCSM</td><td>NULL</td><td>408</td></tr><tr><td>SZILARDS</td><td>GLS</td><td>144</td></tr><tr><td>SZILARDS</td><td>Posta</td><td>131</td></tr><tr><td>SZILARDS</td><td>Személyes átvétel</td><td>111</td></tr><tr><td>SZILARDS</td><td>NULL</td><td>386</td></tr><tr><td>szilvia1</td><td>GLS</td><td>156</td></tr><tr><td>szilvia1</td><td>Posta</td><td>151</td></tr><tr><td>szilvia1</td><td>Személyes átvétel</td><td>138</td></tr><tr><td>szilvia1</td><td>NULL</td><td>445</td></tr><tr><td>tamara2</td><td>GLS</td><td>6</td></tr><tr><td>tamara2</td><td>Posta</td><td>4</td></tr><tr><td>tamara2</td><td>Személyes átvétel</td><td>3</td></tr><tr><td>tamara2</td><td>NULL</td><td>13</td></tr><tr><td>tamas</td><td>GLS</td><td>143</td></tr><tr><td>tamas</td><td>Posta</td><td>156</td></tr><tr><td>tamas</td><td>Személyes átvétel</td><td>122</td></tr><tr><td>tamas</td><td>NULL</td><td>421</td></tr><tr><td>TAMASF</td><td>GLS</td><td>159</td></tr><tr><td>TAMASF</td><td>Posta</td><td>145</td></tr><tr><td>TAMASF</td><td>Személyes átvétel</td><td>129</td></tr><tr><td>TAMASF</td><td>NULL</td><td>433</td></tr><tr><td>tibor</td><td>GLS</td><td>115</td></tr><tr><td>tibor</td><td>Posta</td><td>129</td></tr><tr><td>tibor</td><td>Személyes átvétel</td><td>130</td></tr><tr><td>tibor</td><td>NULL</td><td>374</td></tr><tr><td>tibor2</td><td>GLS</td><td>7</td></tr><tr><td>tibor2</td><td>Posta</td><td>7</td></tr><tr><td>tibor2</td><td>Személyes átvétel</td><td>11</td></tr><tr><td>tibor2</td><td>NULL</td><td>25</td></tr><tr><td>tihamer</td><td>GLS</td><td>9</td></tr><tr><td>tihamer</td><td>Posta</td><td>6</td></tr><tr><td>tihamer</td><td>Személyes átvétel</td><td>5</td></tr><tr><td>tihamer</td><td>NULL</td><td>20</td></tr><tr><td>timea</td><td>GLS</td><td>14</td></tr><tr><td>timea</td><td>Posta</td><td>23</td></tr><tr><td>timea</td><td>Személyes átvétel</td><td>18</td></tr><tr><td>timea</td><td>NULL</td><td>55</td></tr><tr><td>timea2</td><td>GLS</td><td>1</td></tr><tr><td>timea2</td><td>Posta</td><td>5</td></tr><tr><td>timea2</td><td>Személyes átvétel</td><td>10</td></tr><tr><td>timea2</td><td>NULL</td><td>16</td></tr><tr><td>tunde</td><td>GLS</td><td>6</td></tr><tr><td>tunde</td><td>Posta</td><td>6</td></tr><tr><td>tunde</td><td>Személyes átvétel</td><td>4</td></tr><tr><td>tunde</td><td>NULL</td><td>16</td></tr><tr><td>valentin</td><td>GLS</td><td>5</td></tr><tr><td>valentin</td><td>Posta</td><td>5</td></tr><tr><td>valentin</td><td>Személyes átvétel</td><td>3</td></tr><tr><td>valentin</td><td>NULL</td><td>13</td></tr><tr><td>veronika4</td><td>GLS</td><td>5</td></tr><tr><td>veronika4</td><td>Posta</td><td>6</td></tr><tr><td>veronika4</td><td>Személyes átvétel</td><td>7</td></tr><tr><td>veronika4</td><td>NULL</td><td>18</td></tr><tr><td>VIKTORIAU</td><td>GLS</td><td>5</td></tr><tr><td>VIKTORIAU</td><td>Posta</td><td>4</td></tr><tr><td>VIKTORIAU</td><td>Személyes átvétel</td><td>5</td></tr><tr><td>VIKTORIAU</td><td>NULL</td><td>14</td></tr><tr><td>VIKTORK</td><td>GLS</td><td>8</td></tr><tr><td>VIKTORK</td><td>Posta</td><td>6</td></tr><tr><td>VIKTORK</td><td>Személyes átvétel</td><td>6</td></tr><tr><td>VIKTORK</td><td>NULL</td><td>20</td></tr><tr><td>vivien3</td><td>GLS</td><td>9</td></tr><tr><td>vivien3</td><td>Posta</td><td>6</td></tr><tr><td>vivien3</td><td>Személyes átvétel</td><td>7</td></tr><tr><td>vivien3</td><td>NULL</td><td>22</td></tr><tr><td>zoltan</td><td>GLS</td><td>5</td></tr><tr><td>zoltan</td><td>Posta</td><td>3</td></tr><tr><td>zoltan</td><td>Személyes átvétel</td><td>7</td></tr><tr><td>zoltan</td><td>NULL</td><td>15</td></tr><tr><td>zoltan4</td><td>GLS</td><td>129</td></tr><tr><td>zoltan4</td><td>Posta</td><td>124</td></tr><tr><td>zoltan4</td><td>Személyes átvétel</td><td>171</td></tr><tr><td>zoltan4</td><td>NULL</td><td>424</td></tr><tr><td>ZOLTANP</td><td>GLS</td><td>6</td></tr><tr><td>ZOLTANP</td><td>Posta</td><td>3</td></tr><tr><td>ZOLTANP</td><td>Személyes átvétel</td><td>4</td></tr><tr><td>ZOLTANP</td><td>NULL</td><td>13</td></tr><tr><td>ZOLTANT</td><td>GLS</td><td>127</td></tr><tr><td>ZOLTANT</td><td>Posta</td><td>107</td></tr><tr><td>ZOLTANT</td><td>Személyes átvétel</td><td>123</td></tr><tr><td>ZOLTANT</td><td>NULL</td><td>357</td></tr><tr><td>zsofi1</td><td>GLS</td><td>7</td></tr><tr><td>zsofi1</td><td>Posta</td><td>6</td></tr><tr><td>zsofi1</td><td>Személyes átvétel</td><td>6</td></tr><tr><td>zsofi1</td><td>NULL</td><td>19</td></tr><tr><td>zsolt1</td><td>GLS</td><td>11</td></tr><tr><td>zsolt1</td><td>Posta</td><td>6</td></tr><tr><td>zsolt1</td><td>Személyes átvétel</td><td>3</td></tr><tr><td>zsolt1</td><td>NULL</td><td>20</td></tr><tr><td>ZSOLTJ</td><td>GLS</td><td>1</td></tr><tr><td>ZSOLTJ</td><td>Posta</td><td>8</td></tr><tr><td>ZSOLTJ</td><td>Személyes átvétel</td><td>9</td></tr><tr><td>ZSOLTJ</td><td>NULL</td><td>18</td></tr><tr><td>zsuzsa</td><td>GLS</td><td>8</td></tr><tr><td>zsuzsa</td><td>Posta</td><td>5</td></tr><tr><td>zsuzsa</td><td>Személyes átvétel</td><td>3</td></tr><tr><td>zsuzsa</td><td>NULL</td><td>16</td></tr><tr><td>zsuzsa3</td><td>GLS</td><td>5</td></tr><tr><td>zsuzsa3</td><td>Posta</td><td>5</td></tr><tr><td>zsuzsa3</td><td>Személyes átvétel</td><td>6</td></tr><tr><td>zsuzsa3</td><td>NULL</td><td>16</td></tr><tr><td>zsuzsanna</td><td>GLS</td><td>7</td></tr><tr><td>zsuzsanna</td><td>Posta</td><td>5</td></tr><tr><td>zsuzsanna</td><td>Személyes átvétel</td><td>3</td></tr><tr><td>zsuzsanna</td><td>NULL</td><td>15</td></tr><tr><td>ZSUZSAV</td><td>GLS</td><td>139</td></tr><tr><td>ZSUZSAV</td><td>Posta</td><td>139</td></tr><tr><td>ZSUZSAV</td><td>Személyes átvétel</td><td>142</td></tr><tr><td>ZSUZSAV</td><td>NULL</td><td>420</td></tr><tr><td>NULL</td><td>NULL</td><td>28085</td></tr></table>"
                    },
                    "metadata": {}
                }
            ],
            "execution_count": 2
        },
        {
            "cell_type": "markdown",
            "source": [
                "2. <span style=\"background-color: rgb(255, 255, 255); color: rgb(0, 0, 0); font-family: &quot;Open Sans&quot;, sans-serif; font-size: 14.44px;\">Készítsünk listát a termékek számáról a következő csoportosítási szempontok szerint:<br>kategória azonosító, raktárkód, raktárkód+mennyiségi egység!</span>\n",
                "\n",
                "a. A listát szűrjük azokra a csoportokra, ahol a termékek száma legalább 6!"
            ],
            "metadata": {
                "azdata_cell_guid": "ea75c103-911f-41a3-a32c-3d40fb3e4e4a"
            },
            "attachments": {}
        },
        {
            "cell_type": "code",
            "source": [
                "SELECT KAT_ID,\r\n",
                "       RAKTAR_KOD,\r\n",
                "       MEGYS,\r\n",
                "       COUNT(*) AS 'Termékek száma'\r\n",
                "FROM Termek\r\n",
                "--WHERE COUNT(*) >= 6\r\n",
                "GROUP BY GROUPING SETS(KAT_ID, RAKTAR_KOD, (RAKTAR_KOD, MEGYS))"
            ],
            "metadata": {
                "azdata_cell_guid": "222b9618-a8e8-42b4-a8e8-d002257122b7",
                "language": "sql"
            },
            "outputs": [
                {
                    "output_type": "display_data",
                    "data": {
                        "text/html": "(174 rows affected)"
                    },
                    "metadata": {}
                },
                {
                    "output_type": "display_data",
                    "data": {
                        "text/html": "Total execution time: 00:00:00.087"
                    },
                    "metadata": {}
                },
                {
                    "output_type": "execute_result",
                    "metadata": {},
                    "execution_count": 5,
                    "data": {
                        "application/vnd.dataresource+json": {
                            "schema": {
                                "fields": [
                                    {
                                        "name": "KAT_ID"
                                    },
                                    {
                                        "name": "RAKTAR_KOD"
                                    },
                                    {
                                        "name": "MEGYS"
                                    },
                                    {
                                        "name": "Termékek száma"
                                    }
                                ]
                            },
                            "data": [
                                {
                                    "KAT_ID": "NULL",
                                    "RAKTAR_KOD": "1",
                                    "MEGYS": "db",
                                    "Termékek száma": "11"
                                },
                                {
                                    "KAT_ID": "NULL",
                                    "RAKTAR_KOD": "1",
                                    "MEGYS": "NULL",
                                    "Termékek száma": "11"
                                },
                                {
                                    "KAT_ID": "NULL",
                                    "RAKTAR_KOD": "2",
                                    "MEGYS": "db",
                                    "Termékek száma": "5"
                                },
                                {
                                    "KAT_ID": "NULL",
                                    "RAKTAR_KOD": "2",
                                    "MEGYS": "NULL",
                                    "Termékek száma": "5"
                                },
                                {
                                    "KAT_ID": "NULL",
                                    "RAKTAR_KOD": "3",
                                    "MEGYS": "db",
                                    "Termékek száma": "14"
                                },
                                {
                                    "KAT_ID": "NULL",
                                    "RAKTAR_KOD": "3",
                                    "MEGYS": "NULL",
                                    "Termékek száma": "14"
                                },
                                {
                                    "KAT_ID": "NULL",
                                    "RAKTAR_KOD": "4",
                                    "MEGYS": "db",
                                    "Termékek száma": "4"
                                },
                                {
                                    "KAT_ID": "NULL",
                                    "RAKTAR_KOD": "4",
                                    "MEGYS": "NULL",
                                    "Termékek száma": "4"
                                },
                                {
                                    "KAT_ID": "NULL",
                                    "RAKTAR_KOD": "5",
                                    "MEGYS": "csomag",
                                    "Termékek száma": "7"
                                },
                                {
                                    "KAT_ID": "NULL",
                                    "RAKTAR_KOD": "5",
                                    "MEGYS": "db",
                                    "Termékek száma": "72"
                                },
                                {
                                    "KAT_ID": "NULL",
                                    "RAKTAR_KOD": "5",
                                    "MEGYS": "doboz",
                                    "Termékek száma": "1"
                                },
                                {
                                    "KAT_ID": "NULL",
                                    "RAKTAR_KOD": "5",
                                    "MEGYS": "ív",
                                    "Termékek száma": "5"
                                },
                                {
                                    "KAT_ID": "NULL",
                                    "RAKTAR_KOD": "5",
                                    "MEGYS": "üveg",
                                    "Termékek száma": "1"
                                },
                                {
                                    "KAT_ID": "NULL",
                                    "RAKTAR_KOD": "5",
                                    "MEGYS": "NULL",
                                    "Termékek száma": "86"
                                },
                                {
                                    "KAT_ID": "NULL",
                                    "RAKTAR_KOD": "6",
                                    "MEGYS": "csomag",
                                    "Termékek száma": "9"
                                },
                                {
                                    "KAT_ID": "NULL",
                                    "RAKTAR_KOD": "6",
                                    "MEGYS": "db",
                                    "Termékek száma": "94"
                                },
                                {
                                    "KAT_ID": "NULL",
                                    "RAKTAR_KOD": "6",
                                    "MEGYS": "ív",
                                    "Termékek száma": "3"
                                },
                                {
                                    "KAT_ID": "NULL",
                                    "RAKTAR_KOD": "6",
                                    "MEGYS": "NULL",
                                    "Termékek száma": "106"
                                },
                                {
                                    "KAT_ID": "NULL",
                                    "RAKTAR_KOD": "7",
                                    "MEGYS": "csomag",
                                    "Termékek száma": "9"
                                },
                                {
                                    "KAT_ID": "NULL",
                                    "RAKTAR_KOD": "7",
                                    "MEGYS": "db",
                                    "Termékek száma": "88"
                                },
                                {
                                    "KAT_ID": "NULL",
                                    "RAKTAR_KOD": "7",
                                    "MEGYS": "ív",
                                    "Termékek száma": "2"
                                },
                                {
                                    "KAT_ID": "NULL",
                                    "RAKTAR_KOD": "7",
                                    "MEGYS": "tekercs",
                                    "Termékek száma": "1"
                                },
                                {
                                    "KAT_ID": "NULL",
                                    "RAKTAR_KOD": "7",
                                    "MEGYS": "NULL",
                                    "Termékek száma": "100"
                                },
                                {
                                    "KAT_ID": "NULL",
                                    "RAKTAR_KOD": "8",
                                    "MEGYS": "csomag",
                                    "Termékek száma": "8"
                                },
                                {
                                    "KAT_ID": "NULL",
                                    "RAKTAR_KOD": "8",
                                    "MEGYS": "db",
                                    "Termékek száma": "109"
                                },
                                {
                                    "KAT_ID": "NULL",
                                    "RAKTAR_KOD": "8",
                                    "MEGYS": "ív",
                                    "Termékek száma": "6"
                                },
                                {
                                    "KAT_ID": "NULL",
                                    "RAKTAR_KOD": "8",
                                    "MEGYS": "NULL",
                                    "Termékek száma": "123"
                                },
                                {
                                    "KAT_ID": "NULL",
                                    "RAKTAR_KOD": "9",
                                    "MEGYS": "csomag",
                                    "Termékek száma": "11"
                                },
                                {
                                    "KAT_ID": "NULL",
                                    "RAKTAR_KOD": "9",
                                    "MEGYS": "db",
                                    "Termékek száma": "86"
                                },
                                {
                                    "KAT_ID": "NULL",
                                    "RAKTAR_KOD": "9",
                                    "MEGYS": "ív",
                                    "Termékek száma": "5"
                                },
                                {
                                    "KAT_ID": "NULL",
                                    "RAKTAR_KOD": "9",
                                    "MEGYS": "NULL",
                                    "Termékek száma": "102"
                                },
                                {
                                    "KAT_ID": "4",
                                    "RAKTAR_KOD": "NULL",
                                    "MEGYS": "NULL",
                                    "Termékek száma": "15"
                                },
                                {
                                    "KAT_ID": "5",
                                    "RAKTAR_KOD": "NULL",
                                    "MEGYS": "NULL",
                                    "Termékek száma": "3"
                                },
                                {
                                    "KAT_ID": "6",
                                    "RAKTAR_KOD": "NULL",
                                    "MEGYS": "NULL",
                                    "Termékek száma": "20"
                                },
                                {
                                    "KAT_ID": "7",
                                    "RAKTAR_KOD": "NULL",
                                    "MEGYS": "NULL",
                                    "Termékek száma": "3"
                                },
                                {
                                    "KAT_ID": "8",
                                    "RAKTAR_KOD": "NULL",
                                    "MEGYS": "NULL",
                                    "Termékek száma": "3"
                                },
                                {
                                    "KAT_ID": "9",
                                    "RAKTAR_KOD": "NULL",
                                    "MEGYS": "NULL",
                                    "Termékek száma": "2"
                                },
                                {
                                    "KAT_ID": "10",
                                    "RAKTAR_KOD": "NULL",
                                    "MEGYS": "NULL",
                                    "Termékek száma": "1"
                                },
                                {
                                    "KAT_ID": "11",
                                    "RAKTAR_KOD": "NULL",
                                    "MEGYS": "NULL",
                                    "Termékek száma": "1"
                                },
                                {
                                    "KAT_ID": "12",
                                    "RAKTAR_KOD": "NULL",
                                    "MEGYS": "NULL",
                                    "Termékek száma": "1"
                                },
                                {
                                    "KAT_ID": "13",
                                    "RAKTAR_KOD": "NULL",
                                    "MEGYS": "NULL",
                                    "Termékek száma": "2"
                                },
                                {
                                    "KAT_ID": "14",
                                    "RAKTAR_KOD": "NULL",
                                    "MEGYS": "NULL",
                                    "Termékek száma": "4"
                                },
                                {
                                    "KAT_ID": "15",
                                    "RAKTAR_KOD": "NULL",
                                    "MEGYS": "NULL",
                                    "Termékek száma": "1"
                                },
                                {
                                    "KAT_ID": "16",
                                    "RAKTAR_KOD": "NULL",
                                    "MEGYS": "NULL",
                                    "Termékek száma": "7"
                                },
                                {
                                    "KAT_ID": "17",
                                    "RAKTAR_KOD": "NULL",
                                    "MEGYS": "NULL",
                                    "Termékek száma": "1"
                                },
                                {
                                    "KAT_ID": "18",
                                    "RAKTAR_KOD": "NULL",
                                    "MEGYS": "NULL",
                                    "Termékek száma": "2"
                                },
                                {
                                    "KAT_ID": "19",
                                    "RAKTAR_KOD": "NULL",
                                    "MEGYS": "NULL",
                                    "Termékek száma": "19"
                                },
                                {
                                    "KAT_ID": "20",
                                    "RAKTAR_KOD": "NULL",
                                    "MEGYS": "NULL",
                                    "Termékek száma": "3"
                                },
                                {
                                    "KAT_ID": "21",
                                    "RAKTAR_KOD": "NULL",
                                    "MEGYS": "NULL",
                                    "Termékek száma": "5"
                                },
                                {
                                    "KAT_ID": "22",
                                    "RAKTAR_KOD": "NULL",
                                    "MEGYS": "NULL",
                                    "Termékek száma": "2"
                                },
                                {
                                    "KAT_ID": "24",
                                    "RAKTAR_KOD": "NULL",
                                    "MEGYS": "NULL",
                                    "Termékek száma": "7"
                                },
                                {
                                    "KAT_ID": "25",
                                    "RAKTAR_KOD": "NULL",
                                    "MEGYS": "NULL",
                                    "Termékek száma": "4"
                                },
                                {
                                    "KAT_ID": "26",
                                    "RAKTAR_KOD": "NULL",
                                    "MEGYS": "NULL",
                                    "Termékek száma": "1"
                                },
                                {
                                    "KAT_ID": "27",
                                    "RAKTAR_KOD": "NULL",
                                    "MEGYS": "NULL",
                                    "Termékek száma": "3"
                                },
                                {
                                    "KAT_ID": "28",
                                    "RAKTAR_KOD": "NULL",
                                    "MEGYS": "NULL",
                                    "Termékek száma": "5"
                                },
                                {
                                    "KAT_ID": "29",
                                    "RAKTAR_KOD": "NULL",
                                    "MEGYS": "NULL",
                                    "Termékek száma": "1"
                                },
                                {
                                    "KAT_ID": "30",
                                    "RAKTAR_KOD": "NULL",
                                    "MEGYS": "NULL",
                                    "Termékek száma": "7"
                                },
                                {
                                    "KAT_ID": "31",
                                    "RAKTAR_KOD": "NULL",
                                    "MEGYS": "NULL",
                                    "Termékek száma": "1"
                                },
                                {
                                    "KAT_ID": "32",
                                    "RAKTAR_KOD": "NULL",
                                    "MEGYS": "NULL",
                                    "Termékek száma": "3"
                                },
                                {
                                    "KAT_ID": "33",
                                    "RAKTAR_KOD": "NULL",
                                    "MEGYS": "NULL",
                                    "Termékek száma": "1"
                                },
                                {
                                    "KAT_ID": "34",
                                    "RAKTAR_KOD": "NULL",
                                    "MEGYS": "NULL",
                                    "Termékek száma": "1"
                                },
                                {
                                    "KAT_ID": "35",
                                    "RAKTAR_KOD": "NULL",
                                    "MEGYS": "NULL",
                                    "Termékek száma": "7"
                                },
                                {
                                    "KAT_ID": "36",
                                    "RAKTAR_KOD": "NULL",
                                    "MEGYS": "NULL",
                                    "Termékek száma": "5"
                                },
                                {
                                    "KAT_ID": "37",
                                    "RAKTAR_KOD": "NULL",
                                    "MEGYS": "NULL",
                                    "Termékek száma": "1"
                                },
                                {
                                    "KAT_ID": "38",
                                    "RAKTAR_KOD": "NULL",
                                    "MEGYS": "NULL",
                                    "Termékek száma": "1"
                                },
                                {
                                    "KAT_ID": "39",
                                    "RAKTAR_KOD": "NULL",
                                    "MEGYS": "NULL",
                                    "Termékek száma": "2"
                                },
                                {
                                    "KAT_ID": "40",
                                    "RAKTAR_KOD": "NULL",
                                    "MEGYS": "NULL",
                                    "Termékek száma": "1"
                                },
                                {
                                    "KAT_ID": "41",
                                    "RAKTAR_KOD": "NULL",
                                    "MEGYS": "NULL",
                                    "Termékek száma": "13"
                                },
                                {
                                    "KAT_ID": "42",
                                    "RAKTAR_KOD": "NULL",
                                    "MEGYS": "NULL",
                                    "Termékek száma": "1"
                                },
                                {
                                    "KAT_ID": "43",
                                    "RAKTAR_KOD": "NULL",
                                    "MEGYS": "NULL",
                                    "Termékek száma": "3"
                                },
                                {
                                    "KAT_ID": "44",
                                    "RAKTAR_KOD": "NULL",
                                    "MEGYS": "NULL",
                                    "Termékek száma": "1"
                                },
                                {
                                    "KAT_ID": "45",
                                    "RAKTAR_KOD": "NULL",
                                    "MEGYS": "NULL",
                                    "Termékek száma": "11"
                                },
                                {
                                    "KAT_ID": "46",
                                    "RAKTAR_KOD": "NULL",
                                    "MEGYS": "NULL",
                                    "Termékek száma": "7"
                                },
                                {
                                    "KAT_ID": "47",
                                    "RAKTAR_KOD": "NULL",
                                    "MEGYS": "NULL",
                                    "Termékek száma": "4"
                                },
                                {
                                    "KAT_ID": "48",
                                    "RAKTAR_KOD": "NULL",
                                    "MEGYS": "NULL",
                                    "Termékek száma": "2"
                                },
                                {
                                    "KAT_ID": "49",
                                    "RAKTAR_KOD": "NULL",
                                    "MEGYS": "NULL",
                                    "Termékek száma": "2"
                                },
                                {
                                    "KAT_ID": "50",
                                    "RAKTAR_KOD": "NULL",
                                    "MEGYS": "NULL",
                                    "Termékek száma": "1"
                                },
                                {
                                    "KAT_ID": "51",
                                    "RAKTAR_KOD": "NULL",
                                    "MEGYS": "NULL",
                                    "Termékek száma": "3"
                                },
                                {
                                    "KAT_ID": "52",
                                    "RAKTAR_KOD": "NULL",
                                    "MEGYS": "NULL",
                                    "Termékek száma": "26"
                                },
                                {
                                    "KAT_ID": "53",
                                    "RAKTAR_KOD": "NULL",
                                    "MEGYS": "NULL",
                                    "Termékek száma": "1"
                                },
                                {
                                    "KAT_ID": "54",
                                    "RAKTAR_KOD": "NULL",
                                    "MEGYS": "NULL",
                                    "Termékek száma": "6"
                                },
                                {
                                    "KAT_ID": "55",
                                    "RAKTAR_KOD": "NULL",
                                    "MEGYS": "NULL",
                                    "Termékek száma": "2"
                                },
                                {
                                    "KAT_ID": "56",
                                    "RAKTAR_KOD": "NULL",
                                    "MEGYS": "NULL",
                                    "Termékek száma": "4"
                                },
                                {
                                    "KAT_ID": "57",
                                    "RAKTAR_KOD": "NULL",
                                    "MEGYS": "NULL",
                                    "Termékek száma": "2"
                                },
                                {
                                    "KAT_ID": "58",
                                    "RAKTAR_KOD": "NULL",
                                    "MEGYS": "NULL",
                                    "Termékek száma": "3"
                                },
                                {
                                    "KAT_ID": "59",
                                    "RAKTAR_KOD": "NULL",
                                    "MEGYS": "NULL",
                                    "Termékek száma": "4"
                                },
                                {
                                    "KAT_ID": "60",
                                    "RAKTAR_KOD": "NULL",
                                    "MEGYS": "NULL",
                                    "Termékek száma": "5"
                                },
                                {
                                    "KAT_ID": "61",
                                    "RAKTAR_KOD": "NULL",
                                    "MEGYS": "NULL",
                                    "Termékek száma": "1"
                                },
                                {
                                    "KAT_ID": "62",
                                    "RAKTAR_KOD": "NULL",
                                    "MEGYS": "NULL",
                                    "Termékek száma": "2"
                                },
                                {
                                    "KAT_ID": "64",
                                    "RAKTAR_KOD": "NULL",
                                    "MEGYS": "NULL",
                                    "Termékek száma": "4"
                                },
                                {
                                    "KAT_ID": "65",
                                    "RAKTAR_KOD": "NULL",
                                    "MEGYS": "NULL",
                                    "Termékek száma": "2"
                                },
                                {
                                    "KAT_ID": "66",
                                    "RAKTAR_KOD": "NULL",
                                    "MEGYS": "NULL",
                                    "Termékek száma": "7"
                                },
                                {
                                    "KAT_ID": "67",
                                    "RAKTAR_KOD": "NULL",
                                    "MEGYS": "NULL",
                                    "Termékek száma": "2"
                                },
                                {
                                    "KAT_ID": "68",
                                    "RAKTAR_KOD": "NULL",
                                    "MEGYS": "NULL",
                                    "Termékek száma": "2"
                                },
                                {
                                    "KAT_ID": "70",
                                    "RAKTAR_KOD": "NULL",
                                    "MEGYS": "NULL",
                                    "Termékek száma": "3"
                                },
                                {
                                    "KAT_ID": "71",
                                    "RAKTAR_KOD": "NULL",
                                    "MEGYS": "NULL",
                                    "Termékek száma": "2"
                                },
                                {
                                    "KAT_ID": "72",
                                    "RAKTAR_KOD": "NULL",
                                    "MEGYS": "NULL",
                                    "Termékek száma": "2"
                                },
                                {
                                    "KAT_ID": "73",
                                    "RAKTAR_KOD": "NULL",
                                    "MEGYS": "NULL",
                                    "Termékek száma": "2"
                                },
                                {
                                    "KAT_ID": "74",
                                    "RAKTAR_KOD": "NULL",
                                    "MEGYS": "NULL",
                                    "Termékek száma": "1"
                                },
                                {
                                    "KAT_ID": "75",
                                    "RAKTAR_KOD": "NULL",
                                    "MEGYS": "NULL",
                                    "Termékek száma": "2"
                                },
                                {
                                    "KAT_ID": "76",
                                    "RAKTAR_KOD": "NULL",
                                    "MEGYS": "NULL",
                                    "Termékek száma": "5"
                                },
                                {
                                    "KAT_ID": "78",
                                    "RAKTAR_KOD": "NULL",
                                    "MEGYS": "NULL",
                                    "Termékek száma": "24"
                                },
                                {
                                    "KAT_ID": "79",
                                    "RAKTAR_KOD": "NULL",
                                    "MEGYS": "NULL",
                                    "Termékek száma": "4"
                                },
                                {
                                    "KAT_ID": "80",
                                    "RAKTAR_KOD": "NULL",
                                    "MEGYS": "NULL",
                                    "Termékek száma": "1"
                                },
                                {
                                    "KAT_ID": "82",
                                    "RAKTAR_KOD": "NULL",
                                    "MEGYS": "NULL",
                                    "Termékek száma": "1"
                                },
                                {
                                    "KAT_ID": "83",
                                    "RAKTAR_KOD": "NULL",
                                    "MEGYS": "NULL",
                                    "Termékek száma": "6"
                                },
                                {
                                    "KAT_ID": "84",
                                    "RAKTAR_KOD": "NULL",
                                    "MEGYS": "NULL",
                                    "Termékek száma": "1"
                                },
                                {
                                    "KAT_ID": "85",
                                    "RAKTAR_KOD": "NULL",
                                    "MEGYS": "NULL",
                                    "Termékek száma": "16"
                                },
                                {
                                    "KAT_ID": "86",
                                    "RAKTAR_KOD": "NULL",
                                    "MEGYS": "NULL",
                                    "Termékek száma": "1"
                                },
                                {
                                    "KAT_ID": "88",
                                    "RAKTAR_KOD": "NULL",
                                    "MEGYS": "NULL",
                                    "Termékek száma": "2"
                                },
                                {
                                    "KAT_ID": "89",
                                    "RAKTAR_KOD": "NULL",
                                    "MEGYS": "NULL",
                                    "Termékek száma": "3"
                                },
                                {
                                    "KAT_ID": "90",
                                    "RAKTAR_KOD": "NULL",
                                    "MEGYS": "NULL",
                                    "Termékek száma": "2"
                                },
                                {
                                    "KAT_ID": "91",
                                    "RAKTAR_KOD": "NULL",
                                    "MEGYS": "NULL",
                                    "Termékek száma": "7"
                                },
                                {
                                    "KAT_ID": "92",
                                    "RAKTAR_KOD": "NULL",
                                    "MEGYS": "NULL",
                                    "Termékek száma": "2"
                                },
                                {
                                    "KAT_ID": "93",
                                    "RAKTAR_KOD": "NULL",
                                    "MEGYS": "NULL",
                                    "Termékek száma": "7"
                                },
                                {
                                    "KAT_ID": "94",
                                    "RAKTAR_KOD": "NULL",
                                    "MEGYS": "NULL",
                                    "Termékek száma": "2"
                                },
                                {
                                    "KAT_ID": "95",
                                    "RAKTAR_KOD": "NULL",
                                    "MEGYS": "NULL",
                                    "Termékek száma": "2"
                                },
                                {
                                    "KAT_ID": "96",
                                    "RAKTAR_KOD": "NULL",
                                    "MEGYS": "NULL",
                                    "Termékek száma": "9"
                                },
                                {
                                    "KAT_ID": "97",
                                    "RAKTAR_KOD": "NULL",
                                    "MEGYS": "NULL",
                                    "Termékek száma": "10"
                                },
                                {
                                    "KAT_ID": "98",
                                    "RAKTAR_KOD": "NULL",
                                    "MEGYS": "NULL",
                                    "Termékek száma": "4"
                                },
                                {
                                    "KAT_ID": "99",
                                    "RAKTAR_KOD": "NULL",
                                    "MEGYS": "NULL",
                                    "Termékek száma": "1"
                                },
                                {
                                    "KAT_ID": "100",
                                    "RAKTAR_KOD": "NULL",
                                    "MEGYS": "NULL",
                                    "Termékek száma": "9"
                                },
                                {
                                    "KAT_ID": "101",
                                    "RAKTAR_KOD": "NULL",
                                    "MEGYS": "NULL",
                                    "Termékek száma": "1"
                                },
                                {
                                    "KAT_ID": "103",
                                    "RAKTAR_KOD": "NULL",
                                    "MEGYS": "NULL",
                                    "Termékek száma": "1"
                                },
                                {
                                    "KAT_ID": "104",
                                    "RAKTAR_KOD": "NULL",
                                    "MEGYS": "NULL",
                                    "Termékek száma": "2"
                                },
                                {
                                    "KAT_ID": "105",
                                    "RAKTAR_KOD": "NULL",
                                    "MEGYS": "NULL",
                                    "Termékek száma": "1"
                                },
                                {
                                    "KAT_ID": "106",
                                    "RAKTAR_KOD": "NULL",
                                    "MEGYS": "NULL",
                                    "Termékek száma": "5"
                                },
                                {
                                    "KAT_ID": "107",
                                    "RAKTAR_KOD": "NULL",
                                    "MEGYS": "NULL",
                                    "Termékek száma": "1"
                                },
                                {
                                    "KAT_ID": "108",
                                    "RAKTAR_KOD": "NULL",
                                    "MEGYS": "NULL",
                                    "Termékek száma": "1"
                                },
                                {
                                    "KAT_ID": "109",
                                    "RAKTAR_KOD": "NULL",
                                    "MEGYS": "NULL",
                                    "Termékek száma": "1"
                                },
                                {
                                    "KAT_ID": "110",
                                    "RAKTAR_KOD": "NULL",
                                    "MEGYS": "NULL",
                                    "Termékek száma": "2"
                                },
                                {
                                    "KAT_ID": "111",
                                    "RAKTAR_KOD": "NULL",
                                    "MEGYS": "NULL",
                                    "Termékek száma": "3"
                                },
                                {
                                    "KAT_ID": "112",
                                    "RAKTAR_KOD": "NULL",
                                    "MEGYS": "NULL",
                                    "Termékek száma": "2"
                                },
                                {
                                    "KAT_ID": "114",
                                    "RAKTAR_KOD": "NULL",
                                    "MEGYS": "NULL",
                                    "Termékek száma": "1"
                                },
                                {
                                    "KAT_ID": "115",
                                    "RAKTAR_KOD": "NULL",
                                    "MEGYS": "NULL",
                                    "Termékek száma": "1"
                                },
                                {
                                    "KAT_ID": "116",
                                    "RAKTAR_KOD": "NULL",
                                    "MEGYS": "NULL",
                                    "Termékek száma": "2"
                                },
                                {
                                    "KAT_ID": "117",
                                    "RAKTAR_KOD": "NULL",
                                    "MEGYS": "NULL",
                                    "Termékek száma": "2"
                                },
                                {
                                    "KAT_ID": "118",
                                    "RAKTAR_KOD": "NULL",
                                    "MEGYS": "NULL",
                                    "Termékek száma": "9"
                                },
                                {
                                    "KAT_ID": "119",
                                    "RAKTAR_KOD": "NULL",
                                    "MEGYS": "NULL",
                                    "Termékek száma": "3"
                                },
                                {
                                    "KAT_ID": "121",
                                    "RAKTAR_KOD": "NULL",
                                    "MEGYS": "NULL",
                                    "Termékek száma": "2"
                                },
                                {
                                    "KAT_ID": "122",
                                    "RAKTAR_KOD": "NULL",
                                    "MEGYS": "NULL",
                                    "Termékek száma": "7"
                                },
                                {
                                    "KAT_ID": "123",
                                    "RAKTAR_KOD": "NULL",
                                    "MEGYS": "NULL",
                                    "Termékek száma": "2"
                                },
                                {
                                    "KAT_ID": "124",
                                    "RAKTAR_KOD": "NULL",
                                    "MEGYS": "NULL",
                                    "Termékek száma": "10"
                                },
                                {
                                    "KAT_ID": "125",
                                    "RAKTAR_KOD": "NULL",
                                    "MEGYS": "NULL",
                                    "Termékek száma": "4"
                                },
                                {
                                    "KAT_ID": "126",
                                    "RAKTAR_KOD": "NULL",
                                    "MEGYS": "NULL",
                                    "Termékek száma": "1"
                                },
                                {
                                    "KAT_ID": "127",
                                    "RAKTAR_KOD": "NULL",
                                    "MEGYS": "NULL",
                                    "Termékek száma": "2"
                                },
                                {
                                    "KAT_ID": "128",
                                    "RAKTAR_KOD": "NULL",
                                    "MEGYS": "NULL",
                                    "Termékek száma": "2"
                                },
                                {
                                    "KAT_ID": "129",
                                    "RAKTAR_KOD": "NULL",
                                    "MEGYS": "NULL",
                                    "Termékek száma": "2"
                                },
                                {
                                    "KAT_ID": "130",
                                    "RAKTAR_KOD": "NULL",
                                    "MEGYS": "NULL",
                                    "Termékek száma": "1"
                                },
                                {
                                    "KAT_ID": "131",
                                    "RAKTAR_KOD": "NULL",
                                    "MEGYS": "NULL",
                                    "Termékek száma": "1"
                                },
                                {
                                    "KAT_ID": "132",
                                    "RAKTAR_KOD": "NULL",
                                    "MEGYS": "NULL",
                                    "Termékek száma": "1"
                                },
                                {
                                    "KAT_ID": "133",
                                    "RAKTAR_KOD": "NULL",
                                    "MEGYS": "NULL",
                                    "Termékek száma": "6"
                                },
                                {
                                    "KAT_ID": "134",
                                    "RAKTAR_KOD": "NULL",
                                    "MEGYS": "NULL",
                                    "Termékek száma": "2"
                                },
                                {
                                    "KAT_ID": "135",
                                    "RAKTAR_KOD": "NULL",
                                    "MEGYS": "NULL",
                                    "Termékek száma": "1"
                                },
                                {
                                    "KAT_ID": "136",
                                    "RAKTAR_KOD": "NULL",
                                    "MEGYS": "NULL",
                                    "Termékek száma": "2"
                                },
                                {
                                    "KAT_ID": "137",
                                    "RAKTAR_KOD": "NULL",
                                    "MEGYS": "NULL",
                                    "Termékek száma": "3"
                                },
                                {
                                    "KAT_ID": "138",
                                    "RAKTAR_KOD": "NULL",
                                    "MEGYS": "NULL",
                                    "Termékek száma": "5"
                                },
                                {
                                    "KAT_ID": "139",
                                    "RAKTAR_KOD": "NULL",
                                    "MEGYS": "NULL",
                                    "Termékek száma": "1"
                                },
                                {
                                    "KAT_ID": "140",
                                    "RAKTAR_KOD": "NULL",
                                    "MEGYS": "NULL",
                                    "Termékek száma": "1"
                                },
                                {
                                    "KAT_ID": "141",
                                    "RAKTAR_KOD": "NULL",
                                    "MEGYS": "NULL",
                                    "Termékek száma": "2"
                                },
                                {
                                    "KAT_ID": "142",
                                    "RAKTAR_KOD": "NULL",
                                    "MEGYS": "NULL",
                                    "Termékek száma": "1"
                                },
                                {
                                    "KAT_ID": "143",
                                    "RAKTAR_KOD": "NULL",
                                    "MEGYS": "NULL",
                                    "Termékek száma": "3"
                                },
                                {
                                    "KAT_ID": "144",
                                    "RAKTAR_KOD": "NULL",
                                    "MEGYS": "NULL",
                                    "Termékek száma": "2"
                                },
                                {
                                    "KAT_ID": "145",
                                    "RAKTAR_KOD": "NULL",
                                    "MEGYS": "NULL",
                                    "Termékek száma": "18"
                                },
                                {
                                    "KAT_ID": "146",
                                    "RAKTAR_KOD": "NULL",
                                    "MEGYS": "NULL",
                                    "Termékek száma": "7"
                                },
                                {
                                    "KAT_ID": "147",
                                    "RAKTAR_KOD": "NULL",
                                    "MEGYS": "NULL",
                                    "Termékek száma": "1"
                                },
                                {
                                    "KAT_ID": "148",
                                    "RAKTAR_KOD": "NULL",
                                    "MEGYS": "NULL",
                                    "Termékek száma": "1"
                                },
                                {
                                    "KAT_ID": "149",
                                    "RAKTAR_KOD": "NULL",
                                    "MEGYS": "NULL",
                                    "Termékek száma": "6"
                                },
                                {
                                    "KAT_ID": "150",
                                    "RAKTAR_KOD": "NULL",
                                    "MEGYS": "NULL",
                                    "Termékek száma": "2"
                                },
                                {
                                    "KAT_ID": "151",
                                    "RAKTAR_KOD": "NULL",
                                    "MEGYS": "NULL",
                                    "Termékek száma": "4"
                                },
                                {
                                    "KAT_ID": "152",
                                    "RAKTAR_KOD": "NULL",
                                    "MEGYS": "NULL",
                                    "Termékek száma": "6"
                                },
                                {
                                    "KAT_ID": "153",
                                    "RAKTAR_KOD": "NULL",
                                    "MEGYS": "NULL",
                                    "Termékek száma": "1"
                                },
                                {
                                    "KAT_ID": "154",
                                    "RAKTAR_KOD": "NULL",
                                    "MEGYS": "NULL",
                                    "Termékek száma": "4"
                                },
                                {
                                    "KAT_ID": "155",
                                    "RAKTAR_KOD": "NULL",
                                    "MEGYS": "NULL",
                                    "Termékek száma": "1"
                                }
                            ]
                        },
                        "text/html": [
                            "<table>",
                            "<tr><th>KAT_ID</th><th>RAKTAR_KOD</th><th>MEGYS</th><th>Termékek száma</th></tr>",
                            "<tr><td>NULL</td><td>1</td><td>db</td><td>11</td></tr>",
                            "<tr><td>NULL</td><td>1</td><td>NULL</td><td>11</td></tr>",
                            "<tr><td>NULL</td><td>2</td><td>db</td><td>5</td></tr>",
                            "<tr><td>NULL</td><td>2</td><td>NULL</td><td>5</td></tr>",
                            "<tr><td>NULL</td><td>3</td><td>db</td><td>14</td></tr>",
                            "<tr><td>NULL</td><td>3</td><td>NULL</td><td>14</td></tr>",
                            "<tr><td>NULL</td><td>4</td><td>db</td><td>4</td></tr>",
                            "<tr><td>NULL</td><td>4</td><td>NULL</td><td>4</td></tr>",
                            "<tr><td>NULL</td><td>5</td><td>csomag</td><td>7</td></tr>",
                            "<tr><td>NULL</td><td>5</td><td>db</td><td>72</td></tr>",
                            "<tr><td>NULL</td><td>5</td><td>doboz</td><td>1</td></tr>",
                            "<tr><td>NULL</td><td>5</td><td>ív</td><td>5</td></tr>",
                            "<tr><td>NULL</td><td>5</td><td>üveg</td><td>1</td></tr>",
                            "<tr><td>NULL</td><td>5</td><td>NULL</td><td>86</td></tr>",
                            "<tr><td>NULL</td><td>6</td><td>csomag</td><td>9</td></tr>",
                            "<tr><td>NULL</td><td>6</td><td>db</td><td>94</td></tr>",
                            "<tr><td>NULL</td><td>6</td><td>ív</td><td>3</td></tr>",
                            "<tr><td>NULL</td><td>6</td><td>NULL</td><td>106</td></tr>",
                            "<tr><td>NULL</td><td>7</td><td>csomag</td><td>9</td></tr>",
                            "<tr><td>NULL</td><td>7</td><td>db</td><td>88</td></tr>",
                            "<tr><td>NULL</td><td>7</td><td>ív</td><td>2</td></tr>",
                            "<tr><td>NULL</td><td>7</td><td>tekercs</td><td>1</td></tr>",
                            "<tr><td>NULL</td><td>7</td><td>NULL</td><td>100</td></tr>",
                            "<tr><td>NULL</td><td>8</td><td>csomag</td><td>8</td></tr>",
                            "<tr><td>NULL</td><td>8</td><td>db</td><td>109</td></tr>",
                            "<tr><td>NULL</td><td>8</td><td>ív</td><td>6</td></tr>",
                            "<tr><td>NULL</td><td>8</td><td>NULL</td><td>123</td></tr>",
                            "<tr><td>NULL</td><td>9</td><td>csomag</td><td>11</td></tr>",
                            "<tr><td>NULL</td><td>9</td><td>db</td><td>86</td></tr>",
                            "<tr><td>NULL</td><td>9</td><td>ív</td><td>5</td></tr>",
                            "<tr><td>NULL</td><td>9</td><td>NULL</td><td>102</td></tr>",
                            "<tr><td>4</td><td>NULL</td><td>NULL</td><td>15</td></tr>",
                            "<tr><td>5</td><td>NULL</td><td>NULL</td><td>3</td></tr>",
                            "<tr><td>6</td><td>NULL</td><td>NULL</td><td>20</td></tr>",
                            "<tr><td>7</td><td>NULL</td><td>NULL</td><td>3</td></tr>",
                            "<tr><td>8</td><td>NULL</td><td>NULL</td><td>3</td></tr>",
                            "<tr><td>9</td><td>NULL</td><td>NULL</td><td>2</td></tr>",
                            "<tr><td>10</td><td>NULL</td><td>NULL</td><td>1</td></tr>",
                            "<tr><td>11</td><td>NULL</td><td>NULL</td><td>1</td></tr>",
                            "<tr><td>12</td><td>NULL</td><td>NULL</td><td>1</td></tr>",
                            "<tr><td>13</td><td>NULL</td><td>NULL</td><td>2</td></tr>",
                            "<tr><td>14</td><td>NULL</td><td>NULL</td><td>4</td></tr>",
                            "<tr><td>15</td><td>NULL</td><td>NULL</td><td>1</td></tr>",
                            "<tr><td>16</td><td>NULL</td><td>NULL</td><td>7</td></tr>",
                            "<tr><td>17</td><td>NULL</td><td>NULL</td><td>1</td></tr>",
                            "<tr><td>18</td><td>NULL</td><td>NULL</td><td>2</td></tr>",
                            "<tr><td>19</td><td>NULL</td><td>NULL</td><td>19</td></tr>",
                            "<tr><td>20</td><td>NULL</td><td>NULL</td><td>3</td></tr>",
                            "<tr><td>21</td><td>NULL</td><td>NULL</td><td>5</td></tr>",
                            "<tr><td>22</td><td>NULL</td><td>NULL</td><td>2</td></tr>",
                            "<tr><td>24</td><td>NULL</td><td>NULL</td><td>7</td></tr>",
                            "<tr><td>25</td><td>NULL</td><td>NULL</td><td>4</td></tr>",
                            "<tr><td>26</td><td>NULL</td><td>NULL</td><td>1</td></tr>",
                            "<tr><td>27</td><td>NULL</td><td>NULL</td><td>3</td></tr>",
                            "<tr><td>28</td><td>NULL</td><td>NULL</td><td>5</td></tr>",
                            "<tr><td>29</td><td>NULL</td><td>NULL</td><td>1</td></tr>",
                            "<tr><td>30</td><td>NULL</td><td>NULL</td><td>7</td></tr>",
                            "<tr><td>31</td><td>NULL</td><td>NULL</td><td>1</td></tr>",
                            "<tr><td>32</td><td>NULL</td><td>NULL</td><td>3</td></tr>",
                            "<tr><td>33</td><td>NULL</td><td>NULL</td><td>1</td></tr>",
                            "<tr><td>34</td><td>NULL</td><td>NULL</td><td>1</td></tr>",
                            "<tr><td>35</td><td>NULL</td><td>NULL</td><td>7</td></tr>",
                            "<tr><td>36</td><td>NULL</td><td>NULL</td><td>5</td></tr>",
                            "<tr><td>37</td><td>NULL</td><td>NULL</td><td>1</td></tr>",
                            "<tr><td>38</td><td>NULL</td><td>NULL</td><td>1</td></tr>",
                            "<tr><td>39</td><td>NULL</td><td>NULL</td><td>2</td></tr>",
                            "<tr><td>40</td><td>NULL</td><td>NULL</td><td>1</td></tr>",
                            "<tr><td>41</td><td>NULL</td><td>NULL</td><td>13</td></tr>",
                            "<tr><td>42</td><td>NULL</td><td>NULL</td><td>1</td></tr>",
                            "<tr><td>43</td><td>NULL</td><td>NULL</td><td>3</td></tr>",
                            "<tr><td>44</td><td>NULL</td><td>NULL</td><td>1</td></tr>",
                            "<tr><td>45</td><td>NULL</td><td>NULL</td><td>11</td></tr>",
                            "<tr><td>46</td><td>NULL</td><td>NULL</td><td>7</td></tr>",
                            "<tr><td>47</td><td>NULL</td><td>NULL</td><td>4</td></tr>",
                            "<tr><td>48</td><td>NULL</td><td>NULL</td><td>2</td></tr>",
                            "<tr><td>49</td><td>NULL</td><td>NULL</td><td>2</td></tr>",
                            "<tr><td>50</td><td>NULL</td><td>NULL</td><td>1</td></tr>",
                            "<tr><td>51</td><td>NULL</td><td>NULL</td><td>3</td></tr>",
                            "<tr><td>52</td><td>NULL</td><td>NULL</td><td>26</td></tr>",
                            "<tr><td>53</td><td>NULL</td><td>NULL</td><td>1</td></tr>",
                            "<tr><td>54</td><td>NULL</td><td>NULL</td><td>6</td></tr>",
                            "<tr><td>55</td><td>NULL</td><td>NULL</td><td>2</td></tr>",
                            "<tr><td>56</td><td>NULL</td><td>NULL</td><td>4</td></tr>",
                            "<tr><td>57</td><td>NULL</td><td>NULL</td><td>2</td></tr>",
                            "<tr><td>58</td><td>NULL</td><td>NULL</td><td>3</td></tr>",
                            "<tr><td>59</td><td>NULL</td><td>NULL</td><td>4</td></tr>",
                            "<tr><td>60</td><td>NULL</td><td>NULL</td><td>5</td></tr>",
                            "<tr><td>61</td><td>NULL</td><td>NULL</td><td>1</td></tr>",
                            "<tr><td>62</td><td>NULL</td><td>NULL</td><td>2</td></tr>",
                            "<tr><td>64</td><td>NULL</td><td>NULL</td><td>4</td></tr>",
                            "<tr><td>65</td><td>NULL</td><td>NULL</td><td>2</td></tr>",
                            "<tr><td>66</td><td>NULL</td><td>NULL</td><td>7</td></tr>",
                            "<tr><td>67</td><td>NULL</td><td>NULL</td><td>2</td></tr>",
                            "<tr><td>68</td><td>NULL</td><td>NULL</td><td>2</td></tr>",
                            "<tr><td>70</td><td>NULL</td><td>NULL</td><td>3</td></tr>",
                            "<tr><td>71</td><td>NULL</td><td>NULL</td><td>2</td></tr>",
                            "<tr><td>72</td><td>NULL</td><td>NULL</td><td>2</td></tr>",
                            "<tr><td>73</td><td>NULL</td><td>NULL</td><td>2</td></tr>",
                            "<tr><td>74</td><td>NULL</td><td>NULL</td><td>1</td></tr>",
                            "<tr><td>75</td><td>NULL</td><td>NULL</td><td>2</td></tr>",
                            "<tr><td>76</td><td>NULL</td><td>NULL</td><td>5</td></tr>",
                            "<tr><td>78</td><td>NULL</td><td>NULL</td><td>24</td></tr>",
                            "<tr><td>79</td><td>NULL</td><td>NULL</td><td>4</td></tr>",
                            "<tr><td>80</td><td>NULL</td><td>NULL</td><td>1</td></tr>",
                            "<tr><td>82</td><td>NULL</td><td>NULL</td><td>1</td></tr>",
                            "<tr><td>83</td><td>NULL</td><td>NULL</td><td>6</td></tr>",
                            "<tr><td>84</td><td>NULL</td><td>NULL</td><td>1</td></tr>",
                            "<tr><td>85</td><td>NULL</td><td>NULL</td><td>16</td></tr>",
                            "<tr><td>86</td><td>NULL</td><td>NULL</td><td>1</td></tr>",
                            "<tr><td>88</td><td>NULL</td><td>NULL</td><td>2</td></tr>",
                            "<tr><td>89</td><td>NULL</td><td>NULL</td><td>3</td></tr>",
                            "<tr><td>90</td><td>NULL</td><td>NULL</td><td>2</td></tr>",
                            "<tr><td>91</td><td>NULL</td><td>NULL</td><td>7</td></tr>",
                            "<tr><td>92</td><td>NULL</td><td>NULL</td><td>2</td></tr>",
                            "<tr><td>93</td><td>NULL</td><td>NULL</td><td>7</td></tr>",
                            "<tr><td>94</td><td>NULL</td><td>NULL</td><td>2</td></tr>",
                            "<tr><td>95</td><td>NULL</td><td>NULL</td><td>2</td></tr>",
                            "<tr><td>96</td><td>NULL</td><td>NULL</td><td>9</td></tr>",
                            "<tr><td>97</td><td>NULL</td><td>NULL</td><td>10</td></tr>",
                            "<tr><td>98</td><td>NULL</td><td>NULL</td><td>4</td></tr>",
                            "<tr><td>99</td><td>NULL</td><td>NULL</td><td>1</td></tr>",
                            "<tr><td>100</td><td>NULL</td><td>NULL</td><td>9</td></tr>",
                            "<tr><td>101</td><td>NULL</td><td>NULL</td><td>1</td></tr>",
                            "<tr><td>103</td><td>NULL</td><td>NULL</td><td>1</td></tr>",
                            "<tr><td>104</td><td>NULL</td><td>NULL</td><td>2</td></tr>",
                            "<tr><td>105</td><td>NULL</td><td>NULL</td><td>1</td></tr>",
                            "<tr><td>106</td><td>NULL</td><td>NULL</td><td>5</td></tr>",
                            "<tr><td>107</td><td>NULL</td><td>NULL</td><td>1</td></tr>",
                            "<tr><td>108</td><td>NULL</td><td>NULL</td><td>1</td></tr>",
                            "<tr><td>109</td><td>NULL</td><td>NULL</td><td>1</td></tr>",
                            "<tr><td>110</td><td>NULL</td><td>NULL</td><td>2</td></tr>",
                            "<tr><td>111</td><td>NULL</td><td>NULL</td><td>3</td></tr>",
                            "<tr><td>112</td><td>NULL</td><td>NULL</td><td>2</td></tr>",
                            "<tr><td>114</td><td>NULL</td><td>NULL</td><td>1</td></tr>",
                            "<tr><td>115</td><td>NULL</td><td>NULL</td><td>1</td></tr>",
                            "<tr><td>116</td><td>NULL</td><td>NULL</td><td>2</td></tr>",
                            "<tr><td>117</td><td>NULL</td><td>NULL</td><td>2</td></tr>",
                            "<tr><td>118</td><td>NULL</td><td>NULL</td><td>9</td></tr>",
                            "<tr><td>119</td><td>NULL</td><td>NULL</td><td>3</td></tr>",
                            "<tr><td>121</td><td>NULL</td><td>NULL</td><td>2</td></tr>",
                            "<tr><td>122</td><td>NULL</td><td>NULL</td><td>7</td></tr>",
                            "<tr><td>123</td><td>NULL</td><td>NULL</td><td>2</td></tr>",
                            "<tr><td>124</td><td>NULL</td><td>NULL</td><td>10</td></tr>",
                            "<tr><td>125</td><td>NULL</td><td>NULL</td><td>4</td></tr>",
                            "<tr><td>126</td><td>NULL</td><td>NULL</td><td>1</td></tr>",
                            "<tr><td>127</td><td>NULL</td><td>NULL</td><td>2</td></tr>",
                            "<tr><td>128</td><td>NULL</td><td>NULL</td><td>2</td></tr>",
                            "<tr><td>129</td><td>NULL</td><td>NULL</td><td>2</td></tr>",
                            "<tr><td>130</td><td>NULL</td><td>NULL</td><td>1</td></tr>",
                            "<tr><td>131</td><td>NULL</td><td>NULL</td><td>1</td></tr>",
                            "<tr><td>132</td><td>NULL</td><td>NULL</td><td>1</td></tr>",
                            "<tr><td>133</td><td>NULL</td><td>NULL</td><td>6</td></tr>",
                            "<tr><td>134</td><td>NULL</td><td>NULL</td><td>2</td></tr>",
                            "<tr><td>135</td><td>NULL</td><td>NULL</td><td>1</td></tr>",
                            "<tr><td>136</td><td>NULL</td><td>NULL</td><td>2</td></tr>",
                            "<tr><td>137</td><td>NULL</td><td>NULL</td><td>3</td></tr>",
                            "<tr><td>138</td><td>NULL</td><td>NULL</td><td>5</td></tr>",
                            "<tr><td>139</td><td>NULL</td><td>NULL</td><td>1</td></tr>",
                            "<tr><td>140</td><td>NULL</td><td>NULL</td><td>1</td></tr>",
                            "<tr><td>141</td><td>NULL</td><td>NULL</td><td>2</td></tr>",
                            "<tr><td>142</td><td>NULL</td><td>NULL</td><td>1</td></tr>",
                            "<tr><td>143</td><td>NULL</td><td>NULL</td><td>3</td></tr>",
                            "<tr><td>144</td><td>NULL</td><td>NULL</td><td>2</td></tr>",
                            "<tr><td>145</td><td>NULL</td><td>NULL</td><td>18</td></tr>",
                            "<tr><td>146</td><td>NULL</td><td>NULL</td><td>7</td></tr>",
                            "<tr><td>147</td><td>NULL</td><td>NULL</td><td>1</td></tr>",
                            "<tr><td>148</td><td>NULL</td><td>NULL</td><td>1</td></tr>",
                            "<tr><td>149</td><td>NULL</td><td>NULL</td><td>6</td></tr>",
                            "<tr><td>150</td><td>NULL</td><td>NULL</td><td>2</td></tr>",
                            "<tr><td>151</td><td>NULL</td><td>NULL</td><td>4</td></tr>",
                            "<tr><td>152</td><td>NULL</td><td>NULL</td><td>6</td></tr>",
                            "<tr><td>153</td><td>NULL</td><td>NULL</td><td>1</td></tr>",
                            "<tr><td>154</td><td>NULL</td><td>NULL</td><td>4</td></tr>",
                            "<tr><td>155</td><td>NULL</td><td>NULL</td><td>1</td></tr>",
                            "</table>"
                        ]
                    }
                }
            ],
            "execution_count": 5
        },
        {
            "cell_type": "markdown",
            "source": [
                "```\n",
                "3. Készítsünk listát az egyes termékkategóriákban lévő termékek számáról! \n",
                "\n",
                "```\n",
                "\n",
                "a. Elég megjeleníteni a kategóriák azonosítóit és a darabszámokat!   \n",
                "<span style=\"color: var(--vscode-foreground);\">b. A lista megfelelően jelölve tartalmazza a végösszeget is!&nbsp;<br></span> <span style=\"color: var(--vscode-foreground);\">c. Az oszlopokat nevezzük el értelemszerűen!&nbsp;<br></span> <span style=\"color: var(--vscode-foreground);\">d. A listát rendezzük a darabszám szerint növekvő sorrendbe!</span>\n",
                "\n",
                "  \n",
                "\n",
                "![](https://moodle.uni-corvinus.hu/theme/image.php/adaptable/atto_h5p/1709548862/icon)"
            ],
            "metadata": {
                "azdata_cell_guid": "d7876bb9-76d0-4d07-baed-3cb17b2f96c3"
            },
            "attachments": {}
        },
        {
            "cell_type": "code",
            "source": [
                "SELECT IIF(KAT_ID IS NULL, 'Végösszeg', CAST(KAT_ID AS NVARCHAR(10))) AS 'Kategória',\r\n",
                "       COUNT(*) AS 'DB'\r\n",
                "FROM Termek\r\n",
                "GROUP BY ROLLUP(KAT_ID)\r\n",
                "ORDER BY COUNT(*)"
            ],
            "metadata": {
                "azdata_cell_guid": "56ec19ce-e249-4551-b2a8-f17569765acc",
                "language": "sql"
            },
            "outputs": [
                {
                    "output_type": "display_data",
                    "data": {
                        "text/html": "(144 rows affected)"
                    },
                    "metadata": {}
                },
                {
                    "output_type": "display_data",
                    "data": {
                        "text/html": "Total execution time: 00:00:00.016"
                    },
                    "metadata": {}
                },
                {
                    "output_type": "execute_result",
                    "metadata": {},
                    "execution_count": 14,
                    "data": {
                        "application/vnd.dataresource+json": {
                            "schema": {
                                "fields": [
                                    {
                                        "name": "Kategória"
                                    },
                                    {
                                        "name": "DB"
                                    }
                                ]
                            },
                            "data": [
                                {
                                    "Kategória": "10",
                                    "DB": "1"
                                },
                                {
                                    "Kategória": "11",
                                    "DB": "1"
                                },
                                {
                                    "Kategória": "12",
                                    "DB": "1"
                                },
                                {
                                    "Kategória": "15",
                                    "DB": "1"
                                },
                                {
                                    "Kategória": "17",
                                    "DB": "1"
                                },
                                {
                                    "Kategória": "26",
                                    "DB": "1"
                                },
                                {
                                    "Kategória": "29",
                                    "DB": "1"
                                },
                                {
                                    "Kategória": "31",
                                    "DB": "1"
                                },
                                {
                                    "Kategória": "33",
                                    "DB": "1"
                                },
                                {
                                    "Kategória": "34",
                                    "DB": "1"
                                },
                                {
                                    "Kategória": "37",
                                    "DB": "1"
                                },
                                {
                                    "Kategória": "38",
                                    "DB": "1"
                                },
                                {
                                    "Kategória": "40",
                                    "DB": "1"
                                },
                                {
                                    "Kategória": "42",
                                    "DB": "1"
                                },
                                {
                                    "Kategória": "44",
                                    "DB": "1"
                                },
                                {
                                    "Kategória": "50",
                                    "DB": "1"
                                },
                                {
                                    "Kategória": "53",
                                    "DB": "1"
                                },
                                {
                                    "Kategória": "61",
                                    "DB": "1"
                                },
                                {
                                    "Kategória": "74",
                                    "DB": "1"
                                },
                                {
                                    "Kategória": "80",
                                    "DB": "1"
                                },
                                {
                                    "Kategória": "82",
                                    "DB": "1"
                                },
                                {
                                    "Kategória": "84",
                                    "DB": "1"
                                },
                                {
                                    "Kategória": "86",
                                    "DB": "1"
                                },
                                {
                                    "Kategória": "99",
                                    "DB": "1"
                                },
                                {
                                    "Kategória": "101",
                                    "DB": "1"
                                },
                                {
                                    "Kategória": "103",
                                    "DB": "1"
                                },
                                {
                                    "Kategória": "105",
                                    "DB": "1"
                                },
                                {
                                    "Kategória": "107",
                                    "DB": "1"
                                },
                                {
                                    "Kategória": "108",
                                    "DB": "1"
                                },
                                {
                                    "Kategória": "109",
                                    "DB": "1"
                                },
                                {
                                    "Kategória": "114",
                                    "DB": "1"
                                },
                                {
                                    "Kategória": "115",
                                    "DB": "1"
                                },
                                {
                                    "Kategória": "126",
                                    "DB": "1"
                                },
                                {
                                    "Kategória": "130",
                                    "DB": "1"
                                },
                                {
                                    "Kategória": "131",
                                    "DB": "1"
                                },
                                {
                                    "Kategória": "132",
                                    "DB": "1"
                                },
                                {
                                    "Kategória": "135",
                                    "DB": "1"
                                },
                                {
                                    "Kategória": "139",
                                    "DB": "1"
                                },
                                {
                                    "Kategória": "140",
                                    "DB": "1"
                                },
                                {
                                    "Kategória": "142",
                                    "DB": "1"
                                },
                                {
                                    "Kategória": "147",
                                    "DB": "1"
                                },
                                {
                                    "Kategória": "148",
                                    "DB": "1"
                                },
                                {
                                    "Kategória": "153",
                                    "DB": "1"
                                },
                                {
                                    "Kategória": "155",
                                    "DB": "1"
                                },
                                {
                                    "Kategória": "150",
                                    "DB": "2"
                                },
                                {
                                    "Kategória": "144",
                                    "DB": "2"
                                },
                                {
                                    "Kategória": "141",
                                    "DB": "2"
                                },
                                {
                                    "Kategória": "136",
                                    "DB": "2"
                                },
                                {
                                    "Kategória": "123",
                                    "DB": "2"
                                },
                                {
                                    "Kategória": "134",
                                    "DB": "2"
                                },
                                {
                                    "Kategória": "127",
                                    "DB": "2"
                                },
                                {
                                    "Kategória": "128",
                                    "DB": "2"
                                },
                                {
                                    "Kategória": "129",
                                    "DB": "2"
                                },
                                {
                                    "Kategória": "116",
                                    "DB": "2"
                                },
                                {
                                    "Kategória": "117",
                                    "DB": "2"
                                },
                                {
                                    "Kategória": "112",
                                    "DB": "2"
                                },
                                {
                                    "Kategória": "121",
                                    "DB": "2"
                                },
                                {
                                    "Kategória": "110",
                                    "DB": "2"
                                },
                                {
                                    "Kategória": "104",
                                    "DB": "2"
                                },
                                {
                                    "Kategória": "94",
                                    "DB": "2"
                                },
                                {
                                    "Kategória": "95",
                                    "DB": "2"
                                },
                                {
                                    "Kategória": "88",
                                    "DB": "2"
                                },
                                {
                                    "Kategória": "90",
                                    "DB": "2"
                                },
                                {
                                    "Kategória": "92",
                                    "DB": "2"
                                },
                                {
                                    "Kategória": "71",
                                    "DB": "2"
                                },
                                {
                                    "Kategória": "72",
                                    "DB": "2"
                                },
                                {
                                    "Kategória": "73",
                                    "DB": "2"
                                },
                                {
                                    "Kategória": "75",
                                    "DB": "2"
                                },
                                {
                                    "Kategória": "62",
                                    "DB": "2"
                                },
                                {
                                    "Kategória": "55",
                                    "DB": "2"
                                },
                                {
                                    "Kategória": "65",
                                    "DB": "2"
                                },
                                {
                                    "Kategória": "67",
                                    "DB": "2"
                                },
                                {
                                    "Kategória": "68",
                                    "DB": "2"
                                },
                                {
                                    "Kategória": "57",
                                    "DB": "2"
                                },
                                {
                                    "Kategória": "48",
                                    "DB": "2"
                                },
                                {
                                    "Kategória": "49",
                                    "DB": "2"
                                },
                                {
                                    "Kategória": "39",
                                    "DB": "2"
                                },
                                {
                                    "Kategória": "22",
                                    "DB": "2"
                                },
                                {
                                    "Kategória": "18",
                                    "DB": "2"
                                },
                                {
                                    "Kategória": "9",
                                    "DB": "2"
                                },
                                {
                                    "Kategória": "13",
                                    "DB": "2"
                                },
                                {
                                    "Kategória": "5",
                                    "DB": "3"
                                },
                                {
                                    "Kategória": "7",
                                    "DB": "3"
                                },
                                {
                                    "Kategória": "8",
                                    "DB": "3"
                                },
                                {
                                    "Kategória": "20",
                                    "DB": "3"
                                },
                                {
                                    "Kategória": "27",
                                    "DB": "3"
                                },
                                {
                                    "Kategória": "32",
                                    "DB": "3"
                                },
                                {
                                    "Kategória": "43",
                                    "DB": "3"
                                },
                                {
                                    "Kategória": "58",
                                    "DB": "3"
                                },
                                {
                                    "Kategória": "51",
                                    "DB": "3"
                                },
                                {
                                    "Kategória": "70",
                                    "DB": "3"
                                },
                                {
                                    "Kategória": "89",
                                    "DB": "3"
                                },
                                {
                                    "Kategória": "111",
                                    "DB": "3"
                                },
                                {
                                    "Kategória": "119",
                                    "DB": "3"
                                },
                                {
                                    "Kategória": "137",
                                    "DB": "3"
                                },
                                {
                                    "Kategória": "143",
                                    "DB": "3"
                                },
                                {
                                    "Kategória": "151",
                                    "DB": "4"
                                },
                                {
                                    "Kategória": "154",
                                    "DB": "4"
                                },
                                {
                                    "Kategória": "125",
                                    "DB": "4"
                                },
                                {
                                    "Kategória": "79",
                                    "DB": "4"
                                },
                                {
                                    "Kategória": "98",
                                    "DB": "4"
                                },
                                {
                                    "Kategória": "56",
                                    "DB": "4"
                                },
                                {
                                    "Kategória": "64",
                                    "DB": "4"
                                },
                                {
                                    "Kategória": "59",
                                    "DB": "4"
                                },
                                {
                                    "Kategória": "47",
                                    "DB": "4"
                                },
                                {
                                    "Kategória": "25",
                                    "DB": "4"
                                },
                                {
                                    "Kategória": "14",
                                    "DB": "4"
                                },
                                {
                                    "Kategória": "21",
                                    "DB": "5"
                                },
                                {
                                    "Kategória": "36",
                                    "DB": "5"
                                },
                                {
                                    "Kategória": "28",
                                    "DB": "5"
                                },
                                {
                                    "Kategória": "60",
                                    "DB": "5"
                                },
                                {
                                    "Kategória": "76",
                                    "DB": "5"
                                },
                                {
                                    "Kategória": "106",
                                    "DB": "5"
                                },
                                {
                                    "Kategória": "138",
                                    "DB": "5"
                                },
                                {
                                    "Kategória": "133",
                                    "DB": "6"
                                },
                                {
                                    "Kategória": "152",
                                    "DB": "6"
                                },
                                {
                                    "Kategória": "149",
                                    "DB": "6"
                                },
                                {
                                    "Kategória": "83",
                                    "DB": "6"
                                },
                                {
                                    "Kategória": "54",
                                    "DB": "6"
                                },
                                {
                                    "Kategória": "46",
                                    "DB": "7"
                                },
                                {
                                    "Kategória": "66",
                                    "DB": "7"
                                },
                                {
                                    "Kategória": "24",
                                    "DB": "7"
                                },
                                {
                                    "Kategória": "30",
                                    "DB": "7"
                                },
                                {
                                    "Kategória": "35",
                                    "DB": "7"
                                },
                                {
                                    "Kategória": "16",
                                    "DB": "7"
                                },
                                {
                                    "Kategória": "146",
                                    "DB": "7"
                                },
                                {
                                    "Kategória": "122",
                                    "DB": "7"
                                },
                                {
                                    "Kategória": "93",
                                    "DB": "7"
                                },
                                {
                                    "Kategória": "91",
                                    "DB": "7"
                                },
                                {
                                    "Kategória": "100",
                                    "DB": "9"
                                },
                                {
                                    "Kategória": "96",
                                    "DB": "9"
                                },
                                {
                                    "Kategória": "118",
                                    "DB": "9"
                                },
                                {
                                    "Kategória": "97",
                                    "DB": "10"
                                },
                                {
                                    "Kategória": "124",
                                    "DB": "10"
                                },
                                {
                                    "Kategória": "45",
                                    "DB": "11"
                                },
                                {
                                    "Kategória": "41",
                                    "DB": "13"
                                },
                                {
                                    "Kategória": "4",
                                    "DB": "15"
                                },
                                {
                                    "Kategória": "85",
                                    "DB": "16"
                                },
                                {
                                    "Kategória": "145",
                                    "DB": "18"
                                },
                                {
                                    "Kategória": "19",
                                    "DB": "19"
                                },
                                {
                                    "Kategória": "6",
                                    "DB": "20"
                                },
                                {
                                    "Kategória": "78",
                                    "DB": "24"
                                },
                                {
                                    "Kategória": "52",
                                    "DB": "26"
                                },
                                {
                                    "Kategória": "Végösszeg",
                                    "DB": "551"
                                }
                            ]
                        },
                        "text/html": [
                            "<table>",
                            "<tr><th>Kategória</th><th>DB</th></tr>",
                            "<tr><td>10</td><td>1</td></tr>",
                            "<tr><td>11</td><td>1</td></tr>",
                            "<tr><td>12</td><td>1</td></tr>",
                            "<tr><td>15</td><td>1</td></tr>",
                            "<tr><td>17</td><td>1</td></tr>",
                            "<tr><td>26</td><td>1</td></tr>",
                            "<tr><td>29</td><td>1</td></tr>",
                            "<tr><td>31</td><td>1</td></tr>",
                            "<tr><td>33</td><td>1</td></tr>",
                            "<tr><td>34</td><td>1</td></tr>",
                            "<tr><td>37</td><td>1</td></tr>",
                            "<tr><td>38</td><td>1</td></tr>",
                            "<tr><td>40</td><td>1</td></tr>",
                            "<tr><td>42</td><td>1</td></tr>",
                            "<tr><td>44</td><td>1</td></tr>",
                            "<tr><td>50</td><td>1</td></tr>",
                            "<tr><td>53</td><td>1</td></tr>",
                            "<tr><td>61</td><td>1</td></tr>",
                            "<tr><td>74</td><td>1</td></tr>",
                            "<tr><td>80</td><td>1</td></tr>",
                            "<tr><td>82</td><td>1</td></tr>",
                            "<tr><td>84</td><td>1</td></tr>",
                            "<tr><td>86</td><td>1</td></tr>",
                            "<tr><td>99</td><td>1</td></tr>",
                            "<tr><td>101</td><td>1</td></tr>",
                            "<tr><td>103</td><td>1</td></tr>",
                            "<tr><td>105</td><td>1</td></tr>",
                            "<tr><td>107</td><td>1</td></tr>",
                            "<tr><td>108</td><td>1</td></tr>",
                            "<tr><td>109</td><td>1</td></tr>",
                            "<tr><td>114</td><td>1</td></tr>",
                            "<tr><td>115</td><td>1</td></tr>",
                            "<tr><td>126</td><td>1</td></tr>",
                            "<tr><td>130</td><td>1</td></tr>",
                            "<tr><td>131</td><td>1</td></tr>",
                            "<tr><td>132</td><td>1</td></tr>",
                            "<tr><td>135</td><td>1</td></tr>",
                            "<tr><td>139</td><td>1</td></tr>",
                            "<tr><td>140</td><td>1</td></tr>",
                            "<tr><td>142</td><td>1</td></tr>",
                            "<tr><td>147</td><td>1</td></tr>",
                            "<tr><td>148</td><td>1</td></tr>",
                            "<tr><td>153</td><td>1</td></tr>",
                            "<tr><td>155</td><td>1</td></tr>",
                            "<tr><td>150</td><td>2</td></tr>",
                            "<tr><td>144</td><td>2</td></tr>",
                            "<tr><td>141</td><td>2</td></tr>",
                            "<tr><td>136</td><td>2</td></tr>",
                            "<tr><td>123</td><td>2</td></tr>",
                            "<tr><td>134</td><td>2</td></tr>",
                            "<tr><td>127</td><td>2</td></tr>",
                            "<tr><td>128</td><td>2</td></tr>",
                            "<tr><td>129</td><td>2</td></tr>",
                            "<tr><td>116</td><td>2</td></tr>",
                            "<tr><td>117</td><td>2</td></tr>",
                            "<tr><td>112</td><td>2</td></tr>",
                            "<tr><td>121</td><td>2</td></tr>",
                            "<tr><td>110</td><td>2</td></tr>",
                            "<tr><td>104</td><td>2</td></tr>",
                            "<tr><td>94</td><td>2</td></tr>",
                            "<tr><td>95</td><td>2</td></tr>",
                            "<tr><td>88</td><td>2</td></tr>",
                            "<tr><td>90</td><td>2</td></tr>",
                            "<tr><td>92</td><td>2</td></tr>",
                            "<tr><td>71</td><td>2</td></tr>",
                            "<tr><td>72</td><td>2</td></tr>",
                            "<tr><td>73</td><td>2</td></tr>",
                            "<tr><td>75</td><td>2</td></tr>",
                            "<tr><td>62</td><td>2</td></tr>",
                            "<tr><td>55</td><td>2</td></tr>",
                            "<tr><td>65</td><td>2</td></tr>",
                            "<tr><td>67</td><td>2</td></tr>",
                            "<tr><td>68</td><td>2</td></tr>",
                            "<tr><td>57</td><td>2</td></tr>",
                            "<tr><td>48</td><td>2</td></tr>",
                            "<tr><td>49</td><td>2</td></tr>",
                            "<tr><td>39</td><td>2</td></tr>",
                            "<tr><td>22</td><td>2</td></tr>",
                            "<tr><td>18</td><td>2</td></tr>",
                            "<tr><td>9</td><td>2</td></tr>",
                            "<tr><td>13</td><td>2</td></tr>",
                            "<tr><td>5</td><td>3</td></tr>",
                            "<tr><td>7</td><td>3</td></tr>",
                            "<tr><td>8</td><td>3</td></tr>",
                            "<tr><td>20</td><td>3</td></tr>",
                            "<tr><td>27</td><td>3</td></tr>",
                            "<tr><td>32</td><td>3</td></tr>",
                            "<tr><td>43</td><td>3</td></tr>",
                            "<tr><td>58</td><td>3</td></tr>",
                            "<tr><td>51</td><td>3</td></tr>",
                            "<tr><td>70</td><td>3</td></tr>",
                            "<tr><td>89</td><td>3</td></tr>",
                            "<tr><td>111</td><td>3</td></tr>",
                            "<tr><td>119</td><td>3</td></tr>",
                            "<tr><td>137</td><td>3</td></tr>",
                            "<tr><td>143</td><td>3</td></tr>",
                            "<tr><td>151</td><td>4</td></tr>",
                            "<tr><td>154</td><td>4</td></tr>",
                            "<tr><td>125</td><td>4</td></tr>",
                            "<tr><td>79</td><td>4</td></tr>",
                            "<tr><td>98</td><td>4</td></tr>",
                            "<tr><td>56</td><td>4</td></tr>",
                            "<tr><td>64</td><td>4</td></tr>",
                            "<tr><td>59</td><td>4</td></tr>",
                            "<tr><td>47</td><td>4</td></tr>",
                            "<tr><td>25</td><td>4</td></tr>",
                            "<tr><td>14</td><td>4</td></tr>",
                            "<tr><td>21</td><td>5</td></tr>",
                            "<tr><td>36</td><td>5</td></tr>",
                            "<tr><td>28</td><td>5</td></tr>",
                            "<tr><td>60</td><td>5</td></tr>",
                            "<tr><td>76</td><td>5</td></tr>",
                            "<tr><td>106</td><td>5</td></tr>",
                            "<tr><td>138</td><td>5</td></tr>",
                            "<tr><td>133</td><td>6</td></tr>",
                            "<tr><td>152</td><td>6</td></tr>",
                            "<tr><td>149</td><td>6</td></tr>",
                            "<tr><td>83</td><td>6</td></tr>",
                            "<tr><td>54</td><td>6</td></tr>",
                            "<tr><td>46</td><td>7</td></tr>",
                            "<tr><td>66</td><td>7</td></tr>",
                            "<tr><td>24</td><td>7</td></tr>",
                            "<tr><td>30</td><td>7</td></tr>",
                            "<tr><td>35</td><td>7</td></tr>",
                            "<tr><td>16</td><td>7</td></tr>",
                            "<tr><td>146</td><td>7</td></tr>",
                            "<tr><td>122</td><td>7</td></tr>",
                            "<tr><td>93</td><td>7</td></tr>",
                            "<tr><td>91</td><td>7</td></tr>",
                            "<tr><td>100</td><td>9</td></tr>",
                            "<tr><td>96</td><td>9</td></tr>",
                            "<tr><td>118</td><td>9</td></tr>",
                            "<tr><td>97</td><td>10</td></tr>",
                            "<tr><td>124</td><td>10</td></tr>",
                            "<tr><td>45</td><td>11</td></tr>",
                            "<tr><td>41</td><td>13</td></tr>",
                            "<tr><td>4</td><td>15</td></tr>",
                            "<tr><td>85</td><td>16</td></tr>",
                            "<tr><td>145</td><td>18</td></tr>",
                            "<tr><td>19</td><td>19</td></tr>",
                            "<tr><td>6</td><td>20</td></tr>",
                            "<tr><td>78</td><td>24</td></tr>",
                            "<tr><td>52</td><td>26</td></tr>",
                            "<tr><td>Végösszeg</td><td>551</td></tr>",
                            "</table>"
                        ]
                    }
                }
            ],
            "execution_count": 14
        },
        {
            "cell_type": "markdown",
            "source": [
                "4. <span style=\"background-color: rgb(255, 255, 255); color: rgb(0, 0, 0); font-family: &quot;Open Sans&quot;, sans-serif; font-size: 14.44px;\">Készítsünk listát az ügyfelek számáról születési év szerint, azon belül nem szerinti bontásban!&nbsp;</span> \n",
                "\n",
                "a. A lista megfelelően jelölve tartalmazza a részösszegeket és a végösszeget is!  \n",
                "b. Az oszlopoknak adjunk nevet értelemszerűen!"
            ],
            "metadata": {
                "azdata_cell_guid": "8e7fef82-8022-49a0-8255-fc2846c2134b"
            },
            "attachments": {}
        },
        {
            "cell_type": "code",
            "source": [
                "SELECT IIF(SZULEV IS NULL, 'VÉGÖSSZEG', CAST(SZULEV AS NVARCHAR(10))) AS 'SZÜLETÉSI ÉV',\r\n",
                "       CASE\r\n",
                "        WHEN GROUPING_ID(szulev, nem) = 1 THEN 'Részösszeg'\r\n",
                "        WHEN GROUPING_ID(szulev, nem) = 3 THEN 'Végösszeg'\r\n",
                "       ELSE NEM\r\n",
                "       END AS 'Nem',\r\n",
                "       COUNT(*) AS 'ÜGYFELEK SZÁMA'\r\n",
                "FROM Ugyfel\r\n",
                "GROUP BY ROLLUP(SZULEV, NEM)"
            ],
            "metadata": {
                "azdata_cell_guid": "36f7b396-4a1f-45e5-8720-2302537c91bc",
                "language": "sql"
            },
            "outputs": [
                {
                    "output_type": "display_data",
                    "data": {
                        "text/html": "(96 rows affected)"
                    },
                    "metadata": {}
                },
                {
                    "output_type": "display_data",
                    "data": {
                        "text/html": "Total execution time: 00:00:00.021"
                    },
                    "metadata": {}
                },
                {
                    "output_type": "execute_result",
                    "metadata": {},
                    "execution_count": 26,
                    "data": {
                        "application/vnd.dataresource+json": {
                            "schema": {
                                "fields": [
                                    {
                                        "name": "SZÜLETÉSI ÉV"
                                    },
                                    {
                                        "name": "Nem"
                                    },
                                    {
                                        "name": "ÜGYFELEK SZÁMA"
                                    }
                                ]
                            },
                            "data": [
                                {
                                    "SZÜLETÉSI ÉV": "1967",
                                    "Nem": "F",
                                    "ÜGYFELEK SZÁMA": "5"
                                },
                                {
                                    "SZÜLETÉSI ÉV": "1967",
                                    "Nem": "N",
                                    "ÜGYFELEK SZÁMA": "3"
                                },
                                {
                                    "SZÜLETÉSI ÉV": "1967",
                                    "Nem": "Részösszeg",
                                    "ÜGYFELEK SZÁMA": "8"
                                },
                                {
                                    "SZÜLETÉSI ÉV": "1968",
                                    "Nem": "F",
                                    "ÜGYFELEK SZÁMA": "5"
                                },
                                {
                                    "SZÜLETÉSI ÉV": "1968",
                                    "Nem": "N",
                                    "ÜGYFELEK SZÁMA": "3"
                                },
                                {
                                    "SZÜLETÉSI ÉV": "1968",
                                    "Nem": "Részösszeg",
                                    "ÜGYFELEK SZÁMA": "8"
                                },
                                {
                                    "SZÜLETÉSI ÉV": "1969",
                                    "Nem": "F",
                                    "ÜGYFELEK SZÁMA": "5"
                                },
                                {
                                    "SZÜLETÉSI ÉV": "1969",
                                    "Nem": "N",
                                    "ÜGYFELEK SZÁMA": "3"
                                },
                                {
                                    "SZÜLETÉSI ÉV": "1969",
                                    "Nem": "Részösszeg",
                                    "ÜGYFELEK SZÁMA": "8"
                                },
                                {
                                    "SZÜLETÉSI ÉV": "1970",
                                    "Nem": "F",
                                    "ÜGYFELEK SZÁMA": "4"
                                },
                                {
                                    "SZÜLETÉSI ÉV": "1970",
                                    "Nem": "Részösszeg",
                                    "ÜGYFELEK SZÁMA": "4"
                                },
                                {
                                    "SZÜLETÉSI ÉV": "1971",
                                    "Nem": "F",
                                    "ÜGYFELEK SZÁMA": "2"
                                },
                                {
                                    "SZÜLETÉSI ÉV": "1971",
                                    "Nem": "N",
                                    "ÜGYFELEK SZÁMA": "3"
                                },
                                {
                                    "SZÜLETÉSI ÉV": "1971",
                                    "Nem": "Részösszeg",
                                    "ÜGYFELEK SZÁMA": "5"
                                },
                                {
                                    "SZÜLETÉSI ÉV": "1972",
                                    "Nem": "F",
                                    "ÜGYFELEK SZÁMA": "2"
                                },
                                {
                                    "SZÜLETÉSI ÉV": "1972",
                                    "Nem": "N",
                                    "ÜGYFELEK SZÁMA": "2"
                                },
                                {
                                    "SZÜLETÉSI ÉV": "1972",
                                    "Nem": "Részösszeg",
                                    "ÜGYFELEK SZÁMA": "4"
                                },
                                {
                                    "SZÜLETÉSI ÉV": "1973",
                                    "Nem": "F",
                                    "ÜGYFELEK SZÁMA": "2"
                                },
                                {
                                    "SZÜLETÉSI ÉV": "1973",
                                    "Nem": "N",
                                    "ÜGYFELEK SZÁMA": "2"
                                },
                                {
                                    "SZÜLETÉSI ÉV": "1973",
                                    "Nem": "Részösszeg",
                                    "ÜGYFELEK SZÁMA": "4"
                                },
                                {
                                    "SZÜLETÉSI ÉV": "1974",
                                    "Nem": "F",
                                    "ÜGYFELEK SZÁMA": "1"
                                },
                                {
                                    "SZÜLETÉSI ÉV": "1974",
                                    "Nem": "N",
                                    "ÜGYFELEK SZÁMA": "3"
                                },
                                {
                                    "SZÜLETÉSI ÉV": "1974",
                                    "Nem": "Részösszeg",
                                    "ÜGYFELEK SZÁMA": "4"
                                },
                                {
                                    "SZÜLETÉSI ÉV": "1975",
                                    "Nem": "F",
                                    "ÜGYFELEK SZÁMA": "8"
                                },
                                {
                                    "SZÜLETÉSI ÉV": "1975",
                                    "Nem": "N",
                                    "ÜGYFELEK SZÁMA": "3"
                                },
                                {
                                    "SZÜLETÉSI ÉV": "1975",
                                    "Nem": "Részösszeg",
                                    "ÜGYFELEK SZÁMA": "11"
                                },
                                {
                                    "SZÜLETÉSI ÉV": "1976",
                                    "Nem": "F",
                                    "ÜGYFELEK SZÁMA": "5"
                                },
                                {
                                    "SZÜLETÉSI ÉV": "1976",
                                    "Nem": "N",
                                    "ÜGYFELEK SZÁMA": "2"
                                },
                                {
                                    "SZÜLETÉSI ÉV": "1976",
                                    "Nem": "Részösszeg",
                                    "ÜGYFELEK SZÁMA": "7"
                                },
                                {
                                    "SZÜLETÉSI ÉV": "1977",
                                    "Nem": "F",
                                    "ÜGYFELEK SZÁMA": "4"
                                },
                                {
                                    "SZÜLETÉSI ÉV": "1977",
                                    "Nem": "N",
                                    "ÜGYFELEK SZÁMA": "1"
                                },
                                {
                                    "SZÜLETÉSI ÉV": "1977",
                                    "Nem": "Részösszeg",
                                    "ÜGYFELEK SZÁMA": "5"
                                },
                                {
                                    "SZÜLETÉSI ÉV": "1978",
                                    "Nem": "F",
                                    "ÜGYFELEK SZÁMA": "3"
                                },
                                {
                                    "SZÜLETÉSI ÉV": "1978",
                                    "Nem": "N",
                                    "ÜGYFELEK SZÁMA": "4"
                                },
                                {
                                    "SZÜLETÉSI ÉV": "1978",
                                    "Nem": "Részösszeg",
                                    "ÜGYFELEK SZÁMA": "7"
                                },
                                {
                                    "SZÜLETÉSI ÉV": "1979",
                                    "Nem": "F",
                                    "ÜGYFELEK SZÁMA": "4"
                                },
                                {
                                    "SZÜLETÉSI ÉV": "1979",
                                    "Nem": "N",
                                    "ÜGYFELEK SZÁMA": "3"
                                },
                                {
                                    "SZÜLETÉSI ÉV": "1979",
                                    "Nem": "Részösszeg",
                                    "ÜGYFELEK SZÁMA": "7"
                                },
                                {
                                    "SZÜLETÉSI ÉV": "1980",
                                    "Nem": "F",
                                    "ÜGYFELEK SZÁMA": "4"
                                },
                                {
                                    "SZÜLETÉSI ÉV": "1980",
                                    "Nem": "N",
                                    "ÜGYFELEK SZÁMA": "3"
                                },
                                {
                                    "SZÜLETÉSI ÉV": "1980",
                                    "Nem": "Részösszeg",
                                    "ÜGYFELEK SZÁMA": "7"
                                },
                                {
                                    "SZÜLETÉSI ÉV": "1981",
                                    "Nem": "N",
                                    "ÜGYFELEK SZÁMA": "4"
                                },
                                {
                                    "SZÜLETÉSI ÉV": "1981",
                                    "Nem": "Részösszeg",
                                    "ÜGYFELEK SZÁMA": "4"
                                },
                                {
                                    "SZÜLETÉSI ÉV": "1982",
                                    "Nem": "F",
                                    "ÜGYFELEK SZÁMA": "2"
                                },
                                {
                                    "SZÜLETÉSI ÉV": "1982",
                                    "Nem": "N",
                                    "ÜGYFELEK SZÁMA": "2"
                                },
                                {
                                    "SZÜLETÉSI ÉV": "1982",
                                    "Nem": "Részösszeg",
                                    "ÜGYFELEK SZÁMA": "4"
                                },
                                {
                                    "SZÜLETÉSI ÉV": "1983",
                                    "Nem": "F",
                                    "ÜGYFELEK SZÁMA": "5"
                                },
                                {
                                    "SZÜLETÉSI ÉV": "1983",
                                    "Nem": "N",
                                    "ÜGYFELEK SZÁMA": "3"
                                },
                                {
                                    "SZÜLETÉSI ÉV": "1983",
                                    "Nem": "Részösszeg",
                                    "ÜGYFELEK SZÁMA": "8"
                                },
                                {
                                    "SZÜLETÉSI ÉV": "1984",
                                    "Nem": "F",
                                    "ÜGYFELEK SZÁMA": "6"
                                },
                                {
                                    "SZÜLETÉSI ÉV": "1984",
                                    "Nem": "N",
                                    "ÜGYFELEK SZÁMA": "2"
                                },
                                {
                                    "SZÜLETÉSI ÉV": "1984",
                                    "Nem": "Részösszeg",
                                    "ÜGYFELEK SZÁMA": "8"
                                },
                                {
                                    "SZÜLETÉSI ÉV": "1985",
                                    "Nem": "F",
                                    "ÜGYFELEK SZÁMA": "5"
                                },
                                {
                                    "SZÜLETÉSI ÉV": "1985",
                                    "Nem": "N",
                                    "ÜGYFELEK SZÁMA": "1"
                                },
                                {
                                    "SZÜLETÉSI ÉV": "1985",
                                    "Nem": "Részösszeg",
                                    "ÜGYFELEK SZÁMA": "6"
                                },
                                {
                                    "SZÜLETÉSI ÉV": "1986",
                                    "Nem": "F",
                                    "ÜGYFELEK SZÁMA": "7"
                                },
                                {
                                    "SZÜLETÉSI ÉV": "1986",
                                    "Nem": "N",
                                    "ÜGYFELEK SZÁMA": "2"
                                },
                                {
                                    "SZÜLETÉSI ÉV": "1986",
                                    "Nem": "Részösszeg",
                                    "ÜGYFELEK SZÁMA": "9"
                                },
                                {
                                    "SZÜLETÉSI ÉV": "1987",
                                    "Nem": "F",
                                    "ÜGYFELEK SZÁMA": "2"
                                },
                                {
                                    "SZÜLETÉSI ÉV": "1987",
                                    "Nem": "N",
                                    "ÜGYFELEK SZÁMA": "3"
                                },
                                {
                                    "SZÜLETÉSI ÉV": "1987",
                                    "Nem": "Részösszeg",
                                    "ÜGYFELEK SZÁMA": "5"
                                },
                                {
                                    "SZÜLETÉSI ÉV": "1988",
                                    "Nem": "F",
                                    "ÜGYFELEK SZÁMA": "2"
                                },
                                {
                                    "SZÜLETÉSI ÉV": "1988",
                                    "Nem": "N",
                                    "ÜGYFELEK SZÁMA": "4"
                                },
                                {
                                    "SZÜLETÉSI ÉV": "1988",
                                    "Nem": "Részösszeg",
                                    "ÜGYFELEK SZÁMA": "6"
                                },
                                {
                                    "SZÜLETÉSI ÉV": "1989",
                                    "Nem": "F",
                                    "ÜGYFELEK SZÁMA": "6"
                                },
                                {
                                    "SZÜLETÉSI ÉV": "1989",
                                    "Nem": "N",
                                    "ÜGYFELEK SZÁMA": "1"
                                },
                                {
                                    "SZÜLETÉSI ÉV": "1989",
                                    "Nem": "Részösszeg",
                                    "ÜGYFELEK SZÁMA": "7"
                                },
                                {
                                    "SZÜLETÉSI ÉV": "1990",
                                    "Nem": "F",
                                    "ÜGYFELEK SZÁMA": "5"
                                },
                                {
                                    "SZÜLETÉSI ÉV": "1990",
                                    "Nem": "N",
                                    "ÜGYFELEK SZÁMA": "3"
                                },
                                {
                                    "SZÜLETÉSI ÉV": "1990",
                                    "Nem": "Részösszeg",
                                    "ÜGYFELEK SZÁMA": "8"
                                },
                                {
                                    "SZÜLETÉSI ÉV": "1991",
                                    "Nem": "F",
                                    "ÜGYFELEK SZÁMA": "3"
                                },
                                {
                                    "SZÜLETÉSI ÉV": "1991",
                                    "Nem": "N",
                                    "ÜGYFELEK SZÁMA": "3"
                                },
                                {
                                    "SZÜLETÉSI ÉV": "1991",
                                    "Nem": "Részösszeg",
                                    "ÜGYFELEK SZÁMA": "6"
                                },
                                {
                                    "SZÜLETÉSI ÉV": "1992",
                                    "Nem": "F",
                                    "ÜGYFELEK SZÁMA": "3"
                                },
                                {
                                    "SZÜLETÉSI ÉV": "1992",
                                    "Nem": "N",
                                    "ÜGYFELEK SZÁMA": "1"
                                },
                                {
                                    "SZÜLETÉSI ÉV": "1992",
                                    "Nem": "Részösszeg",
                                    "ÜGYFELEK SZÁMA": "4"
                                },
                                {
                                    "SZÜLETÉSI ÉV": "1993",
                                    "Nem": "F",
                                    "ÜGYFELEK SZÁMA": "2"
                                },
                                {
                                    "SZÜLETÉSI ÉV": "1993",
                                    "Nem": "N",
                                    "ÜGYFELEK SZÁMA": "3"
                                },
                                {
                                    "SZÜLETÉSI ÉV": "1993",
                                    "Nem": "Részösszeg",
                                    "ÜGYFELEK SZÁMA": "5"
                                },
                                {
                                    "SZÜLETÉSI ÉV": "1994",
                                    "Nem": "N",
                                    "ÜGYFELEK SZÁMA": "3"
                                },
                                {
                                    "SZÜLETÉSI ÉV": "1994",
                                    "Nem": "Részösszeg",
                                    "ÜGYFELEK SZÁMA": "3"
                                },
                                {
                                    "SZÜLETÉSI ÉV": "1995",
                                    "Nem": "F",
                                    "ÜGYFELEK SZÁMA": "3"
                                },
                                {
                                    "SZÜLETÉSI ÉV": "1995",
                                    "Nem": "N",
                                    "ÜGYFELEK SZÁMA": "3"
                                },
                                {
                                    "SZÜLETÉSI ÉV": "1995",
                                    "Nem": "Részösszeg",
                                    "ÜGYFELEK SZÁMA": "6"
                                },
                                {
                                    "SZÜLETÉSI ÉV": "1996",
                                    "Nem": "F",
                                    "ÜGYFELEK SZÁMA": "2"
                                },
                                {
                                    "SZÜLETÉSI ÉV": "1996",
                                    "Nem": "N",
                                    "ÜGYFELEK SZÁMA": "5"
                                },
                                {
                                    "SZÜLETÉSI ÉV": "1996",
                                    "Nem": "Részösszeg",
                                    "ÜGYFELEK SZÁMA": "7"
                                },
                                {
                                    "SZÜLETÉSI ÉV": "1997",
                                    "Nem": "F",
                                    "ÜGYFELEK SZÁMA": "10"
                                },
                                {
                                    "SZÜLETÉSI ÉV": "1997",
                                    "Nem": "N",
                                    "ÜGYFELEK SZÁMA": "2"
                                },
                                {
                                    "SZÜLETÉSI ÉV": "1997",
                                    "Nem": "Részösszeg",
                                    "ÜGYFELEK SZÁMA": "12"
                                },
                                {
                                    "SZÜLETÉSI ÉV": "1998",
                                    "Nem": "F",
                                    "ÜGYFELEK SZÁMA": "1"
                                },
                                {
                                    "SZÜLETÉSI ÉV": "1998",
                                    "Nem": "N",
                                    "ÜGYFELEK SZÁMA": "1"
                                },
                                {
                                    "SZÜLETÉSI ÉV": "1998",
                                    "Nem": "Részösszeg",
                                    "ÜGYFELEK SZÁMA": "2"
                                },
                                {
                                    "SZÜLETÉSI ÉV": "2000",
                                    "Nem": "F",
                                    "ÜGYFELEK SZÁMA": "1"
                                },
                                {
                                    "SZÜLETÉSI ÉV": "2000",
                                    "Nem": "Részösszeg",
                                    "ÜGYFELEK SZÁMA": "1"
                                },
                                {
                                    "SZÜLETÉSI ÉV": "VÉGÖSSZEG",
                                    "Nem": "Végösszeg",
                                    "ÜGYFELEK SZÁMA": "200"
                                }
                            ]
                        },
                        "text/html": [
                            "<table>",
                            "<tr><th>SZÜLETÉSI ÉV</th><th>Nem</th><th>ÜGYFELEK SZÁMA</th></tr>",
                            "<tr><td>1967</td><td>F</td><td>5</td></tr>",
                            "<tr><td>1967</td><td>N</td><td>3</td></tr>",
                            "<tr><td>1967</td><td>Részösszeg</td><td>8</td></tr>",
                            "<tr><td>1968</td><td>F</td><td>5</td></tr>",
                            "<tr><td>1968</td><td>N</td><td>3</td></tr>",
                            "<tr><td>1968</td><td>Részösszeg</td><td>8</td></tr>",
                            "<tr><td>1969</td><td>F</td><td>5</td></tr>",
                            "<tr><td>1969</td><td>N</td><td>3</td></tr>",
                            "<tr><td>1969</td><td>Részösszeg</td><td>8</td></tr>",
                            "<tr><td>1970</td><td>F</td><td>4</td></tr>",
                            "<tr><td>1970</td><td>Részösszeg</td><td>4</td></tr>",
                            "<tr><td>1971</td><td>F</td><td>2</td></tr>",
                            "<tr><td>1971</td><td>N</td><td>3</td></tr>",
                            "<tr><td>1971</td><td>Részösszeg</td><td>5</td></tr>",
                            "<tr><td>1972</td><td>F</td><td>2</td></tr>",
                            "<tr><td>1972</td><td>N</td><td>2</td></tr>",
                            "<tr><td>1972</td><td>Részösszeg</td><td>4</td></tr>",
                            "<tr><td>1973</td><td>F</td><td>2</td></tr>",
                            "<tr><td>1973</td><td>N</td><td>2</td></tr>",
                            "<tr><td>1973</td><td>Részösszeg</td><td>4</td></tr>",
                            "<tr><td>1974</td><td>F</td><td>1</td></tr>",
                            "<tr><td>1974</td><td>N</td><td>3</td></tr>",
                            "<tr><td>1974</td><td>Részösszeg</td><td>4</td></tr>",
                            "<tr><td>1975</td><td>F</td><td>8</td></tr>",
                            "<tr><td>1975</td><td>N</td><td>3</td></tr>",
                            "<tr><td>1975</td><td>Részösszeg</td><td>11</td></tr>",
                            "<tr><td>1976</td><td>F</td><td>5</td></tr>",
                            "<tr><td>1976</td><td>N</td><td>2</td></tr>",
                            "<tr><td>1976</td><td>Részösszeg</td><td>7</td></tr>",
                            "<tr><td>1977</td><td>F</td><td>4</td></tr>",
                            "<tr><td>1977</td><td>N</td><td>1</td></tr>",
                            "<tr><td>1977</td><td>Részösszeg</td><td>5</td></tr>",
                            "<tr><td>1978</td><td>F</td><td>3</td></tr>",
                            "<tr><td>1978</td><td>N</td><td>4</td></tr>",
                            "<tr><td>1978</td><td>Részösszeg</td><td>7</td></tr>",
                            "<tr><td>1979</td><td>F</td><td>4</td></tr>",
                            "<tr><td>1979</td><td>N</td><td>3</td></tr>",
                            "<tr><td>1979</td><td>Részösszeg</td><td>7</td></tr>",
                            "<tr><td>1980</td><td>F</td><td>4</td></tr>",
                            "<tr><td>1980</td><td>N</td><td>3</td></tr>",
                            "<tr><td>1980</td><td>Részösszeg</td><td>7</td></tr>",
                            "<tr><td>1981</td><td>N</td><td>4</td></tr>",
                            "<tr><td>1981</td><td>Részösszeg</td><td>4</td></tr>",
                            "<tr><td>1982</td><td>F</td><td>2</td></tr>",
                            "<tr><td>1982</td><td>N</td><td>2</td></tr>",
                            "<tr><td>1982</td><td>Részösszeg</td><td>4</td></tr>",
                            "<tr><td>1983</td><td>F</td><td>5</td></tr>",
                            "<tr><td>1983</td><td>N</td><td>3</td></tr>",
                            "<tr><td>1983</td><td>Részösszeg</td><td>8</td></tr>",
                            "<tr><td>1984</td><td>F</td><td>6</td></tr>",
                            "<tr><td>1984</td><td>N</td><td>2</td></tr>",
                            "<tr><td>1984</td><td>Részösszeg</td><td>8</td></tr>",
                            "<tr><td>1985</td><td>F</td><td>5</td></tr>",
                            "<tr><td>1985</td><td>N</td><td>1</td></tr>",
                            "<tr><td>1985</td><td>Részösszeg</td><td>6</td></tr>",
                            "<tr><td>1986</td><td>F</td><td>7</td></tr>",
                            "<tr><td>1986</td><td>N</td><td>2</td></tr>",
                            "<tr><td>1986</td><td>Részösszeg</td><td>9</td></tr>",
                            "<tr><td>1987</td><td>F</td><td>2</td></tr>",
                            "<tr><td>1987</td><td>N</td><td>3</td></tr>",
                            "<tr><td>1987</td><td>Részösszeg</td><td>5</td></tr>",
                            "<tr><td>1988</td><td>F</td><td>2</td></tr>",
                            "<tr><td>1988</td><td>N</td><td>4</td></tr>",
                            "<tr><td>1988</td><td>Részösszeg</td><td>6</td></tr>",
                            "<tr><td>1989</td><td>F</td><td>6</td></tr>",
                            "<tr><td>1989</td><td>N</td><td>1</td></tr>",
                            "<tr><td>1989</td><td>Részösszeg</td><td>7</td></tr>",
                            "<tr><td>1990</td><td>F</td><td>5</td></tr>",
                            "<tr><td>1990</td><td>N</td><td>3</td></tr>",
                            "<tr><td>1990</td><td>Részösszeg</td><td>8</td></tr>",
                            "<tr><td>1991</td><td>F</td><td>3</td></tr>",
                            "<tr><td>1991</td><td>N</td><td>3</td></tr>",
                            "<tr><td>1991</td><td>Részösszeg</td><td>6</td></tr>",
                            "<tr><td>1992</td><td>F</td><td>3</td></tr>",
                            "<tr><td>1992</td><td>N</td><td>1</td></tr>",
                            "<tr><td>1992</td><td>Részösszeg</td><td>4</td></tr>",
                            "<tr><td>1993</td><td>F</td><td>2</td></tr>",
                            "<tr><td>1993</td><td>N</td><td>3</td></tr>",
                            "<tr><td>1993</td><td>Részösszeg</td><td>5</td></tr>",
                            "<tr><td>1994</td><td>N</td><td>3</td></tr>",
                            "<tr><td>1994</td><td>Részösszeg</td><td>3</td></tr>",
                            "<tr><td>1995</td><td>F</td><td>3</td></tr>",
                            "<tr><td>1995</td><td>N</td><td>3</td></tr>",
                            "<tr><td>1995</td><td>Részösszeg</td><td>6</td></tr>",
                            "<tr><td>1996</td><td>F</td><td>2</td></tr>",
                            "<tr><td>1996</td><td>N</td><td>5</td></tr>",
                            "<tr><td>1996</td><td>Részösszeg</td><td>7</td></tr>",
                            "<tr><td>1997</td><td>F</td><td>10</td></tr>",
                            "<tr><td>1997</td><td>N</td><td>2</td></tr>",
                            "<tr><td>1997</td><td>Részösszeg</td><td>12</td></tr>",
                            "<tr><td>1998</td><td>F</td><td>1</td></tr>",
                            "<tr><td>1998</td><td>N</td><td>1</td></tr>",
                            "<tr><td>1998</td><td>Részösszeg</td><td>2</td></tr>",
                            "<tr><td>2000</td><td>F</td><td>1</td></tr>",
                            "<tr><td>2000</td><td>Részösszeg</td><td>1</td></tr>",
                            "<tr><td>VÉGÖSSZEG</td><td>Végösszeg</td><td>200</td></tr>",
                            "</table>"
                        ]
                    }
                }
            ],
            "execution_count": 26
        },
        {
            "cell_type": "markdown",
            "source": [
                "5. <span style=\"background-color: rgb(255, 255, 255); color: rgb(0, 0, 0); font-family: &quot;Open Sans&quot;, sans-serif; font-size: 14.44px;\">Készítsünk listát a termékek számáról a felvitel hónapja, azon belül napja szerint csoportosítva.&nbsp;</span> \n",
                "\n",
                "a. A lista csak a részösszegeket és a végösszeget tartalmazza!  \n",
                "b. Az oszlopoknak adjunk megfelelő nevet!  \n",
                "c. Ötlet: HAVING + GROUPING\\_ID fv együttes használata"
            ],
            "metadata": {
                "azdata_cell_guid": "84239ca2-6b5e-49f5-9860-d44c11d6de32"
            },
            "attachments": {}
        },
        {
            "cell_type": "code",
            "source": [
                "SELECT MONTH(FELVITEL) AS 'HÓNAP',\r\n",
                "       DAY(FELVITEL) AS 'NAP',\r\n",
                "       COUNT(*) AS 'TERMÉKEK SZÁMA'\r\n",
                "FROM Termek\r\n",
                "GROUP BY ROLLUP(MONTH(FELVITEL), DAY(FELVITEL))\r\n",
                "HAVING GROUPING_ID(MONTH(FELVITEL), DAY(FELVITEL)) > 0"
            ],
            "metadata": {
                "azdata_cell_guid": "06d9a62b-9430-424b-a135-d80e675f0eb3",
                "language": "sql"
            },
            "outputs": [
                {
                    "output_type": "display_data",
                    "data": {
                        "text/html": "(5 rows affected)"
                    },
                    "metadata": {}
                },
                {
                    "output_type": "display_data",
                    "data": {
                        "text/html": "Total execution time: 00:00:00.013"
                    },
                    "metadata": {}
                },
                {
                    "output_type": "execute_result",
                    "metadata": {},
                    "execution_count": 31,
                    "data": {
                        "application/vnd.dataresource+json": {
                            "schema": {
                                "fields": [
                                    {
                                        "name": "HÓNAP"
                                    },
                                    {
                                        "name": "NAP"
                                    },
                                    {
                                        "name": "TERMÉKEK SZÁMA"
                                    }
                                ]
                            },
                            "data": [
                                {
                                    "HÓNAP": "7",
                                    "NAP": "NULL",
                                    "TERMÉKEK SZÁMA": "355"
                                },
                                {
                                    "HÓNAP": "8",
                                    "NAP": "NULL",
                                    "TERMÉKEK SZÁMA": "194"
                                },
                                {
                                    "HÓNAP": "9",
                                    "NAP": "NULL",
                                    "TERMÉKEK SZÁMA": "1"
                                },
                                {
                                    "HÓNAP": "12",
                                    "NAP": "NULL",
                                    "TERMÉKEK SZÁMA": "1"
                                },
                                {
                                    "HÓNAP": "NULL",
                                    "NAP": "NULL",
                                    "TERMÉKEK SZÁMA": "551"
                                }
                            ]
                        },
                        "text/html": [
                            "<table>",
                            "<tr><th>HÓNAP</th><th>NAP</th><th>TERMÉKEK SZÁMA</th></tr>",
                            "<tr><td>7</td><td>NULL</td><td>355</td></tr>",
                            "<tr><td>8</td><td>NULL</td><td>194</td></tr>",
                            "<tr><td>9</td><td>NULL</td><td>1</td></tr>",
                            "<tr><td>12</td><td>NULL</td><td>1</td></tr>",
                            "<tr><td>NULL</td><td>NULL</td><td>551</td></tr>",
                            "</table>"
                        ]
                    }
                }
            ],
            "execution_count": 31
        }
    ]
}